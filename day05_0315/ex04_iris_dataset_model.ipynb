{
 "cells": [
  {
   "cell_type": "markdown",
   "source": [
    "Data File ==> DataFrame, Numpy (전처리) ==> Tensor ==> Dataset(피처 + 타겟) ==> DataLoader 생성"
   ],
   "metadata": {
    "collapsed": false
   },
   "id": "95f0a02e902c1f7c"
  },
  {
   "cell_type": "markdown",
   "source": [
    "### Dataset & DataLoader 살펴보기\n",
    "- Pytorch에서 배치크기만 데이터를 조절하기 위한 메카니즘\n",
    "- Dataset : 사용 데이터를 기반으로 사용자 정의 클래스 작성\n",
    "- DataLoader : 지정된 Dataset에서 지정된 batch size만큼 피처와 타겟을 추출하여 전달"
   ],
   "metadata": {
    "collapsed": false
   },
   "id": "94be82110b73acc8"
  },
  {
   "cell_type": "markdown",
   "source": [
    "[1] 모듈로딩 및 데이터 준비   (원래는 전처리 까지 해야하는데! 여기서늕 생략했다)"
   ],
   "metadata": {
    "collapsed": false
   },
   "id": "a5a98f8dec4fa3c7"
  },
  {
   "cell_type": "code",
   "outputs": [],
   "source": [
    "### ===> 모듈 로딩\n",
    "import torch\n",
    "import torch.nn as nn\n",
    "from torch.utils.data import Dataset, DataLoader\n",
    "\n",
    "import numpy as np\n",
    "import pandas as pd"
   ],
   "metadata": {
    "collapsed": false,
    "ExecuteTime": {
     "end_time": "2024-03-15T08:25:55.925586Z",
     "start_time": "2024-03-15T08:25:55.921402Z"
    }
   },
   "id": "63296d3d676f364",
   "execution_count": 298
  },
  {
   "cell_type": "markdown",
   "source": [
    "[2] 데이터셋 생성"
   ],
   "metadata": {
    "collapsed": false
   },
   "id": "8a658d8f957c7648"
  },
  {
   "cell_type": "markdown",
   "source": [
    "- 사용자 정의 데이터셋 생성"
   ],
   "metadata": {
    "collapsed": false
   },
   "id": "f5bbb7cb093c09c3"
  },
  {
   "cell_type": "code",
   "outputs": [],
   "source": [
    "file = '../data/iris.csv'\n",
    "irisDF = pd.read_csv(file, header = None)\n",
    "irisDF.columns = ['sepal_length', 'sepal_width', 'petal_length','petal_width','variety']"
   ],
   "metadata": {
    "collapsed": false,
    "ExecuteTime": {
     "end_time": "2024-03-15T08:25:56.113806Z",
     "start_time": "2024-03-15T08:25:56.107431Z"
    }
   },
   "id": "661ddd67ddb4fa3b",
   "execution_count": 299
  },
  {
   "cell_type": "code",
   "outputs": [],
   "source": [
    "irisNP = np.loadtxt(file, delimiter = ',', usecols = [0,1,2,3])"
   ],
   "metadata": {
    "collapsed": false,
    "ExecuteTime": {
     "end_time": "2024-03-15T08:25:56.144803Z",
     "start_time": "2024-03-15T08:25:56.131278Z"
    }
   },
   "id": "98b6737cceaae48d",
   "execution_count": 300
  },
  {
   "cell_type": "code",
   "outputs": [
    {
     "data": {
      "text/plain": "(pandas.core.frame.DataFrame, numpy.ndarray, 'DataFrame', 'ndarray')"
     },
     "execution_count": 301,
     "metadata": {},
     "output_type": "execute_result"
    }
   ],
   "source": [
    "# 데이터의 타입 체크\n",
    "type(irisDF), type(irisNP), irisDF.__class__.__name__, irisNP.__class__.__name__"
   ],
   "metadata": {
    "collapsed": false,
    "ExecuteTime": {
     "end_time": "2024-03-15T08:25:56.176004Z",
     "start_time": "2024-03-15T08:25:56.158320Z"
    }
   },
   "id": "50f01f46729f3e68",
   "execution_count": 301
  },
  {
   "cell_type": "code",
   "outputs": [
    {
     "name": "stdout",
     "output_type": "stream",
     "text": [
      "DF\n"
     ]
    }
   ],
   "source": [
    "if irisDF.__class__.__name__ == 'DataFrame' :\n",
    "    print('DF')\n",
    "else:\n",
    "    print('-----')"
   ],
   "metadata": {
    "collapsed": false,
    "ExecuteTime": {
     "end_time": "2024-03-15T08:25:56.191721Z",
     "start_time": "2024-03-15T08:25:56.186505Z"
    }
   },
   "id": "91b69fbf81995d5",
   "execution_count": 302
  },
  {
   "cell_type": "code",
   "outputs": [
    {
     "name": "stdout",
     "output_type": "stream",
     "text": [
      "True\n",
      "False\n",
      "False\n",
      "True\n"
     ]
    }
   ],
   "source": [
    "print(isinstance(irisDF, pd.DataFrame), isinstance(irisNP, pd.DataFrame), isinstance(irisDF, np.ndarray),isinstance(irisNP, np.ndarray), sep = '\\n')"
   ],
   "metadata": {
    "collapsed": false,
    "ExecuteTime": {
     "end_time": "2024-03-15T08:25:56.223014Z",
     "start_time": "2024-03-15T08:25:56.214609Z"
    }
   },
   "id": "82621a52ce7d13b8",
   "execution_count": 303
  },
  {
   "cell_type": "code",
   "outputs": [],
   "source": [
    "### 사용자 정의 DataSet 클래스\n",
    "# - 데이터의 Tensor 변환\n",
    "\n",
    "class DLDataset(Dataset):\n",
    "    # 초기화 함수 콜백함수 (callback function)\n",
    "    def __init__(self, x_data, y_data):\n",
    "        super().__init__()\n",
    "        \n",
    "        # x,y 데이터 ==> ndarray\n",
    "        x_data = x_data.values if isinstance(x_data, pd.DataFrame) else x_data\n",
    "        y_data = y_data.values if isinstance(y_data, pd.DataFrame) else y_data\n",
    "        # 넘파이면 그대로 ㄱㅊ    다만 데이터프레임이면 values만 뺴서 갖고오자능\n",
    "        \n",
    "        # ndarray ==> tensor\n",
    "        self.feature = torch.FloatTensor(x_data)\n",
    "        self.target = torch.LongTensor(y_data)         # 라벨 인코딩 형식으로 진행함 (원핫인코딩 ㄴㄴ)\n",
    "        \n",
    "    # 데이터셋의 개수 체크 함수 콜백함수 (callback function)\n",
    "    def __len__(self):\n",
    "        return self.target.shape[0]\n",
    "    \n",
    "    # 특정 인덱스 데이터 + 라벨 반환 콜백함수 (callback function)\n",
    "    def __getitem__(self, index):\n",
    "        return self.feature[index], self.target[index]\n"
   ],
   "metadata": {
    "collapsed": false,
    "ExecuteTime": {
     "end_time": "2024-03-15T08:25:56.269926Z",
     "start_time": "2024-03-15T08:25:56.249110Z"
    }
   },
   "id": "ad14171d414d9fa6",
   "execution_count": 304
  },
  {
   "cell_type": "code",
   "outputs": [
    {
     "name": "stdout",
     "output_type": "stream",
     "text": [
      "featureDF => (150, 4) , 2D\n",
      "targetDF => (150,) , 1D\n"
     ]
    }
   ],
   "source": [
    "## 피처와 라벨로 분리\n",
    "featureDF = irisDF[irisDF.columns[:-1]]\n",
    "targetDF = irisDF[irisDF.columns[-1]]\n",
    "\n",
    "print(f\"featureDF => {featureDF.shape} , {featureDF.ndim}D\")\n",
    "print(f\"targetDF => {targetDF.shape} , {targetDF.ndim}D\")"
   ],
   "metadata": {
    "collapsed": false,
    "ExecuteTime": {
     "end_time": "2024-03-15T08:25:56.301461Z",
     "start_time": "2024-03-15T08:25:56.282526Z"
    }
   },
   "id": "99c975d38a8acdd8",
   "execution_count": 305
  },
  {
   "cell_type": "code",
   "outputs": [
    {
     "name": "stdout",
     "output_type": "stream",
     "text": [
      "(150, 1) 2\n"
     ]
    }
   ],
   "source": [
    "# object 타입 타겟 ===> int 타입 타겟 변환\n",
    "from sklearn.preprocessing import LabelEncoder\n",
    "\n",
    "targetNP = LabelEncoder().fit_transform(targetDF)\n",
    "targetNP = targetNP.reshape(-1,1)\n",
    "print(targetNP.shape, targetNP.ndim)"
   ],
   "metadata": {
    "collapsed": false,
    "ExecuteTime": {
     "end_time": "2024-03-15T08:25:56.316821Z",
     "start_time": "2024-03-15T08:25:56.304395Z"
    }
   },
   "id": "609c2d0d5e077efb",
   "execution_count": 306
  },
  {
   "cell_type": "code",
   "outputs": [],
   "source": [
    "# 데이터셋 생성  ==> DF, NP\n",
    "my_dataset = DLDataset(featureDF, targetNP)"
   ],
   "metadata": {
    "collapsed": false,
    "ExecuteTime": {
     "end_time": "2024-03-15T08:25:56.348376Z",
     "start_time": "2024-03-15T08:25:56.340777Z"
    }
   },
   "id": "fd63f3c1611f19b1",
   "execution_count": 307
  },
  {
   "cell_type": "code",
   "outputs": [
    {
     "name": "stdout",
     "output_type": "stream",
     "text": [
      "(tensor([5.1000, 3.5000, 1.4000, 0.2000]), tensor([0]))\n",
      "\n",
      "sepal_length    5.1\n",
      "sepal_width     3.5\n",
      "petal_length    1.4\n",
      "petal_width     0.2\n",
      "Name: 0, dtype: float64\n",
      "\n",
      "Iris-setosa\n"
     ]
    }
   ],
   "source": [
    "print(my_dataset[0], featureDF.iloc[0], targetDF[0], sep = '\\n\\n')"
   ],
   "metadata": {
    "collapsed": false,
    "ExecuteTime": {
     "end_time": "2024-03-15T08:25:56.395317Z",
     "start_time": "2024-03-15T08:25:56.379659Z"
    }
   },
   "id": "559d6b61c1914ab7",
   "execution_count": 308
  },
  {
   "cell_type": "code",
   "outputs": [
    {
     "name": "stdout",
     "output_type": "stream",
     "text": [
      "(tensor([5.1000, 3.5000, 1.4000, 0.2000]), tensor([0]))\n"
     ]
    }
   ],
   "source": [
    "# 데이터셋 생성 => NP, NP\n",
    "my_dataset2 = DLDataset(irisNP, targetNP)\n",
    "print(my_dataset2[0])"
   ],
   "metadata": {
    "collapsed": false,
    "ExecuteTime": {
     "end_time": "2024-03-15T08:25:56.411118Z",
     "start_time": "2024-03-15T08:25:56.399608Z"
    }
   },
   "id": "6a41b8cbd69172ef",
   "execution_count": 309
  },
  {
   "cell_type": "markdown",
   "source": [
    "- [2-3] 학습용, 검증용, 테스트용 Dataset <hr>"
   ],
   "metadata": {
    "collapsed": false
   },
   "id": "1886d2dcfbe828d9"
  },
  {
   "cell_type": "code",
   "outputs": [
    {
     "name": "stdout",
     "output_type": "stream",
     "text": [
      "trainDS => 105, validDS => 15, testDS => 30\n"
     ]
    }
   ],
   "source": [
    "### ===> 파이토치\n",
    "from torch.utils.data import random_split\n",
    "\n",
    "# 학습용, 검증용, 테스트 데이터 비율\n",
    "seed = torch.Generator().manual_seed(2)\n",
    "\n",
    "trainDS, validDS, testDS = random_split(my_dataset2, [0.7, 0.1, 0.2], generator = seed )\n",
    "\n",
    "print(f\"trainDS => {len(trainDS)}, validDS => {len(validDS)}, testDS => {len(testDS)}\")"
   ],
   "metadata": {
    "collapsed": false,
    "ExecuteTime": {
     "end_time": "2024-03-15T08:25:56.442705Z",
     "start_time": "2024-03-15T08:25:56.426804Z"
    }
   },
   "id": "afe809a48d7e356b",
   "execution_count": 310
  },
  {
   "cell_type": "code",
   "outputs": [],
   "source": [
    "# print(f\"Subset 속성 =>\\n indices: \\n {trainDS.indices} \\n dataset : {trainDS.dataset}\")"
   ],
   "metadata": {
    "collapsed": false,
    "ExecuteTime": {
     "end_time": "2024-03-15T08:25:56.458390Z",
     "start_time": "2024-03-15T08:25:56.447846Z"
    }
   },
   "id": "4123cb1ce27c7bb1",
   "execution_count": 311
  },
  {
   "cell_type": "code",
   "outputs": [],
   "source": [
    "# print(f\"Subset 속성 =>\\n indices: \\n {validDS.indices} \\n dataset : {validDS.dataset}\")"
   ],
   "metadata": {
    "collapsed": false,
    "ExecuteTime": {
     "end_time": "2024-03-15T08:25:56.505598Z",
     "start_time": "2024-03-15T08:25:56.487832Z"
    }
   },
   "id": "d44fecf60518cb81",
   "execution_count": 312
  },
  {
   "cell_type": "markdown",
   "source": [
    "[3] DataLoader 생성 : 학습용, 검증용, 테스트용 <hr>"
   ],
   "metadata": {
    "collapsed": false
   },
   "id": "635b35fae563d1fd"
  },
  {
   "cell_type": "code",
   "outputs": [
    {
     "data": {
      "text/plain": "(11, 2, 3)"
     },
     "execution_count": 313,
     "metadata": {},
     "output_type": "execute_result"
    }
   ],
   "source": [
    "# DataLoader 생성\n",
    "# drop_last 매개변수 : 배치 사이즈로 데이터셋 분리 후 남는 데이터 처리 방법 설정 [기본 : False]\n",
    "batch = 10\n",
    "trainDL = DataLoader(trainDS, batch_size = batch)\n",
    "validDL = DataLoader(validDS, batch_size = batch)\n",
    "testDL = DataLoader(testDS, batch_size = batch)\n",
    "\n",
    "len(trainDL), len(validDL), len(testDL)"
   ],
   "metadata": {
    "collapsed": false,
    "ExecuteTime": {
     "end_time": "2024-03-15T08:25:56.521146Z",
     "start_time": "2024-03-15T08:25:56.506596Z"
    }
   },
   "id": "9998b82a7727bb67",
   "execution_count": 313
  },
  {
   "cell_type": "code",
   "outputs": [
    {
     "name": "stdout",
     "output_type": "stream",
     "text": [
      "batch_size : 10\n",
      "trainDS => 105개, validDS => 15개, trainDS => 105개\n",
      "trainDL => 11개, validDL => 2개, testDL => 3개\n"
     ]
    }
   ],
   "source": [
    "# Epoch당 반복 단위\n",
    "print(f'batch_size : {batch}')\n",
    "print(f\"trainDS => {len(trainDS)}개, validDS => {len(validDS)}개, trainDS => {len(trainDS)}개\")\n",
    "print(f\"trainDL => {len(trainDL)}개, validDL => {len(validDL)}개, testDL => {len(testDL)}개\")"
   ],
   "metadata": {
    "collapsed": false,
    "ExecuteTime": {
     "end_time": "2024-03-15T08:25:56.536755Z",
     "start_time": "2024-03-15T08:25:56.524241Z"
    }
   },
   "id": "14aabb7e7b795f73",
   "execution_count": 314
  },
  {
   "cell_type": "markdown",
   "source": [
    "[4] Model 클래스 정의 : 입/출력 피처수, 층 수, 은닉층의 노드수 <hr>\n",
    "- 구조설계\n",
    "    * 입력층 : 입력 <= 피처 갯수, iris 4개 \n",
    "    * 은닉층 : 마음대로 알아서 잘\n",
    "    * 출력층 : 출력 <= [분류] 타겟 클래스 갯수  [회귀] 1개"
   ],
   "metadata": {
    "collapsed": false
   },
   "id": "9c81ee0d14feca89"
  },
  {
   "cell_type": "code",
   "outputs": [],
   "source": [
    "# 모델 클래스 정의\n",
    "# 클래스명 : CModel\n",
    "\n",
    "class CModel(nn.Module):    # nn.Module을 상속받는다.\n",
    "    \n",
    "    # 모델 구성 요소 정의 함수\n",
    "    def __init__(self, in_, out_):\n",
    "        super().__init__()\n",
    "        self.input_layer = nn.Linear(in_, 100)\n",
    "        self.relu = nn.ReLU()\n",
    "        self.hidden_layer = nn.Linear(100, 27)\n",
    "        self.output_layer = nn.Linear(27, out_)\n",
    "        \n",
    "    # 순방향 학습 진행\n",
    "    def forward(self, x):\n",
    "        x = self.input_layer(x)            # W1x1 + W2x2 _ ... + Wnxn + b 반환\n",
    "        x = self.relu(x)                   # relu 함수 결과 100개 반환\n",
    "        x = self.hidden_layer(x)\n",
    "        x = self.relu(x)\n",
    "        x = self.output_layer(x)\n",
    "        return x"
   ],
   "metadata": {
    "collapsed": false,
    "ExecuteTime": {
     "end_time": "2024-03-15T08:25:56.568191Z",
     "start_time": "2024-03-15T08:25:56.554556Z"
    }
   },
   "id": "79f2872dbf54c5ee",
   "execution_count": 315
  },
  {
   "cell_type": "markdown",
   "source": [
    "[5] 학습 준비 : 실행 디바이스, 모델, 최적화, 손실함수, 학습 횟수, 학습 함수, 평가 함수, 예측 함수 <hr>"
   ],
   "metadata": {
    "collapsed": false
   },
   "id": "213c7ba075564606"
  },
  {
   "cell_type": "code",
   "outputs": [],
   "source": [
    "# 실행 디바이스 설정\n",
    "DEVICE = 'cuda' if torch.cuda.is_available() else 'cpu'\n",
    "\n",
    "# 학습 횟수\n",
    "EPOCHS = 50"
   ],
   "metadata": {
    "collapsed": false,
    "ExecuteTime": {
     "end_time": "2024-03-15T08:25:56.583812Z",
     "start_time": "2024-03-15T08:25:56.576477Z"
    }
   },
   "id": "acef3389e569a499",
   "execution_count": 316
  },
  {
   "cell_type": "code",
   "outputs": [
    {
     "name": "stdout",
     "output_type": "stream",
     "text": [
      "4 3\n"
     ]
    }
   ],
   "source": [
    "# 모델 인스턴스\n",
    "IN, OUT = my_dataset2.feature.shape[1], len(np.unique(targetDF))\n",
    "print(IN, OUT)\n",
    "model = CModel(IN, OUT).to(DEVICE)"
   ],
   "metadata": {
    "collapsed": false,
    "ExecuteTime": {
     "end_time": "2024-03-15T08:25:56.615534Z",
     "start_time": "2024-03-15T08:25:56.595187Z"
    }
   },
   "id": "9887a4904309f60b",
   "execution_count": 317
  },
  {
   "cell_type": "code",
   "outputs": [],
   "source": [
    "# 손실 함수\n",
    "LOSS_FN = nn.CrossEntropyLoss().to(DEVICE)\n",
    "\n",
    "# 최적화 인스턴스\n",
    "import torch.optim as optim\n",
    "OPTIMIZER = optim.Adam(model.parameters())"
   ],
   "metadata": {
    "collapsed": false,
    "ExecuteTime": {
     "end_time": "2024-03-15T08:25:56.662938Z",
     "start_time": "2024-03-15T08:25:56.651460Z"
    }
   },
   "id": "812dd61a9241f2dd",
   "execution_count": 318
  },
  {
   "cell_type": "markdown",
   "source": [
    "- 학습 및 검증 관련 함수 정의"
   ],
   "metadata": {
    "collapsed": false
   },
   "id": "23e443d71865bba9"
  },
  {
   "cell_type": "code",
   "outputs": [],
   "source": [
    "import torchmetrics.functional as metrics  # 정확도를 위한 모듈"
   ],
   "metadata": {
    "collapsed": false,
    "ExecuteTime": {
     "end_time": "2024-03-15T08:25:56.694434Z",
     "start_time": "2024-03-15T08:25:56.677650Z"
    }
   },
   "id": "cf3e3a5924d174e0",
   "execution_count": 319
  },
  {
   "cell_type": "code",
   "outputs": [],
   "source": [
    "### ===> 학습 진행 함수\n",
    "def training():\n",
    "    # 학습 모드 => 정규화, 경사하강법, 드랍아웃 등의 기능 활성화\n",
    "    model.train()\n",
    "    \n",
    "    # 배치 크기만큼 학습 진행 및 저장\n",
    "    train_loss = []\n",
    "    for cnt, (feature, target) in enumerate(trainDL):\n",
    "        # print(cnt, feature, target)\n",
    "        # 배치 크기만큼의 학습 데이터 준비      \n",
    "        feature, target = feature.to(DEVICE), target.to(DEVICE)\n",
    "        \n",
    "        target = target.squeeze()\n",
    "        \n",
    "        # 학습\n",
    "        pre_target = model(feature)\n",
    "        # print(f\"pre_target => {pre_target.shape}, {pre_target.ndim}D\")\n",
    "        # print(f\"target => {target.shape}, {target.ndim}D\")\n",
    "        \n",
    "        \n",
    "        # 손실 계산\n",
    "        loss = LOSS_FN(pre_target, target)\n",
    "        train_loss.append(loss)\n",
    "        \n",
    "        # W, b 업데이트\n",
    "        OPTIMIZER.zero_grad()\n",
    "        loss.backward()\n",
    "        OPTIMIZER.step()\n",
    "        \n",
    "        # 배치 단위 학습 진행 메시지 출력\n",
    "        # print(f\"[Train {cnt} batch LOSS] ===> {loss}\")\n",
    "        \n",
    "        # 정확도 Accuracy\n",
    "        acc = metrics.accuracy(pre_target, target, task = 'multiclass', num_classes = OUT)\n",
    "        # print(f\" ACC : {acc}\")\n",
    "        \n",
    "    # 에포크 단위 학습 진행 메시지 출력\n",
    "    print(f\"[Train loss] ===> {loss}\")\n",
    "    # print(f\"ACC : {acc}\")\n",
    "    return train_loss"
   ],
   "metadata": {
    "collapsed": false,
    "ExecuteTime": {
     "end_time": "2024-03-15T08:25:56.741496Z",
     "start_time": "2024-03-15T08:25:56.728914Z"
    }
   },
   "id": "f143f4fcf13f0d0f",
   "execution_count": 320
  },
  {
   "cell_type": "code",
   "outputs": [],
   "source": [
    "### ===> 검증 및 평가 진행 함수\n",
    "# 매개변수 dataLoader : 검증 또는 테스트 데이터셋에 대한 Loader\n",
    "def testing(dataLoader):\n",
    "    # 추론모드 => 정규화, 경사하강법, 드랍아웃 등의 기능 비활성화\n",
    "    model.eval()\n",
    "    \n",
    "    with torch.no_grad():\n",
    "        # 배치 크기 만큼 학습 진행 및 저장\n",
    "        val_loss = []\n",
    "        for cnt, (feature, target) in enumerate(dataLoader):\n",
    "            # 배치 크기 만큼의 학습 데이터 준비\n",
    "            feature, target = feature.to(DEVICE), target.to(DEVICE)\n",
    "            target = target.squeeze()\n",
    "            \n",
    "            # 학습\n",
    "            pre_target = model(feature)\n",
    "            \n",
    "            # 손실 계산\n",
    "            loss = LOSS_FN(pre_target, target)\n",
    "            val_loss.append(loss)\n",
    "           \n",
    "            \n",
    "        # 에포크 단위 학습 진행 메시지 출력\n",
    "        acc = metrics.accuracy(pre_target, target, task = 'multiclass', num_classes = OUT)\n",
    "        print(f\"[Valid loss1] ===> {loss}\")\n",
    "        # print(f\"[Valid ACC] : {acc}\")\n",
    "        \n",
    "        return val_loss"
   ],
   "metadata": {
    "collapsed": false,
    "ExecuteTime": {
     "end_time": "2024-03-15T08:25:56.787855Z",
     "start_time": "2024-03-15T08:25:56.772288Z"
    }
   },
   "id": "651690c6c7d95fc0",
   "execution_count": 321
  },
  {
   "cell_type": "code",
   "outputs": [],
   "source": [
    "### ===> 예측 함수\n",
    "def predict():\n",
    "    pass"
   ],
   "metadata": {
    "collapsed": false,
    "ExecuteTime": {
     "end_time": "2024-03-15T08:25:56.819105Z",
     "start_time": "2024-03-15T08:25:56.799371Z"
    }
   },
   "id": "62690305bce44436",
   "execution_count": 322
  },
  {
   "cell_type": "markdown",
   "source": [
    "[6] 학습 진행 <hr>"
   ],
   "metadata": {
    "collapsed": false
   },
   "id": "865e88b94c09240a"
  },
  {
   "cell_type": "code",
   "outputs": [
    {
     "name": "stderr",
     "output_type": "stream",
     "text": [
      "C:\\ProgramData\\anaconda3\\envs\\Torch_PY38\\lib\\site-packages\\torch\\optim\\lr_scheduler.py:28: UserWarning: The verbose parameter is deprecated. Please use get_last_lr() to access the learning rate.\n",
      "  warnings.warn(\"The verbose parameter is deprecated. Please use get_last_lr() \"\n"
     ]
    },
    {
     "name": "stdout",
     "output_type": "stream",
     "text": [
      "[Train loss] ===> 1.1688792705535889\n",
      "[Valid loss1] ===> 0.9410861730575562\n",
      "[0/50] TRAIN 1.1681147813796997 VALID 1.0178366899490356\n",
      "\n",
      "[Train loss] ===> 1.0054303407669067\n",
      "[Valid loss1] ===> 0.8183774948120117\n",
      "[1/50] TRAIN 0.9926506280899048 VALID 0.863702654838562\n",
      "\n",
      "[Train loss] ===> 0.8562873005867004\n",
      "[Valid loss1] ===> 0.6744747757911682\n",
      "[2/50] TRAIN 0.8463172316551208 VALID 0.6841503381729126\n",
      "\n",
      "[Train loss] ===> 0.7381733655929565\n",
      "[Valid loss1] ===> 0.5854506492614746\n",
      "[3/50] TRAIN 0.7243310809135437 VALID 0.5723443627357483\n",
      "\n",
      "[Train loss] ===> 0.6553093791007996\n",
      "[Valid loss1] ===> 0.5020638704299927\n",
      "[4/50] TRAIN 0.6291073560714722 VALID 0.4794863164424896\n",
      "\n",
      "[Train loss] ===> 0.5750821232795715\n",
      "[Valid loss1] ===> 0.465310662984848\n",
      "[5/50] TRAIN 0.545525312423706 VALID 0.426993191242218\n",
      "\n",
      "[Train loss] ===> 0.5339286923408508\n",
      "[Valid loss1] ===> 0.4206434190273285\n",
      "[6/50] TRAIN 0.49109217524528503 VALID 0.380465030670166\n",
      "\n",
      "[Train loss] ===> 0.49310868978500366\n",
      "[Valid loss1] ===> 0.4008513391017914\n",
      "[7/50] TRAIN 0.4440014958381653 VALID 0.35422593355178833\n",
      "\n",
      "[Train loss] ===> 0.46996259689331055\n",
      "[Valid loss1] ===> 0.3683772683143616\n",
      "[8/50] TRAIN 0.4085488021373749 VALID 0.3273617625236511\n",
      "\n",
      "[Train loss] ===> 0.44378718733787537\n",
      "[Valid loss1] ===> 0.3756709694862366\n",
      "[9/50] TRAIN 0.3744518458843231 VALID 0.3198426365852356\n",
      "\n",
      "[Train loss] ===> 0.43788260221481323\n",
      "[Valid loss1] ===> 0.33822059631347656\n",
      "[10/50] TRAIN 0.34389179944992065 VALID 0.2946169078350067\n",
      "[Train loss] ===> 0.41103988885879517\n",
      "[Valid loss1] ===> 0.3476475477218628\n",
      "[11/50] TRAIN 0.31257712841033936 VALID 0.29106685519218445\n",
      "\n",
      "[Train loss] ===> 0.39982134103775024\n",
      "[Valid loss1] ===> 0.3301038146018982\n",
      "[12/50] TRAIN 0.290014386177063 VALID 0.2769284248352051\n",
      "\n",
      "[Train loss] ===> 0.375298410654068\n",
      "[Valid loss1] ===> 0.34107881784439087\n",
      "[13/50] TRAIN 0.2645139992237091 VALID 0.2751051187515259\n",
      "\n",
      "[Train loss] ===> 0.367320716381073\n",
      "[Valid loss1] ===> 0.3261319696903229\n",
      "[14/50] TRAIN 0.2469009906053543 VALID 0.2640962600708008\n",
      "\n",
      "[Train loss] ===> 0.3455146551132202\n",
      "[Valid loss1] ===> 0.33694159984588623\n",
      "[15/50] TRAIN 0.22543612122535706 VALID 0.2635519504547119\n",
      "\n",
      "[Train loss] ===> 0.3351239264011383\n",
      "[Valid loss1] ===> 0.33320677280426025\n",
      "[16/50] TRAIN 0.210675910115242 VALID 0.2578773498535156\n",
      "\n",
      "[Train loss] ===> 0.3207884430885315\n",
      "[Valid loss1] ===> 0.3365614116191864\n",
      "[17/50] TRAIN 0.19466640055179596 VALID 0.25553759932518005\n",
      "\n",
      "[Train loss] ===> 0.3066311180591583\n",
      "[Valid loss1] ===> 0.342479407787323\n",
      "[18/50] TRAIN 0.18104791641235352 VALID 0.2546665072441101\n",
      "\n",
      "[Train loss] ===> 0.2941041886806488\n",
      "[Valid loss1] ===> 0.3470585346221924\n",
      "[19/50] TRAIN 0.16910718381404877 VALID 0.2536715865135193\n",
      "\n",
      "[Train loss] ===> 0.28201764822006226\n",
      "[Valid loss1] ===> 0.3535258173942566\n",
      "[20/50] TRAIN 0.15812058746814728 VALID 0.2537866234779358\n",
      "\n",
      "[Train loss] ===> 0.27115264534950256\n",
      "[Valid loss1] ===> 0.35826048254966736\n",
      "[21/50] TRAIN 0.14858220517635345 VALID 0.25350964069366455\n",
      "\n",
      "[Train loss] ===> 0.2601688504219055\n",
      "[Valid loss1] ===> 0.36503809690475464\n",
      "[22/50] TRAIN 0.1395944505929947 VALID 0.25430914759635925\n",
      "\n",
      "[Train loss] ===> 0.2502143085002899\n",
      "[Valid loss1] ===> 0.3713887333869934\n",
      "[23/50] TRAIN 0.13173353672027588 VALID 0.25514769554138184\n",
      "\n",
      "[Train loss] ===> 0.24015037715435028\n",
      "[Valid loss1] ===> 0.37854182720184326\n",
      "[24/50] TRAIN 0.1244526207447052 VALID 0.2565324008464813\n",
      "\n",
      "Early stopping at epoch 24\n"
     ]
    }
   ],
   "source": [
    "### ===> 지정된 횟수만큼 처음부터 ~ 끝까지 학습 및 검증 진행\n",
    "### ===> 목표 : 최적 (Error 최소화)의 W, b를 가진 모델 완성\n",
    "### ===> \n",
    "\n",
    "from torch.optim.lr_scheduler import ReduceLROnPlateau\n",
    "\n",
    "# optimizer 초기화 및 모델과 연결\n",
    "optimizer = torch.optim.SGD(model.parameters(), lr=0.001, momentum=0.9)\n",
    "\n",
    "# ReduceROnPlateau 스케줄러 설정\n",
    "scheduler = ReduceLROnPlateau(optimizer, 'min', patience=10, verbose=True)\n",
    "\n",
    "\n",
    "# 학습 중간에 손실 값을 사용하여 스케줄러 업데이트\n",
    "for eps in range(EPOCHS):\n",
    "    # ======================= 학습 =======================\n",
    "    train_loss = training()\n",
    "    \n",
    "    # ======================= 검증 =======================\n",
    "    valid_loss = testing(validDL)\n",
    "    \n",
    "    print(f\"[{eps}/{EPOCHS}] TRAIN {sum(train_loss)/len(train_loss)} VALID {sum(valid_loss)/len(valid_loss)}\\n\")\n",
    "    # print(valid_loss)\n",
    "    \n",
    "    \n",
    "    # ======================= 학습 스케줄러 =======================\n",
    "    # 조기 종료 기능 ==> 조건 : val)loss가 지정된 횟수 (예 : 5) 이상 개선이 안되면 학습 종료\n",
    "    \n",
    "    # 학습률 조절 : ReduceLROnPlateau 스케줄러에 현재 검증 손실값 전달\n",
    "    scheduler.step(valid_loss[1])\n",
    "    \n",
    "    # 조기 종료 체크\n",
    "    # 여기서 num_bad_epohcs는 연속적으로 손실이 개선되지 않은 epoch의 수\n",
    "    if scheduler.num_bad_epochs >= scheduler.patience:\n",
    "        print(f\"Early stopping at epoch {eps}\")\n",
    "        break\n",
    "    "
   ],
   "metadata": {
    "collapsed": false,
    "ExecuteTime": {
     "end_time": "2024-03-15T08:25:57.302145Z",
     "start_time": "2024-03-15T08:25:56.821176Z"
    }
   },
   "id": "d887bd5f5668205d",
   "execution_count": 323
  },
  {
   "cell_type": "code",
   "outputs": [],
   "source": [],
   "metadata": {
    "collapsed": false,
    "ExecuteTime": {
     "end_time": "2024-03-15T08:25:57.317762Z",
     "start_time": "2024-03-15T08:25:57.304211Z"
    }
   },
   "id": "eb52a85e789c7134",
   "execution_count": 323
  },
  {
   "cell_type": "code",
   "outputs": [],
   "source": [],
   "metadata": {
    "collapsed": false,
    "ExecuteTime": {
     "end_time": "2024-03-15T08:25:57.333279Z",
     "start_time": "2024-03-15T08:25:57.319835Z"
    }
   },
   "id": "bbd07a1c2f29252c",
   "execution_count": 323
  },
  {
   "cell_type": "markdown",
   "source": [
    "반장이 작성한 학습 스케줄러 코드"
   ],
   "metadata": {
    "collapsed": false
   },
   "id": "67e783de643fb197"
  },
  {
   "cell_type": "code",
   "outputs": [
    {
     "name": "stdout",
     "output_type": "stream",
     "text": [
      "[Train loss] ===> 0.2313561737537384\n"
     ]
    },
    {
     "ename": "TypeError",
     "evalue": "testing() missing 1 required positional argument: 'dataLoader'",
     "output_type": "error",
     "traceback": [
      "\u001B[1;31m---------------------------------------------------------------------------\u001B[0m",
      "\u001B[1;31mTypeError\u001B[0m                                 Traceback (most recent call last)",
      "Cell \u001B[1;32mIn[324], line 13\u001B[0m\n\u001B[0;32m     11\u001B[0m \u001B[38;5;28;01mfor\u001B[39;00m eps \u001B[38;5;129;01min\u001B[39;00m \u001B[38;5;28mrange\u001B[39m(EPOCHS): \u001B[38;5;66;03m# 50\u001B[39;00m\n\u001B[0;32m     12\u001B[0m     train_loss\u001B[38;5;241m=\u001B[39mtraining()\n\u001B[1;32m---> 13\u001B[0m     valid_loss\u001B[38;5;241m=\u001B[39m\u001B[43mtesting\u001B[49m\u001B[43m(\u001B[49m\u001B[43m)\u001B[49m\n\u001B[0;32m     14\u001B[0m     \u001B[38;5;28mprint\u001B[39m(\u001B[38;5;124mf\u001B[39m\u001B[38;5;124m'\u001B[39m\u001B[38;5;132;01m{\u001B[39;00meps\u001B[38;5;132;01m}\u001B[39;00m\u001B[38;5;124m번째 반복 ==> train_loss : \u001B[39m\u001B[38;5;132;01m{\u001B[39;00mtrain_loss\u001B[38;5;132;01m}\u001B[39;00m\u001B[38;5;124m, valid_loss : \u001B[39m\u001B[38;5;132;01m{\u001B[39;00mvalid_loss\u001B[38;5;132;01m}\u001B[39;00m\u001B[38;5;124m'\u001B[39m)\n\u001B[0;32m     16\u001B[0m     \u001B[38;5;66;03m# 학습률 조절 : ReduceLROnPlateau 스케줄러에 현재 검증 손실값 전달\u001B[39;00m\n",
      "\u001B[1;31mTypeError\u001B[0m: testing() missing 1 required positional argument: 'dataLoader'"
     ]
    }
   ],
   "source": [
    "from torch.optim.lr_scheduler import ReduceLROnPlateau\n",
    "\n",
    "# optimizer 초기화 및 모델과 연결\n",
    "optimizer = torch.optim.SGD(model.parameters(), lr=0.001, momentum=0.9)\n",
    "\n",
    "# ReduceROnPlateau 스케줄러 설정\n",
    "scheduler = ReduceLROnPlateau(optimizer, 'min', patience=10, verbose=True)\n",
    "\n",
    "\n",
    "# 학습 중간에 손실 값을 사용하여 스케줄러 업데이트\n",
    "for eps in range(EPOCHS): # 50\n",
    "    train_loss=training()\n",
    "    valid_loss=testing()\n",
    "    print(f'{eps}번째 반복 ==> train_loss : {train_loss}, valid_loss : {valid_loss}')\n",
    "    \n",
    "    # 학습률 조절 : ReduceLROnPlateau 스케줄러에 현재 검증 손실값 전달\n",
    "    scheduler.step(valid_loss)\n",
    "    \n",
    "    # 조기 종료 체크\n",
    "    # 여기서 num_bad_epohcs는 연속적으로 손실이 개선되지 않은 epoch의 수\n",
    "    if scheduler.num_bad_epochs > scheduler.patience:\n",
    "        print(f\"Early stopping at epoch {eps}\")\n",
    "        break"
   ],
   "metadata": {
    "collapsed": false,
    "ExecuteTime": {
     "end_time": "2024-03-15T08:25:57.395152Z",
     "start_time": "2024-03-15T08:25:57.334386Z"
    }
   },
   "id": "f153209bd1b5284a",
   "execution_count": 324
  },
  {
   "cell_type": "code",
   "outputs": [],
   "source": [],
   "metadata": {
    "collapsed": false,
    "ExecuteTime": {
     "end_time": "2024-03-15T08:25:57.397366Z",
     "start_time": "2024-03-15T08:25:57.397366Z"
    }
   },
   "id": "28b81960e75c106d",
   "execution_count": null
  },
  {
   "cell_type": "code",
   "outputs": [],
   "source": [],
   "metadata": {
    "collapsed": false,
    "ExecuteTime": {
     "start_time": "2024-03-15T08:25:57.400501Z"
    }
   },
   "id": "76a30b762c732c",
   "execution_count": null
  },
  {
   "cell_type": "code",
   "outputs": [],
   "source": [
    "# DataLoader 속성\n",
    "for _ , (feature, target) in enumerate(trainDL):\n",
    "    print(f\"[{_}] feature {feature.shape}\")\n",
    "    ## 로더에서 가지고온 데이터만큼 학습 진행 "
   ],
   "metadata": {
    "collapsed": false,
    "ExecuteTime": {
     "start_time": "2024-03-15T08:25:57.413871Z"
    }
   },
   "id": "6dc46d1ccf12efab",
   "execution_count": null
  }
 ],
 "metadata": {
  "kernelspec": {
   "display_name": "Python 3",
   "language": "python",
   "name": "python3"
  },
  "language_info": {
   "codemirror_mode": {
    "name": "ipython",
    "version": 2
   },
   "file_extension": ".py",
   "mimetype": "text/x-python",
   "name": "python",
   "nbconvert_exporter": "python",
   "pygments_lexer": "ipython2",
   "version": "2.7.6"
  }
 },
 "nbformat": 4,
 "nbformat_minor": 5
}
