{
 "cells": [
  {
   "cell_type": "markdown",
   "source": [
    "### 24.03.13. 임소영 미니테스트"
   ],
   "metadata": {
    "collapsed": false
   },
   "id": "83859b0656251eb2"
  },
  {
   "cell_type": "markdown",
   "source": [
    "1. tensor"
   ],
   "metadata": {
    "collapsed": false
   },
   "id": "525131097b78100b"
  },
  {
   "cell_type": "markdown",
   "source": [
    "2. \n",
    "- 데이터의 input과 output을 위해 사용되는 객체이다."
   ],
   "metadata": {
    "collapsed": false
   },
   "id": "77506230f982d036"
  },
  {
   "cell_type": "markdown",
   "source": [
    "3. int8, int16, int32, int64     float8, float16, float32, float64\n",
    "8비트는 1바이트와 같다."
   ],
   "metadata": {
    "collapsed": false
   },
   "id": "f40802fb9bb21ed"
  },
  {
   "cell_type": "code",
   "outputs": [
    {
     "name": "stdout",
     "output_type": "stream",
     "text": [
      "1\n",
      "torch.Size([7])\n",
      "torch.bool\n",
      "tensor([ True,  True,  True,  True, False,  True, False])\n"
     ]
    }
   ],
   "source": [
    "# 4\n",
    "\n",
    "import torch\n",
    "\n",
    "value = torch.tensor([10, -5, 1.4, 7, 0, -1, 0], dtype=bool)\n",
    "print(value.ndim)\n",
    "print(value.shape)\n",
    "print(value.dtype)\n",
    "print(value)"
   ],
   "metadata": {
    "collapsed": false,
    "ExecuteTime": {
     "end_time": "2024-03-13T00:23:28.979454Z",
     "start_time": "2024-03-13T00:23:28.966913Z"
    }
   },
   "id": "d3b332032997b551",
   "execution_count": 33
  },
  {
   "cell_type": "code",
   "outputs": [
    {
     "name": "stdout",
     "output_type": "stream",
     "text": [
      "tensor([[0., 0., 0., 0., 0., 0., 0., 0., 0., 0.],\n",
      "        [0., 0., 0., 0., 0., 0., 0., 0., 0., 0.],\n",
      "        [0., 0., 0., 0., 0., 0., 0., 0., 0., 0.],\n",
      "        [0., 0., 0., 0., 0., 0., 0., 0., 0., 0.],\n",
      "        [0., 0., 0., 0., 0., 0., 0., 0., 0., 0.],\n",
      "        [0., 0., 0., 0., 0., 0., 0., 0., 0., 0.],\n",
      "        [0., 0., 0., 0., 0., 0., 0., 0., 0., 0.],\n",
      "        [0., 0., 0., 0., 0., 0., 0., 0., 0., 0.],\n",
      "        [0., 0., 0., 0., 0., 0., 0., 0., 0., 0.],\n",
      "        [0., 0., 0., 0., 0., 0., 0., 0., 0., 0.]])\n"
     ]
    }
   ],
   "source": [
    "# 5 \n",
    "value = torch.zeros((10, 10))\n",
    "print(value)"
   ],
   "metadata": {
    "collapsed": false,
    "ExecuteTime": {
     "end_time": "2024-03-13T00:23:28.995114Z",
     "start_time": "2024-03-13T00:23:28.981686Z"
    }
   },
   "id": "8df0a67a0433e2f",
   "execution_count": 34
  },
  {
   "cell_type": "code",
   "outputs": [
    {
     "name": "stdout",
     "output_type": "stream",
     "text": [
      "tensor([[1., 0., 0., 0., 0.],\n",
      "        [0., 1., 0., 0., 0.],\n",
      "        [0., 0., 1., 0., 0.],\n",
      "        [0., 0., 0., 1., 0.],\n",
      "        [0., 0., 0., 0., 1.]])\n"
     ]
    }
   ],
   "source": [
    "# 6\n",
    "value = torch.eye(5)\n",
    "print(value)"
   ],
   "metadata": {
    "collapsed": false,
    "ExecuteTime": {
     "end_time": "2024-03-13T00:23:29.010643Z",
     "start_time": "2024-03-13T00:23:28.997182Z"
    }
   },
   "id": "db475d24b64ab7fe",
   "execution_count": 35
  },
  {
   "cell_type": "code",
   "outputs": [
    {
     "name": "stdout",
     "output_type": "stream",
     "text": [
      "tensor([[1., 0., 0.],\n",
      "        [0., 1., 0.],\n",
      "        [0., 0., 1.],\n",
      "        [0., 0., 0.],\n",
      "        [0., 0., 0.]])\n"
     ]
    }
   ],
   "source": [
    "# 7\n",
    "value = torch.eye(5,3)\n",
    "print(value)"
   ],
   "metadata": {
    "collapsed": false,
    "ExecuteTime": {
     "end_time": "2024-03-13T00:23:29.026085Z",
     "start_time": "2024-03-13T00:23:29.012706Z"
    }
   },
   "id": "ac048aef9f8d73e1",
   "execution_count": 36
  },
  {
   "cell_type": "code",
   "outputs": [
    {
     "name": "stdout",
     "output_type": "stream",
     "text": [
      "[ 1  8 15 22 29 36 43 50 57 64 71 78 85 92 99]\n",
      "tensor([ 1.,  8., 15., 22., 29., 36., 43., 50., 57., 64., 71., 78., 85., 92.,\n",
      "        99.])\n"
     ]
    }
   ],
   "source": [
    "# 8\n",
    "import numpy as np\n",
    "value = np.array(range(1, 100, 7))\n",
    "print(value)\n",
    "\n",
    "\n",
    "item = torch.tensor(value, dtype = torch.float32)\n",
    "print(item)"
   ],
   "metadata": {
    "collapsed": false,
    "ExecuteTime": {
     "end_time": "2024-03-13T00:23:29.041263Z",
     "start_time": "2024-03-13T00:23:29.027095Z"
    }
   },
   "id": "b92f5793cd93e8e9",
   "execution_count": 37
  },
  {
   "cell_type": "code",
   "outputs": [
    {
     "ename": "TypeError",
     "evalue": "new(): invalid data type 'str'",
     "output_type": "error",
     "traceback": [
      "\u001B[1;31m---------------------------------------------------------------------------\u001B[0m",
      "\u001B[1;31mTypeError\u001B[0m                                 Traceback (most recent call last)",
      "Cell \u001B[1;32mIn[38], line 3\u001B[0m\n\u001B[0;32m      1\u001B[0m \u001B[38;5;66;03m# 9\u001B[39;00m\n\u001B[0;32m      2\u001B[0m file \u001B[38;5;241m=\u001B[39m \u001B[38;5;124m'\u001B[39m\u001B[38;5;124mflower.jpg\u001B[39m\u001B[38;5;124m'\u001B[39m\n\u001B[1;32m----> 3\u001B[0m picture \u001B[38;5;241m=\u001B[39m \u001B[43mtorch\u001B[49m\u001B[38;5;241;43m.\u001B[39;49m\u001B[43mtensor\u001B[49m\u001B[43m(\u001B[49m\u001B[43mfile\u001B[49m\u001B[43m,\u001B[49m\u001B[43m \u001B[49m\u001B[43mdtype\u001B[49m\u001B[43m \u001B[49m\u001B[38;5;241;43m=\u001B[39;49m\u001B[43m \u001B[49m\u001B[43mtorch\u001B[49m\u001B[38;5;241;43m.\u001B[39;49m\u001B[43mint8\u001B[49m\u001B[43m)\u001B[49m\n\u001B[0;32m      4\u001B[0m \u001B[38;5;28mprint\u001B[39m(picture)\n",
      "\u001B[1;31mTypeError\u001B[0m: new(): invalid data type 'str'"
     ]
    }
   ],
   "source": [
    "# 9\n",
    "file = 'flower.jpg'\n",
    "picture = torch.tensor(file, dtype = torch.int8)\n",
    "print(picture)"
   ],
   "metadata": {
    "collapsed": false,
    "ExecuteTime": {
     "end_time": "2024-03-13T00:23:29.072688Z",
     "start_time": "2024-03-13T00:23:29.042261Z"
    }
   },
   "id": "d15d807b5c6ed946",
   "execution_count": 38
  },
  {
   "cell_type": "code",
   "outputs": [
    {
     "name": "stdout",
     "output_type": "stream",
     "text": [
      "(1) : tensor([ 2, 73, 24, 97, 38, 40, 80, 85, 19, 71]) \n",
      "1D\n"
     ]
    }
   ],
   "source": [
    "# 10\n",
    "# (1)\n",
    "value = torch.randint(low = 1, high = 100, size = (10,))\n",
    "print(f\"(1) : {value} \\n{value.ndim}D\")"
   ],
   "metadata": {
    "collapsed": false,
    "ExecuteTime": {
     "end_time": "2024-03-13T00:24:41.767095Z",
     "start_time": "2024-03-13T00:24:41.755628Z"
    }
   },
   "id": "cfe362c419f00d07",
   "execution_count": 45
  },
  {
   "cell_type": "code",
   "outputs": [
    {
     "name": "stdout",
     "output_type": "stream",
     "text": [
      "(2) : tensor([[[ 2, 73, 24, 97, 38, 40, 80, 85, 19, 71]]]) \n",
      "3D\n"
     ]
    }
   ],
   "source": [
    "# (2)\n",
    "value = torch.reshape(value, shape = (1,1,10))\n",
    "print(f\"(2) : {value} \\n{value.ndim}D\")"
   ],
   "metadata": {
    "collapsed": false,
    "ExecuteTime": {
     "end_time": "2024-03-13T00:25:02.895718Z",
     "start_time": "2024-03-13T00:25:02.888449Z"
    }
   },
   "id": "abab161a2c03d59d",
   "execution_count": 46
  },
  {
   "cell_type": "code",
   "outputs": [
    {
     "ename": "TypeError",
     "evalue": "squeeze() received an invalid combination of arguments - got (Tensor, shape=tuple), but expected one of:\n * (Tensor input)\n * (Tensor input, int dim)\n      didn't match because some of the keywords were incorrect: shape\n * (Tensor input, tuple of ints dim)\n      didn't match because some of the keywords were incorrect: shape\n * (Tensor input, name dim)\n      didn't match because some of the keywords were incorrect: shape\n",
     "output_type": "error",
     "traceback": [
      "\u001B[1;31m---------------------------------------------------------------------------\u001B[0m",
      "\u001B[1;31mTypeError\u001B[0m                                 Traceback (most recent call last)",
      "Cell \u001B[1;32mIn[49], line 2\u001B[0m\n\u001B[0;32m      1\u001B[0m \u001B[38;5;66;03m# (3)\u001B[39;00m\n\u001B[1;32m----> 2\u001B[0m value \u001B[38;5;241m=\u001B[39m \u001B[43mtorch\u001B[49m\u001B[38;5;241;43m.\u001B[39;49m\u001B[43msqueeze\u001B[49m\u001B[43m(\u001B[49m\u001B[43mvalue\u001B[49m\u001B[43m,\u001B[49m\u001B[43m \u001B[49m\u001B[43mshape\u001B[49m\u001B[43m \u001B[49m\u001B[38;5;241;43m=\u001B[39;49m\u001B[43m \u001B[49m\u001B[43m(\u001B[49m\u001B[38;5;241;43m2\u001B[39;49m\u001B[43m,\u001B[49m\u001B[38;5;241;43m5\u001B[39;49m\u001B[43m,\u001B[49m\u001B[38;5;241;43m1\u001B[39;49m\u001B[43m)\u001B[49m\u001B[43m)\u001B[49m\n\u001B[0;32m      3\u001B[0m \u001B[38;5;28mprint\u001B[39m(\u001B[38;5;124mf\u001B[39m\u001B[38;5;124m\"\u001B[39m\u001B[38;5;124m(3) : \u001B[39m\u001B[38;5;132;01m{\u001B[39;00mvalue\u001B[38;5;132;01m}\u001B[39;00m\u001B[38;5;124m \u001B[39m\u001B[38;5;130;01m\\n\u001B[39;00m\u001B[38;5;132;01m{\u001B[39;00mvalue\u001B[38;5;241m.\u001B[39mndim\u001B[38;5;132;01m}\u001B[39;00m\u001B[38;5;124mD\u001B[39m\u001B[38;5;124m\"\u001B[39m)\n",
      "\u001B[1;31mTypeError\u001B[0m: squeeze() received an invalid combination of arguments - got (Tensor, shape=tuple), but expected one of:\n * (Tensor input)\n * (Tensor input, int dim)\n      didn't match because some of the keywords were incorrect: shape\n * (Tensor input, tuple of ints dim)\n      didn't match because some of the keywords were incorrect: shape\n * (Tensor input, name dim)\n      didn't match because some of the keywords were incorrect: shape\n"
     ]
    }
   ],
   "source": [
    "# (3)\n",
    "value = torch.squeeze(value, shape = (2,5,1))\n",
    "print(f\"(3) : {value} \\n{value.ndim}D\")"
   ],
   "metadata": {
    "collapsed": false,
    "ExecuteTime": {
     "end_time": "2024-03-13T00:26:43.666926Z",
     "start_time": "2024-03-13T00:26:43.642747Z"
    }
   },
   "id": "a7301f12ce9918cb",
   "execution_count": 49
  },
  {
   "cell_type": "code",
   "outputs": [],
   "source": [
    "# (4)\n"
   ],
   "metadata": {
    "collapsed": false
   },
   "id": "200bf6839c0f2f4a"
  },
  {
   "cell_type": "code",
   "outputs": [
    {
     "name": "stdout",
     "output_type": "stream",
     "text": [
      "(1)\n",
      "tensor([90., 70., 80.]) tensor([ 70., 100.,  80.]) tensor([99., 88., 77.])\n"
     ]
    }
   ],
   "source": [
    "# 11\n",
    "korean = torch.tensor([90, 70, 80], dtype = torch.float)\n",
    "english = torch.tensor([70, 100, 80], dtype = torch.float)\n",
    "math = torch.tensor([99, 88, 77], dtype = torch.float)\n",
    "\n",
    "print('(1)')\n",
    "print(korean, english, math)"
   ],
   "metadata": {
    "collapsed": false,
    "ExecuteTime": {
     "end_time": "2024-03-13T00:30:07.490617Z",
     "start_time": "2024-03-13T00:30:07.483185Z"
    }
   },
   "id": "879ccf136338b2b",
   "execution_count": 52
  },
  {
   "cell_type": "code",
   "outputs": [
    {
     "name": "stdout",
     "output_type": "stream",
     "text": [
      "(2)\n",
      "tensor(240.) tensor(80.) tensor(90.)\n",
      "tensor(250.) tensor(83.3333) tensor(100.)\n",
      "tensor(264.) tensor(88.) tensor(99.)\n"
     ]
    }
   ],
   "source": [
    "print('(2)')\n",
    "print(korean.sum(), korean.mean(), korean.max())\n",
    "print(english.sum(), english.mean(), english.max())\n",
    "print(math.sum(), math.mean(), math.max())"
   ],
   "metadata": {
    "collapsed": false,
    "ExecuteTime": {
     "end_time": "2024-03-13T00:30:07.982489Z",
     "start_time": "2024-03-13T00:30:07.961412Z"
    }
   },
   "id": "11efc15817b3f62",
   "execution_count": 53
  },
  {
   "cell_type": "code",
   "outputs": [
    {
     "name": "stdout",
     "output_type": "stream",
     "text": [
      "(3)\n",
      "tensor(259.) tensor(99.)\n",
      "tensor(86.3333)\n"
     ]
    }
   ],
   "source": [
    "print('(3)')\n",
    "list = [korean[0], english[0], math[0]]\n",
    "print(sum(list), max(list))\n",
    "print((sum(list))/3)"
   ],
   "metadata": {
    "collapsed": false,
    "ExecuteTime": {
     "end_time": "2024-03-13T00:39:18.492012Z",
     "start_time": "2024-03-13T00:39:18.473137Z"
    }
   },
   "id": "1d6f2265e232c72f",
   "execution_count": 70
  },
  {
   "cell_type": "code",
   "outputs": [
    {
     "name": "stdout",
     "output_type": "stream",
     "text": [
      "(1) \n",
      " tensor([90., 70., 80.]) \n",
      " tensor([ 70., 100.,  80.]) \n",
      " tensor([99., 88., 77.]) \n",
      " tensor([5.0000, 2.0000, 0.7000])\n"
     ]
    }
   ],
   "source": [
    "# 12\n",
    "korean = torch.tensor([90, 70, 80], dtype = torch.float)\n",
    "english = torch.tensor([70, 100, 80], dtype = torch.float)\n",
    "math = torch.tensor([99, 88, 77], dtype = torch.float)\n",
    "data = torch.tensor([5, 2, 0.7], dtype = torch.float)\n",
    "\n",
    "print(f\"(1) \\n {korean} \\n {english} \\n {math} \\n {data}\")"
   ],
   "metadata": {
    "collapsed": false,
    "ExecuteTime": {
     "end_time": "2024-03-13T00:36:03.378772Z",
     "start_time": "2024-03-13T00:36:03.360235Z"
    }
   },
   "id": "533171c453e07e83",
   "execution_count": 66
  },
  {
   "cell_type": "code",
   "outputs": [
    {
     "name": "stdout",
     "output_type": "stream",
     "text": [
      "(2)\n",
      "tensor([95.0000, 72.0000, 80.7000]) tensor([ 75.0000, 102.0000,  80.7000]) tensor([104.0000,  90.0000,  77.7000])\n",
      "tensor([85.0000, 68.0000, 79.3000]) tensor([65.0000, 98.0000, 79.3000]) tensor([94.0000, 86.0000, 76.3000])\n",
      "tensor([450., 140.,  56.]) tensor([350., 200.,  56.]) tensor([495.0000, 176.0000,  53.9000])\n",
      "tensor([ 18.0000,  35.0000, 114.2857]) tensor([ 14.0000,  50.0000, 114.2857]) tensor([ 19.8000,  44.0000, 110.0000])\n"
     ]
    }
   ],
   "source": [
    "print('(2)')\n",
    "print(korean.add(data), english.add(data), math.add(data))\n",
    "print(korean.sub(data), english.sub(data), math.sub(data))\n",
    "print(korean.mul(data), english.mul(data), math.mul(data))\n",
    "print(korean.div(data), english.div(data), math.div(data))"
   ],
   "metadata": {
    "collapsed": false,
    "ExecuteTime": {
     "end_time": "2024-03-13T00:37:24.773821Z",
     "start_time": "2024-03-13T00:37:24.760200Z"
    }
   },
   "id": "78af1630736dfad2",
   "execution_count": 67
  },
  {
   "cell_type": "code",
   "outputs": [
    {
     "name": "stdout",
     "output_type": "stream",
     "text": [
      "(3)\n",
      "tensor(646.) tensor(606.) tensor(724.9000)\n"
     ]
    }
   ],
   "source": [
    "print('(3)')\n",
    "print(korean.matmul(data), english.matmul(data), math.matmul(data))"
   ],
   "metadata": {
    "collapsed": false,
    "ExecuteTime": {
     "end_time": "2024-03-13T00:38:15.320167Z",
     "start_time": "2024-03-13T00:38:15.304507Z"
    }
   },
   "id": "ed14c9975899fc5d",
   "execution_count": 69
  }
 ],
 "metadata": {
  "kernelspec": {
   "display_name": "Python 3",
   "language": "python",
   "name": "python3"
  },
  "language_info": {
   "codemirror_mode": {
    "name": "ipython",
    "version": 2
   },
   "file_extension": ".py",
   "mimetype": "text/x-python",
   "name": "python",
   "nbconvert_exporter": "python",
   "pygments_lexer": "ipython2",
   "version": "2.7.6"
  }
 },
 "nbformat": 4,
 "nbformat_minor": 5
}
