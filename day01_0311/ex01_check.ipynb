{
 "cells": [
  {
   "cell_type": "code",
   "execution_count": 1,
   "id": "initial_id",
   "metadata": {
    "collapsed": true,
    "ExecuteTime": {
     "end_time": "2024-03-11T00:44:51.330573Z",
     "start_time": "2024-03-11T00:44:49.016857Z"
    }
   },
   "outputs": [],
   "source": [
    "# 모듈 버전 및 버전 체크\n",
    "import pandas as pd\n",
    "import seaborn as sns\n",
    "import matplotlib as plt\n",
    "import sklearn as sk\n",
    "import torch"
   ]
  },
  {
   "cell_type": "code",
   "outputs": [
    {
     "name": "stdout",
     "output_type": "stream",
     "text": [
      "Pandas version: 2.0.3\n",
      "Seaborn version: 0.12.2\n",
      "Matplotlib version: 3.7.2\n",
      "Scikit-learn version: 1.3.0\n",
      "PyTorch version: 2.2.0\n"
     ]
    }
   ],
   "source": [
    "# 버전 정보 출력\n",
    "print(f\"Pandas version: {pd.__version__}\")\n",
    "print(f\"Seaborn version: {sns.__version__}\")\n",
    "print(f\"Matplotlib version: {plt.__version__}\")\n",
    "print(f\"Scikit-learn version: {sk.__version__}\")\n",
    "print(f\"PyTorch version: {torch.__version__}\")"
   ],
   "metadata": {
    "collapsed": false,
    "ExecuteTime": {
     "end_time": "2024-03-11T00:48:21.786515Z",
     "start_time": "2024-03-11T00:48:21.768939Z"
    }
   },
   "id": "ca11568851f98fdd",
   "execution_count": 4
  },
  {
   "cell_type": "code",
   "outputs": [
    {
     "name": "stdout",
     "output_type": "stream",
     "text": [
      "GPU => False\n"
     ]
    }
   ],
   "source": [
    "# 해당 PC에 GPU 여부 확인하기\n",
    "print(f\"GPU => {torch.cuda.is_available()}\")        # is 로 시작하는 메서드는 True / False 반환해줌"
   ],
   "metadata": {
    "collapsed": false,
    "ExecuteTime": {
     "end_time": "2024-03-11T00:50:05.504461Z",
     "start_time": "2024-03-11T00:50:05.493039Z"
    }
   },
   "id": "da72ba5364c0c373",
   "execution_count": 5
  },
  {
   "cell_type": "code",
   "outputs": [],
   "source": [
    "# 저장 및 실행 Device 설정\n",
    "DEVICE = 'gpu' if torch.cuda.is_available() else 'cpu' # 참이면 'gpu'로  거짓이면 'cpu'로 디바이스를 지정해주겠다."
   ],
   "metadata": {
    "collapsed": false
   },
   "id": "9230a460962b82d9"
  },
  {
   "cell_type": "markdown",
   "source": [],
   "metadata": {
    "collapsed": false
   },
   "id": "d2bc78884ed13ee1"
  },
  {
   "cell_type": "code",
   "outputs": [],
   "source": [],
   "metadata": {
    "collapsed": false
   },
   "id": "c860538c53398c39"
  }
 ],
 "metadata": {
  "kernelspec": {
   "display_name": "Python 3",
   "language": "python",
   "name": "python3"
  },
  "language_info": {
   "codemirror_mode": {
    "name": "ipython",
    "version": 2
   },
   "file_extension": ".py",
   "mimetype": "text/x-python",
   "name": "python",
   "nbconvert_exporter": "python",
   "pygments_lexer": "ipython2",
   "version": "2.7.6"
  }
 },
 "nbformat": 4,
 "nbformat_minor": 5
}
