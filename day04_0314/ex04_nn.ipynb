{
 "cells": [
  {
   "cell_type": "markdown",
   "source": [
    "### 인공신경망 모델 클래스 만들기 <hr>\n",
    "- 부모 클래스 : nn.Module 상속 받음\n",
    "- 필수 오버라이딩 메서드 : __init__(), forward()"
   ],
   "metadata": {
    "collapsed": false
   },
   "id": "d2c9d34c3fa9d842"
  },
  {
   "cell_type": "markdown",
   "source": [
    "[1] 모듈 로딩 <hr>"
   ],
   "metadata": {
    "collapsed": false
   },
   "id": "46baf09888bfef8b"
  },
  {
   "cell_type": "code",
   "outputs": [],
   "source": [
    "import torch\n",
    "import torch.nn as nn"
   ],
   "metadata": {
    "collapsed": false,
    "ExecuteTime": {
     "end_time": "2024-03-14T08:25:02.024778Z",
     "start_time": "2024-03-14T08:25:00.678302Z"
    }
   },
   "id": "b570685a473040c1",
   "execution_count": 1
  },
  {
   "cell_type": "code",
   "outputs": [],
   "source": [
    "# 로지스틱회귀 모델 클래스 생성\n",
    "# - Linear + sigmoid\n",
    "\n",
    "class LogicLinear(nn.Module):\n",
    "    \n",
    "    # 모델 구조 설정\n",
    "    def __init__(self, in_, out_):\n",
    "        super().__init__()\n",
    "        self.layer1 = nn.Linear(in_, 10)\n",
    "        self.sigmoid1 = nn.Sigmoid()        \n",
    "        self.layer2 = nn.Linear(10, out_)\n",
    "        self.sigmoid2 = nn.Sigmoid()\n",
    "        \n",
    "    # 순방향 학습 진행 콜백함수\n",
    "    def forward(self, x):\n",
    "        y = self.layer1(x)\n",
    "        z = self.sigmoid1(y)\n",
    "        y = self.layer2(z)\n",
    "        z = self.sigmoid2(y)\n",
    "        return y"
   ],
   "metadata": {
    "collapsed": false,
    "ExecuteTime": {
     "end_time": "2024-03-14T08:41:18.026722Z",
     "start_time": "2024-03-14T08:41:18.012330Z"
    }
   },
   "id": "f491a13ea7dedc9c",
   "execution_count": 21
  },
  {
   "cell_type": "code",
   "outputs": [
    {
     "name": "stdout",
     "output_type": "stream",
     "text": [
      "모델 구조 확인 ==> \n",
      "LogicLinear(\n",
      "  (layer1): Linear(in_features=1, out_features=10, bias=True)\n",
      "  (sigmoid1): Sigmoid()\n",
      "  (layer2): Linear(in_features=10, out_features=4, bias=True)\n",
      "  (sigmoid2): Sigmoid()\n",
      ")\n"
     ]
    }
   ],
   "source": [
    "ll = LogicLinear(1, 4)\n",
    "print(f\"모델 구조 확인 ==> \\n{ll}\")"
   ],
   "metadata": {
    "collapsed": false,
    "ExecuteTime": {
     "end_time": "2024-03-14T08:41:33.201706Z",
     "start_time": "2024-03-14T08:41:33.194760Z"
    }
   },
   "id": "8aa37cd38190acf4",
   "execution_count": 24
  },
  {
   "cell_type": "code",
   "outputs": [
    {
     "name": "stdout",
     "output_type": "stream",
     "text": [
      "모델 구성 w, b =====\n",
      "\n",
      "Parameter containing:\n",
      "tensor([[ 0.1845],\n",
      "        [-0.1361],\n",
      "        [-0.7209],\n",
      "        [-0.5637],\n",
      "        [ 0.8158],\n",
      "        [ 0.1968],\n",
      "        [ 0.1644],\n",
      "        [ 0.1087],\n",
      "        [-0.3603],\n",
      "        [ 0.8999]], requires_grad=True)\n",
      "\n",
      "Parameter containing:\n",
      "tensor([-0.6833,  0.5729, -0.2817, -0.6439, -0.2878, -0.1991,  0.4061,  0.0636,\n",
      "        -0.2799,  0.7743], requires_grad=True)\n",
      "\n",
      "Parameter containing:\n",
      "tensor([[ 0.2303, -0.0492, -0.1516,  0.1350, -0.2776, -0.2709,  0.0030, -0.3018,\n",
      "          0.1926, -0.3052],\n",
      "        [-0.1395,  0.2956, -0.1200,  0.3045, -0.2749,  0.0490, -0.3125, -0.1576,\n",
      "         -0.0728, -0.3133],\n",
      "        [-0.0508,  0.1283,  0.1018, -0.3105,  0.2348,  0.1317,  0.2650, -0.0074,\n",
      "          0.1859,  0.2279],\n",
      "        [ 0.2794, -0.1566,  0.1797,  0.1120, -0.2844,  0.0099,  0.1308, -0.1262,\n",
      "         -0.2151, -0.1830]], requires_grad=True)\n",
      "\n",
      "Parameter containing:\n",
      "tensor([-0.1684,  0.0147, -0.1295,  0.0099], requires_grad=True)\n"
     ]
    }
   ],
   "source": [
    "print('모델 구성 w, b =====\\n')\n",
    "for param in ll.parameters():\n",
    "    print(param)\n",
    "    print()"
   ],
   "metadata": {
    "collapsed": false,
    "ExecuteTime": {
     "end_time": "2024-03-14T08:41:33.917015Z",
     "start_time": "2024-03-14T08:41:33.899855Z"
    }
   },
   "id": "8b98f575f88d65c4",
   "execution_count": 25
  },
  {
   "cell_type": "code",
   "outputs": [],
   "source": [],
   "metadata": {
    "collapsed": false,
    "ExecuteTime": {
     "end_time": "2024-03-14T08:41:34.356603Z",
     "start_time": "2024-03-14T08:41:34.340424Z"
    }
   },
   "id": "7ab1ced81f72f58f",
   "execution_count": 25
  },
  {
   "cell_type": "code",
   "outputs": [],
   "source": [],
   "metadata": {
    "collapsed": false
   },
   "id": "7afdb67e4e9f8726"
  }
 ],
 "metadata": {
  "kernelspec": {
   "display_name": "Python 3",
   "language": "python",
   "name": "python3"
  },
  "language_info": {
   "codemirror_mode": {
    "name": "ipython",
    "version": 2
   },
   "file_extension": ".py",
   "mimetype": "text/x-python",
   "name": "python",
   "nbconvert_exporter": "python",
   "pygments_lexer": "ipython2",
   "version": "2.7.6"
  }
 },
 "nbformat": 4,
 "nbformat_minor": 5
}
