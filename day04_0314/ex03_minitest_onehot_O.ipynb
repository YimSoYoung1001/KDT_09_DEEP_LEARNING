{
 "cells": [
  {
   "cell_type": "markdown",
   "source": [
    "[1] 모듈 로딩 및 데이터 준비\n",
    "- scikit - learn에서 데이터 다운 및 확인"
   ],
   "metadata": {
    "collapsed": false
   },
   "id": "26e1946bd0bd0ee"
  },
  {
   "cell_type": "code",
   "outputs": [],
   "source": [
    "# 모듈 로딩\n",
    "from sklearn.datasets import fetch_openml\n",
    "import pandas as pd\n",
    "import numpy as np\n",
    "import torch\n",
    "import torch.nn as nn                         # LinearRegression 기능의 클래스 Linear\n",
    "import torch.nn.functional as F               # 손실함수\n",
    "import torch.optim as optim                   # 경사하강법 기반의 최적화 관련 모듈"
   ],
   "metadata": {
    "collapsed": false,
    "ExecuteTime": {
     "end_time": "2024-03-14T05:49:13.832361Z",
     "start_time": "2024-03-14T05:49:13.819711Z"
    }
   },
   "id": "61b8eb3393a29200",
   "execution_count": 79
  },
  {
   "cell_type": "code",
   "outputs": [],
   "source": [
    "### ===> 데이터 준비\n",
    "fashion_db = 'fashion-mnist'\n",
    "\n",
    "# fashion_data = fetch_openml(name = fashion_db, parser = 'auto', as_frame = False)   \n",
    "fashion_data = fetch_openml(name = fashion_db, parser = 'auto')   \n",
    "#as_frame이 True이면 dataframe으로 들고 들어옴, false이면 numpy로 들어옴"
   ],
   "metadata": {
    "collapsed": false,
    "ExecuteTime": {
     "end_time": "2024-03-14T05:49:18.060722Z",
     "start_time": "2024-03-14T05:49:13.935765Z"
    }
   },
   "id": "ef74e3c7c0bfaae9",
   "execution_count": 80
  },
  {
   "cell_type": "code",
   "outputs": [],
   "source": [
    "### ===> 데이터 확인\n",
    "feature = fashion_data['data']\n",
    "target = fashion_data['target']"
   ],
   "metadata": {
    "collapsed": false,
    "ExecuteTime": {
     "end_time": "2024-03-14T05:49:18.092177Z",
     "start_time": "2024-03-14T05:49:18.063789Z"
    }
   },
   "id": "16df9c350cf0023e",
   "execution_count": 81
  },
  {
   "cell_type": "code",
   "outputs": [
    {
     "name": "stdout",
     "output_type": "stream",
     "text": [
      "feature => (70000, 784), 2D\n",
      "target => (70000,), 1D\n"
     ]
    }
   ],
   "source": [
    "# 피처와 타겟 개수 확인\n",
    "print(f\"feature => {feature.shape}, {feature.ndim}D\")\n",
    "print(f\"target => {target.shape}, {target.ndim}D\")"
   ],
   "metadata": {
    "collapsed": false,
    "ExecuteTime": {
     "end_time": "2024-03-14T05:49:18.108169Z",
     "start_time": "2024-03-14T05:49:18.094518Z"
    }
   },
   "id": "17738a913fae805a",
   "execution_count": 82
  },
  {
   "cell_type": "code",
   "outputs": [
    {
     "name": "stdout",
     "output_type": "stream",
     "text": [
      "feature => ['pixel1', 'pixel2', 'pixel3', 'pixel4', 'pixel5', 'pixel6', 'pixel7', 'pixel8', 'pixel9', 'pixel10', 'pixel11', 'pixel12', 'pixel13', 'pixel14', 'pixel15', 'pixel16', 'pixel17', 'pixel18', 'pixel19', 'pixel20', 'pixel21', 'pixel22', 'pixel23', 'pixel24', 'pixel25', 'pixel26', 'pixel27', 'pixel28', 'pixel29', 'pixel30', 'pixel31', 'pixel32', 'pixel33', 'pixel34', 'pixel35', 'pixel36', 'pixel37', 'pixel38', 'pixel39', 'pixel40', 'pixel41', 'pixel42', 'pixel43', 'pixel44', 'pixel45', 'pixel46', 'pixel47', 'pixel48', 'pixel49', 'pixel50', 'pixel51', 'pixel52', 'pixel53', 'pixel54', 'pixel55', 'pixel56', 'pixel57', 'pixel58', 'pixel59', 'pixel60', 'pixel61', 'pixel62', 'pixel63', 'pixel64', 'pixel65', 'pixel66', 'pixel67', 'pixel68', 'pixel69', 'pixel70', 'pixel71', 'pixel72', 'pixel73', 'pixel74', 'pixel75', 'pixel76', 'pixel77', 'pixel78', 'pixel79', 'pixel80', 'pixel81', 'pixel82', 'pixel83', 'pixel84', 'pixel85', 'pixel86', 'pixel87', 'pixel88', 'pixel89', 'pixel90', 'pixel91', 'pixel92', 'pixel93', 'pixel94', 'pixel95', 'pixel96', 'pixel97', 'pixel98', 'pixel99', 'pixel100', 'pixel101', 'pixel102', 'pixel103', 'pixel104', 'pixel105', 'pixel106', 'pixel107', 'pixel108', 'pixel109', 'pixel110', 'pixel111', 'pixel112', 'pixel113', 'pixel114', 'pixel115', 'pixel116', 'pixel117', 'pixel118', 'pixel119', 'pixel120', 'pixel121', 'pixel122', 'pixel123', 'pixel124', 'pixel125', 'pixel126', 'pixel127', 'pixel128', 'pixel129', 'pixel130', 'pixel131', 'pixel132', 'pixel133', 'pixel134', 'pixel135', 'pixel136', 'pixel137', 'pixel138', 'pixel139', 'pixel140', 'pixel141', 'pixel142', 'pixel143', 'pixel144', 'pixel145', 'pixel146', 'pixel147', 'pixel148', 'pixel149', 'pixel150', 'pixel151', 'pixel152', 'pixel153', 'pixel154', 'pixel155', 'pixel156', 'pixel157', 'pixel158', 'pixel159', 'pixel160', 'pixel161', 'pixel162', 'pixel163', 'pixel164', 'pixel165', 'pixel166', 'pixel167', 'pixel168', 'pixel169', 'pixel170', 'pixel171', 'pixel172', 'pixel173', 'pixel174', 'pixel175', 'pixel176', 'pixel177', 'pixel178', 'pixel179', 'pixel180', 'pixel181', 'pixel182', 'pixel183', 'pixel184', 'pixel185', 'pixel186', 'pixel187', 'pixel188', 'pixel189', 'pixel190', 'pixel191', 'pixel192', 'pixel193', 'pixel194', 'pixel195', 'pixel196', 'pixel197', 'pixel198', 'pixel199', 'pixel200', 'pixel201', 'pixel202', 'pixel203', 'pixel204', 'pixel205', 'pixel206', 'pixel207', 'pixel208', 'pixel209', 'pixel210', 'pixel211', 'pixel212', 'pixel213', 'pixel214', 'pixel215', 'pixel216', 'pixel217', 'pixel218', 'pixel219', 'pixel220', 'pixel221', 'pixel222', 'pixel223', 'pixel224', 'pixel225', 'pixel226', 'pixel227', 'pixel228', 'pixel229', 'pixel230', 'pixel231', 'pixel232', 'pixel233', 'pixel234', 'pixel235', 'pixel236', 'pixel237', 'pixel238', 'pixel239', 'pixel240', 'pixel241', 'pixel242', 'pixel243', 'pixel244', 'pixel245', 'pixel246', 'pixel247', 'pixel248', 'pixel249', 'pixel250', 'pixel251', 'pixel252', 'pixel253', 'pixel254', 'pixel255', 'pixel256', 'pixel257', 'pixel258', 'pixel259', 'pixel260', 'pixel261', 'pixel262', 'pixel263', 'pixel264', 'pixel265', 'pixel266', 'pixel267', 'pixel268', 'pixel269', 'pixel270', 'pixel271', 'pixel272', 'pixel273', 'pixel274', 'pixel275', 'pixel276', 'pixel277', 'pixel278', 'pixel279', 'pixel280', 'pixel281', 'pixel282', 'pixel283', 'pixel284', 'pixel285', 'pixel286', 'pixel287', 'pixel288', 'pixel289', 'pixel290', 'pixel291', 'pixel292', 'pixel293', 'pixel294', 'pixel295', 'pixel296', 'pixel297', 'pixel298', 'pixel299', 'pixel300', 'pixel301', 'pixel302', 'pixel303', 'pixel304', 'pixel305', 'pixel306', 'pixel307', 'pixel308', 'pixel309', 'pixel310', 'pixel311', 'pixel312', 'pixel313', 'pixel314', 'pixel315', 'pixel316', 'pixel317', 'pixel318', 'pixel319', 'pixel320', 'pixel321', 'pixel322', 'pixel323', 'pixel324', 'pixel325', 'pixel326', 'pixel327', 'pixel328', 'pixel329', 'pixel330', 'pixel331', 'pixel332', 'pixel333', 'pixel334', 'pixel335', 'pixel336', 'pixel337', 'pixel338', 'pixel339', 'pixel340', 'pixel341', 'pixel342', 'pixel343', 'pixel344', 'pixel345', 'pixel346', 'pixel347', 'pixel348', 'pixel349', 'pixel350', 'pixel351', 'pixel352', 'pixel353', 'pixel354', 'pixel355', 'pixel356', 'pixel357', 'pixel358', 'pixel359', 'pixel360', 'pixel361', 'pixel362', 'pixel363', 'pixel364', 'pixel365', 'pixel366', 'pixel367', 'pixel368', 'pixel369', 'pixel370', 'pixel371', 'pixel372', 'pixel373', 'pixel374', 'pixel375', 'pixel376', 'pixel377', 'pixel378', 'pixel379', 'pixel380', 'pixel381', 'pixel382', 'pixel383', 'pixel384', 'pixel385', 'pixel386', 'pixel387', 'pixel388', 'pixel389', 'pixel390', 'pixel391', 'pixel392', 'pixel393', 'pixel394', 'pixel395', 'pixel396', 'pixel397', 'pixel398', 'pixel399', 'pixel400', 'pixel401', 'pixel402', 'pixel403', 'pixel404', 'pixel405', 'pixel406', 'pixel407', 'pixel408', 'pixel409', 'pixel410', 'pixel411', 'pixel412', 'pixel413', 'pixel414', 'pixel415', 'pixel416', 'pixel417', 'pixel418', 'pixel419', 'pixel420', 'pixel421', 'pixel422', 'pixel423', 'pixel424', 'pixel425', 'pixel426', 'pixel427', 'pixel428', 'pixel429', 'pixel430', 'pixel431', 'pixel432', 'pixel433', 'pixel434', 'pixel435', 'pixel436', 'pixel437', 'pixel438', 'pixel439', 'pixel440', 'pixel441', 'pixel442', 'pixel443', 'pixel444', 'pixel445', 'pixel446', 'pixel447', 'pixel448', 'pixel449', 'pixel450', 'pixel451', 'pixel452', 'pixel453', 'pixel454', 'pixel455', 'pixel456', 'pixel457', 'pixel458', 'pixel459', 'pixel460', 'pixel461', 'pixel462', 'pixel463', 'pixel464', 'pixel465', 'pixel466', 'pixel467', 'pixel468', 'pixel469', 'pixel470', 'pixel471', 'pixel472', 'pixel473', 'pixel474', 'pixel475', 'pixel476', 'pixel477', 'pixel478', 'pixel479', 'pixel480', 'pixel481', 'pixel482', 'pixel483', 'pixel484', 'pixel485', 'pixel486', 'pixel487', 'pixel488', 'pixel489', 'pixel490', 'pixel491', 'pixel492', 'pixel493', 'pixel494', 'pixel495', 'pixel496', 'pixel497', 'pixel498', 'pixel499', 'pixel500', 'pixel501', 'pixel502', 'pixel503', 'pixel504', 'pixel505', 'pixel506', 'pixel507', 'pixel508', 'pixel509', 'pixel510', 'pixel511', 'pixel512', 'pixel513', 'pixel514', 'pixel515', 'pixel516', 'pixel517', 'pixel518', 'pixel519', 'pixel520', 'pixel521', 'pixel522', 'pixel523', 'pixel524', 'pixel525', 'pixel526', 'pixel527', 'pixel528', 'pixel529', 'pixel530', 'pixel531', 'pixel532', 'pixel533', 'pixel534', 'pixel535', 'pixel536', 'pixel537', 'pixel538', 'pixel539', 'pixel540', 'pixel541', 'pixel542', 'pixel543', 'pixel544', 'pixel545', 'pixel546', 'pixel547', 'pixel548', 'pixel549', 'pixel550', 'pixel551', 'pixel552', 'pixel553', 'pixel554', 'pixel555', 'pixel556', 'pixel557', 'pixel558', 'pixel559', 'pixel560', 'pixel561', 'pixel562', 'pixel563', 'pixel564', 'pixel565', 'pixel566', 'pixel567', 'pixel568', 'pixel569', 'pixel570', 'pixel571', 'pixel572', 'pixel573', 'pixel574', 'pixel575', 'pixel576', 'pixel577', 'pixel578', 'pixel579', 'pixel580', 'pixel581', 'pixel582', 'pixel583', 'pixel584', 'pixel585', 'pixel586', 'pixel587', 'pixel588', 'pixel589', 'pixel590', 'pixel591', 'pixel592', 'pixel593', 'pixel594', 'pixel595', 'pixel596', 'pixel597', 'pixel598', 'pixel599', 'pixel600', 'pixel601', 'pixel602', 'pixel603', 'pixel604', 'pixel605', 'pixel606', 'pixel607', 'pixel608', 'pixel609', 'pixel610', 'pixel611', 'pixel612', 'pixel613', 'pixel614', 'pixel615', 'pixel616', 'pixel617', 'pixel618', 'pixel619', 'pixel620', 'pixel621', 'pixel622', 'pixel623', 'pixel624', 'pixel625', 'pixel626', 'pixel627', 'pixel628', 'pixel629', 'pixel630', 'pixel631', 'pixel632', 'pixel633', 'pixel634', 'pixel635', 'pixel636', 'pixel637', 'pixel638', 'pixel639', 'pixel640', 'pixel641', 'pixel642', 'pixel643', 'pixel644', 'pixel645', 'pixel646', 'pixel647', 'pixel648', 'pixel649', 'pixel650', 'pixel651', 'pixel652', 'pixel653', 'pixel654', 'pixel655', 'pixel656', 'pixel657', 'pixel658', 'pixel659', 'pixel660', 'pixel661', 'pixel662', 'pixel663', 'pixel664', 'pixel665', 'pixel666', 'pixel667', 'pixel668', 'pixel669', 'pixel670', 'pixel671', 'pixel672', 'pixel673', 'pixel674', 'pixel675', 'pixel676', 'pixel677', 'pixel678', 'pixel679', 'pixel680', 'pixel681', 'pixel682', 'pixel683', 'pixel684', 'pixel685', 'pixel686', 'pixel687', 'pixel688', 'pixel689', 'pixel690', 'pixel691', 'pixel692', 'pixel693', 'pixel694', 'pixel695', 'pixel696', 'pixel697', 'pixel698', 'pixel699', 'pixel700', 'pixel701', 'pixel702', 'pixel703', 'pixel704', 'pixel705', 'pixel706', 'pixel707', 'pixel708', 'pixel709', 'pixel710', 'pixel711', 'pixel712', 'pixel713', 'pixel714', 'pixel715', 'pixel716', 'pixel717', 'pixel718', 'pixel719', 'pixel720', 'pixel721', 'pixel722', 'pixel723', 'pixel724', 'pixel725', 'pixel726', 'pixel727', 'pixel728', 'pixel729', 'pixel730', 'pixel731', 'pixel732', 'pixel733', 'pixel734', 'pixel735', 'pixel736', 'pixel737', 'pixel738', 'pixel739', 'pixel740', 'pixel741', 'pixel742', 'pixel743', 'pixel744', 'pixel745', 'pixel746', 'pixel747', 'pixel748', 'pixel749', 'pixel750', 'pixel751', 'pixel752', 'pixel753', 'pixel754', 'pixel755', 'pixel756', 'pixel757', 'pixel758', 'pixel759', 'pixel760', 'pixel761', 'pixel762', 'pixel763', 'pixel764', 'pixel765', 'pixel766', 'pixel767', 'pixel768', 'pixel769', 'pixel770', 'pixel771', 'pixel772', 'pixel773', 'pixel774', 'pixel775', 'pixel776', 'pixel777', 'pixel778', 'pixel779', 'pixel780', 'pixel781', 'pixel782', 'pixel783', 'pixel784']\n",
      "feature => ['class']\n",
      "category => None\n",
      "category => ['9', '0', '3', '2', '7', '5', '1', '6', '4', '8']\n",
      "Categories (10, object): ['0', '1', '2', '3', ..., '6', '7', '8', '9']\n"
     ]
    }
   ],
   "source": [
    "# 분류 확인\n",
    "print(f\"feature => {fashion_data['feature_names']}\")\n",
    "print(f\"feature => {fashion_data['target_names']}\")\n",
    "print(f\"category => {fashion_data['categories']}\")         # 판다스면 None 이지만   넘파이면 카테고리가 들어옴\n",
    "print(f\"category => {target.unique()}\")"
   ],
   "metadata": {
    "collapsed": false,
    "ExecuteTime": {
     "end_time": "2024-03-14T05:49:18.123787Z",
     "start_time": "2024-03-14T05:49:18.110234Z"
    }
   },
   "id": "f3fac68e8f333368",
   "execution_count": 83
  },
  {
   "cell_type": "markdown",
   "source": [
    "[2] 데이터 가공 및 전처리 \n",
    "- 결측치 / 중복값 / 이상치 => 이 데이터에서는 현재 없음\n",
    "- 다중 분류 => 2진 분류 변환 : target 변환\n",
    "- 이미지 크기 표준화 --> 여기서는 이미지 동일 크기 및 색상 채널 : 동일 크기(28*28)와 채널(흑백 1) (만약에 내가 들고온 사진 파일들은 다 다르니까)\n",
    "- 정규화 => 피처 정규화 / 타겟 정규화"
   ],
   "metadata": {
    "collapsed": false
   },
   "id": "5332e5c5c445fdb2"
  },
  {
   "cell_type": "code",
   "outputs": [
    {
     "data": {
      "text/plain": "array([False,  True])"
     },
     "execution_count": 84,
     "metadata": {},
     "output_type": "execute_result"
    }
   ],
   "source": [
    "### ===> [2-1] 다중 분류 => 2진 분류 변환 : target 변환\n",
    "target = target == '0'\n",
    "target.unique()"
   ],
   "metadata": {
    "collapsed": false,
    "ExecuteTime": {
     "end_time": "2024-03-14T05:49:18.139852Z",
     "start_time": "2024-03-14T05:49:18.129077Z"
    }
   },
   "id": "7df5f191e15cad5",
   "execution_count": 84
  },
  {
   "cell_type": "code",
   "outputs": [],
   "source": [
    "### ===> [2-2] 정규화 => 피처 : 784개 색상값 즉, 0~ 255 번위 값\n",
    "norm_feature = feature/255.\n",
    "\n",
    "# 정수 / 실수 => 실수로 형변환"
   ],
   "metadata": {
    "collapsed": false,
    "ExecuteTime": {
     "end_time": "2024-03-14T05:49:18.186347Z",
     "start_time": "2024-03-14T05:49:18.140850Z"
    }
   },
   "id": "f0b8083b75b2dc56",
   "execution_count": 85
  },
  {
   "cell_type": "code",
   "outputs": [
    {
     "data": {
      "text/plain": "   pixel1  pixel2  pixel3  pixel4  pixel5    pixel6  pixel7  pixel8    pixel9  \\\n0     0.0     0.0     0.0     0.0     0.0  0.000000     0.0     0.0  0.000000   \n1     0.0     0.0     0.0     0.0     0.0  0.003922     0.0     0.0  0.000000   \n2     0.0     0.0     0.0     0.0     0.0  0.000000     0.0     0.0  0.000000   \n3     0.0     0.0     0.0     0.0     0.0  0.000000     0.0     0.0  0.129412   \n4     0.0     0.0     0.0     0.0     0.0  0.000000     0.0     0.0  0.000000   \n\n    pixel10  ...  pixel775  pixel776  pixel777  pixel778  pixel779  pixel780  \\\n0  0.000000  ...  0.000000  0.000000  0.000000  0.000000       0.0       0.0   \n1  0.000000  ...  0.466667  0.447059  0.509804  0.298039       0.0       0.0   \n2  0.086275  ...  0.000000  0.000000  0.003922  0.000000       0.0       0.0   \n3  0.376471  ...  0.000000  0.000000  0.000000  0.000000       0.0       0.0   \n4  0.000000  ...  0.000000  0.000000  0.000000  0.000000       0.0       0.0   \n\n   pixel781  pixel782  pixel783  pixel784  \n0       0.0       0.0       0.0       0.0  \n1       0.0       0.0       0.0       0.0  \n2       0.0       0.0       0.0       0.0  \n3       0.0       0.0       0.0       0.0  \n4       0.0       0.0       0.0       0.0  \n\n[5 rows x 784 columns]",
      "text/html": "<div>\n<style scoped>\n    .dataframe tbody tr th:only-of-type {\n        vertical-align: middle;\n    }\n\n    .dataframe tbody tr th {\n        vertical-align: top;\n    }\n\n    .dataframe thead th {\n        text-align: right;\n    }\n</style>\n<table border=\"1\" class=\"dataframe\">\n  <thead>\n    <tr style=\"text-align: right;\">\n      <th></th>\n      <th>pixel1</th>\n      <th>pixel2</th>\n      <th>pixel3</th>\n      <th>pixel4</th>\n      <th>pixel5</th>\n      <th>pixel6</th>\n      <th>pixel7</th>\n      <th>pixel8</th>\n      <th>pixel9</th>\n      <th>pixel10</th>\n      <th>...</th>\n      <th>pixel775</th>\n      <th>pixel776</th>\n      <th>pixel777</th>\n      <th>pixel778</th>\n      <th>pixel779</th>\n      <th>pixel780</th>\n      <th>pixel781</th>\n      <th>pixel782</th>\n      <th>pixel783</th>\n      <th>pixel784</th>\n    </tr>\n  </thead>\n  <tbody>\n    <tr>\n      <th>0</th>\n      <td>0.0</td>\n      <td>0.0</td>\n      <td>0.0</td>\n      <td>0.0</td>\n      <td>0.0</td>\n      <td>0.000000</td>\n      <td>0.0</td>\n      <td>0.0</td>\n      <td>0.000000</td>\n      <td>0.000000</td>\n      <td>...</td>\n      <td>0.000000</td>\n      <td>0.000000</td>\n      <td>0.000000</td>\n      <td>0.000000</td>\n      <td>0.0</td>\n      <td>0.0</td>\n      <td>0.0</td>\n      <td>0.0</td>\n      <td>0.0</td>\n      <td>0.0</td>\n    </tr>\n    <tr>\n      <th>1</th>\n      <td>0.0</td>\n      <td>0.0</td>\n      <td>0.0</td>\n      <td>0.0</td>\n      <td>0.0</td>\n      <td>0.003922</td>\n      <td>0.0</td>\n      <td>0.0</td>\n      <td>0.000000</td>\n      <td>0.000000</td>\n      <td>...</td>\n      <td>0.466667</td>\n      <td>0.447059</td>\n      <td>0.509804</td>\n      <td>0.298039</td>\n      <td>0.0</td>\n      <td>0.0</td>\n      <td>0.0</td>\n      <td>0.0</td>\n      <td>0.0</td>\n      <td>0.0</td>\n    </tr>\n    <tr>\n      <th>2</th>\n      <td>0.0</td>\n      <td>0.0</td>\n      <td>0.0</td>\n      <td>0.0</td>\n      <td>0.0</td>\n      <td>0.000000</td>\n      <td>0.0</td>\n      <td>0.0</td>\n      <td>0.000000</td>\n      <td>0.086275</td>\n      <td>...</td>\n      <td>0.000000</td>\n      <td>0.000000</td>\n      <td>0.003922</td>\n      <td>0.000000</td>\n      <td>0.0</td>\n      <td>0.0</td>\n      <td>0.0</td>\n      <td>0.0</td>\n      <td>0.0</td>\n      <td>0.0</td>\n    </tr>\n    <tr>\n      <th>3</th>\n      <td>0.0</td>\n      <td>0.0</td>\n      <td>0.0</td>\n      <td>0.0</td>\n      <td>0.0</td>\n      <td>0.000000</td>\n      <td>0.0</td>\n      <td>0.0</td>\n      <td>0.129412</td>\n      <td>0.376471</td>\n      <td>...</td>\n      <td>0.000000</td>\n      <td>0.000000</td>\n      <td>0.000000</td>\n      <td>0.000000</td>\n      <td>0.0</td>\n      <td>0.0</td>\n      <td>0.0</td>\n      <td>0.0</td>\n      <td>0.0</td>\n      <td>0.0</td>\n    </tr>\n    <tr>\n      <th>4</th>\n      <td>0.0</td>\n      <td>0.0</td>\n      <td>0.0</td>\n      <td>0.0</td>\n      <td>0.0</td>\n      <td>0.000000</td>\n      <td>0.0</td>\n      <td>0.0</td>\n      <td>0.000000</td>\n      <td>0.000000</td>\n      <td>...</td>\n      <td>0.000000</td>\n      <td>0.000000</td>\n      <td>0.000000</td>\n      <td>0.000000</td>\n      <td>0.0</td>\n      <td>0.0</td>\n      <td>0.0</td>\n      <td>0.0</td>\n      <td>0.0</td>\n      <td>0.0</td>\n    </tr>\n  </tbody>\n</table>\n<p>5 rows × 784 columns</p>\n</div>"
     },
     "execution_count": 86,
     "metadata": {},
     "output_type": "execute_result"
    }
   ],
   "source": [
    "norm_feature.head()"
   ],
   "metadata": {
    "collapsed": false,
    "ExecuteTime": {
     "end_time": "2024-03-14T05:49:18.217550Z",
     "start_time": "2024-03-14T05:49:18.188532Z"
    }
   },
   "id": "2a09b7b1a144e597",
   "execution_count": 86
  },
  {
   "cell_type": "code",
   "outputs": [
    {
     "data": {
      "text/plain": "       False  True \n0       True  False\n1      False   True\n2      False   True\n3       True  False\n4      False   True\n...      ...    ...\n69995   True  False\n69996   True  False\n69997   True  False\n69998   True  False\n69999   True  False\n\n[70000 rows x 2 columns]",
      "text/html": "<div>\n<style scoped>\n    .dataframe tbody tr th:only-of-type {\n        vertical-align: middle;\n    }\n\n    .dataframe tbody tr th {\n        vertical-align: top;\n    }\n\n    .dataframe thead th {\n        text-align: right;\n    }\n</style>\n<table border=\"1\" class=\"dataframe\">\n  <thead>\n    <tr style=\"text-align: right;\">\n      <th></th>\n      <th>False</th>\n      <th>True</th>\n    </tr>\n  </thead>\n  <tbody>\n    <tr>\n      <th>0</th>\n      <td>True</td>\n      <td>False</td>\n    </tr>\n    <tr>\n      <th>1</th>\n      <td>False</td>\n      <td>True</td>\n    </tr>\n    <tr>\n      <th>2</th>\n      <td>False</td>\n      <td>True</td>\n    </tr>\n    <tr>\n      <th>3</th>\n      <td>True</td>\n      <td>False</td>\n    </tr>\n    <tr>\n      <th>4</th>\n      <td>False</td>\n      <td>True</td>\n    </tr>\n    <tr>\n      <th>...</th>\n      <td>...</td>\n      <td>...</td>\n    </tr>\n    <tr>\n      <th>69995</th>\n      <td>True</td>\n      <td>False</td>\n    </tr>\n    <tr>\n      <th>69996</th>\n      <td>True</td>\n      <td>False</td>\n    </tr>\n    <tr>\n      <th>69997</th>\n      <td>True</td>\n      <td>False</td>\n    </tr>\n    <tr>\n      <th>69998</th>\n      <td>True</td>\n      <td>False</td>\n    </tr>\n    <tr>\n      <th>69999</th>\n      <td>True</td>\n      <td>False</td>\n    </tr>\n  </tbody>\n</table>\n<p>70000 rows × 2 columns</p>\n</div>"
     },
     "execution_count": 87,
     "metadata": {},
     "output_type": "execute_result"
    }
   ],
   "source": [
    "### ===> [2-2] 정규화 => 타겟 : One-Hot 인코딩으로 변환\n",
    "pd.get_dummies(target)"
   ],
   "metadata": {
    "collapsed": false,
    "ExecuteTime": {
     "end_time": "2024-03-14T05:49:18.232842Z",
     "start_time": "2024-03-14T05:49:18.219694Z"
    }
   },
   "id": "187085cce71551eb",
   "execution_count": 87
  },
  {
   "cell_type": "code",
   "outputs": [
    {
     "name": "stdout",
     "output_type": "stream",
     "text": [
      "(70000, 1)\n"
     ]
    }
   ],
   "source": [
    "from sklearn.preprocessing import OneHotEncoder\n",
    "targetDF=target.to_frame()          # to_frame() : Convert Series to DataFrame.\n",
    "print(targetDF.shape)\n",
    "\n",
    "# 2차원으로 바꿔서 넘겨주겠다."
   ],
   "metadata": {
    "collapsed": false,
    "ExecuteTime": {
     "end_time": "2024-03-14T05:49:18.248575Z",
     "start_time": "2024-03-14T05:49:18.233838Z"
    }
   },
   "id": "466250074522b502",
   "execution_count": 88
  },
  {
   "cell_type": "code",
   "outputs": [
    {
     "data": {
      "text/plain": "[array([False,  True])]"
     },
     "execution_count": 89,
     "metadata": {},
     "output_type": "execute_result"
    }
   ],
   "source": [
    "# sparse_ouput = False   : ndarray 타입으로 반환\n",
    "ohEncoder = OneHotEncoder(sparse_output= False)       # sparse를 False를 지정하면 처음부터 풀어서 받겠다는 솔의  (메모리 문제 때문에 압축해서 줌)\n",
    "ohEncoder.fit(targetDF)\n",
    "ohEncoder.categories_\n",
    "\n",
    "# get_dummies vs onehotencoding vs labelencoding : https://hye-z.tistory.com/16"
   ],
   "metadata": {
    "collapsed": false,
    "ExecuteTime": {
     "end_time": "2024-03-14T05:49:18.263759Z",
     "start_time": "2024-03-14T05:49:18.249638Z"
    }
   },
   "id": "9841d6c571ac7342",
   "execution_count": 89
  },
  {
   "cell_type": "code",
   "outputs": [
    {
     "data": {
      "text/plain": "((70000, 2), 2)"
     },
     "execution_count": 90,
     "metadata": {},
     "output_type": "execute_result"
    }
   ],
   "source": [
    "norm_target = ohEncoder.transform(targetDF)\n",
    "norm_target.shape, norm_target.ndim"
   ],
   "metadata": {
    "collapsed": false,
    "ExecuteTime": {
     "end_time": "2024-03-14T05:49:18.279720Z",
     "start_time": "2024-03-14T05:49:18.264756Z"
    }
   },
   "id": "1274bf5f2f30009a",
   "execution_count": 90
  },
  {
   "cell_type": "code",
   "outputs": [
    {
     "data": {
      "text/plain": "array([[1., 0.],\n       [0., 1.],\n       [0., 1.],\n       [1., 0.],\n       [0., 1.]])"
     },
     "execution_count": 91,
     "metadata": {},
     "output_type": "execute_result"
    }
   ],
   "source": [
    "norm_target[:5]"
   ],
   "metadata": {
    "collapsed": false,
    "ExecuteTime": {
     "end_time": "2024-03-14T05:49:18.294948Z",
     "start_time": "2024-03-14T05:49:18.281787Z"
    }
   },
   "id": "592606588e54be77",
   "execution_count": 91
  },
  {
   "cell_type": "code",
   "outputs": [],
   "source": [],
   "metadata": {
    "collapsed": false,
    "ExecuteTime": {
     "end_time": "2024-03-14T05:49:18.310612Z",
     "start_time": "2024-03-14T05:49:18.295946Z"
    }
   },
   "id": "da0b303283e6ea6a",
   "execution_count": 91
  },
  {
   "cell_type": "markdown",
   "source": [
    "- 데이터 => 숫자 변환\n",
    "- 글자 => 정수 변환 => 원핫인코딩 => 밀집행렬 [입베딩]\n",
    "\n",
    "- 원핫인코딩 vs 라벨인코딩 vs ordinalencoder        => 노션에 적어놈"
   ],
   "metadata": {
    "collapsed": false
   },
   "id": "a809b8370026d53"
  },
  {
   "cell_type": "markdown",
   "source": [
    "[3] 학습 준비 <hr>\n",
    "- 텐서화\n",
    "- 데이터셋 준비 : 훈련용, 테스트용\n",
    "- 학습 방법 : 지도학습 - 이진분류 => Linear 클래스 + sigmoid 함수\n",
    "- 최적화 방법 : 경사하강법기반의 방법 => Adam, SDG, ...\n",
    "- 손실 함수 : 이진 분류 손실 계산 함수 => binary_cross_entropy"
   ],
   "metadata": {
    "collapsed": false
   },
   "id": "91b9096a18832fed"
  },
  {
   "cell_type": "code",
   "outputs": [],
   "source": [
    "### ===> 데이터셋 준비 : 60000개 훈련, 10000개 테스트\n",
    "limit = 60000\n",
    "\n",
    "train = norm_feature.iloc[0:limit]\n",
    "test = norm_feature.iloc[limit:]\n",
    "\n",
    "# train_y = target[:limit]\n",
    "# test_y = target[limit:]\n",
    "\n",
    "train_y = norm_target[:limit]\n",
    "test_y = norm_target[limit:]"
   ],
   "metadata": {
    "collapsed": false,
    "ExecuteTime": {
     "end_time": "2024-03-14T05:49:18.326854Z",
     "start_time": "2024-03-14T05:49:18.313708Z"
    }
   },
   "id": "ca04d044c22934ea",
   "execution_count": 92
  },
  {
   "cell_type": "code",
   "outputs": [
    {
     "name": "stdout",
     "output_type": "stream",
     "text": [
      "train : (60000, 784), 2D  (60000, 2), 2D\n",
      "test : (10000, 784), 2D  (10000, 2), 2D\n"
     ]
    }
   ],
   "source": [
    "print(f\"train : {train.shape}, {train.ndim}D  {train_y.shape}, {train_y.ndim}D\")\n",
    "print(f\"test : {test.shape}, {test.ndim}D  {test_y.shape}, {test_y.ndim}D\")"
   ],
   "metadata": {
    "collapsed": false,
    "ExecuteTime": {
     "end_time": "2024-03-14T05:49:18.342524Z",
     "start_time": "2024-03-14T05:49:18.327852Z"
    }
   },
   "id": "d41f8a92d2b4cb33",
   "execution_count": 93
  },
  {
   "cell_type": "code",
   "outputs": [],
   "source": [
    "train_y = pd.DataFrame(train_y)\n",
    "test_y = pd.DataFrame(test_y)"
   ],
   "metadata": {
    "collapsed": false,
    "ExecuteTime": {
     "end_time": "2024-03-14T05:49:18.358199Z",
     "start_time": "2024-03-14T05:49:18.343603Z"
    }
   },
   "id": "cd7e2cf0f03809cb",
   "execution_count": 94
  },
  {
   "cell_type": "code",
   "outputs": [],
   "source": [
    "### ===> 텐서로 변환\n",
    "X_train = torch.FloatTensor(train.values)\n",
    "X_test = torch.FloatTensor(test.values)\n",
    "\n",
    "y_train = torch.FloatTensor(train_y.values)\n",
    "y_test = torch.FloatTensor(test_y.values)"
   ],
   "metadata": {
    "collapsed": false,
    "ExecuteTime": {
     "end_time": "2024-03-14T06:15:54.155016Z",
     "start_time": "2024-03-14T06:15:54.091628Z"
    }
   },
   "id": "dbf9ff3a734df728",
   "execution_count": 108
  },
  {
   "cell_type": "code",
   "outputs": [
    {
     "name": "stdout",
     "output_type": "stream",
     "text": [
      "train : torch.Size([60000, 784]), 2D  (60000, 2), 2D\n",
      "test : torch.Size([10000, 784]), 2D  (10000, 2), 2D\n"
     ]
    }
   ],
   "source": [
    "print(f\"train : {X_train.shape}, {X_train.ndim}D  {train_y.shape}, {train_y.ndim}D\")\n",
    "print(f\"test : {X_test.shape}, {X_test.ndim}D  {test_y.shape}, {test_y.ndim}D\")"
   ],
   "metadata": {
    "collapsed": false,
    "ExecuteTime": {
     "end_time": "2024-03-14T06:15:54.632353Z",
     "start_time": "2024-03-14T06:15:54.615099Z"
    }
   },
   "id": "f4166136576934a7",
   "execution_count": 109
  },
  {
   "cell_type": "code",
   "outputs": [
    {
     "data": {
      "text/plain": "Linear(in_features=784, out_features=2, bias=True)"
     },
     "execution_count": 110,
     "metadata": {},
     "output_type": "execute_result"
    }
   ],
   "source": [
    "### 학습 인스턴스 생성\n",
    "in_, out_ = X_train.shape[1],2\n",
    "model = nn.Linear(in_, out_)\n",
    "model"
   ],
   "metadata": {
    "collapsed": false,
    "ExecuteTime": {
     "end_time": "2024-03-14T06:15:55.063476Z",
     "start_time": "2024-03-14T06:15:55.046208Z"
    }
   },
   "id": "acecbe6700a5016e",
   "execution_count": 110
  },
  {
   "cell_type": "code",
   "outputs": [],
   "source": [
    "### 최적화 인스턴스 생성 => 모델에서 사용하는 W, b 변수들 전달\n",
    "optimizer = optim.Adam(model.parameters())    # [w1, w2, ..., w784, 1]"
   ],
   "metadata": {
    "collapsed": false,
    "ExecuteTime": {
     "end_time": "2024-03-14T06:15:55.466869Z",
     "start_time": "2024-03-14T06:15:55.461396Z"
    }
   },
   "id": "907f1e99143f72ec",
   "execution_count": 111
  },
  {
   "cell_type": "code",
   "outputs": [],
   "source": [
    "### 학습 횟수 => 샘플 처음부터 끝까지 읽는 것 기준으로 횟수 지정\n",
    "EPOCHS = 150"
   ],
   "metadata": {
    "collapsed": false,
    "ExecuteTime": {
     "end_time": "2024-03-14T06:15:55.866926Z",
     "start_time": "2024-03-14T06:15:55.852958Z"
    }
   },
   "id": "26d34a079b041418",
   "execution_count": 112
  },
  {
   "cell_type": "markdown",
   "source": [
    "[4] 학습 <hr>\n",
    "- 반복횟수만큼 학습 진행"
   ],
   "metadata": {
    "collapsed": false
   },
   "id": "ecc9b5d82ed67958"
  },
  {
   "cell_type": "code",
   "outputs": [
    {
     "name": "stdout",
     "output_type": "stream",
     "text": [
      "[0] Loss => 0.1474352926015854\n",
      "[1] Loss => 0.14714276790618896\n",
      "[2] Loss => 0.14685456454753876\n",
      "[3] Loss => 0.1465705782175064\n",
      "[4] Loss => 0.14629071950912476\n",
      "[5] Loss => 0.14601489901542664\n",
      "[6] Loss => 0.14574307203292847\n",
      "[7] Loss => 0.1454751342535019\n",
      "[8] Loss => 0.14521098136901855\n",
      "[9] Loss => 0.14495061337947845\n",
      "[10] Loss => 0.14469388127326965\n",
      "[11] Loss => 0.14444075524806976\n",
      "[12] Loss => 0.14419114589691162\n",
      "[13] Loss => 0.14394500851631165\n",
      "[14] Loss => 0.14370226860046387\n",
      "[15] Loss => 0.14346280694007874\n",
      "[16] Loss => 0.14322662353515625\n",
      "[17] Loss => 0.14299365878105164\n",
      "[18] Loss => 0.14276382327079773\n",
      "[19] Loss => 0.14253707230091095\n",
      "[20] Loss => 0.14231333136558533\n",
      "[21] Loss => 0.14209255576133728\n",
      "[22] Loss => 0.14187470078468323\n",
      "[23] Loss => 0.1416597068309784\n",
      "[24] Loss => 0.141447514295578\n",
      "[25] Loss => 0.1412380486726761\n",
      "[26] Loss => 0.14103129506111145\n",
      "[27] Loss => 0.1408272087574005\n",
      "[28] Loss => 0.1406257301568985\n",
      "[29] Loss => 0.14042679965496063\n",
      "[30] Loss => 0.14023040235042572\n",
      "[31] Loss => 0.1400364637374878\n",
      "[32] Loss => 0.13984493911266327\n",
      "[33] Loss => 0.13965579867362976\n",
      "[34] Loss => 0.1394689977169037\n",
      "[35] Loss => 0.13928450644016266\n",
      "[36] Loss => 0.1391022652387619\n",
      "[37] Loss => 0.13892224431037903\n",
      "[38] Loss => 0.13874439895153046\n",
      "[39] Loss => 0.138568714261055\n",
      "[40] Loss => 0.13839511573314667\n",
      "[41] Loss => 0.13822360336780548\n",
      "[42] Loss => 0.13805411756038666\n",
      "[43] Loss => 0.1378866583108902\n",
      "[44] Loss => 0.13772112131118774\n",
      "[45] Loss => 0.13755756616592407\n",
      "[46] Loss => 0.13739588856697083\n",
      "[47] Loss => 0.137236088514328\n",
      "[48] Loss => 0.13707812130451202\n",
      "[49] Loss => 0.1369219720363617\n",
      "[50] Loss => 0.13676758110523224\n",
      "[51] Loss => 0.13661496341228485\n",
      "[52] Loss => 0.13646405935287476\n",
      "[53] Loss => 0.13631485402584076\n",
      "[54] Loss => 0.13616730272769928\n",
      "[55] Loss => 0.13602139055728912\n",
      "[56] Loss => 0.1358771175146103\n",
      "[57] Loss => 0.1357344090938568\n",
      "[58] Loss => 0.1355932652950287\n",
      "[59] Loss => 0.13545365631580353\n",
      "[60] Loss => 0.13531556725502014\n",
      "[61] Loss => 0.13517896831035614\n",
      "[62] Loss => 0.13504382967948914\n",
      "[63] Loss => 0.13491012156009674\n",
      "[64] Loss => 0.13477785885334015\n",
      "[65] Loss => 0.1346469670534134\n",
      "[66] Loss => 0.13451746106147766\n",
      "[67] Loss => 0.13438931107521057\n",
      "[68] Loss => 0.13426250219345093\n",
      "[69] Loss => 0.13413700461387634\n",
      "[70] Loss => 0.13401280343532562\n",
      "[71] Loss => 0.13388985395431519\n",
      "[72] Loss => 0.13376818597316742\n",
      "[73] Loss => 0.13364773988723755\n",
      "[74] Loss => 0.13352851569652557\n",
      "[75] Loss => 0.1334104835987091\n",
      "[76] Loss => 0.13329362869262695\n",
      "[77] Loss => 0.1331779658794403\n",
      "[78] Loss => 0.1330634206533432\n",
      "[79] Loss => 0.13295000791549683\n",
      "[80] Loss => 0.13283771276474\n",
      "[81] Loss => 0.1327265053987503\n",
      "[82] Loss => 0.13261638581752777\n",
      "[83] Loss => 0.1325073093175888\n",
      "[84] Loss => 0.1323993057012558\n",
      "[85] Loss => 0.13229233026504517\n",
      "[86] Loss => 0.1321863830089569\n",
      "[87] Loss => 0.13208141922950745\n",
      "[88] Loss => 0.13197745382785797\n",
      "[89] Loss => 0.1318744570016861\n",
      "[90] Loss => 0.13177242875099182\n",
      "[91] Loss => 0.13167135417461395\n",
      "[92] Loss => 0.1315712034702301\n",
      "[93] Loss => 0.13147196173667908\n",
      "[94] Loss => 0.13137365877628326\n",
      "[95] Loss => 0.1312762200832367\n",
      "[96] Loss => 0.13117969036102295\n",
      "[97] Loss => 0.13108401000499725\n",
      "[98] Loss => 0.1309891939163208\n",
      "[99] Loss => 0.1308952271938324\n",
      "[100] Loss => 0.13080209493637085\n",
      "[101] Loss => 0.13070976734161377\n",
      "[102] Loss => 0.13061827421188354\n",
      "[103] Loss => 0.1305275857448578\n",
      "[104] Loss => 0.1304376721382141\n",
      "[105] Loss => 0.13034853339195251\n",
      "[106] Loss => 0.130260169506073\n",
      "[107] Loss => 0.13017256557941437\n",
      "[108] Loss => 0.13008569180965424\n",
      "[109] Loss => 0.129999577999115\n",
      "[110] Loss => 0.12991417944431305\n",
      "[111] Loss => 0.1298294961452484\n",
      "[112] Loss => 0.12974552810192108\n",
      "[113] Loss => 0.12966226041316986\n",
      "[114] Loss => 0.12957969307899475\n",
      "[115] Loss => 0.12949778139591217\n",
      "[116] Loss => 0.1294165402650833\n",
      "[117] Loss => 0.12933596968650818\n",
      "[118] Loss => 0.12925606966018677\n",
      "[119] Loss => 0.1291767954826355\n",
      "[120] Loss => 0.12909816205501556\n",
      "[121] Loss => 0.12902015447616577\n",
      "[122] Loss => 0.12894277274608612\n",
      "[123] Loss => 0.12886600196361542\n",
      "[124] Loss => 0.12878982722759247\n",
      "[125] Loss => 0.12871426343917847\n",
      "[126] Loss => 0.12863928079605103\n",
      "[127] Loss => 0.12856487929821014\n",
      "[128] Loss => 0.12849104404449463\n",
      "[129] Loss => 0.12841780483722687\n",
      "[130] Loss => 0.12834510207176208\n",
      "[131] Loss => 0.12827293574810028\n",
      "[132] Loss => 0.12820133566856384\n",
      "[133] Loss => 0.12813027203083038\n",
      "[134] Loss => 0.1280597448348999\n",
      "[135] Loss => 0.1279897391796112\n",
      "[136] Loss => 0.1279202401638031\n",
      "[137] Loss => 0.12785127758979797\n",
      "[138] Loss => 0.12778279185295105\n",
      "[139] Loss => 0.1277148276567459\n",
      "[140] Loss => 0.12764734029769897\n",
      "[141] Loss => 0.12758035957813263\n",
      "[142] Loss => 0.1275138407945633\n",
      "[143] Loss => 0.12744781374931335\n",
      "[144] Loss => 0.12738224864006042\n",
      "[145] Loss => 0.1273171454668045\n",
      "[146] Loss => 0.1272525042295456\n",
      "[147] Loss => 0.1271883100271225\n",
      "[148] Loss => 0.1271245777606964\n",
      "[149] Loss => 0.12706127762794495\n"
     ]
    }
   ],
   "source": [
    "loss_list = []\n",
    "loss_accuracy = [[], []]\n",
    "for ep in range(EPOCHS):\n",
    "    # 학습\n",
    "    pre_y = model(X_train)\n",
    "    #print(f\"예측값 : {pre_y}\")\n",
    "    \n",
    "    # 분류값 변화\n",
    "    pre_y2 = F.sigmoid(pre_y)\n",
    "    #print(f\"분류값 : {pre_y2}\")\n",
    "        \n",
    "    # 오차 즉 손실 계산\n",
    "    loss = F.binary_cross_entropy(pre_y2, y_train)\n",
    "    \n",
    "    # 만약 다중분류라면 sigmoid 없이 cross_entropy 하면 된다.\n",
    "\n",
    "    loss_list.append(loss.item())\n",
    "    loss_accuracy[0].append(loss.item())\n",
    "    print(f'[{ep}] Loss => {loss}')                \n",
    "    \n",
    "    # W, b 업데이트\n",
    "    optimizer.zero_grad()\n",
    "    loss.backward()  # 손실함수 계산값으로 미분\n",
    "    \n",
    "    # 진행하여 새로운 W, b 계산\n",
    "    optimizer.step()    # 새로운 값으로 W, b 업데이트\n",
    "\n",
    "    # 정확도 계산 => 예측값을 0과 1로 변환 ==> 정답과 비교\n",
    "    train_accuracy = ((pre_y2.argmax(dim = 1) == y_train.argmax(dim = 1)).sum() )/ y_train.shape[0]\n",
    "    # argmax로 고쳐줬더니 바로 accuracy가 1을 넘지 않게 되었다.\n",
    "    \n",
    "    loss_accuracy[1].append(train_accuracy)"
   ],
   "metadata": {
    "collapsed": false,
    "ExecuteTime": {
     "end_time": "2024-03-14T06:16:12.807343Z",
     "start_time": "2024-03-14T06:16:09.058837Z"
    }
   },
   "id": "2a32f693e5f2ea95",
   "execution_count": 117
  },
  {
   "cell_type": "code",
   "outputs": [],
   "source": [
    "#pre_y2.argmax(dim = 1) == y_train.argmax(dim = 1)"
   ],
   "metadata": {
    "collapsed": false,
    "ExecuteTime": {
     "end_time": "2024-03-14T06:16:14.965460Z",
     "start_time": "2024-03-14T06:16:14.961318Z"
    }
   },
   "id": "3265cf85c156352",
   "execution_count": 118
  },
  {
   "cell_type": "code",
   "outputs": [
    {
     "data": {
      "text/plain": "<Figure size 640x480 with 2 Axes>",
      "image/png": "[encoded data removed]"
     },
     "metadata": {},
     "output_type": "display_data"
    }
   ],
   "source": [
    "# 손실과 정확도 시각화\n",
    "import matplotlib.pyplot as plt\n",
    "\n",
    "fig, ax1 = plt.subplots()\n",
    "ax1.plot(loss_accuracy[0], label = 'loss')\n",
    "ax1.legend()\n",
    "ax2 = ax1.twinx()\n",
    "ax2.plot(loss_accuracy[1], label = 'accuracy', color = 'red')\n",
    "ax2.legend()\n",
    "plt.xlabel('Epochs')\n",
    "plt.show()"
   ],
   "metadata": {
    "collapsed": false,
    "ExecuteTime": {
     "end_time": "2024-03-14T06:16:15.680984Z",
     "start_time": "2024-03-14T06:16:15.475924Z"
    }
   },
   "id": "2be0532bcef5813f",
   "execution_count": 119
  },
  {
   "cell_type": "markdown",
   "source": [],
   "metadata": {
    "collapsed": false
   },
   "id": "e4df32e6b11a4cfc"
  }
 ],
 "metadata": {
  "kernelspec": {
   "display_name": "Python 3",
   "language": "python",
   "name": "python3"
  },
  "language_info": {
   "codemirror_mode": {
    "name": "ipython",
    "version": 2
   },
   "file_extension": ".py",
   "mimetype": "text/x-python",
   "name": "python",
   "nbconvert_exporter": "python",
   "pygments_lexer": "ipython2",
   "version": "2.7.6"
  }
 },
 "nbformat": 4,
 "nbformat_minor": 5
}
