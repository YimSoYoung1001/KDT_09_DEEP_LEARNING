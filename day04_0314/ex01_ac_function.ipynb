{
 "cells": [
  {
   "cell_type": "markdown",
   "source": [
    "### softmax(), sigmoid() 함수 <hr>\n",
    "- sigmoid() : y = wx + b  결과 1개 전달 ===> 반환 : 0.0 ~ 1.0 사이 값으로 변환 ==> 이진분류\n",
    "- softmax() : y = wx + b  결과 여러개 전달 ===> 반환 : 여러개의 결과값의 합이 1.0이 되도록 변환 ==> 다중븐류"
   ],
   "metadata": {
    "collapsed": false
   },
   "id": "3702737b1656a8e5"
  },
  {
   "cell_type": "code",
   "outputs": [],
   "source": [
    "# 모듈로딩\n",
    "import torch                                     # 파이토치 기본 모듈로 텐서 및 기본 함수들\n",
    "import torch.nn.functional as F                  # 파이토치 인공 신경망 관련 함수들 "
   ],
   "metadata": {
    "collapsed": false,
    "ExecuteTime": {
     "end_time": "2024-03-16T06:03:26.819924Z",
     "start_time": "2024-03-16T06:03:26.803829Z"
    }
   },
   "id": "df48cb0b4ef916f1",
   "execution_count": 12
  },
  {
   "cell_type": "code",
   "outputs": [
    {
     "data": {
      "text/plain": "torch.Size([5])"
     },
     "execution_count": 13,
     "metadata": {},
     "output_type": "execute_result"
    }
   ],
   "source": [
    "# 임의의 데이터 생성\n",
    "data1 = torch.tensor([1,2,1,1,2])\n",
    "data1.shape"
   ],
   "metadata": {
    "collapsed": false,
    "ExecuteTime": {
     "end_time": "2024-03-16T06:03:26.835950Z",
     "start_time": "2024-03-16T06:03:26.822011Z"
    }
   },
   "id": "476a90efcac78dcd",
   "execution_count": 13
  },
  {
   "cell_type": "code",
   "outputs": [
    {
     "data": {
      "text/plain": "tensor([0.7311, 0.8808, 0.7311, 0.7311, 0.8808])"
     },
     "execution_count": 14,
     "metadata": {},
     "output_type": "execute_result"
    }
   ],
   "source": [
    "F.sigmoid(data1)\n",
    "\n",
    "# 원소단위로 들어가서 자동으로 값을 계산해줌"
   ],
   "metadata": {
    "collapsed": false,
    "ExecuteTime": {
     "end_time": "2024-03-16T06:03:26.866925Z",
     "start_time": "2024-03-16T06:03:26.859522Z"
    }
   },
   "id": "4c8881899f91f978",
   "execution_count": 14
  },
  {
   "cell_type": "code",
   "outputs": [
    {
     "data": {
      "text/plain": "(torch.Size([5, 1]),\n tensor([[1],\n         [2],\n         [1],\n         [1],\n         [2]]))"
     },
     "execution_count": 15,
     "metadata": {},
     "output_type": "execute_result"
    }
   ],
   "source": [
    "# data2 = data1.unsqueeze(dim=0)\n",
    "data2 = data1.unsqueeze(dim=1)\n",
    "data2.shape, data2"
   ],
   "metadata": {
    "collapsed": false,
    "ExecuteTime": {
     "end_time": "2024-03-16T06:03:26.882291Z",
     "start_time": "2024-03-16T06:03:26.868980Z"
    }
   },
   "id": "f372bc189017b3bb",
   "execution_count": 15
  },
  {
   "cell_type": "code",
   "outputs": [],
   "source": [],
   "metadata": {
    "collapsed": false,
    "ExecuteTime": {
     "end_time": "2024-03-16T06:03:26.898190Z",
     "start_time": "2024-03-16T06:03:26.884871Z"
    }
   },
   "id": "759216d1db269035",
   "execution_count": 15
  },
  {
   "cell_type": "code",
   "outputs": [],
   "source": [],
   "metadata": {
    "collapsed": false,
    "ExecuteTime": {
     "end_time": "2024-03-16T06:03:26.913722Z",
     "start_time": "2024-03-16T06:03:26.899239Z"
    }
   },
   "id": "23437429856dff7f",
   "execution_count": 15
  },
  {
   "cell_type": "markdown",
   "source": [
    "softmax 이해를 위한 작은 예시"
   ],
   "metadata": {
    "collapsed": false
   },
   "id": "6e548b936c824ba"
  },
  {
   "cell_type": "code",
   "outputs": [
    {
     "data": {
      "text/plain": "tensor([[ 0.6965,  1.0012,  2.2343],\n        [ 0.0248,  0.8066, -1.0543]])"
     },
     "execution_count": 16,
     "metadata": {},
     "output_type": "execute_result"
    }
   ],
   "source": [
    "input = torch.randn(2, 3)\n",
    "input"
   ],
   "metadata": {
    "collapsed": false,
    "ExecuteTime": {
     "end_time": "2024-03-16T06:03:26.928970Z",
     "start_time": "2024-03-16T06:03:26.915978Z"
    }
   },
   "id": "417f7c137562e5bc",
   "execution_count": 16
  },
  {
   "cell_type": "code",
   "outputs": [
    {
     "name": "stderr",
     "output_type": "stream",
     "text": [
      "C:\\Users\\kdp\\AppData\\Local\\Temp\\ipykernel_15736\\3317666777.py:1: UserWarning: Implicit dimension choice for softmax has been deprecated. Change the call to include dim=X as an argument.\n",
      "  output = F.softmax(input)\n"
     ]
    },
    {
     "data": {
      "text/plain": "tensor([[0.1426, 0.1934, 0.6639],\n        [0.2837, 0.6199, 0.0964]])"
     },
     "execution_count": 17,
     "metadata": {},
     "output_type": "execute_result"
    }
   ],
   "source": [
    "output = F.softmax(input)\n",
    "output\n",
    "\n",
    "# 1개의 행의 합이 1.0이 되도록 값을 바꿔준다.\n",
    "# 입력받은 값을 출력으로 0~1사이의 값으로 모두 정규화하며 출력 값들의 총합은 항상 1이 되는 특성을 가진 함수이다. 분류하고 싶은 클래수의 수 만큼 출력으로 구성한다.\n",
    "# 가장 큰 출력 값을 부여받은 클래스가 확률이 가장 높은 것으로 이용된다."
   ],
   "metadata": {
    "collapsed": false,
    "ExecuteTime": {
     "end_time": "2024-03-16T06:03:26.944722Z",
     "start_time": "2024-03-16T06:03:26.931133Z"
    }
   },
   "id": "6a1942133084bd7",
   "execution_count": 17
  },
  {
   "cell_type": "code",
   "outputs": [
    {
     "data": {
      "text/plain": "tensor([1., 1.])"
     },
     "execution_count": 18,
     "metadata": {},
     "output_type": "execute_result"
    }
   ],
   "source": [
    "output.sum(dim=1)\n",
    "# 각 행마다 합계가 1인 것을 확인할 수 있다."
   ],
   "metadata": {
    "collapsed": false,
    "ExecuteTime": {
     "end_time": "2024-03-16T06:03:26.960584Z",
     "start_time": "2024-03-16T06:03:26.945719Z"
    }
   },
   "id": "f455da6cd06e8dcf",
   "execution_count": 18
  },
  {
   "cell_type": "code",
   "outputs": [
    {
     "data": {
      "text/plain": "2"
     },
     "execution_count": 19,
     "metadata": {},
     "output_type": "execute_result"
    }
   ],
   "source": [
    "output.ndim"
   ],
   "metadata": {
    "collapsed": false,
    "ExecuteTime": {
     "end_time": "2024-03-16T06:03:26.976814Z",
     "start_time": "2024-03-16T06:03:26.962640Z"
    }
   },
   "id": "82d7a81afa8cf2ec",
   "execution_count": 19
  },
  {
   "cell_type": "code",
   "outputs": [
    {
     "data": {
      "text/plain": "tensor([0.4263, 0.8134, 0.7603])"
     },
     "execution_count": 20,
     "metadata": {},
     "output_type": "execute_result"
    }
   ],
   "source": [
    "output.sum(dim = 0)"
   ],
   "metadata": {
    "collapsed": false,
    "ExecuteTime": {
     "end_time": "2024-03-16T06:03:26.992150Z",
     "start_time": "2024-03-16T06:03:26.977837Z"
    }
   },
   "id": "38f6c8aee0e996dc",
   "execution_count": 20
  },
  {
   "cell_type": "code",
   "outputs": [
    {
     "data": {
      "text/plain": "tensor(0.6639)"
     },
     "execution_count": 21,
     "metadata": {},
     "output_type": "execute_result"
    }
   ],
   "source": [
    "output.max()"
   ],
   "metadata": {
    "collapsed": false,
    "ExecuteTime": {
     "end_time": "2024-03-16T06:03:27.022842Z",
     "start_time": "2024-03-16T06:03:27.010991Z"
    }
   },
   "id": "7995bc0fc05b8c74",
   "execution_count": 21
  },
  {
   "cell_type": "code",
   "outputs": [
    {
     "data": {
      "text/plain": "torch.return_types.max(\nvalues=tensor([0.2837, 0.6199, 0.6639]),\nindices=tensor([1, 1, 0]))"
     },
     "execution_count": 27,
     "metadata": {},
     "output_type": "execute_result"
    }
   ],
   "source": [
    "output.max(dim = 0)"
   ],
   "metadata": {
    "collapsed": false,
    "ExecuteTime": {
     "end_time": "2024-03-16T06:05:05.308527Z",
     "start_time": "2024-03-16T06:05:05.296242Z"
    }
   },
   "id": "29ca4e2d4e31bc6c",
   "execution_count": 27
  },
  {
   "cell_type": "code",
   "outputs": [
    {
     "data": {
      "text/plain": "torch.return_types.max(\nvalues=tensor([0.6639, 0.6199]),\nindices=tensor([2, 1]))"
     },
     "execution_count": 22,
     "metadata": {},
     "output_type": "execute_result"
    }
   ],
   "source": [
    "output.max(dim = 1)\n",
    "# 행마다 가장 큰 값이 뭐고 그 큰값에 대한 인덱스가 무언인지 알려준다."
   ],
   "metadata": {
    "collapsed": false,
    "ExecuteTime": {
     "end_time": "2024-03-16T06:03:27.053488Z",
     "start_time": "2024-03-16T06:03:27.030121Z"
    }
   },
   "id": "4ab102b191e1df17",
   "execution_count": 22
  },
  {
   "cell_type": "code",
   "outputs": [
    {
     "name": "stdout",
     "output_type": "stream",
     "text": [
      "tensor([2, 1])\n",
      "tensor(2)\n",
      "2\n"
     ]
    }
   ],
   "source": [
    "print(output.max(dim = 1)[1], output.max(dim = 1)[1][0], output.max(dim = 1)[1][0].item(), sep = '\\n')"
   ],
   "metadata": {
    "collapsed": false,
    "ExecuteTime": {
     "end_time": "2024-03-16T06:06:26.855969Z",
     "start_time": "2024-03-16T06:06:26.841018Z"
    }
   },
   "id": "611022c59e2e00b",
   "execution_count": 29
  },
  {
   "cell_type": "code",
   "outputs": [
    {
     "data": {
      "text/plain": "tensor([2, 1])"
     },
     "execution_count": 23,
     "metadata": {},
     "output_type": "execute_result"
    }
   ],
   "source": [
    "output.max(dim = 1)[1]"
   ],
   "metadata": {
    "collapsed": false,
    "ExecuteTime": {
     "end_time": "2024-03-16T06:03:27.068711Z",
     "start_time": "2024-03-16T06:03:27.055548Z"
    }
   },
   "id": "dfdfb8f93ab9bd37",
   "execution_count": 23
  },
  {
   "cell_type": "code",
   "outputs": [
    {
     "data": {
      "text/plain": "tensor(2)"
     },
     "execution_count": 24,
     "metadata": {},
     "output_type": "execute_result"
    }
   ],
   "source": [
    "output.max(dim = 1)[1][0]"
   ],
   "metadata": {
    "collapsed": false,
    "ExecuteTime": {
     "end_time": "2024-03-16T06:03:27.131769Z",
     "start_time": "2024-03-16T06:03:27.121198Z"
    }
   },
   "id": "b38cd50234ad1df6",
   "execution_count": 24
  },
  {
   "cell_type": "code",
   "outputs": [
    {
     "data": {
      "text/plain": "2"
     },
     "execution_count": 25,
     "metadata": {},
     "output_type": "execute_result"
    }
   ],
   "source": [
    "output.max(dim = 1)[1][0].item()"
   ],
   "metadata": {
    "collapsed": false,
    "ExecuteTime": {
     "end_time": "2024-03-16T06:03:27.147579Z",
     "start_time": "2024-03-16T06:03:27.139837Z"
    }
   },
   "id": "8ffe387c132d6aca",
   "execution_count": 25
  },
  {
   "cell_type": "code",
   "outputs": [
    {
     "data": {
      "text/plain": "tensor([2, 1])"
     },
     "execution_count": 26,
     "metadata": {},
     "output_type": "execute_result"
    }
   ],
   "source": [
    "output.argmax(dim=1)\n",
    "# 값은 없고 인덱스만 주는 것"
   ],
   "metadata": {
    "collapsed": false,
    "ExecuteTime": {
     "end_time": "2024-03-16T06:03:27.224200Z",
     "start_time": "2024-03-16T06:03:27.206734Z"
    }
   },
   "id": "c7a821da22141b10",
   "execution_count": 26
  },
  {
   "cell_type": "code",
   "outputs": [],
   "source": [],
   "metadata": {
    "collapsed": false,
    "ExecuteTime": {
     "end_time": "2024-03-16T06:03:27.239695Z",
     "start_time": "2024-03-16T06:03:27.231757Z"
    }
   },
   "id": "32a0484ed394e0cc",
   "execution_count": 26
  }
 ],
 "metadata": {
  "kernelspec": {
   "display_name": "Python 3",
   "language": "python",
   "name": "python3"
  },
  "language_info": {
   "codemirror_mode": {
    "name": "ipython",
    "version": 2
   },
   "file_extension": ".py",
   "mimetype": "text/x-python",
   "name": "python",
   "nbconvert_exporter": "python",
   "pygments_lexer": "ipython2",
   "version": "2.7.6"
  }
 },
 "nbformat": 4,
 "nbformat_minor": 5
}
