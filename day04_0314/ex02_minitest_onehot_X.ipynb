{
 "cells": [
  {
   "cell_type": "markdown",
   "source": [
    "[1] 모듈 로딩 및 데이터 준비\n",
    "- scikit - learn에서 데이터 다운 및 확인"
   ],
   "metadata": {
    "collapsed": false
   },
   "id": "26e1946bd0bd0ee"
  },
  {
   "cell_type": "code",
   "outputs": [],
   "source": [
    "# 모듈 로딩\n",
    "from sklearn.datasets import fetch_openml\n",
    "import pandas as pd\n",
    "import numpy as np\n",
    "import torch\n",
    "import torch.nn as nn                         # LinearRegression 기능의 클래스 Linear\n",
    "import torch.nn.functional as F               # 손실함수\n",
    "import torch.optim as optim                   # 경사하강법 기반의 최적화 관련 모듈"
   ],
   "metadata": {
    "collapsed": false,
    "ExecuteTime": {
     "end_time": "2024-03-14T05:14:22.988410Z",
     "start_time": "2024-03-14T05:14:22.975837Z"
    }
   },
   "id": "61b8eb3393a29200",
   "execution_count": 248
  },
  {
   "cell_type": "code",
   "outputs": [],
   "source": [
    "### ===> 데이터 준비\n",
    "fashion_db = 'fashion-mnist'\n",
    "\n",
    "# fashion_data = fetch_openml(name = fashion_db, parser = 'auto', as_frame = False)   \n",
    "fashion_data = fetch_openml(name = fashion_db, parser = 'auto')   \n",
    "#as_frame이 True이면 dataframe으로 들고 들어옴, false이면 numpy로 들어옴"
   ],
   "metadata": {
    "collapsed": false,
    "ExecuteTime": {
     "end_time": "2024-03-14T05:14:26.926097Z",
     "start_time": "2024-03-14T05:14:23.021224Z"
    }
   },
   "id": "ef74e3c7c0bfaae9",
   "execution_count": 249
  },
  {
   "cell_type": "code",
   "outputs": [],
   "source": [
    "### ===> 데이터 확인\n",
    "feature = fashion_data['data']\n",
    "target = fashion_data['target']"
   ],
   "metadata": {
    "collapsed": false,
    "ExecuteTime": {
     "end_time": "2024-03-14T05:14:26.972868Z",
     "start_time": "2024-03-14T05:14:26.929250Z"
    }
   },
   "id": "16df9c350cf0023e",
   "execution_count": 250
  },
  {
   "cell_type": "code",
   "outputs": [
    {
     "name": "stdout",
     "output_type": "stream",
     "text": [
      "feature => (70000, 784), 2D\n",
      "target => (70000,), 1D\n"
     ]
    }
   ],
   "source": [
    "# 피처와 타겟 개수 확인\n",
    "print(f\"feature => {feature.shape}, {feature.ndim}D\")\n",
    "print(f\"target => {target.shape}, {target.ndim}D\")"
   ],
   "metadata": {
    "collapsed": false,
    "ExecuteTime": {
     "end_time": "2024-03-14T05:14:26.988600Z",
     "start_time": "2024-03-14T05:14:26.975017Z"
    }
   },
   "id": "17738a913fae805a",
   "execution_count": 251
  },
  {
   "cell_type": "code",
   "outputs": [
    {
     "name": "stdout",
     "output_type": "stream",
     "text": [
      "feature => ['pixel1', 'pixel2', 'pixel3', 'pixel4', 'pixel5', 'pixel6', 'pixel7', 'pixel8', 'pixel9', 'pixel10', 'pixel11', 'pixel12', 'pixel13', 'pixel14', 'pixel15', 'pixel16', 'pixel17', 'pixel18', 'pixel19', 'pixel20', 'pixel21', 'pixel22', 'pixel23', 'pixel24', 'pixel25', 'pixel26', 'pixel27', 'pixel28', 'pixel29', 'pixel30', 'pixel31', 'pixel32', 'pixel33', 'pixel34', 'pixel35', 'pixel36', 'pixel37', 'pixel38', 'pixel39', 'pixel40', 'pixel41', 'pixel42', 'pixel43', 'pixel44', 'pixel45', 'pixel46', 'pixel47', 'pixel48', 'pixel49', 'pixel50', 'pixel51', 'pixel52', 'pixel53', 'pixel54', 'pixel55', 'pixel56', 'pixel57', 'pixel58', 'pixel59', 'pixel60', 'pixel61', 'pixel62', 'pixel63', 'pixel64', 'pixel65', 'pixel66', 'pixel67', 'pixel68', 'pixel69', 'pixel70', 'pixel71', 'pixel72', 'pixel73', 'pixel74', 'pixel75', 'pixel76', 'pixel77', 'pixel78', 'pixel79', 'pixel80', 'pixel81', 'pixel82', 'pixel83', 'pixel84', 'pixel85', 'pixel86', 'pixel87', 'pixel88', 'pixel89', 'pixel90', 'pixel91', 'pixel92', 'pixel93', 'pixel94', 'pixel95', 'pixel96', 'pixel97', 'pixel98', 'pixel99', 'pixel100', 'pixel101', 'pixel102', 'pixel103', 'pixel104', 'pixel105', 'pixel106', 'pixel107', 'pixel108', 'pixel109', 'pixel110', 'pixel111', 'pixel112', 'pixel113', 'pixel114', 'pixel115', 'pixel116', 'pixel117', 'pixel118', 'pixel119', 'pixel120', 'pixel121', 'pixel122', 'pixel123', 'pixel124', 'pixel125', 'pixel126', 'pixel127', 'pixel128', 'pixel129', 'pixel130', 'pixel131', 'pixel132', 'pixel133', 'pixel134', 'pixel135', 'pixel136', 'pixel137', 'pixel138', 'pixel139', 'pixel140', 'pixel141', 'pixel142', 'pixel143', 'pixel144', 'pixel145', 'pixel146', 'pixel147', 'pixel148', 'pixel149', 'pixel150', 'pixel151', 'pixel152', 'pixel153', 'pixel154', 'pixel155', 'pixel156', 'pixel157', 'pixel158', 'pixel159', 'pixel160', 'pixel161', 'pixel162', 'pixel163', 'pixel164', 'pixel165', 'pixel166', 'pixel167', 'pixel168', 'pixel169', 'pixel170', 'pixel171', 'pixel172', 'pixel173', 'pixel174', 'pixel175', 'pixel176', 'pixel177', 'pixel178', 'pixel179', 'pixel180', 'pixel181', 'pixel182', 'pixel183', 'pixel184', 'pixel185', 'pixel186', 'pixel187', 'pixel188', 'pixel189', 'pixel190', 'pixel191', 'pixel192', 'pixel193', 'pixel194', 'pixel195', 'pixel196', 'pixel197', 'pixel198', 'pixel199', 'pixel200', 'pixel201', 'pixel202', 'pixel203', 'pixel204', 'pixel205', 'pixel206', 'pixel207', 'pixel208', 'pixel209', 'pixel210', 'pixel211', 'pixel212', 'pixel213', 'pixel214', 'pixel215', 'pixel216', 'pixel217', 'pixel218', 'pixel219', 'pixel220', 'pixel221', 'pixel222', 'pixel223', 'pixel224', 'pixel225', 'pixel226', 'pixel227', 'pixel228', 'pixel229', 'pixel230', 'pixel231', 'pixel232', 'pixel233', 'pixel234', 'pixel235', 'pixel236', 'pixel237', 'pixel238', 'pixel239', 'pixel240', 'pixel241', 'pixel242', 'pixel243', 'pixel244', 'pixel245', 'pixel246', 'pixel247', 'pixel248', 'pixel249', 'pixel250', 'pixel251', 'pixel252', 'pixel253', 'pixel254', 'pixel255', 'pixel256', 'pixel257', 'pixel258', 'pixel259', 'pixel260', 'pixel261', 'pixel262', 'pixel263', 'pixel264', 'pixel265', 'pixel266', 'pixel267', 'pixel268', 'pixel269', 'pixel270', 'pixel271', 'pixel272', 'pixel273', 'pixel274', 'pixel275', 'pixel276', 'pixel277', 'pixel278', 'pixel279', 'pixel280', 'pixel281', 'pixel282', 'pixel283', 'pixel284', 'pixel285', 'pixel286', 'pixel287', 'pixel288', 'pixel289', 'pixel290', 'pixel291', 'pixel292', 'pixel293', 'pixel294', 'pixel295', 'pixel296', 'pixel297', 'pixel298', 'pixel299', 'pixel300', 'pixel301', 'pixel302', 'pixel303', 'pixel304', 'pixel305', 'pixel306', 'pixel307', 'pixel308', 'pixel309', 'pixel310', 'pixel311', 'pixel312', 'pixel313', 'pixel314', 'pixel315', 'pixel316', 'pixel317', 'pixel318', 'pixel319', 'pixel320', 'pixel321', 'pixel322', 'pixel323', 'pixel324', 'pixel325', 'pixel326', 'pixel327', 'pixel328', 'pixel329', 'pixel330', 'pixel331', 'pixel332', 'pixel333', 'pixel334', 'pixel335', 'pixel336', 'pixel337', 'pixel338', 'pixel339', 'pixel340', 'pixel341', 'pixel342', 'pixel343', 'pixel344', 'pixel345', 'pixel346', 'pixel347', 'pixel348', 'pixel349', 'pixel350', 'pixel351', 'pixel352', 'pixel353', 'pixel354', 'pixel355', 'pixel356', 'pixel357', 'pixel358', 'pixel359', 'pixel360', 'pixel361', 'pixel362', 'pixel363', 'pixel364', 'pixel365', 'pixel366', 'pixel367', 'pixel368', 'pixel369', 'pixel370', 'pixel371', 'pixel372', 'pixel373', 'pixel374', 'pixel375', 'pixel376', 'pixel377', 'pixel378', 'pixel379', 'pixel380', 'pixel381', 'pixel382', 'pixel383', 'pixel384', 'pixel385', 'pixel386', 'pixel387', 'pixel388', 'pixel389', 'pixel390', 'pixel391', 'pixel392', 'pixel393', 'pixel394', 'pixel395', 'pixel396', 'pixel397', 'pixel398', 'pixel399', 'pixel400', 'pixel401', 'pixel402', 'pixel403', 'pixel404', 'pixel405', 'pixel406', 'pixel407', 'pixel408', 'pixel409', 'pixel410', 'pixel411', 'pixel412', 'pixel413', 'pixel414', 'pixel415', 'pixel416', 'pixel417', 'pixel418', 'pixel419', 'pixel420', 'pixel421', 'pixel422', 'pixel423', 'pixel424', 'pixel425', 'pixel426', 'pixel427', 'pixel428', 'pixel429', 'pixel430', 'pixel431', 'pixel432', 'pixel433', 'pixel434', 'pixel435', 'pixel436', 'pixel437', 'pixel438', 'pixel439', 'pixel440', 'pixel441', 'pixel442', 'pixel443', 'pixel444', 'pixel445', 'pixel446', 'pixel447', 'pixel448', 'pixel449', 'pixel450', 'pixel451', 'pixel452', 'pixel453', 'pixel454', 'pixel455', 'pixel456', 'pixel457', 'pixel458', 'pixel459', 'pixel460', 'pixel461', 'pixel462', 'pixel463', 'pixel464', 'pixel465', 'pixel466', 'pixel467', 'pixel468', 'pixel469', 'pixel470', 'pixel471', 'pixel472', 'pixel473', 'pixel474', 'pixel475', 'pixel476', 'pixel477', 'pixel478', 'pixel479', 'pixel480', 'pixel481', 'pixel482', 'pixel483', 'pixel484', 'pixel485', 'pixel486', 'pixel487', 'pixel488', 'pixel489', 'pixel490', 'pixel491', 'pixel492', 'pixel493', 'pixel494', 'pixel495', 'pixel496', 'pixel497', 'pixel498', 'pixel499', 'pixel500', 'pixel501', 'pixel502', 'pixel503', 'pixel504', 'pixel505', 'pixel506', 'pixel507', 'pixel508', 'pixel509', 'pixel510', 'pixel511', 'pixel512', 'pixel513', 'pixel514', 'pixel515', 'pixel516', 'pixel517', 'pixel518', 'pixel519', 'pixel520', 'pixel521', 'pixel522', 'pixel523', 'pixel524', 'pixel525', 'pixel526', 'pixel527', 'pixel528', 'pixel529', 'pixel530', 'pixel531', 'pixel532', 'pixel533', 'pixel534', 'pixel535', 'pixel536', 'pixel537', 'pixel538', 'pixel539', 'pixel540', 'pixel541', 'pixel542', 'pixel543', 'pixel544', 'pixel545', 'pixel546', 'pixel547', 'pixel548', 'pixel549', 'pixel550', 'pixel551', 'pixel552', 'pixel553', 'pixel554', 'pixel555', 'pixel556', 'pixel557', 'pixel558', 'pixel559', 'pixel560', 'pixel561', 'pixel562', 'pixel563', 'pixel564', 'pixel565', 'pixel566', 'pixel567', 'pixel568', 'pixel569', 'pixel570', 'pixel571', 'pixel572', 'pixel573', 'pixel574', 'pixel575', 'pixel576', 'pixel577', 'pixel578', 'pixel579', 'pixel580', 'pixel581', 'pixel582', 'pixel583', 'pixel584', 'pixel585', 'pixel586', 'pixel587', 'pixel588', 'pixel589', 'pixel590', 'pixel591', 'pixel592', 'pixel593', 'pixel594', 'pixel595', 'pixel596', 'pixel597', 'pixel598', 'pixel599', 'pixel600', 'pixel601', 'pixel602', 'pixel603', 'pixel604', 'pixel605', 'pixel606', 'pixel607', 'pixel608', 'pixel609', 'pixel610', 'pixel611', 'pixel612', 'pixel613', 'pixel614', 'pixel615', 'pixel616', 'pixel617', 'pixel618', 'pixel619', 'pixel620', 'pixel621', 'pixel622', 'pixel623', 'pixel624', 'pixel625', 'pixel626', 'pixel627', 'pixel628', 'pixel629', 'pixel630', 'pixel631', 'pixel632', 'pixel633', 'pixel634', 'pixel635', 'pixel636', 'pixel637', 'pixel638', 'pixel639', 'pixel640', 'pixel641', 'pixel642', 'pixel643', 'pixel644', 'pixel645', 'pixel646', 'pixel647', 'pixel648', 'pixel649', 'pixel650', 'pixel651', 'pixel652', 'pixel653', 'pixel654', 'pixel655', 'pixel656', 'pixel657', 'pixel658', 'pixel659', 'pixel660', 'pixel661', 'pixel662', 'pixel663', 'pixel664', 'pixel665', 'pixel666', 'pixel667', 'pixel668', 'pixel669', 'pixel670', 'pixel671', 'pixel672', 'pixel673', 'pixel674', 'pixel675', 'pixel676', 'pixel677', 'pixel678', 'pixel679', 'pixel680', 'pixel681', 'pixel682', 'pixel683', 'pixel684', 'pixel685', 'pixel686', 'pixel687', 'pixel688', 'pixel689', 'pixel690', 'pixel691', 'pixel692', 'pixel693', 'pixel694', 'pixel695', 'pixel696', 'pixel697', 'pixel698', 'pixel699', 'pixel700', 'pixel701', 'pixel702', 'pixel703', 'pixel704', 'pixel705', 'pixel706', 'pixel707', 'pixel708', 'pixel709', 'pixel710', 'pixel711', 'pixel712', 'pixel713', 'pixel714', 'pixel715', 'pixel716', 'pixel717', 'pixel718', 'pixel719', 'pixel720', 'pixel721', 'pixel722', 'pixel723', 'pixel724', 'pixel725', 'pixel726', 'pixel727', 'pixel728', 'pixel729', 'pixel730', 'pixel731', 'pixel732', 'pixel733', 'pixel734', 'pixel735', 'pixel736', 'pixel737', 'pixel738', 'pixel739', 'pixel740', 'pixel741', 'pixel742', 'pixel743', 'pixel744', 'pixel745', 'pixel746', 'pixel747', 'pixel748', 'pixel749', 'pixel750', 'pixel751', 'pixel752', 'pixel753', 'pixel754', 'pixel755', 'pixel756', 'pixel757', 'pixel758', 'pixel759', 'pixel760', 'pixel761', 'pixel762', 'pixel763', 'pixel764', 'pixel765', 'pixel766', 'pixel767', 'pixel768', 'pixel769', 'pixel770', 'pixel771', 'pixel772', 'pixel773', 'pixel774', 'pixel775', 'pixel776', 'pixel777', 'pixel778', 'pixel779', 'pixel780', 'pixel781', 'pixel782', 'pixel783', 'pixel784']\n",
      "feature => ['class']\n",
      "category => None\n",
      "category => ['9', '0', '3', '2', '7', '5', '1', '6', '4', '8']\n",
      "Categories (10, object): ['0', '1', '2', '3', ..., '6', '7', '8', '9']\n"
     ]
    }
   ],
   "source": [
    "# 분류 확인\n",
    "print(f\"feature => {fashion_data['feature_names']}\")\n",
    "print(f\"feature => {fashion_data['target_names']}\")\n",
    "print(f\"category => {fashion_data['categories']}\")         # 판다스면 None 이지만   넘파이면 카테고리가 들어옴\n",
    "print(f\"category => {target.unique()}\")"
   ],
   "metadata": {
    "collapsed": false,
    "ExecuteTime": {
     "end_time": "2024-03-14T05:14:27.004317Z",
     "start_time": "2024-03-14T05:14:26.989617Z"
    }
   },
   "id": "f3fac68e8f333368",
   "execution_count": 252
  },
  {
   "cell_type": "markdown",
   "source": [
    "[2] 데이터 가공 및 전처리 \n",
    "- 결측치 / 중복값 / 이상치 => 이 데이터에서는 현재 없음\n",
    "- 다중 분류 => 2진 분류 변환 : target 변환\n",
    "- 이미지 크기 표준화 --> 여기서는 이미지 동일 크기 및 색상 채널 : 동일 크기(28*28)와 채널(흑백 1) (만약에 내가 들고온 사진 파일들은 다 다르니까)\n",
    "- 정규화 => 피처 정규화 / 타겟 정규화"
   ],
   "metadata": {
    "collapsed": false
   },
   "id": "5332e5c5c445fdb2"
  },
  {
   "cell_type": "code",
   "outputs": [
    {
     "data": {
      "text/plain": "array([False,  True])"
     },
     "execution_count": 253,
     "metadata": {},
     "output_type": "execute_result"
    }
   ],
   "source": [
    "### ===> [2-1] 다중 분류 => 2진 분류 변환 : target 변환\n",
    "target = target == '0'\n",
    "target.unique()"
   ],
   "metadata": {
    "collapsed": false,
    "ExecuteTime": {
     "end_time": "2024-03-14T05:14:27.020408Z",
     "start_time": "2024-03-14T05:14:27.007479Z"
    }
   },
   "id": "7df5f191e15cad5",
   "execution_count": 253
  },
  {
   "cell_type": "code",
   "outputs": [],
   "source": [
    "### ===> [2-2] 정규화 => 피처 : 784개 색상값 즉, 0~ 255 번위 값\n",
    "norm_feature = feature/255.\n",
    "# 정수 / 실수 => 실수로 형변환"
   ],
   "metadata": {
    "collapsed": false,
    "ExecuteTime": {
     "end_time": "2024-03-14T05:14:27.067523Z",
     "start_time": "2024-03-14T05:14:27.022403Z"
    }
   },
   "id": "f0b8083b75b2dc56",
   "execution_count": 254
  },
  {
   "cell_type": "code",
   "outputs": [
    {
     "data": {
      "text/plain": "   pixel1  pixel2  pixel3  pixel4  pixel5    pixel6  pixel7  pixel8    pixel9  \\\n0     0.0     0.0     0.0     0.0     0.0  0.000000     0.0     0.0  0.000000   \n1     0.0     0.0     0.0     0.0     0.0  0.003922     0.0     0.0  0.000000   \n2     0.0     0.0     0.0     0.0     0.0  0.000000     0.0     0.0  0.000000   \n3     0.0     0.0     0.0     0.0     0.0  0.000000     0.0     0.0  0.129412   \n4     0.0     0.0     0.0     0.0     0.0  0.000000     0.0     0.0  0.000000   \n\n    pixel10  ...  pixel775  pixel776  pixel777  pixel778  pixel779  pixel780  \\\n0  0.000000  ...  0.000000  0.000000  0.000000  0.000000       0.0       0.0   \n1  0.000000  ...  0.466667  0.447059  0.509804  0.298039       0.0       0.0   \n2  0.086275  ...  0.000000  0.000000  0.003922  0.000000       0.0       0.0   \n3  0.376471  ...  0.000000  0.000000  0.000000  0.000000       0.0       0.0   \n4  0.000000  ...  0.000000  0.000000  0.000000  0.000000       0.0       0.0   \n\n   pixel781  pixel782  pixel783  pixel784  \n0       0.0       0.0       0.0       0.0  \n1       0.0       0.0       0.0       0.0  \n2       0.0       0.0       0.0       0.0  \n3       0.0       0.0       0.0       0.0  \n4       0.0       0.0       0.0       0.0  \n\n[5 rows x 784 columns]",
      "text/html": "<div>\n<style scoped>\n    .dataframe tbody tr th:only-of-type {\n        vertical-align: middle;\n    }\n\n    .dataframe tbody tr th {\n        vertical-align: top;\n    }\n\n    .dataframe thead th {\n        text-align: right;\n    }\n</style>\n<table border=\"1\" class=\"dataframe\">\n  <thead>\n    <tr style=\"text-align: right;\">\n      <th></th>\n      <th>pixel1</th>\n      <th>pixel2</th>\n      <th>pixel3</th>\n      <th>pixel4</th>\n      <th>pixel5</th>\n      <th>pixel6</th>\n      <th>pixel7</th>\n      <th>pixel8</th>\n      <th>pixel9</th>\n      <th>pixel10</th>\n      <th>...</th>\n      <th>pixel775</th>\n      <th>pixel776</th>\n      <th>pixel777</th>\n      <th>pixel778</th>\n      <th>pixel779</th>\n      <th>pixel780</th>\n      <th>pixel781</th>\n      <th>pixel782</th>\n      <th>pixel783</th>\n      <th>pixel784</th>\n    </tr>\n  </thead>\n  <tbody>\n    <tr>\n      <th>0</th>\n      <td>0.0</td>\n      <td>0.0</td>\n      <td>0.0</td>\n      <td>0.0</td>\n      <td>0.0</td>\n      <td>0.000000</td>\n      <td>0.0</td>\n      <td>0.0</td>\n      <td>0.000000</td>\n      <td>0.000000</td>\n      <td>...</td>\n      <td>0.000000</td>\n      <td>0.000000</td>\n      <td>0.000000</td>\n      <td>0.000000</td>\n      <td>0.0</td>\n      <td>0.0</td>\n      <td>0.0</td>\n      <td>0.0</td>\n      <td>0.0</td>\n      <td>0.0</td>\n    </tr>\n    <tr>\n      <th>1</th>\n      <td>0.0</td>\n      <td>0.0</td>\n      <td>0.0</td>\n      <td>0.0</td>\n      <td>0.0</td>\n      <td>0.003922</td>\n      <td>0.0</td>\n      <td>0.0</td>\n      <td>0.000000</td>\n      <td>0.000000</td>\n      <td>...</td>\n      <td>0.466667</td>\n      <td>0.447059</td>\n      <td>0.509804</td>\n      <td>0.298039</td>\n      <td>0.0</td>\n      <td>0.0</td>\n      <td>0.0</td>\n      <td>0.0</td>\n      <td>0.0</td>\n      <td>0.0</td>\n    </tr>\n    <tr>\n      <th>2</th>\n      <td>0.0</td>\n      <td>0.0</td>\n      <td>0.0</td>\n      <td>0.0</td>\n      <td>0.0</td>\n      <td>0.000000</td>\n      <td>0.0</td>\n      <td>0.0</td>\n      <td>0.000000</td>\n      <td>0.086275</td>\n      <td>...</td>\n      <td>0.000000</td>\n      <td>0.000000</td>\n      <td>0.003922</td>\n      <td>0.000000</td>\n      <td>0.0</td>\n      <td>0.0</td>\n      <td>0.0</td>\n      <td>0.0</td>\n      <td>0.0</td>\n      <td>0.0</td>\n    </tr>\n    <tr>\n      <th>3</th>\n      <td>0.0</td>\n      <td>0.0</td>\n      <td>0.0</td>\n      <td>0.0</td>\n      <td>0.0</td>\n      <td>0.000000</td>\n      <td>0.0</td>\n      <td>0.0</td>\n      <td>0.129412</td>\n      <td>0.376471</td>\n      <td>...</td>\n      <td>0.000000</td>\n      <td>0.000000</td>\n      <td>0.000000</td>\n      <td>0.000000</td>\n      <td>0.0</td>\n      <td>0.0</td>\n      <td>0.0</td>\n      <td>0.0</td>\n      <td>0.0</td>\n      <td>0.0</td>\n    </tr>\n    <tr>\n      <th>4</th>\n      <td>0.0</td>\n      <td>0.0</td>\n      <td>0.0</td>\n      <td>0.0</td>\n      <td>0.0</td>\n      <td>0.000000</td>\n      <td>0.0</td>\n      <td>0.0</td>\n      <td>0.000000</td>\n      <td>0.000000</td>\n      <td>...</td>\n      <td>0.000000</td>\n      <td>0.000000</td>\n      <td>0.000000</td>\n      <td>0.000000</td>\n      <td>0.0</td>\n      <td>0.0</td>\n      <td>0.0</td>\n      <td>0.0</td>\n      <td>0.0</td>\n      <td>0.0</td>\n    </tr>\n  </tbody>\n</table>\n<p>5 rows × 784 columns</p>\n</div>"
     },
     "execution_count": 255,
     "metadata": {},
     "output_type": "execute_result"
    }
   ],
   "source": [
    "norm_feature.head()"
   ],
   "metadata": {
    "collapsed": false,
    "ExecuteTime": {
     "end_time": "2024-03-14T05:14:27.098447Z",
     "start_time": "2024-03-14T05:14:27.069624Z"
    }
   },
   "id": "2a09b7b1a144e597",
   "execution_count": 255
  },
  {
   "cell_type": "code",
   "outputs": [
    {
     "data": {
      "text/plain": "       False  True \n0       True  False\n1      False   True\n2      False   True\n3       True  False\n4      False   True\n...      ...    ...\n69995   True  False\n69996   True  False\n69997   True  False\n69998   True  False\n69999   True  False\n\n[70000 rows x 2 columns]",
      "text/html": "<div>\n<style scoped>\n    .dataframe tbody tr th:only-of-type {\n        vertical-align: middle;\n    }\n\n    .dataframe tbody tr th {\n        vertical-align: top;\n    }\n\n    .dataframe thead th {\n        text-align: right;\n    }\n</style>\n<table border=\"1\" class=\"dataframe\">\n  <thead>\n    <tr style=\"text-align: right;\">\n      <th></th>\n      <th>False</th>\n      <th>True</th>\n    </tr>\n  </thead>\n  <tbody>\n    <tr>\n      <th>0</th>\n      <td>True</td>\n      <td>False</td>\n    </tr>\n    <tr>\n      <th>1</th>\n      <td>False</td>\n      <td>True</td>\n    </tr>\n    <tr>\n      <th>2</th>\n      <td>False</td>\n      <td>True</td>\n    </tr>\n    <tr>\n      <th>3</th>\n      <td>True</td>\n      <td>False</td>\n    </tr>\n    <tr>\n      <th>4</th>\n      <td>False</td>\n      <td>True</td>\n    </tr>\n    <tr>\n      <th>...</th>\n      <td>...</td>\n      <td>...</td>\n    </tr>\n    <tr>\n      <th>69995</th>\n      <td>True</td>\n      <td>False</td>\n    </tr>\n    <tr>\n      <th>69996</th>\n      <td>True</td>\n      <td>False</td>\n    </tr>\n    <tr>\n      <th>69997</th>\n      <td>True</td>\n      <td>False</td>\n    </tr>\n    <tr>\n      <th>69998</th>\n      <td>True</td>\n      <td>False</td>\n    </tr>\n    <tr>\n      <th>69999</th>\n      <td>True</td>\n      <td>False</td>\n    </tr>\n  </tbody>\n</table>\n<p>70000 rows × 2 columns</p>\n</div>"
     },
     "execution_count": 256,
     "metadata": {},
     "output_type": "execute_result"
    }
   ],
   "source": [
    "### ===> [2-2] 정규화 => 타겟 : One-Hot 인코딩으로 변환\n",
    "pd.get_dummies(target)"
   ],
   "metadata": {
    "collapsed": false,
    "ExecuteTime": {
     "end_time": "2024-03-14T05:14:27.113582Z",
     "start_time": "2024-03-14T05:14:27.099620Z"
    }
   },
   "id": "187085cce71551eb",
   "execution_count": 256
  },
  {
   "cell_type": "code",
   "outputs": [
    {
     "name": "stdout",
     "output_type": "stream",
     "text": [
      "(70000, 1)\n"
     ]
    }
   ],
   "source": [
    "from sklearn.preprocessing import OneHotEncoder\n",
    "targetDF=target.to_frame()          # to_frame() : Convert Series to DataFrame.\n",
    "print(targetDF.shape)\n",
    "\n",
    "# 2차원으로 바꿔서 넘겨주겠다."
   ],
   "metadata": {
    "collapsed": false,
    "ExecuteTime": {
     "end_time": "2024-03-14T05:14:27.129113Z",
     "start_time": "2024-03-14T05:14:27.114580Z"
    }
   },
   "id": "466250074522b502",
   "execution_count": 257
  },
  {
   "cell_type": "code",
   "outputs": [
    {
     "data": {
      "text/plain": "[array([False,  True])]"
     },
     "execution_count": 258,
     "metadata": {},
     "output_type": "execute_result"
    }
   ],
   "source": [
    "# sparse_ouput = False   : ndarray 타입으로 반환\n",
    "ohEncoder = OneHotEncoder(sparse_output= False)       # sparse를 False를 지정하면 처음부터 풀어서 받겠다는 솔의  (메모리 문제 때문에 압축해서 줌)\n",
    "ohEncoder.fit(targetDF)\n",
    "ohEncoder.categories_\n",
    "\n",
    "# get_dummies vs onehotencoding vs labelencoding : https://hye-z.tistory.com/16"
   ],
   "metadata": {
    "collapsed": false,
    "ExecuteTime": {
     "end_time": "2024-03-14T05:14:27.144888Z",
     "start_time": "2024-03-14T05:14:27.130112Z"
    }
   },
   "id": "9841d6c571ac7342",
   "execution_count": 258
  },
  {
   "cell_type": "code",
   "outputs": [
    {
     "data": {
      "text/plain": "((70000, 2), 2)"
     },
     "execution_count": 259,
     "metadata": {},
     "output_type": "execute_result"
    }
   ],
   "source": [
    "norm_target = ohEncoder.transform(targetDF)\n",
    "norm_target.shape, norm_target.ndim"
   ],
   "metadata": {
    "collapsed": false,
    "ExecuteTime": {
     "end_time": "2024-03-14T05:14:27.160148Z",
     "start_time": "2024-03-14T05:14:27.147012Z"
    }
   },
   "id": "1274bf5f2f30009a",
   "execution_count": 259
  },
  {
   "cell_type": "code",
   "outputs": [
    {
     "data": {
      "text/plain": "array([[1., 0.],\n       [0., 1.],\n       [0., 1.],\n       [1., 0.],\n       [0., 1.]])"
     },
     "execution_count": 260,
     "metadata": {},
     "output_type": "execute_result"
    }
   ],
   "source": [
    "norm_target[:5]"
   ],
   "metadata": {
    "collapsed": false,
    "ExecuteTime": {
     "end_time": "2024-03-14T05:14:27.175522Z",
     "start_time": "2024-03-14T05:14:27.162201Z"
    }
   },
   "id": "592606588e54be77",
   "execution_count": 260
  },
  {
   "cell_type": "markdown",
   "source": [
    "- 데이터 => 숫자 변환\n",
    "- 글자 => 정수 변환 => 원핫인코딩 => 밀집행렬 [입베딩]\n",
    "\n",
    "- 원핫인코딩 vs 라벨인코딩 vs ordinalencoder        => 노션에 적어놈"
   ],
   "metadata": {
    "collapsed": false
   },
   "id": "a809b8370026d53"
  },
  {
   "cell_type": "markdown",
   "source": [
    "[3] 학습 준비 <hr>\n",
    "- 텐서화\n",
    "- 데이터셋 준비 : 훈련용, 테스트용\n",
    "- 학습 방법 : 지도학습 - 이진분류 => Linear 클래스 + sigmoid 함수\n",
    "- 최적화 방법 : 경사하강법기반의 방법 => Adam, SDG, ...\n",
    "- 손실 함수 : 이진 분류 손실 계산 함수 => binary_cross_entropy"
   ],
   "metadata": {
    "collapsed": false
   },
   "id": "91b9096a18832fed"
  },
  {
   "cell_type": "code",
   "outputs": [],
   "source": [
    "### ===> 데이터셋 준비 : 60000개 훈련, 10000개 테스트\n",
    "limit = 60000\n",
    "\n",
    "train = norm_feature.iloc[0:limit]\n",
    "test = norm_feature.iloc[limit:]\n",
    "\n",
    "train_y = target[:limit]\n",
    "test_y = target[limit:]"
   ],
   "metadata": {
    "collapsed": false,
    "ExecuteTime": {
     "end_time": "2024-03-14T05:14:27.206643Z",
     "start_time": "2024-03-14T05:14:27.196281Z"
    }
   },
   "id": "ca04d044c22934ea",
   "execution_count": 261
  },
  {
   "cell_type": "code",
   "outputs": [
    {
     "name": "stdout",
     "output_type": "stream",
     "text": [
      "train : (60000, 784), 2D  (60000,), 1D\n",
      "test : (10000, 784), 2D  (10000,), 1D\n"
     ]
    }
   ],
   "source": [
    "print(f\"train : {train.shape}, {train.ndim}D  {train_y.shape}, {train_y.ndim}D\")\n",
    "print(f\"test : {test.shape}, {test.ndim}D  {test_y.shape}, {test_y.ndim}D\")"
   ],
   "metadata": {
    "collapsed": false,
    "ExecuteTime": {
     "end_time": "2024-03-14T05:14:27.222233Z",
     "start_time": "2024-03-14T05:14:27.207757Z"
    }
   },
   "id": "d41f8a92d2b4cb33",
   "execution_count": 262
  },
  {
   "cell_type": "code",
   "outputs": [
    {
     "data": {
      "text/plain": "60000    False\n60001    False\n60002    False\n60003    False\n60004    False\n         ...  \n69995    False\n69996    False\n69997    False\n69998    False\n69999    False\nName: class, Length: 10000, dtype: bool"
     },
     "execution_count": 263,
     "metadata": {},
     "output_type": "execute_result"
    }
   ],
   "source": [
    "test_y"
   ],
   "metadata": {
    "collapsed": false,
    "ExecuteTime": {
     "end_time": "2024-03-14T05:14:27.237730Z",
     "start_time": "2024-03-14T05:14:27.223254Z"
    }
   },
   "id": "cd7e2cf0f03809cb",
   "execution_count": 263
  },
  {
   "cell_type": "code",
   "outputs": [],
   "source": [
    "### ===> 텐서로 변환\n",
    "X_train = torch.FloatTensor(train.values)\n",
    "X_test = torch.FloatTensor(test.values)\n",
    "\n",
    "y_train = torch.FloatTensor(train_y.values).unsqueeze(dim=1)\n",
    "y_test = torch.FloatTensor(test_y.values).unsqueeze(dim=1)"
   ],
   "metadata": {
    "collapsed": false,
    "ExecuteTime": {
     "end_time": "2024-03-14T05:14:27.300121Z",
     "start_time": "2024-03-14T05:14:27.239822Z"
    }
   },
   "id": "dbf9ff3a734df728",
   "execution_count": 264
  },
  {
   "cell_type": "code",
   "outputs": [
    {
     "name": "stdout",
     "output_type": "stream",
     "text": [
      "train : torch.Size([60000, 784]), 2D  (60000,), 1D\n",
      "test : torch.Size([10000, 784]), 2D  (10000,), 1D\n"
     ]
    }
   ],
   "source": [
    "print(f\"train : {X_train.shape}, {X_train.ndim}D  {train_y.shape}, {train_y.ndim}D\")\n",
    "print(f\"test : {X_test.shape}, {X_test.ndim}D  {test_y.shape}, {test_y.ndim}D\")"
   ],
   "metadata": {
    "collapsed": false,
    "ExecuteTime": {
     "end_time": "2024-03-14T05:14:27.315702Z",
     "start_time": "2024-03-14T05:14:27.302287Z"
    }
   },
   "id": "f4166136576934a7",
   "execution_count": 265
  },
  {
   "cell_type": "code",
   "outputs": [
    {
     "data": {
      "text/plain": "Linear(in_features=784, out_features=1, bias=True)"
     },
     "execution_count": 266,
     "metadata": {},
     "output_type": "execute_result"
    }
   ],
   "source": [
    "### 학습 인스턴스 생성\n",
    "in_, out_ = X_train.shape[1], y_train.shape[1]\n",
    "model = nn.Linear(in_, out_)\n",
    "model"
   ],
   "metadata": {
    "collapsed": false,
    "ExecuteTime": {
     "end_time": "2024-03-14T05:14:27.331507Z",
     "start_time": "2024-03-14T05:14:27.316875Z"
    }
   },
   "id": "acecbe6700a5016e",
   "execution_count": 266
  },
  {
   "cell_type": "code",
   "outputs": [],
   "source": [
    "### 최적화 인스턴스 생성 => 모델에서 사용하는 W, b 변수들 전달\n",
    "optimizer = optim.Adam(model.parameters())    # [w1, w2, ..., w784, 1]"
   ],
   "metadata": {
    "collapsed": false,
    "ExecuteTime": {
     "end_time": "2024-03-14T05:14:27.347238Z",
     "start_time": "2024-03-14T05:14:27.332505Z"
    }
   },
   "id": "907f1e99143f72ec",
   "execution_count": 267
  },
  {
   "cell_type": "code",
   "outputs": [],
   "source": [
    "### 학습 횟수 => 샘플 처음부터 끝까지 읽는 것 기준으로 횟수 지정\n",
    "EPOCHS = 150"
   ],
   "metadata": {
    "collapsed": false,
    "ExecuteTime": {
     "end_time": "2024-03-14T05:14:27.363226Z",
     "start_time": "2024-03-14T05:14:27.349316Z"
    }
   },
   "id": "26d34a079b041418",
   "execution_count": 268
  },
  {
   "cell_type": "markdown",
   "source": [
    "[4] 학습 <hr>\n",
    "- 반복횟수만큼 학습 진행"
   ],
   "metadata": {
    "collapsed": false
   },
   "id": "ecc9b5d82ed67958"
  },
  {
   "cell_type": "code",
   "outputs": [
    {
     "name": "stdout",
     "output_type": "stream",
     "text": [
      "[0] Loss => 0.6633749604225159\n",
      "[1] Loss => 0.5918515920639038\n",
      "[2] Loss => 0.5348621010780334\n",
      "[3] Loss => 0.4909508526325226\n",
      "[4] Loss => 0.4581066370010376\n",
      "[5] Loss => 0.4341408610343933\n",
      "[6] Loss => 0.41697242856025696\n",
      "[7] Loss => 0.40479180216789246\n",
      "[8] Loss => 0.39612337946891785\n",
      "[9] Loss => 0.3898182213306427\n",
      "[10] Loss => 0.3850127160549164\n",
      "[11] Loss => 0.381075382232666\n",
      "[12] Loss => 0.3775559365749359\n",
      "[13] Loss => 0.37414252758026123\n",
      "[14] Loss => 0.37062689661979675\n",
      "[15] Loss => 0.36687812209129333\n",
      "[16] Loss => 0.36282244324684143\n",
      "[17] Loss => 0.3584282696247101\n",
      "[18] Loss => 0.3536956310272217\n",
      "[19] Loss => 0.34864747524261475\n",
      "[20] Loss => 0.3433237671852112\n",
      "[21] Loss => 0.33777695894241333\n",
      "[22] Loss => 0.3320680856704712\n",
      "[23] Loss => 0.3262636959552765\n",
      "[24] Loss => 0.32043352723121643\n",
      "[25] Loss => 0.3146476745605469\n",
      "[26] Loss => 0.30897432565689087\n",
      "[27] Loss => 0.30347704887390137\n",
      "[28] Loss => 0.2982122600078583\n",
      "[29] Loss => 0.29322654008865356\n",
      "[30] Loss => 0.2885541021823883\n",
      "[31] Loss => 0.28421464562416077\n",
      "[32] Loss => 0.2802119255065918\n",
      "[33] Loss => 0.27653321623802185\n",
      "[34] Loss => 0.27315032482147217\n",
      "[35] Loss => 0.27002209424972534\n",
      "[36] Loss => 0.26709774136543274\n",
      "[37] Loss => 0.2643221318721771\n",
      "[38] Loss => 0.2616407871246338\n",
      "[39] Loss => 0.2590050995349884\n",
      "[40] Loss => 0.2563764750957489\n",
      "[41] Loss => 0.25372883677482605\n",
      "[42] Loss => 0.2510497272014618\n",
      "[43] Loss => 0.2483394742012024\n",
      "[44] Loss => 0.24560876190662384\n",
      "[45] Loss => 0.24287572503089905\n",
      "[46] Loss => 0.24016250669956207\n",
      "[47] Loss => 0.2374916970729828\n",
      "[48] Loss => 0.23488378524780273\n",
      "[49] Loss => 0.23235514760017395\n",
      "[50] Loss => 0.22991682589054108\n",
      "[51] Loss => 0.2275744527578354\n",
      "[52] Loss => 0.22532838582992554\n",
      "[53] Loss => 0.22317473590373993\n",
      "[54] Loss => 0.22110645473003387\n",
      "[55] Loss => 0.21911458671092987\n",
      "[56] Loss => 0.21718938648700714\n",
      "[57] Loss => 0.21532142162322998\n",
      "[58] Loss => 0.21350224316120148\n",
      "[59] Loss => 0.21172502636909485\n",
      "[60] Loss => 0.20998474955558777\n",
      "[61] Loss => 0.20827825367450714\n",
      "[62] Loss => 0.20660412311553955\n",
      "[63] Loss => 0.20496226847171783\n",
      "[64] Loss => 0.20335374772548676\n",
      "[65] Loss => 0.20178011059761047\n",
      "[66] Loss => 0.2002432942390442\n",
      "[67] Loss => 0.19874495267868042\n",
      "[68] Loss => 0.19728639721870422\n",
      "[69] Loss => 0.1958683282136917\n",
      "[70] Loss => 0.19449077546596527\n",
      "[71] Loss => 0.19315305352210999\n",
      "[72] Loss => 0.1918538361787796\n",
      "[73] Loss => 0.19059142470359802\n",
      "[74] Loss => 0.18936367332935333\n",
      "[75] Loss => 0.18816839158535004\n",
      "[76] Loss => 0.18700341880321503\n",
      "[77] Loss => 0.18586666882038116\n",
      "[78] Loss => 0.18475648760795593\n",
      "[79] Loss => 0.18367139995098114\n",
      "[80] Loss => 0.18261033296585083\n",
      "[81] Loss => 0.18157252669334412\n",
      "[82] Loss => 0.18055741488933563\n",
      "[83] Loss => 0.1795646846294403\n",
      "[84] Loss => 0.17859414219856262\n",
      "[85] Loss => 0.17764557898044586\n",
      "[86] Loss => 0.1767187863588333\n",
      "[87] Loss => 0.17581351101398468\n",
      "[88] Loss => 0.1749294251203537\n",
      "[89] Loss => 0.17406608164310455\n",
      "[90] Loss => 0.17322292923927307\n",
      "[91] Loss => 0.1723993867635727\n",
      "[92] Loss => 0.17159472405910492\n",
      "[93] Loss => 0.1708083301782608\n",
      "[94] Loss => 0.17003950476646423\n",
      "[95] Loss => 0.1692875623703003\n",
      "[96] Loss => 0.16855190694332123\n",
      "[97] Loss => 0.16783194243907928\n",
      "[98] Loss => 0.16712717711925507\n",
      "[99] Loss => 0.16643717885017395\n",
      "[100] Loss => 0.16576148569583893\n",
      "[101] Loss => 0.16509976983070374\n",
      "[102] Loss => 0.1644516885280609\n",
      "[103] Loss => 0.1638169139623642\n",
      "[104] Loss => 0.1631951481103897\n",
      "[105] Loss => 0.16258607804775238\n",
      "[106] Loss => 0.16198942065238953\n",
      "[107] Loss => 0.16140486299991608\n",
      "[108] Loss => 0.16083207726478577\n",
      "[109] Loss => 0.16027076542377472\n",
      "[110] Loss => 0.15972058475017548\n",
      "[111] Loss => 0.15918125212192535\n",
      "[112] Loss => 0.1586524099111557\n",
      "[113] Loss => 0.15813378989696503\n",
      "[114] Loss => 0.15762509405612946\n",
      "[115] Loss => 0.1571260690689087\n",
      "[116] Loss => 0.15663641691207886\n",
      "[117] Loss => 0.15615586936473846\n",
      "[118] Loss => 0.15568424761295319\n",
      "[119] Loss => 0.15522129833698273\n",
      "[120] Loss => 0.15476682782173157\n",
      "[121] Loss => 0.1543206125497818\n",
      "[122] Loss => 0.1538824588060379\n",
      "[123] Loss => 0.15345215797424316\n",
      "[124] Loss => 0.15302957594394684\n",
      "[125] Loss => 0.15261448919773102\n",
      "[126] Loss => 0.15220673382282257\n",
      "[127] Loss => 0.15180614590644836\n",
      "[128] Loss => 0.15141251683235168\n",
      "[129] Loss => 0.1510257124900818\n",
      "[130] Loss => 0.15064555406570435\n",
      "[131] Loss => 0.15027187764644623\n",
      "[132] Loss => 0.14990456402301788\n",
      "[133] Loss => 0.1495433896780014\n",
      "[134] Loss => 0.14918828010559082\n",
      "[135] Loss => 0.1488390564918518\n",
      "[136] Loss => 0.1484955996274948\n",
      "[137] Loss => 0.1481577605009079\n",
      "[138] Loss => 0.1478254497051239\n",
      "[139] Loss => 0.1474985033273697\n",
      "[140] Loss => 0.1471768170595169\n",
      "[141] Loss => 0.1468602865934372\n",
      "[142] Loss => 0.14654876291751862\n",
      "[143] Loss => 0.1462421864271164\n",
      "[144] Loss => 0.1459404081106186\n",
      "[145] Loss => 0.14564335346221924\n",
      "[146] Loss => 0.14535091817378998\n",
      "[147] Loss => 0.14506295323371887\n",
      "[148] Loss => 0.14477941393852234\n",
      "[149] Loss => 0.14450019598007202\n"
     ]
    }
   ],
   "source": [
    "loss_list = []\n",
    "loss_accuracy = [[], []]\n",
    "for ep in range(EPOCHS):\n",
    "    # 학습\n",
    "    pre_y = model(X_train)\n",
    "    #print(f\"예측값 : {pre_y}\")\n",
    "    \n",
    "    # 분류값 변화\n",
    "    pre_y2 = F.sigmoid(pre_y)\n",
    "    #print(f\"분류값 : {pre_y2}\")\n",
    "        \n",
    "    # 오차 즉 손실 계산\n",
    "    loss = F.binary_cross_entropy(pre_y2, y_train)\n",
    "    loss_list.append(loss.item())\n",
    "    loss_accuracy[0].append(loss.item())\n",
    "    print(f'[{ep}] Loss => {loss}')                \n",
    "    \n",
    "    # W, b 업데이트\n",
    "    optimizer.zero_grad()\n",
    "    loss.backward()  # 손실함수 계산값으로 미분 진행하여 새로운 W, b 계산\n",
    "    optimizer.step()    # 새로운 값으로 W, b 업데이트\n",
    "    \n",
    "    # 정확도 계산 => 예측값을 0과 1로 변환 ==> 정답과 비교\n",
    "    train_accuracy = ((y_train == (pre_y2 >= 0.5)).sum() )/ y_train.shape[0]\n",
    "    loss_accuracy[1].append(train_accuracy)"
   ],
   "metadata": {
    "collapsed": false,
    "ExecuteTime": {
     "end_time": "2024-03-14T05:14:29.166887Z",
     "start_time": "2024-03-14T05:14:27.364280Z"
    }
   },
   "id": "2a32f693e5f2ea95",
   "execution_count": 269
  },
  {
   "cell_type": "code",
   "outputs": [
    {
     "data": {
      "text/plain": "<Figure size 640x480 with 2 Axes>",
      "image/png": "[encoded data removed]"
     },
     "metadata": {},
     "output_type": "display_data"
    }
   ],
   "source": [
    "# 손실과 정확도 시각화\n",
    "import matplotlib.pyplot as plt\n",
    "\n",
    "fig, ax1 = plt.subplots()\n",
    "ax1.plot(loss_accuracy[0], label = 'loss')\n",
    "ax1.legend()\n",
    "ax2 = ax1.twinx()\n",
    "ax2.plot(loss_accuracy[1], label = 'accuracy', color = 'red')\n",
    "ax2.legend()\n",
    "plt.xlabel('Epochs')\n",
    "plt.show()"
   ],
   "metadata": {
    "collapsed": false,
    "ExecuteTime": {
     "end_time": "2024-03-14T05:14:29.385727Z",
     "start_time": "2024-03-14T05:14:29.169227Z"
    }
   },
   "id": "2be0532bcef5813f",
   "execution_count": 270
  },
  {
   "cell_type": "code",
   "outputs": [],
   "source": [],
   "metadata": {
    "collapsed": false,
    "ExecuteTime": {
     "end_time": "2024-03-14T05:14:29.432970Z",
     "start_time": "2024-03-14T05:14:29.419360Z"
    }
   },
   "id": "b6afaaf97406b40",
   "execution_count": 270
  },
  {
   "cell_type": "markdown",
   "source": [],
   "metadata": {
    "collapsed": false
   },
   "id": "e4df32e6b11a4cfc"
  }
 ],
 "metadata": {
  "kernelspec": {
   "display_name": "Python 3",
   "language": "python",
   "name": "python3"
  },
  "language_info": {
   "codemirror_mode": {
    "name": "ipython",
    "version": 2
   },
   "file_extension": ".py",
   "mimetype": "text/x-python",
   "name": "python",
   "nbconvert_exporter": "python",
   "pygments_lexer": "ipython2",
   "version": "2.7.6"
  }
 },
 "nbformat": 4,
 "nbformat_minor": 5
}
