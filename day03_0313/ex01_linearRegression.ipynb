{
 "cells": [
  {
   "cell_type": "code",
   "execution_count": 2,
   "id": "e119a841",
   "metadata": {
    "collapsed": true,
    "id": "e119a841",
    "outputId": "6a498c6b-b150-48c3-c884-5bfd38ec7e3c",
    "ExecuteTime": {
     "end_time": "2024-03-14T11:12:35.588120Z",
     "start_time": "2024-03-14T11:12:35.572704Z"
    }
   },
   "outputs": [],
   "source": [
    "#!pip3 install torch torchvision torchaudio"
   ]
  },
  {
   "cell_type": "markdown",
   "source": [
    "# [Pytorch 기반 선형회귀]"
   ],
   "metadata": {
    "collapsed": false
   },
   "id": "954462c20abf01c"
  },
  {
   "cell_type": "markdown",
   "id": "03deca72",
   "metadata": {
    "id": "03deca72"
   },
   "source": [
    "- [1] 모듈 로딩 및 데이터 준비 <hr>"
   ]
  },
  {
   "cell_type": "code",
   "execution_count": 3,
   "id": "00e4488b",
   "metadata": {
    "id": "00e4488b",
    "ExecuteTime": {
     "end_time": "2024-03-14T11:12:38.307606Z",
     "start_time": "2024-03-14T11:12:36.808788Z"
    }
   },
   "outputs": [],
   "source": [
    "### ===> 모듈로딩\n",
    "import torch                            # 파이토치 텐서 및 기본 함수들 관련 모듈\n",
    "import torch.nn as nn                   # 인공신경망 층 관련 모듈\n",
    "import torch.nn.functional as F         # 인공신경망 관련 함수들 모듈\n",
    "import torch.optim as optim             # 인공신경망 최적화 관련 모듈"
   ]
  },
  {
   "cell_type": "code",
   "execution_count": 4,
   "id": "a9371164",
   "metadata": {
    "id": "a9371164",
    "outputId": "d26a7c78-c0f3-4cb0-977c-8ac504779cd9",
    "ExecuteTime": {
     "end_time": "2024-03-14T11:12:38.322938Z",
     "start_time": "2024-03-14T11:12:38.308795Z"
    }
   },
   "outputs": [
    {
     "data": {
      "text/plain": "<torch._C.Generator at 0x14832375550>"
     },
     "execution_count": 4,
     "metadata": {},
     "output_type": "execute_result"
    }
   ],
   "source": [
    "### ===> 랜덤 시드(random seed) 설정\n",
    "torch.manual_seed(1)"
   ]
  },
  {
   "cell_type": "code",
   "execution_count": 5,
   "id": "63325226",
   "metadata": {
    "id": "63325226",
    "ExecuteTime": {
     "end_time": "2024-03-14T11:12:39.261684Z",
     "start_time": "2024-03-14T11:12:39.243908Z"
    }
   },
   "outputs": [],
   "source": [
    "### ===> 데이터 준비\n",
    "x_train = torch.FloatTensor([[1], [2], [3]])\n",
    "y_train = torch.FloatTensor([[2], [4], [6]])\n",
    "\n",
    "# 이거 그냥 만들었기 때문에 requires_grad = False로 설정 유지)"
   ]
  },
  {
   "cell_type": "code",
   "execution_count": 6,
   "id": "29a349fa",
   "metadata": {
    "id": "29a349fa",
    "outputId": "37dbf9f2-6aef-4e0e-afdd-f4cb9fa85ba6",
    "ExecuteTime": {
     "end_time": "2024-03-14T11:12:39.713820Z",
     "start_time": "2024-03-14T11:12:39.694910Z"
    }
   },
   "outputs": [
    {
     "name": "stdout",
     "output_type": "stream",
     "text": [
      "x_train : torch.Size([3, 1]), 2 \n",
      "tensor([[1.],\n",
      "        [2.],\n",
      "        [3.]])\n",
      "y_train : torch.Size([3, 1]), 2 \n",
      "tensor([[2.],\n",
      "        [4.],\n",
      "        [6.]])\n"
     ]
    }
   ],
   "source": [
    "print(f'x_train : {x_train.shape}, {x_train.ndim} \\n{x_train}')\n",
    "print(f'y_train : {y_train.shape}, {y_train.ndim} \\n{y_train}')"
   ]
  },
  {
   "cell_type": "markdown",
   "id": "08f8b366",
   "metadata": {
    "id": "08f8b366"
   },
   "source": [
    "- [2] 학습 위한 준비 <hr>"
   ]
  },
  {
   "cell_type": "code",
   "execution_count": 7,
   "id": "9ca21c47",
   "metadata": {
    "id": "9ca21c47",
    "outputId": "aa2cdfb0-9366-44a2-df72-3f7983a5a28e",
    "ExecuteTime": {
     "end_time": "2024-03-14T11:12:41.085452Z",
     "start_time": "2024-03-14T11:12:41.072996Z"
    }
   },
   "outputs": [
    {
     "name": "stdout",
     "output_type": "stream",
     "text": [
      "W : tensor([0.], requires_grad=True), b : tensor([0.], requires_grad=True)\n"
     ]
    }
   ],
   "source": [
    "### ===> 가중치 및 절편 데이터 생성 및 초기화\n",
    "# - 가중치 W            : 0으로 초기화하고 학습 통해 값이 변경되는 변수 명시함\n",
    "# - requires_grad=True : 학습을 통해 계속 값이 변경되는 변수임 의미\n",
    "# torch.zeros(텐서 원소 갯수)\n",
    "W = torch.zeros(1, requires_grad=True)   # 피처가 1개니까 가중치 1개짜리 만들어놈\n",
    "b = torch.zeros(1, requires_grad=True)   # bias는 어쩌파 1개니까 1개짜리 만들어놈\n",
    "\n",
    "print(f'W : {W}, b : {b}')"
   ]
  },
  {
   "cell_type": "code",
   "execution_count": 8,
   "id": "28b0a523",
   "metadata": {
    "id": "28b0a523",
    "ExecuteTime": {
     "end_time": "2024-03-14T11:12:42.990763Z",
     "start_time": "2024-03-14T11:12:42.158619Z"
    }
   },
   "outputs": [],
   "source": [
    "### ===> 경사하강법 설정 : W,b 업데이트\n",
    "# W,b 변수, 학습률지정\n",
    "optimizer = optim.SGD([W, b], lr=0.01)\n",
    "\n",
    "# W, b를 업데이트하기 위해서 경사하강법을 적용함"
   ]
  },
  {
   "cell_type": "code",
   "outputs": [
    {
     "data": {
      "text/plain": "tensor([0.], requires_grad=True)"
     },
     "execution_count": 9,
     "metadata": {},
     "output_type": "execute_result"
    }
   ],
   "source": [
    "W"
   ],
   "metadata": {
    "collapsed": false,
    "ExecuteTime": {
     "end_time": "2024-03-14T11:12:43.427076Z",
     "start_time": "2024-03-14T11:12:43.418776Z"
    }
   },
   "id": "ddf6025b3f2a6332",
   "execution_count": 9
  },
  {
   "cell_type": "code",
   "outputs": [
    {
     "data": {
      "text/plain": "tensor([0.], requires_grad=True)"
     },
     "execution_count": 10,
     "metadata": {},
     "output_type": "execute_result"
    }
   ],
   "source": [
    "b"
   ],
   "metadata": {
    "collapsed": false,
    "ExecuteTime": {
     "end_time": "2024-03-14T11:12:43.851505Z",
     "start_time": "2024-03-14T11:12:43.838596Z"
    }
   },
   "id": "da540d7961b666d4",
   "execution_count": 10
  },
  {
   "cell_type": "code",
   "outputs": [
    {
     "data": {
      "text/plain": "SGD (\nParameter Group 0\n    dampening: 0\n    differentiable: False\n    foreach: None\n    lr: 0.01\n    maximize: False\n    momentum: 0\n    nesterov: False\n    weight_decay: 0\n)"
     },
     "execution_count": 11,
     "metadata": {},
     "output_type": "execute_result"
    }
   ],
   "source": [
    "optimizer"
   ],
   "metadata": {
    "collapsed": false,
    "ExecuteTime": {
     "end_time": "2024-03-14T11:12:44.378801Z",
     "start_time": "2024-03-14T11:12:44.363120Z"
    }
   },
   "id": "54cf01af44300633",
   "execution_count": 11
  },
  {
   "cell_type": "markdown",
   "id": "821376cb",
   "metadata": {
    "id": "821376cb"
   },
   "source": [
    "- [3] 학습 진행 <hr>"
   ]
  },
  {
   "cell_type": "code",
   "execution_count": 12,
   "id": "e9847f83",
   "metadata": {
    "collapsed": true,
    "id": "e9847f83",
    "outputId": "47d2d2b9-47c0-48de-ddf4-9c612c8e6937",
    "ExecuteTime": {
     "end_time": "2024-03-14T11:12:58.292960Z",
     "start_time": "2024-03-14T11:12:58.198785Z"
    }
   },
   "outputs": [
    {
     "name": "stdout",
     "output_type": "stream",
     "text": [
      "수식을 w로 미분한 값 : tensor([-18.6667])\n",
      "업데이트 된 W : tensor([-18.6667]), b : tensor([-8.])\n",
      "Epoch    0/100 W: 0.187, b: 0.080 Cost: 18.666666\n",
      "수식을 w로 미분한 값 : tensor([-16.6044])\n",
      "업데이트 된 W : tensor([-16.6044]), b : tensor([-7.0933])\n",
      "수식을 w로 미분한 값 : tensor([-14.7710])\n",
      "업데이트 된 W : tensor([-14.7710]), b : tensor([-6.2873])\n",
      "수식을 w로 미분한 값 : tensor([-13.1408])\n",
      "업데이트 된 W : tensor([-13.1408]), b : tensor([-5.5707])\n",
      "수식을 w로 미분한 값 : tensor([-11.6915])\n",
      "업데이트 된 W : tensor([-11.6915]), b : tensor([-4.9337])\n",
      "수식을 w로 미분한 값 : tensor([-10.4030])\n",
      "업데이트 된 W : tensor([-10.4030]), b : tensor([-4.3673])\n",
      "수식을 w로 미분한 값 : tensor([-9.2573])\n",
      "업데이트 된 W : tensor([-9.2573]), b : tensor([-3.8639])\n",
      "수식을 w로 미분한 값 : tensor([-8.2388])\n",
      "업데이트 된 W : tensor([-8.2388]), b : tensor([-3.4163])\n",
      "수식을 w로 미분한 값 : tensor([-7.3332])\n",
      "업데이트 된 W : tensor([-7.3332]), b : tensor([-3.0184])\n",
      "수식을 w로 미분한 값 : tensor([-6.5280])\n",
      "업데이트 된 W : tensor([-6.5280]), b : tensor([-2.6647])\n",
      "수식을 w로 미분한 값 : tensor([-5.8121])\n",
      "업데이트 된 W : tensor([-5.8121]), b : tensor([-2.3503])\n",
      "수식을 w로 미분한 값 : tensor([-5.1757])\n",
      "업데이트 된 W : tensor([-5.1757]), b : tensor([-2.0708])\n",
      "수식을 w로 미분한 값 : tensor([-4.6098])\n",
      "업데이트 된 W : tensor([-4.6098]), b : tensor([-1.8224])\n",
      "수식을 w로 미분한 값 : tensor([-4.1066])\n",
      "업데이트 된 W : tensor([-4.1066]), b : tensor([-1.6015])\n",
      "수식을 w로 미분한 값 : tensor([-3.6593])\n",
      "업데이트 된 W : tensor([-3.6593]), b : tensor([-1.4052])\n",
      "수식을 w로 미분한 값 : tensor([-3.2615])\n",
      "업데이트 된 W : tensor([-3.2615]), b : tensor([-1.2308])\n",
      "수식을 w로 미분한 값 : tensor([-2.9079])\n",
      "업데이트 된 W : tensor([-2.9079]), b : tensor([-1.0757])\n",
      "수식을 w로 미분한 값 : tensor([-2.5935])\n",
      "업데이트 된 W : tensor([-2.5935]), b : tensor([-0.9379])\n",
      "수식을 w로 미분한 값 : tensor([-2.3139])\n",
      "업데이트 된 W : tensor([-2.3139]), b : tensor([-0.8154])\n",
      "수식을 w로 미분한 값 : tensor([-2.0653])\n",
      "업데이트 된 W : tensor([-2.0653]), b : tensor([-0.7065])\n",
      "수식을 w로 미분한 값 : tensor([-1.8443])\n",
      "업데이트 된 W : tensor([-1.8443]), b : tensor([-0.6097])\n",
      "수식을 w로 미분한 값 : tensor([-1.6478])\n",
      "업데이트 된 W : tensor([-1.6478]), b : tensor([-0.5238])\n",
      "수식을 w로 미분한 값 : tensor([-1.4730])\n",
      "업데이트 된 W : tensor([-1.4730]), b : tensor([-0.4474])\n",
      "수식을 w로 미분한 값 : tensor([-1.3176])\n",
      "업데이트 된 W : tensor([-1.3176]), b : tensor([-0.3795])\n",
      "수식을 w로 미분한 값 : tensor([-1.1795])\n",
      "업데이트 된 W : tensor([-1.1795]), b : tensor([-0.3192])\n",
      "수식을 w로 미분한 값 : tensor([-1.0566])\n",
      "업데이트 된 W : tensor([-1.0566]), b : tensor([-0.2657])\n",
      "수식을 w로 미분한 값 : tensor([-0.9474])\n",
      "업데이트 된 W : tensor([-0.9474]), b : tensor([-0.2181])\n",
      "수식을 w로 미분한 값 : tensor([-0.8502])\n",
      "업데이트 된 W : tensor([-0.8502]), b : tensor([-0.1758])\n",
      "수식을 w로 미분한 값 : tensor([-0.7639])\n",
      "업데이트 된 W : tensor([-0.7639]), b : tensor([-0.1383])\n",
      "수식을 w로 미분한 값 : tensor([-0.6870])\n",
      "업데이트 된 W : tensor([-0.6870]), b : tensor([-0.1050])\n",
      "수식을 w로 미분한 값 : tensor([-0.6187])\n",
      "업데이트 된 W : tensor([-0.6187]), b : tensor([-0.0754])\n",
      "수식을 w로 미분한 값 : tensor([-0.5579])\n",
      "업데이트 된 W : tensor([-0.5579]), b : tensor([-0.0491])\n",
      "수식을 w로 미분한 값 : tensor([-0.5039])\n",
      "업데이트 된 W : tensor([-0.5039]), b : tensor([-0.0258])\n",
      "수식을 w로 미분한 값 : tensor([-0.4558])\n",
      "업데이트 된 W : tensor([-0.4558]), b : tensor([-0.0052])\n",
      "수식을 w로 미분한 값 : tensor([-0.4131])\n",
      "업데이트 된 W : tensor([-0.4131]), b : tensor([0.0132])\n",
      "수식을 w로 미분한 값 : tensor([-0.3751])\n",
      "업데이트 된 W : tensor([-0.3751]), b : tensor([0.0294])\n",
      "수식을 w로 미분한 값 : tensor([-0.3412])\n",
      "업데이트 된 W : tensor([-0.3412]), b : tensor([0.0438])\n",
      "수식을 w로 미분한 값 : tensor([-0.3111])\n",
      "업데이트 된 W : tensor([-0.3111]), b : tensor([0.0566])\n",
      "수식을 w로 미분한 값 : tensor([-0.2844])\n",
      "업데이트 된 W : tensor([-0.2844]), b : tensor([0.0679])\n",
      "수식을 w로 미분한 값 : tensor([-0.2605])\n",
      "업데이트 된 W : tensor([-0.2605]), b : tensor([0.0779])\n",
      "수식을 w로 미분한 값 : tensor([-0.2393])\n",
      "업데이트 된 W : tensor([-0.2393]), b : tensor([0.0868])\n",
      "수식을 w로 미분한 값 : tensor([-0.2205])\n",
      "업데이트 된 W : tensor([-0.2205]), b : tensor([0.0946])\n",
      "수식을 w로 미분한 값 : tensor([-0.2037])\n",
      "업데이트 된 W : tensor([-0.2037]), b : tensor([0.1016])\n",
      "수식을 w로 미분한 값 : tensor([-0.1887])\n",
      "업데이트 된 W : tensor([-0.1887]), b : tensor([0.1077])\n",
      "수식을 w로 미분한 값 : tensor([-0.1754])\n",
      "업데이트 된 W : tensor([-0.1754]), b : tensor([0.1131])\n",
      "수식을 w로 미분한 값 : tensor([-0.1636])\n",
      "업데이트 된 W : tensor([-0.1636]), b : tensor([0.1178])\n",
      "수식을 w로 미분한 값 : tensor([-0.1530])\n",
      "업데이트 된 W : tensor([-0.1530]), b : tensor([0.1220])\n",
      "수식을 w로 미분한 값 : tensor([-0.1436])\n",
      "업데이트 된 W : tensor([-0.1436]), b : tensor([0.1257])\n",
      "수식을 w로 미분한 값 : tensor([-0.1352])\n",
      "업데이트 된 W : tensor([-0.1352]), b : tensor([0.1289])\n",
      "수식을 w로 미분한 값 : tensor([-0.1278])\n",
      "업데이트 된 W : tensor([-0.1278]), b : tensor([0.1318])\n",
      "수식을 w로 미분한 값 : tensor([-0.1211])\n",
      "업데이트 된 W : tensor([-0.1211]), b : tensor([0.1342])\n",
      "수식을 w로 미분한 값 : tensor([-0.1152])\n",
      "업데이트 된 W : tensor([-0.1152]), b : tensor([0.1364])\n",
      "수식을 w로 미분한 값 : tensor([-0.1099])\n",
      "업데이트 된 W : tensor([-0.1099]), b : tensor([0.1383])\n",
      "수식을 w로 미분한 값 : tensor([-0.1052])\n",
      "업데이트 된 W : tensor([-0.1052]), b : tensor([0.1399])\n",
      "수식을 w로 미분한 값 : tensor([-0.1009])\n",
      "업데이트 된 W : tensor([-0.1009]), b : tensor([0.1413])\n",
      "수식을 w로 미분한 값 : tensor([-0.0972])\n",
      "업데이트 된 W : tensor([-0.0972]), b : tensor([0.1425])\n",
      "수식을 w로 미분한 값 : tensor([-0.0938])\n",
      "업데이트 된 W : tensor([-0.0938]), b : tensor([0.1436])\n",
      "수식을 w로 미분한 값 : tensor([-0.0908])\n",
      "업데이트 된 W : tensor([-0.0908]), b : tensor([0.1444])\n",
      "수식을 w로 미분한 값 : tensor([-0.0881])\n",
      "업데이트 된 W : tensor([-0.0881]), b : tensor([0.1452])\n",
      "수식을 w로 미분한 값 : tensor([-0.0857])\n",
      "업데이트 된 W : tensor([-0.0857]), b : tensor([0.1458])\n",
      "수식을 w로 미분한 값 : tensor([-0.0835])\n",
      "업데이트 된 W : tensor([-0.0835]), b : tensor([0.1463])\n",
      "수식을 w로 미분한 값 : tensor([-0.0816])\n",
      "업데이트 된 W : tensor([-0.0816]), b : tensor([0.1467])\n",
      "수식을 w로 미분한 값 : tensor([-0.0798])\n",
      "업데이트 된 W : tensor([-0.0798]), b : tensor([0.1471])\n",
      "수식을 w로 미분한 값 : tensor([-0.0783])\n",
      "업데이트 된 W : tensor([-0.0783]), b : tensor([0.1473])\n",
      "수식을 w로 미분한 값 : tensor([-0.0769])\n",
      "업데이트 된 W : tensor([-0.0769]), b : tensor([0.1475])\n",
      "수식을 w로 미분한 값 : tensor([-0.0756])\n",
      "업데이트 된 W : tensor([-0.0756]), b : tensor([0.1476])\n",
      "수식을 w로 미분한 값 : tensor([-0.0744])\n",
      "업데이트 된 W : tensor([-0.0744]), b : tensor([0.1477])\n",
      "수식을 w로 미분한 값 : tensor([-0.0734])\n",
      "업데이트 된 W : tensor([-0.0734]), b : tensor([0.1477])\n",
      "수식을 w로 미분한 값 : tensor([-0.0725])\n",
      "업데이트 된 W : tensor([-0.0725]), b : tensor([0.1477])\n",
      "수식을 w로 미분한 값 : tensor([-0.0716])\n",
      "업데이트 된 W : tensor([-0.0716]), b : tensor([0.1476])\n",
      "수식을 w로 미분한 값 : tensor([-0.0708])\n",
      "업데이트 된 W : tensor([-0.0708]), b : tensor([0.1476])\n",
      "수식을 w로 미분한 값 : tensor([-0.0701])\n",
      "업데이트 된 W : tensor([-0.0701]), b : tensor([0.1474])\n",
      "수식을 w로 미분한 값 : tensor([-0.0695])\n",
      "업데이트 된 W : tensor([-0.0695]), b : tensor([0.1473])\n",
      "수식을 w로 미분한 값 : tensor([-0.0689])\n",
      "업데이트 된 W : tensor([-0.0689]), b : tensor([0.1471])\n",
      "수식을 w로 미분한 값 : tensor([-0.0683])\n",
      "업데이트 된 W : tensor([-0.0683]), b : tensor([0.1469])\n",
      "수식을 w로 미분한 값 : tensor([-0.0678])\n",
      "업데이트 된 W : tensor([-0.0678]), b : tensor([0.1467])\n",
      "수식을 w로 미분한 값 : tensor([-0.0674])\n",
      "업데이트 된 W : tensor([-0.0674]), b : tensor([0.1465])\n",
      "수식을 w로 미분한 값 : tensor([-0.0669])\n",
      "업데이트 된 W : tensor([-0.0669]), b : tensor([0.1463])\n",
      "수식을 w로 미분한 값 : tensor([-0.0665])\n",
      "업데이트 된 W : tensor([-0.0665]), b : tensor([0.1460])\n",
      "수식을 w로 미분한 값 : tensor([-0.0662])\n",
      "업데이트 된 W : tensor([-0.0662]), b : tensor([0.1458])\n",
      "수식을 w로 미분한 값 : tensor([-0.0658])\n",
      "업데이트 된 W : tensor([-0.0658]), b : tensor([0.1455])\n",
      "수식을 w로 미분한 값 : tensor([-0.0655])\n",
      "업데이트 된 W : tensor([-0.0655]), b : tensor([0.1452])\n",
      "수식을 w로 미분한 값 : tensor([-0.0652])\n",
      "업데이트 된 W : tensor([-0.0652]), b : tensor([0.1449])\n",
      "수식을 w로 미분한 값 : tensor([-0.0649])\n",
      "업데이트 된 W : tensor([-0.0649]), b : tensor([0.1446])\n",
      "수식을 w로 미분한 값 : tensor([-0.0646])\n",
      "업데이트 된 W : tensor([-0.0646]), b : tensor([0.1443])\n",
      "수식을 w로 미분한 값 : tensor([-0.0644])\n",
      "업데이트 된 W : tensor([-0.0644]), b : tensor([0.1440])\n",
      "수식을 w로 미분한 값 : tensor([-0.0641])\n",
      "업데이트 된 W : tensor([-0.0641]), b : tensor([0.1437])\n",
      "수식을 w로 미분한 값 : tensor([-0.0639])\n",
      "업데이트 된 W : tensor([-0.0639]), b : tensor([0.1434])\n",
      "수식을 w로 미분한 값 : tensor([-0.0637])\n",
      "업데이트 된 W : tensor([-0.0637]), b : tensor([0.1431])\n",
      "수식을 w로 미분한 값 : tensor([-0.0635])\n",
      "업데이트 된 W : tensor([-0.0635]), b : tensor([0.1428])\n",
      "수식을 w로 미분한 값 : tensor([-0.0632])\n",
      "업데이트 된 W : tensor([-0.0632]), b : tensor([0.1425])\n",
      "수식을 w로 미분한 값 : tensor([-0.0630])\n",
      "업데이트 된 W : tensor([-0.0630]), b : tensor([0.1422])\n",
      "수식을 w로 미분한 값 : tensor([-0.0628])\n",
      "업데이트 된 W : tensor([-0.0628]), b : tensor([0.1418])\n",
      "수식을 w로 미분한 값 : tensor([-0.0627])\n",
      "업데이트 된 W : tensor([-0.0627]), b : tensor([0.1415])\n",
      "수식을 w로 미분한 값 : tensor([-0.0625])\n",
      "업데이트 된 W : tensor([-0.0625]), b : tensor([0.1412])\n",
      "수식을 w로 미분한 값 : tensor([-0.0623])\n",
      "업데이트 된 W : tensor([-0.0623]), b : tensor([0.1409])\n",
      "수식을 w로 미분한 값 : tensor([-0.0621])\n",
      "업데이트 된 W : tensor([-0.0621]), b : tensor([0.1405])\n",
      "수식을 w로 미분한 값 : tensor([-0.0619])\n",
      "업데이트 된 W : tensor([-0.0619]), b : tensor([0.1402])\n",
      "수식을 w로 미분한 값 : tensor([-0.0618])\n",
      "업데이트 된 W : tensor([-0.0618]), b : tensor([0.1399])\n",
      "수식을 w로 미분한 값 : tensor([-0.0616])\n",
      "업데이트 된 W : tensor([-0.0616]), b : tensor([0.1396])\n",
      "수식을 w로 미분한 값 : tensor([-0.0614])\n",
      "업데이트 된 W : tensor([-0.0614]), b : tensor([0.1392])\n",
      "Epoch  100/100 W: 1.746, b: 0.578 Cost: 0.048171\n"
     ]
    }
   ],
   "source": [
    "### ===> 학습 진행\n",
    "# - 에포크 : 처음부터~끝까지 학습하는 것 의미\n",
    "\n",
    "nb_epochs = 100                 # 100번 학습   (처음부터 끝까지 100번 보겠다)\n",
    "\n",
    "for epoch in range(nb_epochs + 1):\n",
    "\n",
    "    # H(x) 계산 = XW+b => 예측값\n",
    "    y_pre = x_train * W + b\n",
    "\n",
    "    # cost 계산 = 합((예측값 - 정답)**2)\n",
    "    cost = torch.mean((y_pre - y_train) ** 2)      # => Mean Square Error에 해당함\n",
    "\n",
    "    # cost로 H(x) 개선\n",
    "    optimizer.zero_grad()           # gradient 0으로 초기화   (0으로 초기화하지 않으면 누적이 되기떄문에 업데이트하면 누적된것에 됨!)\n",
    "    \n",
    "    cost.backward()                 # 비용 함수 미분하여 gradient 계산\n",
    "    print(f'수식을 w로 미분한 값 : {W.grad}')\n",
    "\n",
    "    optimizer.step()                # W, b 업데이트\n",
    "    print(f'업데이트 된 W : {W.grad}, b : {b.grad}')\n",
    "\n",
    "\n",
    "    # 100번마다 로그 출력\n",
    "    if epoch % 100 == 0:\n",
    "        print(f'Epoch {epoch:4d}/{nb_epochs} W: { W.item():.3f}, b: {b.item():.3f} Cost: {cost.item():.6f}')\n",
    "        \n",
    "# 우리가 머신러닝에서 fit 했던 과정을 이런 유사한 과정으로 흘러간다."
   ]
  },
  {
   "cell_type": "markdown",
   "id": "1791fb3a",
   "metadata": {
    "id": "1791fb3a"
   },
   "source": [
    "- [4] 학습 후 모델 파라미터 확인 <hr>"
   ]
  },
  {
   "cell_type": "code",
   "execution_count": 116,
   "id": "c211c9af",
   "metadata": {
    "id": "c211c9af",
    "outputId": "d775e0b8-d780-4737-815f-d61c36e61dcd",
    "ExecuteTime": {
     "end_time": "2024-03-13T11:42:26.037582Z",
     "start_time": "2024-03-13T11:42:26.019154Z"
    }
   },
   "outputs": [
    {
     "data": {
      "text/plain": "(1.7456912994384766, 0.5780722498893738)"
     },
     "execution_count": 116,
     "metadata": {},
     "output_type": "execute_result"
    }
   ],
   "source": [
    "### ===> 학습 완료 후의 W, b  텐서 값 확인\n",
    "W.item(), b.item()"
   ]
  },
  {
   "cell_type": "markdown",
   "id": "1ca27547",
   "metadata": {
    "id": "1ca27547"
   },
   "source": [
    "- [5] 예측 <hr>"
   ]
  },
  {
   "cell_type": "code",
   "execution_count": 117,
   "id": "b5d0b9e1",
   "metadata": {
    "id": "b5d0b9e1",
    "outputId": "9e1989dc-9776-453f-f60f-ab5006365009",
    "ExecuteTime": {
     "end_time": "2024-03-13T11:42:26.079528Z",
     "start_time": "2024-03-13T11:42:26.041036Z"
    }
   },
   "outputs": [
    {
     "data": {
      "text/plain": "5.815145969390869"
     },
     "execution_count": 117,
     "metadata": {},
     "output_type": "execute_result"
    }
   ],
   "source": [
    "### ===> x값 넣고 y값 확인\n",
    "pre_y = W*3+b\n",
    "pre_y.item()\n",
    "\n",
    "# 여기에 나온게 우리가 머신러닝에서 predict 했던 메서드가 이런 과정으로 흘러갔던 것이다."
   ]
  },
  {
   "cell_type": "code",
   "execution_count": 117,
   "id": "95b63fc5",
   "metadata": {
    "id": "95b63fc5",
    "ExecuteTime": {
     "end_time": "2024-03-13T11:42:26.095047Z",
     "start_time": "2024-03-13T11:42:26.081584Z"
    }
   },
   "outputs": [],
   "source": []
  },
  {
   "cell_type": "code",
   "execution_count": 118,
   "id": "f691de99",
   "metadata": {
    "id": "f691de99",
    "outputId": "9bc31371-7f79-4877-c6be-a0f45e24a441",
    "ExecuteTime": {
     "end_time": "2024-03-13T11:42:26.110245Z",
     "start_time": "2024-03-13T11:42:26.096045Z"
    }
   },
   "outputs": [
    {
     "name": "stdout",
     "output_type": "stream",
     "text": [
      "수식을 w로 미분한 값 : 2.0\n",
      "수식을 w로 미분한 값 : 4.0\n",
      "수식을 w로 미분한 값 : 6.0\n",
      "수식을 w로 미분한 값 : 8.0\n",
      "수식을 w로 미분한 값 : 10.0\n",
      "수식을 w로 미분한 값 : 12.0\n",
      "수식을 w로 미분한 값 : 14.0\n",
      "수식을 w로 미분한 값 : 16.0\n",
      "수식을 w로 미분한 값 : 18.0\n",
      "수식을 w로 미분한 값 : 20.0\n",
      "수식을 w로 미분한 값 : 22.0\n",
      "수식을 w로 미분한 값 : 24.0\n",
      "수식을 w로 미분한 값 : 26.0\n",
      "수식을 w로 미분한 값 : 28.0\n",
      "수식을 w로 미분한 값 : 30.0\n",
      "수식을 w로 미분한 값 : 32.0\n",
      "수식을 w로 미분한 값 : 34.0\n",
      "수식을 w로 미분한 값 : 36.0\n",
      "수식을 w로 미분한 값 : 38.0\n",
      "수식을 w로 미분한 값 : 40.0\n",
      "수식을 w로 미분한 값 : 42.0\n"
     ]
    }
   ],
   "source": [
    "## optimizer.zero_grad()가 필요한 이유\n",
    "## 미분을 통해 얻은 기울기를 이전에 계산된 기울기 값에 누적시키는 특징\n",
    "\n",
    "w = torch.tensor(2.0, requires_grad=True)\n",
    "\n",
    "nb_epochs = 20\n",
    "for epoch in range(nb_epochs + 1):\n",
    "\n",
    "  z = 2*w\n",
    "\n",
    "  z.backward()\n",
    "  print('수식을 w로 미분한 값 : {}'.format(w.grad))"
   ]
  },
  {
   "cell_type": "code",
   "execution_count": 118,
   "id": "3cbd4372",
   "metadata": {
    "id": "3cbd4372",
    "ExecuteTime": {
     "end_time": "2024-03-13T11:42:26.126374Z",
     "start_time": "2024-03-13T11:42:26.111564Z"
    }
   },
   "outputs": [],
   "source": []
  }
 ],
 "metadata": {
  "kernelspec": {
   "display_name": "Python 3 (ipykernel)",
   "language": "python",
   "name": "python3"
  },
  "language_info": {
   "codemirror_mode": {
    "name": "ipython",
    "version": 3
   },
   "file_extension": ".py",
   "mimetype": "text/x-python",
   "name": "python",
   "nbconvert_exporter": "python",
   "pygments_lexer": "ipython3",
   "version": "3.8.18"
  },
  "colab": {
   "provenance": []
  }
 },
 "nbformat": 4,
 "nbformat_minor": 5
}
