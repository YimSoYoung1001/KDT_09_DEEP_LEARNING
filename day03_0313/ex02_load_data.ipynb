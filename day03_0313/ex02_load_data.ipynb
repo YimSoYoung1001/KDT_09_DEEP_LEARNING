{
 "cells": [
  {
   "cell_type": "code",
   "execution_count": 8,
   "id": "initial_id",
   "metadata": {
    "collapsed": true,
    "ExecuteTime": {
     "end_time": "2024-03-13T04:56:11.605755Z",
     "start_time": "2024-03-13T04:56:10.312290Z"
    }
   },
   "outputs": [],
   "source": [
    "# 모듈로딩\n",
    "import imageio.v2 as imageio           # 이미지 데이터 관련 모듈\n",
    "import torch             # pytorch 텐서 및 기본 함수 관련 모듈\n"
   ]
  },
  {
   "cell_type": "code",
   "outputs": [],
   "source": [
    "# 이미지 데이터 로딩\n",
    "filename = '../data/newjeans.png'"
   ],
   "metadata": {
    "collapsed": false,
    "ExecuteTime": {
     "end_time": "2024-03-13T04:56:11.621560Z",
     "start_time": "2024-03-13T04:56:11.606797Z"
    }
   },
   "id": "36693787f608bdec",
   "execution_count": 9
  },
  {
   "cell_type": "code",
   "outputs": [
    {
     "data": {
      "text/plain": "array([[[  2,  38,  94, 255],\n        [  9,  42,  89, 255],\n        [  7,  39,  95, 255],\n        ...,\n        [ 90,  52, 250, 255],\n        [136,  84, 255, 255],\n        [149,  81, 255, 255]],\n\n       [[  9,  35,  96, 255],\n        [  7,  36,  91, 255],\n        [  9,  35,  95, 255],\n        ...,\n        [107,  62, 251, 255],\n        [149,  72, 255, 255],\n        [152,  71, 254, 255]],\n\n       [[  7,  37,  96, 255],\n        [  1,  41,  91, 255],\n        [  3,  38,  95, 255],\n        ...,\n        [117,  67, 252, 255],\n        [142,  68, 255, 255],\n        [166,  78, 254, 255]],\n\n       ...,\n\n       [[242, 204, 187, 255],\n        [246, 204, 187, 255],\n        [245, 204, 185, 255],\n        ...,\n        [111, 140, 156, 255],\n        [ 35,  87, 116, 255],\n        [ 14,  81,  97, 255]],\n\n       [[238, 204, 187, 255],\n        [239, 205, 187, 255],\n        [247, 204, 178, 255],\n        ...,\n        [107, 135, 158, 255],\n        [ 47, 101, 116, 255],\n        [  5,  71, 106, 255]],\n\n       [[243, 204, 187, 255],\n        [248, 214, 186, 255],\n        [244, 210, 187, 255],\n        ...,\n        [112, 140, 155, 255],\n        [ 50, 103, 142, 255],\n        [ 49, 102, 140, 255]]], dtype=uint8)"
     },
     "execution_count": 12,
     "metadata": {},
     "output_type": "execute_result"
    }
   ],
   "source": [
    "# ndarray 타입의 이미지 데이터\n",
    "image = imageio.imread(filename)\n",
    "image"
   ],
   "metadata": {
    "collapsed": false,
    "ExecuteTime": {
     "end_time": "2024-03-13T04:58:47.864Z",
     "start_time": "2024-03-13T04:58:47.838954Z"
    }
   },
   "id": "4cd4a28a8afe9d08",
   "execution_count": 12
  },
  {
   "cell_type": "code",
   "outputs": [
    {
     "name": "stdout",
     "output_type": "stream",
     "text": [
      "(640, 685, 4) 3\n"
     ]
    }
   ],
   "source": [
    "print(image.shape, image.ndim)\n",
    "\n",
    "# 행과 열 순서는 실제 파일의 속성값과 반대라는 점을 잊지말자"
   ],
   "metadata": {
    "collapsed": false,
    "ExecuteTime": {
     "end_time": "2024-03-13T04:58:50.936544Z",
     "start_time": "2024-03-13T04:58:50.919670Z"
    }
   },
   "id": "20510372c2011014",
   "execution_count": 13
  },
  {
   "cell_type": "code",
   "outputs": [],
   "source": [
    "# ndarray => tensor 변환 : [행(높이), 열(너비), 채널]\n",
    "img_t1 = torch.tensor(image)\n",
    "img_t2 = torch.from_numpy(image)\n",
    "imt_t3 = torch.as_tensor(image)\n",
    "\n",
    "# 이중에 둘은 공유되고 하나는 복사본이었다.!"
   ],
   "metadata": {
    "collapsed": false,
    "ExecuteTime": {
     "end_time": "2024-03-13T05:00:04.182150Z",
     "start_time": "2024-03-13T05:00:04.166001Z"
    }
   },
   "id": "dc1d389247a40bfe",
   "execution_count": 14
  },
  {
   "cell_type": "code",
   "outputs": [
    {
     "name": "stdout",
     "output_type": "stream",
     "text": [
      "torch.Size([640, 685, 4]) 3\n",
      "torch.Size([640, 685, 4]) 3\n",
      "torch.Size([640, 685, 4]) 3\n"
     ]
    }
   ],
   "source": [
    "print(img_t1.shape, img_t1.ndim)\n",
    "print(img_t2.shape, img_t2.ndim)\n",
    "print(imt_t3.shape, imt_t3.ndim)"
   ],
   "metadata": {
    "collapsed": false,
    "ExecuteTime": {
     "end_time": "2024-03-13T05:00:26.819011Z",
     "start_time": "2024-03-13T05:00:26.810745Z"
    }
   },
   "id": "bc199ed524066d7b",
   "execution_count": 15
  },
  {
   "cell_type": "code",
   "outputs": [
    {
     "data": {
      "text/plain": "torch.Size([4, 640, 685])"
     },
     "execution_count": 17,
     "metadata": {},
     "output_type": "execute_result"
    }
   ],
   "source": [
    "# [행(높이), 열(너비), 채널] ==> [채널, 행(높이), 열(너비)]\n",
    "img_t1.permute(2, 0, 1).shape"
   ],
   "metadata": {
    "collapsed": false,
    "ExecuteTime": {
     "end_time": "2024-03-13T05:03:31.252024Z",
     "start_time": "2024-03-13T05:03:31.245621Z"
    }
   },
   "id": "ce681eb1f6ed7e9a",
   "execution_count": 17
  },
  {
   "cell_type": "code",
   "outputs": [],
   "source": [],
   "metadata": {
    "collapsed": false
   },
   "id": "1b65f604ac85c3b6"
  }
 ],
 "metadata": {
  "kernelspec": {
   "display_name": "Python 3",
   "language": "python",
   "name": "python3"
  },
  "language_info": {
   "codemirror_mode": {
    "name": "ipython",
    "version": 2
   },
   "file_extension": ".py",
   "mimetype": "text/x-python",
   "name": "python",
   "nbconvert_exporter": "python",
   "pygments_lexer": "ipython2",
   "version": "2.7.6"
  }
 },
 "nbformat": 4,
 "nbformat_minor": 5
}
