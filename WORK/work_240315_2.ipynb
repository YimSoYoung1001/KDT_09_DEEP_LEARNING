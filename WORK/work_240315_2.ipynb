{
 "cells": [
  {
   "cell_type": "markdown",
   "source": [
    "24.03.15. 과제 - MNIST FASHION => 클래스 만들어서 해보기"
   ],
   "metadata": {
    "collapsed": false
   },
   "id": "52e5eedcb73ca211"
  },
  {
   "cell_type": "markdown",
   "source": [
    "# 1. 모듈 로딩 및 데이터 준비"
   ],
   "metadata": {
    "collapsed": false
   },
   "id": "e9c69cacdb855454"
  },
  {
   "cell_type": "code",
   "outputs": [],
   "source": [
    "from sklearn.datasets import fetch_openml\n",
    "import torch\n",
    "import torch.nn as nn\n",
    "import torch.nn.functional as F\n",
    "import torch.optim as optim\n",
    "import numpy as np\n",
    "import pandas as pd\n",
    "\n",
    "from torch.utils.data import Dataset, DataLoader"
   ],
   "metadata": {
    "collapsed": false,
    "ExecuteTime": {
     "end_time": "2024-03-15T12:11:57.843276Z",
     "start_time": "2024-03-15T12:11:57.823990Z"
    }
   },
   "id": "bfdb76474c67bcf8",
   "execution_count": 53
  },
  {
   "cell_type": "code",
   "outputs": [
    {
     "data": {
      "text/plain": "dict_keys(['data', 'target', 'frame', 'categories', 'feature_names', 'target_names', 'DESCR', 'details', 'url'])"
     },
     "execution_count": 26,
     "metadata": {},
     "output_type": "execute_result"
    }
   ],
   "source": [
    "file = fetch_openml('Fashion-MNIST', parser = 'auto')\n",
    "file.keys()"
   ],
   "metadata": {
    "collapsed": false,
    "ExecuteTime": {
     "end_time": "2024-03-15T11:02:15.478984Z",
     "start_time": "2024-03-15T11:02:09.835659Z"
    }
   },
   "id": "4a8bdfa5ab34e0a1",
   "execution_count": 26
  },
  {
   "cell_type": "markdown",
   "source": [
    "# 2. 데이터셋 생성"
   ],
   "metadata": {
    "collapsed": false
   },
   "id": "f7f72970e250197f"
  },
  {
   "cell_type": "code",
   "outputs": [
    {
     "data": {
      "text/plain": "       pixel1  pixel2  pixel3  pixel4  pixel5  pixel6  pixel7  pixel8  pixel9  \\\n0           0       0       0       0       0       0       0       0       0   \n1           0       0       0       0       0       1       0       0       0   \n2           0       0       0       0       0       0       0       0       0   \n3           0       0       0       0       0       0       0       0      33   \n4           0       0       0       0       0       0       0       0       0   \n...       ...     ...     ...     ...     ...     ...     ...     ...     ...   \n69995       0       0       0       0       0       0       0       0       0   \n69996       0       0       0       0       0       0       0       0       0   \n69997       0       0       0       0       0       0       0       0       0   \n69998       0       0       0       0       0       0       0       0       0   \n69999       0       0       0       0       0       0       0       0       0   \n\n       pixel10  ...  pixel775  pixel776  pixel777  pixel778  pixel779  \\\n0            0  ...         0         0         0         0         0   \n1            0  ...       119       114       130        76         0   \n2           22  ...         0         0         1         0         0   \n3           96  ...         0         0         0         0         0   \n4            0  ...         0         0         0         0         0   \n...        ...  ...       ...       ...       ...       ...       ...   \n69995        0  ...         0         0         0         0         0   \n69996       31  ...         0         0         0         0         0   \n69997        0  ...        27         0         0         0         0   \n69998        0  ...         0         0         0         0         0   \n69999        0  ...         0         0         0         0         0   \n\n       pixel780  pixel781  pixel782  pixel783  pixel784  \n0             0         0         0         0         0  \n1             0         0         0         0         0  \n2             0         0         0         0         0  \n3             0         0         0         0         0  \n4             0         0         0         0         0  \n...         ...       ...       ...       ...       ...  \n69995         0         0         0         0         0  \n69996         0         0         0         0         0  \n69997         0         0         0         0         0  \n69998         0         0         0         0         0  \n69999         0         0         0         0         0  \n\n[70000 rows x 784 columns]",
      "text/html": "<div>\n<style scoped>\n    .dataframe tbody tr th:only-of-type {\n        vertical-align: middle;\n    }\n\n    .dataframe tbody tr th {\n        vertical-align: top;\n    }\n\n    .dataframe thead th {\n        text-align: right;\n    }\n</style>\n<table border=\"1\" class=\"dataframe\">\n  <thead>\n    <tr style=\"text-align: right;\">\n      <th></th>\n      <th>pixel1</th>\n      <th>pixel2</th>\n      <th>pixel3</th>\n      <th>pixel4</th>\n      <th>pixel5</th>\n      <th>pixel6</th>\n      <th>pixel7</th>\n      <th>pixel8</th>\n      <th>pixel9</th>\n      <th>pixel10</th>\n      <th>...</th>\n      <th>pixel775</th>\n      <th>pixel776</th>\n      <th>pixel777</th>\n      <th>pixel778</th>\n      <th>pixel779</th>\n      <th>pixel780</th>\n      <th>pixel781</th>\n      <th>pixel782</th>\n      <th>pixel783</th>\n      <th>pixel784</th>\n    </tr>\n  </thead>\n  <tbody>\n    <tr>\n      <th>0</th>\n      <td>0</td>\n      <td>0</td>\n      <td>0</td>\n      <td>0</td>\n      <td>0</td>\n      <td>0</td>\n      <td>0</td>\n      <td>0</td>\n      <td>0</td>\n      <td>0</td>\n      <td>...</td>\n      <td>0</td>\n      <td>0</td>\n      <td>0</td>\n      <td>0</td>\n      <td>0</td>\n      <td>0</td>\n      <td>0</td>\n      <td>0</td>\n      <td>0</td>\n      <td>0</td>\n    </tr>\n    <tr>\n      <th>1</th>\n      <td>0</td>\n      <td>0</td>\n      <td>0</td>\n      <td>0</td>\n      <td>0</td>\n      <td>1</td>\n      <td>0</td>\n      <td>0</td>\n      <td>0</td>\n      <td>0</td>\n      <td>...</td>\n      <td>119</td>\n      <td>114</td>\n      <td>130</td>\n      <td>76</td>\n      <td>0</td>\n      <td>0</td>\n      <td>0</td>\n      <td>0</td>\n      <td>0</td>\n      <td>0</td>\n    </tr>\n    <tr>\n      <th>2</th>\n      <td>0</td>\n      <td>0</td>\n      <td>0</td>\n      <td>0</td>\n      <td>0</td>\n      <td>0</td>\n      <td>0</td>\n      <td>0</td>\n      <td>0</td>\n      <td>22</td>\n      <td>...</td>\n      <td>0</td>\n      <td>0</td>\n      <td>1</td>\n      <td>0</td>\n      <td>0</td>\n      <td>0</td>\n      <td>0</td>\n      <td>0</td>\n      <td>0</td>\n      <td>0</td>\n    </tr>\n    <tr>\n      <th>3</th>\n      <td>0</td>\n      <td>0</td>\n      <td>0</td>\n      <td>0</td>\n      <td>0</td>\n      <td>0</td>\n      <td>0</td>\n      <td>0</td>\n      <td>33</td>\n      <td>96</td>\n      <td>...</td>\n      <td>0</td>\n      <td>0</td>\n      <td>0</td>\n      <td>0</td>\n      <td>0</td>\n      <td>0</td>\n      <td>0</td>\n      <td>0</td>\n      <td>0</td>\n      <td>0</td>\n    </tr>\n    <tr>\n      <th>4</th>\n      <td>0</td>\n      <td>0</td>\n      <td>0</td>\n      <td>0</td>\n      <td>0</td>\n      <td>0</td>\n      <td>0</td>\n      <td>0</td>\n      <td>0</td>\n      <td>0</td>\n      <td>...</td>\n      <td>0</td>\n      <td>0</td>\n      <td>0</td>\n      <td>0</td>\n      <td>0</td>\n      <td>0</td>\n      <td>0</td>\n      <td>0</td>\n      <td>0</td>\n      <td>0</td>\n    </tr>\n    <tr>\n      <th>...</th>\n      <td>...</td>\n      <td>...</td>\n      <td>...</td>\n      <td>...</td>\n      <td>...</td>\n      <td>...</td>\n      <td>...</td>\n      <td>...</td>\n      <td>...</td>\n      <td>...</td>\n      <td>...</td>\n      <td>...</td>\n      <td>...</td>\n      <td>...</td>\n      <td>...</td>\n      <td>...</td>\n      <td>...</td>\n      <td>...</td>\n      <td>...</td>\n      <td>...</td>\n      <td>...</td>\n    </tr>\n    <tr>\n      <th>69995</th>\n      <td>0</td>\n      <td>0</td>\n      <td>0</td>\n      <td>0</td>\n      <td>0</td>\n      <td>0</td>\n      <td>0</td>\n      <td>0</td>\n      <td>0</td>\n      <td>0</td>\n      <td>...</td>\n      <td>0</td>\n      <td>0</td>\n      <td>0</td>\n      <td>0</td>\n      <td>0</td>\n      <td>0</td>\n      <td>0</td>\n      <td>0</td>\n      <td>0</td>\n      <td>0</td>\n    </tr>\n    <tr>\n      <th>69996</th>\n      <td>0</td>\n      <td>0</td>\n      <td>0</td>\n      <td>0</td>\n      <td>0</td>\n      <td>0</td>\n      <td>0</td>\n      <td>0</td>\n      <td>0</td>\n      <td>31</td>\n      <td>...</td>\n      <td>0</td>\n      <td>0</td>\n      <td>0</td>\n      <td>0</td>\n      <td>0</td>\n      <td>0</td>\n      <td>0</td>\n      <td>0</td>\n      <td>0</td>\n      <td>0</td>\n    </tr>\n    <tr>\n      <th>69997</th>\n      <td>0</td>\n      <td>0</td>\n      <td>0</td>\n      <td>0</td>\n      <td>0</td>\n      <td>0</td>\n      <td>0</td>\n      <td>0</td>\n      <td>0</td>\n      <td>0</td>\n      <td>...</td>\n      <td>27</td>\n      <td>0</td>\n      <td>0</td>\n      <td>0</td>\n      <td>0</td>\n      <td>0</td>\n      <td>0</td>\n      <td>0</td>\n      <td>0</td>\n      <td>0</td>\n    </tr>\n    <tr>\n      <th>69998</th>\n      <td>0</td>\n      <td>0</td>\n      <td>0</td>\n      <td>0</td>\n      <td>0</td>\n      <td>0</td>\n      <td>0</td>\n      <td>0</td>\n      <td>0</td>\n      <td>0</td>\n      <td>...</td>\n      <td>0</td>\n      <td>0</td>\n      <td>0</td>\n      <td>0</td>\n      <td>0</td>\n      <td>0</td>\n      <td>0</td>\n      <td>0</td>\n      <td>0</td>\n      <td>0</td>\n    </tr>\n    <tr>\n      <th>69999</th>\n      <td>0</td>\n      <td>0</td>\n      <td>0</td>\n      <td>0</td>\n      <td>0</td>\n      <td>0</td>\n      <td>0</td>\n      <td>0</td>\n      <td>0</td>\n      <td>0</td>\n      <td>...</td>\n      <td>0</td>\n      <td>0</td>\n      <td>0</td>\n      <td>0</td>\n      <td>0</td>\n      <td>0</td>\n      <td>0</td>\n      <td>0</td>\n      <td>0</td>\n      <td>0</td>\n    </tr>\n  </tbody>\n</table>\n<p>70000 rows × 784 columns</p>\n</div>"
     },
     "execution_count": 27,
     "metadata": {},
     "output_type": "execute_result"
    }
   ],
   "source": [
    "feature = file['data']\n",
    "feature"
   ],
   "metadata": {
    "collapsed": false,
    "ExecuteTime": {
     "end_time": "2024-03-15T11:02:15.542100Z",
     "start_time": "2024-03-15T11:02:15.482062Z"
    }
   },
   "id": "49bcd1ae421ca587",
   "execution_count": 27
  },
  {
   "cell_type": "code",
   "outputs": [
    {
     "data": {
      "text/plain": "0        9\n1        0\n2        0\n3        3\n4        0\n        ..\n69995    9\n69996    1\n69997    8\n69998    1\n69999    5\nName: class, Length: 70000, dtype: category\nCategories (10, object): ['0', '1', '2', '3', ..., '6', '7', '8', '9']"
     },
     "execution_count": 28,
     "metadata": {},
     "output_type": "execute_result"
    }
   ],
   "source": [
    "target = file['target']\n",
    "target"
   ],
   "metadata": {
    "collapsed": false,
    "ExecuteTime": {
     "end_time": "2024-03-15T11:02:15.573570Z",
     "start_time": "2024-03-15T11:02:15.545619Z"
    }
   },
   "id": "7be3f62e4552e118",
   "execution_count": 28
  },
  {
   "cell_type": "code",
   "outputs": [
    {
     "data": {
      "text/plain": "pixel1      0\npixel2      0\npixel3      0\npixel4      0\npixel5      0\n           ..\npixel780    0\npixel781    0\npixel782    0\npixel783    0\npixel784    0\nLength: 784, dtype: int64"
     },
     "execution_count": 29,
     "metadata": {},
     "output_type": "execute_result"
    }
   ],
   "source": [
    "feature.isna().sum()"
   ],
   "metadata": {
    "collapsed": false,
    "ExecuteTime": {
     "end_time": "2024-03-15T11:02:15.684442Z",
     "start_time": "2024-03-15T11:02:15.577073Z"
    }
   },
   "id": "559f4f3cf3289f6a",
   "execution_count": 29
  },
  {
   "cell_type": "code",
   "outputs": [
    {
     "data": {
      "text/plain": "0"
     },
     "execution_count": 30,
     "metadata": {},
     "output_type": "execute_result"
    }
   ],
   "source": [
    "feature.duplicated().sum()"
   ],
   "metadata": {
    "collapsed": false,
    "ExecuteTime": {
     "end_time": "2024-03-15T11:02:18.171344Z",
     "start_time": "2024-03-15T11:02:15.689926Z"
    }
   },
   "id": "36b10abe3bacef6d",
   "execution_count": 30
  },
  {
   "cell_type": "code",
   "outputs": [
    {
     "data": {
      "text/plain": "       pixel1  pixel2  pixel3  pixel4  pixel5    pixel6  pixel7  pixel8  \\\n0         0.0     0.0     0.0     0.0     0.0  0.000000     0.0     0.0   \n1         0.0     0.0     0.0     0.0     0.0  0.003906     0.0     0.0   \n2         0.0     0.0     0.0     0.0     0.0  0.000000     0.0     0.0   \n3         0.0     0.0     0.0     0.0     0.0  0.000000     0.0     0.0   \n4         0.0     0.0     0.0     0.0     0.0  0.000000     0.0     0.0   \n...       ...     ...     ...     ...     ...       ...     ...     ...   \n69995     0.0     0.0     0.0     0.0     0.0  0.000000     0.0     0.0   \n69996     0.0     0.0     0.0     0.0     0.0  0.000000     0.0     0.0   \n69997     0.0     0.0     0.0     0.0     0.0  0.000000     0.0     0.0   \n69998     0.0     0.0     0.0     0.0     0.0  0.000000     0.0     0.0   \n69999     0.0     0.0     0.0     0.0     0.0  0.000000     0.0     0.0   \n\n         pixel9   pixel10  ...  pixel775  pixel776  pixel777  pixel778  \\\n0      0.000000  0.000000  ...  0.000000  0.000000  0.000000  0.000000   \n1      0.000000  0.000000  ...  0.464844  0.445312  0.507812  0.296875   \n2      0.000000  0.085938  ...  0.000000  0.000000  0.003906  0.000000   \n3      0.128906  0.375000  ...  0.000000  0.000000  0.000000  0.000000   \n4      0.000000  0.000000  ...  0.000000  0.000000  0.000000  0.000000   \n...         ...       ...  ...       ...       ...       ...       ...   \n69995  0.000000  0.000000  ...  0.000000  0.000000  0.000000  0.000000   \n69996  0.000000  0.121094  ...  0.000000  0.000000  0.000000  0.000000   \n69997  0.000000  0.000000  ...  0.105469  0.000000  0.000000  0.000000   \n69998  0.000000  0.000000  ...  0.000000  0.000000  0.000000  0.000000   \n69999  0.000000  0.000000  ...  0.000000  0.000000  0.000000  0.000000   \n\n       pixel779  pixel780  pixel781  pixel782  pixel783  pixel784  \n0           0.0       0.0       0.0       0.0       0.0       0.0  \n1           0.0       0.0       0.0       0.0       0.0       0.0  \n2           0.0       0.0       0.0       0.0       0.0       0.0  \n3           0.0       0.0       0.0       0.0       0.0       0.0  \n4           0.0       0.0       0.0       0.0       0.0       0.0  \n...         ...       ...       ...       ...       ...       ...  \n69995       0.0       0.0       0.0       0.0       0.0       0.0  \n69996       0.0       0.0       0.0       0.0       0.0       0.0  \n69997       0.0       0.0       0.0       0.0       0.0       0.0  \n69998       0.0       0.0       0.0       0.0       0.0       0.0  \n69999       0.0       0.0       0.0       0.0       0.0       0.0  \n\n[70000 rows x 784 columns]",
      "text/html": "<div>\n<style scoped>\n    .dataframe tbody tr th:only-of-type {\n        vertical-align: middle;\n    }\n\n    .dataframe tbody tr th {\n        vertical-align: top;\n    }\n\n    .dataframe thead th {\n        text-align: right;\n    }\n</style>\n<table border=\"1\" class=\"dataframe\">\n  <thead>\n    <tr style=\"text-align: right;\">\n      <th></th>\n      <th>pixel1</th>\n      <th>pixel2</th>\n      <th>pixel3</th>\n      <th>pixel4</th>\n      <th>pixel5</th>\n      <th>pixel6</th>\n      <th>pixel7</th>\n      <th>pixel8</th>\n      <th>pixel9</th>\n      <th>pixel10</th>\n      <th>...</th>\n      <th>pixel775</th>\n      <th>pixel776</th>\n      <th>pixel777</th>\n      <th>pixel778</th>\n      <th>pixel779</th>\n      <th>pixel780</th>\n      <th>pixel781</th>\n      <th>pixel782</th>\n      <th>pixel783</th>\n      <th>pixel784</th>\n    </tr>\n  </thead>\n  <tbody>\n    <tr>\n      <th>0</th>\n      <td>0.0</td>\n      <td>0.0</td>\n      <td>0.0</td>\n      <td>0.0</td>\n      <td>0.0</td>\n      <td>0.000000</td>\n      <td>0.0</td>\n      <td>0.0</td>\n      <td>0.000000</td>\n      <td>0.000000</td>\n      <td>...</td>\n      <td>0.000000</td>\n      <td>0.000000</td>\n      <td>0.000000</td>\n      <td>0.000000</td>\n      <td>0.0</td>\n      <td>0.0</td>\n      <td>0.0</td>\n      <td>0.0</td>\n      <td>0.0</td>\n      <td>0.0</td>\n    </tr>\n    <tr>\n      <th>1</th>\n      <td>0.0</td>\n      <td>0.0</td>\n      <td>0.0</td>\n      <td>0.0</td>\n      <td>0.0</td>\n      <td>0.003906</td>\n      <td>0.0</td>\n      <td>0.0</td>\n      <td>0.000000</td>\n      <td>0.000000</td>\n      <td>...</td>\n      <td>0.464844</td>\n      <td>0.445312</td>\n      <td>0.507812</td>\n      <td>0.296875</td>\n      <td>0.0</td>\n      <td>0.0</td>\n      <td>0.0</td>\n      <td>0.0</td>\n      <td>0.0</td>\n      <td>0.0</td>\n    </tr>\n    <tr>\n      <th>2</th>\n      <td>0.0</td>\n      <td>0.0</td>\n      <td>0.0</td>\n      <td>0.0</td>\n      <td>0.0</td>\n      <td>0.000000</td>\n      <td>0.0</td>\n      <td>0.0</td>\n      <td>0.000000</td>\n      <td>0.085938</td>\n      <td>...</td>\n      <td>0.000000</td>\n      <td>0.000000</td>\n      <td>0.003906</td>\n      <td>0.000000</td>\n      <td>0.0</td>\n      <td>0.0</td>\n      <td>0.0</td>\n      <td>0.0</td>\n      <td>0.0</td>\n      <td>0.0</td>\n    </tr>\n    <tr>\n      <th>3</th>\n      <td>0.0</td>\n      <td>0.0</td>\n      <td>0.0</td>\n      <td>0.0</td>\n      <td>0.0</td>\n      <td>0.000000</td>\n      <td>0.0</td>\n      <td>0.0</td>\n      <td>0.128906</td>\n      <td>0.375000</td>\n      <td>...</td>\n      <td>0.000000</td>\n      <td>0.000000</td>\n      <td>0.000000</td>\n      <td>0.000000</td>\n      <td>0.0</td>\n      <td>0.0</td>\n      <td>0.0</td>\n      <td>0.0</td>\n      <td>0.0</td>\n      <td>0.0</td>\n    </tr>\n    <tr>\n      <th>4</th>\n      <td>0.0</td>\n      <td>0.0</td>\n      <td>0.0</td>\n      <td>0.0</td>\n      <td>0.0</td>\n      <td>0.000000</td>\n      <td>0.0</td>\n      <td>0.0</td>\n      <td>0.000000</td>\n      <td>0.000000</td>\n      <td>...</td>\n      <td>0.000000</td>\n      <td>0.000000</td>\n      <td>0.000000</td>\n      <td>0.000000</td>\n      <td>0.0</td>\n      <td>0.0</td>\n      <td>0.0</td>\n      <td>0.0</td>\n      <td>0.0</td>\n      <td>0.0</td>\n    </tr>\n    <tr>\n      <th>...</th>\n      <td>...</td>\n      <td>...</td>\n      <td>...</td>\n      <td>...</td>\n      <td>...</td>\n      <td>...</td>\n      <td>...</td>\n      <td>...</td>\n      <td>...</td>\n      <td>...</td>\n      <td>...</td>\n      <td>...</td>\n      <td>...</td>\n      <td>...</td>\n      <td>...</td>\n      <td>...</td>\n      <td>...</td>\n      <td>...</td>\n      <td>...</td>\n      <td>...</td>\n      <td>...</td>\n    </tr>\n    <tr>\n      <th>69995</th>\n      <td>0.0</td>\n      <td>0.0</td>\n      <td>0.0</td>\n      <td>0.0</td>\n      <td>0.0</td>\n      <td>0.000000</td>\n      <td>0.0</td>\n      <td>0.0</td>\n      <td>0.000000</td>\n      <td>0.000000</td>\n      <td>...</td>\n      <td>0.000000</td>\n      <td>0.000000</td>\n      <td>0.000000</td>\n      <td>0.000000</td>\n      <td>0.0</td>\n      <td>0.0</td>\n      <td>0.0</td>\n      <td>0.0</td>\n      <td>0.0</td>\n      <td>0.0</td>\n    </tr>\n    <tr>\n      <th>69996</th>\n      <td>0.0</td>\n      <td>0.0</td>\n      <td>0.0</td>\n      <td>0.0</td>\n      <td>0.0</td>\n      <td>0.000000</td>\n      <td>0.0</td>\n      <td>0.0</td>\n      <td>0.000000</td>\n      <td>0.121094</td>\n      <td>...</td>\n      <td>0.000000</td>\n      <td>0.000000</td>\n      <td>0.000000</td>\n      <td>0.000000</td>\n      <td>0.0</td>\n      <td>0.0</td>\n      <td>0.0</td>\n      <td>0.0</td>\n      <td>0.0</td>\n      <td>0.0</td>\n    </tr>\n    <tr>\n      <th>69997</th>\n      <td>0.0</td>\n      <td>0.0</td>\n      <td>0.0</td>\n      <td>0.0</td>\n      <td>0.0</td>\n      <td>0.000000</td>\n      <td>0.0</td>\n      <td>0.0</td>\n      <td>0.000000</td>\n      <td>0.000000</td>\n      <td>...</td>\n      <td>0.105469</td>\n      <td>0.000000</td>\n      <td>0.000000</td>\n      <td>0.000000</td>\n      <td>0.0</td>\n      <td>0.0</td>\n      <td>0.0</td>\n      <td>0.0</td>\n      <td>0.0</td>\n      <td>0.0</td>\n    </tr>\n    <tr>\n      <th>69998</th>\n      <td>0.0</td>\n      <td>0.0</td>\n      <td>0.0</td>\n      <td>0.0</td>\n      <td>0.0</td>\n      <td>0.000000</td>\n      <td>0.0</td>\n      <td>0.0</td>\n      <td>0.000000</td>\n      <td>0.000000</td>\n      <td>...</td>\n      <td>0.000000</td>\n      <td>0.000000</td>\n      <td>0.000000</td>\n      <td>0.000000</td>\n      <td>0.0</td>\n      <td>0.0</td>\n      <td>0.0</td>\n      <td>0.0</td>\n      <td>0.0</td>\n      <td>0.0</td>\n    </tr>\n    <tr>\n      <th>69999</th>\n      <td>0.0</td>\n      <td>0.0</td>\n      <td>0.0</td>\n      <td>0.0</td>\n      <td>0.0</td>\n      <td>0.000000</td>\n      <td>0.0</td>\n      <td>0.0</td>\n      <td>0.000000</td>\n      <td>0.000000</td>\n      <td>...</td>\n      <td>0.000000</td>\n      <td>0.000000</td>\n      <td>0.000000</td>\n      <td>0.000000</td>\n      <td>0.0</td>\n      <td>0.0</td>\n      <td>0.0</td>\n      <td>0.0</td>\n      <td>0.0</td>\n      <td>0.0</td>\n    </tr>\n  </tbody>\n</table>\n<p>70000 rows × 784 columns</p>\n</div>"
     },
     "execution_count": 31,
     "metadata": {},
     "output_type": "execute_result"
    }
   ],
   "source": [
    "feature = feature/256\n",
    "feature"
   ],
   "metadata": {
    "collapsed": false,
    "ExecuteTime": {
     "end_time": "2024-03-15T11:02:18.311090Z",
     "start_time": "2024-03-15T11:02:18.173923Z"
    }
   },
   "id": "59406c9a19fb575",
   "execution_count": 31
  },
  {
   "cell_type": "code",
   "outputs": [],
   "source": [
    "# 사용자 정의 Dataset 클래스\n",
    "\n",
    "\n",
    "class DLDataset(Dataset):\n",
    "    def __init__(self, x_data, y_data):\n",
    "        super().__init__()\n",
    "        \n",
    "        # x,y 데이터 ==> ndarray\n",
    "        x_data = x_data.values if isinstance(x_data, pd.DataFrame) else x_data\n",
    "        y_data = y_data.values if isinstance(y_data, pd.DataFrame) else y_data\n",
    "\n",
    "        # ndarray ==> tensor        \n",
    "        self.feature = torch.FloatTensor(x_data)\n",
    "        self.target = torch.LongTensor(y_data)\n",
    "        \n",
    "    def __len__(self):\n",
    "        return self.target.shape[0]\n",
    "    \n",
    "    def __getitem__(self, index):\n",
    "        return self.feature[index], self.target[index]"
   ],
   "metadata": {
    "collapsed": false,
    "ExecuteTime": {
     "end_time": "2024-03-15T11:02:18.325963Z",
     "start_time": "2024-03-15T11:02:18.314015Z"
    }
   },
   "id": "2d50d244c9c65f6",
   "execution_count": 32
  },
  {
   "cell_type": "code",
   "outputs": [
    {
     "name": "stdout",
     "output_type": "stream",
     "text": [
      "Feature : (70000, 784), 2D\n",
      "Target : (70000,), 1D\n"
     ]
    }
   ],
   "source": [
    "print(f\"Feature : {feature.shape}, {feature.ndim}D\")\n",
    "print(f\"Target : {target.shape}, {target.ndim}D\")"
   ],
   "metadata": {
    "collapsed": false,
    "ExecuteTime": {
     "end_time": "2024-03-15T11:02:18.341322Z",
     "start_time": "2024-03-15T11:02:18.328995Z"
    }
   },
   "id": "cb72ca1a9e869b67",
   "execution_count": 33
  },
  {
   "cell_type": "code",
   "outputs": [
    {
     "data": {
      "text/plain": "array([9, 0, 3, 2, 7, 5, 1, 6, 4, 8])"
     },
     "execution_count": 34,
     "metadata": {},
     "output_type": "execute_result"
    }
   ],
   "source": [
    "# 전처리\n",
    "from sklearn.preprocessing import LabelEncoder\n",
    "le = LabelEncoder()\n",
    "le.fit(target)\n",
    "\n",
    "target = le.transform(target)\n",
    "target = pd.Series(target)\n",
    "target.unique()"
   ],
   "metadata": {
    "collapsed": false,
    "ExecuteTime": {
     "end_time": "2024-03-15T11:02:18.388917Z",
     "start_time": "2024-03-15T11:02:18.342320Z"
    }
   },
   "id": "262c34d3c5f8f68c",
   "execution_count": 34
  },
  {
   "cell_type": "code",
   "outputs": [],
   "source": [
    "# 데이터 셋 생성 \n",
    "my_dataset = DLDataset(feature, target)"
   ],
   "metadata": {
    "collapsed": false,
    "ExecuteTime": {
     "end_time": "2024-03-15T11:02:18.525732Z",
     "start_time": "2024-03-15T11:02:18.391256Z"
    }
   },
   "id": "242231b14bcca64c",
   "execution_count": 35
  },
  {
   "cell_type": "code",
   "outputs": [],
   "source": [
    "# 학습용, 검증용, 테스트용 Dataset 생성\n",
    "from torch.utils.data import random_split\n",
    "\n",
    "seed = torch.Generator().manual_seed(2)\n",
    "\n",
    "trainDS, validDS, testDS = random_split(my_dataset, [0.6, 0.25, 0.15], generator = seed)"
   ],
   "metadata": {
    "collapsed": false,
    "ExecuteTime": {
     "end_time": "2024-03-15T11:02:18.556923Z",
     "start_time": "2024-03-15T11:02:18.528919Z"
    }
   },
   "id": "f1dd7c056ebe043",
   "execution_count": 36
  },
  {
   "cell_type": "code",
   "outputs": [],
   "source": [
    "# 학습용, 검증용, 테스트용 DataLoader 생성\n",
    "\n",
    "batch = 100\n",
    "\n",
    "trainDL = DataLoader(trainDS, batch_size = batch)\n",
    "validDL = DataLoader(validDS, batch_size = batch)\n",
    "testDL = DataLoader(testDS, batch_size = batch)"
   ],
   "metadata": {
    "collapsed": false,
    "ExecuteTime": {
     "end_time": "2024-03-15T11:02:18.603851Z",
     "start_time": "2024-03-15T11:02:18.560195Z"
    }
   },
   "id": "265d2f10c570869a",
   "execution_count": 37
  },
  {
   "cell_type": "code",
   "outputs": [
    {
     "name": "stdout",
     "output_type": "stream",
     "text": [
      "batch_size : 100\n",
      "trainDS : 42000개, validDS : 17500개, testDS: 10500개\n",
      "trainDL : 420개, validDL : 175개, testDL: 105개\n"
     ]
    }
   ],
   "source": [
    "# Epoch당 반복 단위\n",
    "print(f\"batch_size : {batch}\")\n",
    "print(f\"trainDS : {len(trainDS)}개, validDS : {len(validDS)}개, testDS: {len(testDS)}개\")\n",
    "print(f\"trainDL : {len(trainDL)}개, validDL : {len(validDL)}개, testDL: {len(testDL)}개\")"
   ],
   "metadata": {
    "collapsed": false,
    "ExecuteTime": {
     "end_time": "2024-03-15T11:02:18.619461Z",
     "start_time": "2024-03-15T11:02:18.607013Z"
    }
   },
   "id": "cd96af137490e347",
   "execution_count": 38
  },
  {
   "cell_type": "markdown",
   "source": [
    "# 4. Model 클래스 정의 : 입출력 피처수, 층수, 은닉층의 노드 수"
   ],
   "metadata": {
    "collapsed": false
   },
   "id": "643f2463a53214b2"
  },
  {
   "cell_type": "code",
   "outputs": [],
   "source": [
    "class CModel(nn.Module):\n",
    "    def __init__(self, in_, out_):\n",
    "        super().__init__()\n",
    "        self.input_layer = nn.Linear(in_, 500)\n",
    "        self.relu = nn.ReLU()\n",
    "        self.hidden_layer_01 = nn.Linear(500, 400)\n",
    "        self.hidden_layer_02 = nn.Linear(400, 300)\n",
    "        self.hidden_layer_03 = nn.Linear(300, 200)\n",
    "        self.hidden_layer_04 = nn.Linear(200, 100)\n",
    "        self.hidden_layer_05 = nn.Linear(100, 50)\n",
    "        self.output_layer = nn.Linear(50, out_)\n",
    "        \n",
    "    def forward(self, x):\n",
    "        x = self.input_layer(x)\n",
    "        x = self.relu(x)\n",
    "        x = self.hidden_layer_01(x)\n",
    "        x = self.relu(x)\n",
    "        x = self.hidden_layer_02(x)\n",
    "        x = self.relu(x)\n",
    "        x = self.hidden_layer_03(x)\n",
    "        x = self.relu(x)\n",
    "        x = self.hidden_layer_04(x)\n",
    "        x = self.relu(x)\n",
    "        x = self.hidden_layer_05(x)\n",
    "        x = self.relu(x)\n",
    "        x = self.output_layer(x)\n",
    "        \n",
    "        return x"
   ],
   "metadata": {
    "collapsed": false,
    "ExecuteTime": {
     "end_time": "2024-03-15T11:02:18.649936Z",
     "start_time": "2024-03-15T11:02:18.626320Z"
    }
   },
   "id": "8c3d10872b8fbe7b",
   "execution_count": 39
  },
  {
   "cell_type": "markdown",
   "source": [
    "# 5. 학습 준비"
   ],
   "metadata": {
    "collapsed": false
   },
   "id": "3daa5de3cec3a60f"
  },
  {
   "cell_type": "code",
   "outputs": [],
   "source": [
    "# 실행 디바이스 설정\n",
    "DEVICE = 'cuda' if torch.cuda.is_available() else 'cpu'\n",
    "\n",
    "# 학습횟수\n",
    "EPOCHS = 30"
   ],
   "metadata": {
    "collapsed": false,
    "ExecuteTime": {
     "end_time": "2024-03-15T11:02:18.665699Z",
     "start_time": "2024-03-15T11:02:18.653623Z"
    }
   },
   "id": "12d89a2ffeb6f5af",
   "execution_count": 40
  },
  {
   "cell_type": "code",
   "outputs": [
    {
     "name": "stdout",
     "output_type": "stream",
     "text": [
      "784 10\n"
     ]
    }
   ],
   "source": [
    "# 모델 인스턴스\n",
    "IN, OUT = my_dataset.feature.shape[1], 10\n",
    "print(IN, OUT)\n",
    "\n",
    "model = CModel(IN, OUT).to(DEVICE)"
   ],
   "metadata": {
    "collapsed": false,
    "ExecuteTime": {
     "end_time": "2024-03-15T11:02:18.696856Z",
     "start_time": "2024-03-15T11:02:18.668124Z"
    }
   },
   "id": "4232235df928d150",
   "execution_count": 41
  },
  {
   "cell_type": "code",
   "outputs": [],
   "source": [
    "# 손실함수\n",
    "loss_fx = nn.CrossEntropyLoss().to(DEVICE)"
   ],
   "metadata": {
    "collapsed": false,
    "ExecuteTime": {
     "end_time": "2024-03-15T11:02:18.712062Z",
     "start_time": "2024-03-15T11:02:18.700008Z"
    }
   },
   "id": "8e3356cf64b630fe",
   "execution_count": 42
  },
  {
   "cell_type": "code",
   "outputs": [],
   "source": [
    "# 최적화 인스턴스\n",
    "import torch.optim as optim\n",
    "OPTIMIZER = optim.Adam(model.parameters())"
   ],
   "metadata": {
    "collapsed": false,
    "ExecuteTime": {
     "end_time": "2024-03-15T11:02:18.727910Z",
     "start_time": "2024-03-15T11:02:18.715168Z"
    }
   },
   "id": "f847d90f5d544418",
   "execution_count": 43
  },
  {
   "cell_type": "code",
   "outputs": [],
   "source": [
    "import torchmetrics.functional as metrics\n",
    "\n",
    "# 학습 진행 함수\n",
    "# => 정규화, 경사하강법, 드랍아웃 등의 기능 활성화\n",
    "def training ():\n",
    "    model.train()\n",
    "    \n",
    "    train_loss = []\n",
    "    \n",
    "    for cnt, (feature, target) in enumerate(trainDL):\n",
    "        # 배치 크기만큼의 학습 데이터 준비\n",
    "        feature, target = feature.to(DEVICE), target.to(DEVICE)\n",
    "        \n",
    "        # 학습\n",
    "        predict_target = model(feature)\n",
    "        \n",
    "        # 손실\n",
    "        loss = loss_fx(predict_target, target)\n",
    "        train_loss.append(loss)\n",
    "        \n",
    "        # W, b 업데이트\n",
    "        OPTIMIZER.zero_grad()    # 0으로 만들기\n",
    "        loss.backward()          # 역방향 학습\n",
    "        OPTIMIZER.step()         # 업데이트\n",
    "        \n",
    "        # 정확도\n",
    "        acc = metrics.accuracy(predict_target, target, task = 'multiclass', num_classes = 10)\n",
    "        \n",
    "    # 에포크 단위 학습 진행 출력\n",
    "    # print(f\"[Train Loss] {loss}\")\n",
    "    \n",
    "    return train_loss"
   ],
   "metadata": {
    "collapsed": false,
    "ExecuteTime": {
     "end_time": "2024-03-15T11:02:18.743508Z",
     "start_time": "2024-03-15T11:02:18.730994Z"
    }
   },
   "id": "14fc6e7596fc64c1",
   "execution_count": 44
  },
  {
   "cell_type": "markdown",
   "source": [
    "# 학습 함수에서 모르는거 있씀"
   ],
   "metadata": {
    "collapsed": false
   },
   "id": "c68ceed99beb6e2f"
  },
  {
   "cell_type": "code",
   "outputs": [],
   "source": [
    "# 검증 및 평가 진행 함수\n",
    "# 매개변수 dataLoader : 검증 또는 테스트 데이터셋에 대한 Loader\n",
    "\n",
    "def testing(dataLoader):\n",
    "    model.eval()\n",
    "    \n",
    "    with torch.no_grad():      # =====================> 뭐지?????????????????\n",
    "        # 배치 크기 만큼 학습 진행 및 저장\n",
    "        val_loss = []\n",
    "        for cnt, (feature, target) in enumerate(dataLoader):\n",
    "            # 배치 크기 만큼의 학습 데이터 준비\n",
    "            feature, target = feature.to(DEVICE), target.to(DEVICE)\n",
    "            \n",
    "            # 학습\n",
    "            predict_target = model(feature)\n",
    "            \n",
    "            # 손실 계산\n",
    "            loss = loss_fx(predict_target, target)\n",
    "            val_loss.append(loss)\n",
    "            \n",
    "            \n",
    "        # 에포크 단위 진행 메시지 출력\n",
    "        # print(f\"[Valid Loss] {loss}\")\n",
    "        \n",
    "        return val_loss    "
   ],
   "metadata": {
    "collapsed": false,
    "ExecuteTime": {
     "end_time": "2024-03-15T11:02:18.758821Z",
     "start_time": "2024-03-15T11:02:18.746681Z"
    }
   },
   "id": "2d9a7c842c45b36b",
   "execution_count": 45
  },
  {
   "cell_type": "markdown",
   "source": [
    "# 6. 학습 진행"
   ],
   "metadata": {
    "collapsed": false
   },
   "id": "676f398b37ad91ee"
  },
  {
   "cell_type": "code",
   "outputs": [
    {
     "name": "stderr",
     "output_type": "stream",
     "text": [
      "C:\\ProgramData\\anaconda3\\envs\\Torch_PY38\\lib\\site-packages\\torch\\optim\\lr_scheduler.py:28: UserWarning: The verbose parameter is deprecated. Please use get_last_lr() to access the learning rate.\n",
      "  warnings.warn(\"The verbose parameter is deprecated. Please use get_last_lr() \"\n"
     ]
    }
   ],
   "source": [
    "from torch.optim.lr_scheduler import ReduceLROnPlateau\n",
    "\n",
    "optimizer = torch.optim.SGD(model.parameters(), lr = 0.001, momentum = 0.9)\n",
    "scheduler = ReduceLROnPlateau(optimizer, mode='min', patience = 10, verbose = True)"
   ],
   "metadata": {
    "collapsed": false,
    "ExecuteTime": {
     "end_time": "2024-03-15T11:11:33.018710Z",
     "start_time": "2024-03-15T11:11:33.004379Z"
    }
   },
   "id": "56f4eb19f92827a",
   "execution_count": 49
  },
  {
   "cell_type": "code",
   "outputs": [
    {
     "name": "stdout",
     "output_type": "stream",
     "text": [
      "[0/30] \n",
      "TRAIN 0.19255594909191132 \n",
      "VALID 0.5475034713745117\n",
      "\n",
      "[1/30] \n",
      "TRAIN 0.18685504794120789 \n",
      "VALID 0.6797797679901123\n",
      "\n",
      "[2/30] \n",
      "TRAIN 0.19970770180225372 \n",
      "VALID 0.5371396541595459\n",
      "\n",
      "[3/30] \n",
      "TRAIN 0.1973302960395813 \n",
      "VALID 0.5717118978500366\n",
      "\n",
      "[4/30] \n",
      "TRAIN 0.175017848610878 \n",
      "VALID 0.6368454694747925\n",
      "\n",
      "[5/30] \n",
      "TRAIN 0.17930491268634796 \n",
      "VALID 0.5979553461074829\n",
      "\n",
      "[6/30] \n",
      "TRAIN 0.17655378580093384 \n",
      "VALID 0.5971550345420837\n",
      "\n",
      "[7/30] \n",
      "TRAIN 0.16559545695781708 \n",
      "VALID 0.6091355085372925\n",
      "\n",
      "[8/30] \n",
      "TRAIN 0.1643969565629959 \n",
      "VALID 0.6249185800552368\n",
      "\n",
      "[9/30] \n",
      "TRAIN 0.16207139194011688 \n",
      "VALID 0.6014209985733032\n",
      "\n",
      "[10/30] \n",
      "TRAIN 0.1500771939754486 \n",
      "VALID 0.6646472811698914\n",
      "\n",
      "\n",
      "Early stopping at epoch 10\n"
     ]
    }
   ],
   "source": [
    "for eps in range(EPOCHS):\n",
    "    # 학습\n",
    "    train_loss = training()\n",
    "    \n",
    "    # 검증\n",
    "    valid_loss = testing(validDL)\n",
    "    \n",
    "    print(f\"[{eps}/{EPOCHS}] \\nTRAIN {sum(train_loss) / len(valid_loss)} \\nVALID {sum(valid_loss)/len(valid_loss)}\\n\\n\")\n",
    "    \n",
    "    # 학습률 조절\n",
    "    scheduler.step(valid_loss[1])\n",
    "    \n",
    "    # 조기 종료 체크\n",
    "    if scheduler.num_bad_epochs >= scheduler.patience : \n",
    "        print(f\"Early stopping at epoch {eps}\")\n",
    "        break"
   ],
   "metadata": {
    "collapsed": false,
    "ExecuteTime": {
     "end_time": "2024-03-15T11:17:27.491061Z",
     "start_time": "2024-03-15T11:14:50.906623Z"
    }
   },
   "id": "a3e6ff5d5ecd158a",
   "execution_count": 52
  },
  {
   "cell_type": "code",
   "outputs": [],
   "source": [],
   "metadata": {
    "collapsed": false,
    "ExecuteTime": {
     "end_time": "2024-03-15T11:06:24.544299Z",
     "start_time": "2024-03-15T11:06:24.534180Z"
    }
   },
   "id": "ea77875b7b7f52af",
   "execution_count": 48
  }
 ],
 "metadata": {
  "kernelspec": {
   "display_name": "Python 3",
   "language": "python",
   "name": "python3"
  },
  "language_info": {
   "codemirror_mode": {
    "name": "ipython",
    "version": 2
   },
   "file_extension": ".py",
   "mimetype": "text/x-python",
   "name": "python",
   "nbconvert_exporter": "python",
   "pygments_lexer": "ipython2",
   "version": "2.7.6"
  }
 },
 "nbformat": 4,
 "nbformat_minor": 5
}
