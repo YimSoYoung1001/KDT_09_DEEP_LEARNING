{
 "cells": [
  {
   "cell_type": "markdown",
   "source": [
    "24.03.15. 과제 - MNIST FASHION => 클래스 만들어서 해보기"
   ],
   "metadata": {
    "collapsed": false
   },
   "id": "52e5eedcb73ca211"
  },
  {
   "cell_type": "markdown",
   "source": [
    "# 1. 모듈 로딩 및 데이터 준비"
   ],
   "metadata": {
    "collapsed": false
   },
   "id": "e9c69cacdb855454"
  },
  {
   "cell_type": "code",
   "outputs": [],
   "source": [
    "from sklearn.datasets import fetch_openml\n",
    "import torch\n",
    "import torch.nn as nn\n",
    "import torch.nn.functional as F\n",
    "import torch.optim as optim\n",
    "import numpy as np\n",
    "import pandas as pd\n",
    "\n",
    "from torch.utils.data import Dataset, DataLoader"
   ],
   "metadata": {
    "collapsed": false,
    "ExecuteTime": {
     "end_time": "2024-03-15T11:07:22.179331Z",
     "start_time": "2024-03-15T11:07:22.165187Z"
    }
   },
   "id": "bfdb76474c67bcf8",
   "execution_count": 128
  },
  {
   "cell_type": "code",
   "outputs": [
    {
     "data": {
      "text/plain": "dict_keys(['data', 'target', 'frame', 'categories', 'feature_names', 'target_names', 'DESCR', 'details', 'url'])"
     },
     "execution_count": 129,
     "metadata": {},
     "output_type": "execute_result"
    }
   ],
   "source": [
    "file = fetch_openml('Fashion-MNIST', parser = 'auto')\n",
    "file.keys()"
   ],
   "metadata": {
    "collapsed": false,
    "ExecuteTime": {
     "end_time": "2024-03-15T11:07:26.174775Z",
     "start_time": "2024-03-15T11:07:22.181391Z"
    }
   },
   "id": "4a8bdfa5ab34e0a1",
   "execution_count": 129
  },
  {
   "cell_type": "markdown",
   "source": [
    "# 2. 데이터셋 생성"
   ],
   "metadata": {
    "collapsed": false
   },
   "id": "f7f72970e250197f"
  },
  {
   "cell_type": "code",
   "outputs": [
    {
     "data": {
      "text/plain": "       pixel1  pixel2  pixel3  pixel4  pixel5  pixel6  pixel7  pixel8  pixel9  \\\n0           0       0       0       0       0       0       0       0       0   \n1           0       0       0       0       0       1       0       0       0   \n2           0       0       0       0       0       0       0       0       0   \n3           0       0       0       0       0       0       0       0      33   \n4           0       0       0       0       0       0       0       0       0   \n...       ...     ...     ...     ...     ...     ...     ...     ...     ...   \n69995       0       0       0       0       0       0       0       0       0   \n69996       0       0       0       0       0       0       0       0       0   \n69997       0       0       0       0       0       0       0       0       0   \n69998       0       0       0       0       0       0       0       0       0   \n69999       0       0       0       0       0       0       0       0       0   \n\n       pixel10  ...  pixel775  pixel776  pixel777  pixel778  pixel779  \\\n0            0  ...         0         0         0         0         0   \n1            0  ...       119       114       130        76         0   \n2           22  ...         0         0         1         0         0   \n3           96  ...         0         0         0         0         0   \n4            0  ...         0         0         0         0         0   \n...        ...  ...       ...       ...       ...       ...       ...   \n69995        0  ...         0         0         0         0         0   \n69996       31  ...         0         0         0         0         0   \n69997        0  ...        27         0         0         0         0   \n69998        0  ...         0         0         0         0         0   \n69999        0  ...         0         0         0         0         0   \n\n       pixel780  pixel781  pixel782  pixel783  pixel784  \n0             0         0         0         0         0  \n1             0         0         0         0         0  \n2             0         0         0         0         0  \n3             0         0         0         0         0  \n4             0         0         0         0         0  \n...         ...       ...       ...       ...       ...  \n69995         0         0         0         0         0  \n69996         0         0         0         0         0  \n69997         0         0         0         0         0  \n69998         0         0         0         0         0  \n69999         0         0         0         0         0  \n\n[70000 rows x 784 columns]",
      "text/html": "<div>\n<style scoped>\n    .dataframe tbody tr th:only-of-type {\n        vertical-align: middle;\n    }\n\n    .dataframe tbody tr th {\n        vertical-align: top;\n    }\n\n    .dataframe thead th {\n        text-align: right;\n    }\n</style>\n<table border=\"1\" class=\"dataframe\">\n  <thead>\n    <tr style=\"text-align: right;\">\n      <th></th>\n      <th>pixel1</th>\n      <th>pixel2</th>\n      <th>pixel3</th>\n      <th>pixel4</th>\n      <th>pixel5</th>\n      <th>pixel6</th>\n      <th>pixel7</th>\n      <th>pixel8</th>\n      <th>pixel9</th>\n      <th>pixel10</th>\n      <th>...</th>\n      <th>pixel775</th>\n      <th>pixel776</th>\n      <th>pixel777</th>\n      <th>pixel778</th>\n      <th>pixel779</th>\n      <th>pixel780</th>\n      <th>pixel781</th>\n      <th>pixel782</th>\n      <th>pixel783</th>\n      <th>pixel784</th>\n    </tr>\n  </thead>\n  <tbody>\n    <tr>\n      <th>0</th>\n      <td>0</td>\n      <td>0</td>\n      <td>0</td>\n      <td>0</td>\n      <td>0</td>\n      <td>0</td>\n      <td>0</td>\n      <td>0</td>\n      <td>0</td>\n      <td>0</td>\n      <td>...</td>\n      <td>0</td>\n      <td>0</td>\n      <td>0</td>\n      <td>0</td>\n      <td>0</td>\n      <td>0</td>\n      <td>0</td>\n      <td>0</td>\n      <td>0</td>\n      <td>0</td>\n    </tr>\n    <tr>\n      <th>1</th>\n      <td>0</td>\n      <td>0</td>\n      <td>0</td>\n      <td>0</td>\n      <td>0</td>\n      <td>1</td>\n      <td>0</td>\n      <td>0</td>\n      <td>0</td>\n      <td>0</td>\n      <td>...</td>\n      <td>119</td>\n      <td>114</td>\n      <td>130</td>\n      <td>76</td>\n      <td>0</td>\n      <td>0</td>\n      <td>0</td>\n      <td>0</td>\n      <td>0</td>\n      <td>0</td>\n    </tr>\n    <tr>\n      <th>2</th>\n      <td>0</td>\n      <td>0</td>\n      <td>0</td>\n      <td>0</td>\n      <td>0</td>\n      <td>0</td>\n      <td>0</td>\n      <td>0</td>\n      <td>0</td>\n      <td>22</td>\n      <td>...</td>\n      <td>0</td>\n      <td>0</td>\n      <td>1</td>\n      <td>0</td>\n      <td>0</td>\n      <td>0</td>\n      <td>0</td>\n      <td>0</td>\n      <td>0</td>\n      <td>0</td>\n    </tr>\n    <tr>\n      <th>3</th>\n      <td>0</td>\n      <td>0</td>\n      <td>0</td>\n      <td>0</td>\n      <td>0</td>\n      <td>0</td>\n      <td>0</td>\n      <td>0</td>\n      <td>33</td>\n      <td>96</td>\n      <td>...</td>\n      <td>0</td>\n      <td>0</td>\n      <td>0</td>\n      <td>0</td>\n      <td>0</td>\n      <td>0</td>\n      <td>0</td>\n      <td>0</td>\n      <td>0</td>\n      <td>0</td>\n    </tr>\n    <tr>\n      <th>4</th>\n      <td>0</td>\n      <td>0</td>\n      <td>0</td>\n      <td>0</td>\n      <td>0</td>\n      <td>0</td>\n      <td>0</td>\n      <td>0</td>\n      <td>0</td>\n      <td>0</td>\n      <td>...</td>\n      <td>0</td>\n      <td>0</td>\n      <td>0</td>\n      <td>0</td>\n      <td>0</td>\n      <td>0</td>\n      <td>0</td>\n      <td>0</td>\n      <td>0</td>\n      <td>0</td>\n    </tr>\n    <tr>\n      <th>...</th>\n      <td>...</td>\n      <td>...</td>\n      <td>...</td>\n      <td>...</td>\n      <td>...</td>\n      <td>...</td>\n      <td>...</td>\n      <td>...</td>\n      <td>...</td>\n      <td>...</td>\n      <td>...</td>\n      <td>...</td>\n      <td>...</td>\n      <td>...</td>\n      <td>...</td>\n      <td>...</td>\n      <td>...</td>\n      <td>...</td>\n      <td>...</td>\n      <td>...</td>\n      <td>...</td>\n    </tr>\n    <tr>\n      <th>69995</th>\n      <td>0</td>\n      <td>0</td>\n      <td>0</td>\n      <td>0</td>\n      <td>0</td>\n      <td>0</td>\n      <td>0</td>\n      <td>0</td>\n      <td>0</td>\n      <td>0</td>\n      <td>...</td>\n      <td>0</td>\n      <td>0</td>\n      <td>0</td>\n      <td>0</td>\n      <td>0</td>\n      <td>0</td>\n      <td>0</td>\n      <td>0</td>\n      <td>0</td>\n      <td>0</td>\n    </tr>\n    <tr>\n      <th>69996</th>\n      <td>0</td>\n      <td>0</td>\n      <td>0</td>\n      <td>0</td>\n      <td>0</td>\n      <td>0</td>\n      <td>0</td>\n      <td>0</td>\n      <td>0</td>\n      <td>31</td>\n      <td>...</td>\n      <td>0</td>\n      <td>0</td>\n      <td>0</td>\n      <td>0</td>\n      <td>0</td>\n      <td>0</td>\n      <td>0</td>\n      <td>0</td>\n      <td>0</td>\n      <td>0</td>\n    </tr>\n    <tr>\n      <th>69997</th>\n      <td>0</td>\n      <td>0</td>\n      <td>0</td>\n      <td>0</td>\n      <td>0</td>\n      <td>0</td>\n      <td>0</td>\n      <td>0</td>\n      <td>0</td>\n      <td>0</td>\n      <td>...</td>\n      <td>27</td>\n      <td>0</td>\n      <td>0</td>\n      <td>0</td>\n      <td>0</td>\n      <td>0</td>\n      <td>0</td>\n      <td>0</td>\n      <td>0</td>\n      <td>0</td>\n    </tr>\n    <tr>\n      <th>69998</th>\n      <td>0</td>\n      <td>0</td>\n      <td>0</td>\n      <td>0</td>\n      <td>0</td>\n      <td>0</td>\n      <td>0</td>\n      <td>0</td>\n      <td>0</td>\n      <td>0</td>\n      <td>...</td>\n      <td>0</td>\n      <td>0</td>\n      <td>0</td>\n      <td>0</td>\n      <td>0</td>\n      <td>0</td>\n      <td>0</td>\n      <td>0</td>\n      <td>0</td>\n      <td>0</td>\n    </tr>\n    <tr>\n      <th>69999</th>\n      <td>0</td>\n      <td>0</td>\n      <td>0</td>\n      <td>0</td>\n      <td>0</td>\n      <td>0</td>\n      <td>0</td>\n      <td>0</td>\n      <td>0</td>\n      <td>0</td>\n      <td>...</td>\n      <td>0</td>\n      <td>0</td>\n      <td>0</td>\n      <td>0</td>\n      <td>0</td>\n      <td>0</td>\n      <td>0</td>\n      <td>0</td>\n      <td>0</td>\n      <td>0</td>\n    </tr>\n  </tbody>\n</table>\n<p>70000 rows × 784 columns</p>\n</div>"
     },
     "execution_count": 130,
     "metadata": {},
     "output_type": "execute_result"
    }
   ],
   "source": [
    "feature = file['data']\n",
    "feature"
   ],
   "metadata": {
    "collapsed": false,
    "ExecuteTime": {
     "end_time": "2024-03-15T11:07:26.210621Z",
     "start_time": "2024-03-15T11:07:26.175772Z"
    }
   },
   "id": "49bcd1ae421ca587",
   "execution_count": 130
  },
  {
   "cell_type": "code",
   "outputs": [
    {
     "data": {
      "text/plain": "0        9\n1        0\n2        0\n3        3\n4        0\n        ..\n69995    9\n69996    1\n69997    8\n69998    1\n69999    5\nName: class, Length: 70000, dtype: category\nCategories (10, object): ['0', '1', '2', '3', ..., '6', '7', '8', '9']"
     },
     "execution_count": 131,
     "metadata": {},
     "output_type": "execute_result"
    }
   ],
   "source": [
    "target = file['target']\n",
    "target"
   ],
   "metadata": {
    "collapsed": false,
    "ExecuteTime": {
     "end_time": "2024-03-15T11:07:26.226730Z",
     "start_time": "2024-03-15T11:07:26.212694Z"
    }
   },
   "id": "7be3f62e4552e118",
   "execution_count": 131
  },
  {
   "cell_type": "code",
   "outputs": [
    {
     "data": {
      "text/plain": "pixel1      0\npixel2      0\npixel3      0\npixel4      0\npixel5      0\n           ..\npixel780    0\npixel781    0\npixel782    0\npixel783    0\npixel784    0\nLength: 784, dtype: int64"
     },
     "execution_count": 132,
     "metadata": {},
     "output_type": "execute_result"
    }
   ],
   "source": [
    "feature.isna().sum()"
   ],
   "metadata": {
    "collapsed": false,
    "ExecuteTime": {
     "end_time": "2024-03-15T11:07:26.289962Z",
     "start_time": "2024-03-15T11:07:26.228878Z"
    }
   },
   "id": "559f4f3cf3289f6a",
   "execution_count": 132
  },
  {
   "cell_type": "code",
   "outputs": [
    {
     "data": {
      "text/plain": "0"
     },
     "execution_count": 133,
     "metadata": {},
     "output_type": "execute_result"
    }
   ],
   "source": [
    "feature.duplicated().sum()"
   ],
   "metadata": {
    "collapsed": false,
    "ExecuteTime": {
     "end_time": "2024-03-15T11:07:28.162363Z",
     "start_time": "2024-03-15T11:07:26.291461Z"
    }
   },
   "id": "36b10abe3bacef6d",
   "execution_count": 133
  },
  {
   "cell_type": "code",
   "outputs": [
    {
     "data": {
      "text/plain": "       pixel1  pixel2  pixel3  pixel4  pixel5    pixel6  pixel7  pixel8  \\\n0         0.0     0.0     0.0     0.0     0.0  0.000000     0.0     0.0   \n1         0.0     0.0     0.0     0.0     0.0  0.003906     0.0     0.0   \n2         0.0     0.0     0.0     0.0     0.0  0.000000     0.0     0.0   \n3         0.0     0.0     0.0     0.0     0.0  0.000000     0.0     0.0   \n4         0.0     0.0     0.0     0.0     0.0  0.000000     0.0     0.0   \n...       ...     ...     ...     ...     ...       ...     ...     ...   \n69995     0.0     0.0     0.0     0.0     0.0  0.000000     0.0     0.0   \n69996     0.0     0.0     0.0     0.0     0.0  0.000000     0.0     0.0   \n69997     0.0     0.0     0.0     0.0     0.0  0.000000     0.0     0.0   \n69998     0.0     0.0     0.0     0.0     0.0  0.000000     0.0     0.0   \n69999     0.0     0.0     0.0     0.0     0.0  0.000000     0.0     0.0   \n\n         pixel9   pixel10  ...  pixel775  pixel776  pixel777  pixel778  \\\n0      0.000000  0.000000  ...  0.000000  0.000000  0.000000  0.000000   \n1      0.000000  0.000000  ...  0.464844  0.445312  0.507812  0.296875   \n2      0.000000  0.085938  ...  0.000000  0.000000  0.003906  0.000000   \n3      0.128906  0.375000  ...  0.000000  0.000000  0.000000  0.000000   \n4      0.000000  0.000000  ...  0.000000  0.000000  0.000000  0.000000   \n...         ...       ...  ...       ...       ...       ...       ...   \n69995  0.000000  0.000000  ...  0.000000  0.000000  0.000000  0.000000   \n69996  0.000000  0.121094  ...  0.000000  0.000000  0.000000  0.000000   \n69997  0.000000  0.000000  ...  0.105469  0.000000  0.000000  0.000000   \n69998  0.000000  0.000000  ...  0.000000  0.000000  0.000000  0.000000   \n69999  0.000000  0.000000  ...  0.000000  0.000000  0.000000  0.000000   \n\n       pixel779  pixel780  pixel781  pixel782  pixel783  pixel784  \n0           0.0       0.0       0.0       0.0       0.0       0.0  \n1           0.0       0.0       0.0       0.0       0.0       0.0  \n2           0.0       0.0       0.0       0.0       0.0       0.0  \n3           0.0       0.0       0.0       0.0       0.0       0.0  \n4           0.0       0.0       0.0       0.0       0.0       0.0  \n...         ...       ...       ...       ...       ...       ...  \n69995       0.0       0.0       0.0       0.0       0.0       0.0  \n69996       0.0       0.0       0.0       0.0       0.0       0.0  \n69997       0.0       0.0       0.0       0.0       0.0       0.0  \n69998       0.0       0.0       0.0       0.0       0.0       0.0  \n69999       0.0       0.0       0.0       0.0       0.0       0.0  \n\n[70000 rows x 784 columns]",
      "text/html": "<div>\n<style scoped>\n    .dataframe tbody tr th:only-of-type {\n        vertical-align: middle;\n    }\n\n    .dataframe tbody tr th {\n        vertical-align: top;\n    }\n\n    .dataframe thead th {\n        text-align: right;\n    }\n</style>\n<table border=\"1\" class=\"dataframe\">\n  <thead>\n    <tr style=\"text-align: right;\">\n      <th></th>\n      <th>pixel1</th>\n      <th>pixel2</th>\n      <th>pixel3</th>\n      <th>pixel4</th>\n      <th>pixel5</th>\n      <th>pixel6</th>\n      <th>pixel7</th>\n      <th>pixel8</th>\n      <th>pixel9</th>\n      <th>pixel10</th>\n      <th>...</th>\n      <th>pixel775</th>\n      <th>pixel776</th>\n      <th>pixel777</th>\n      <th>pixel778</th>\n      <th>pixel779</th>\n      <th>pixel780</th>\n      <th>pixel781</th>\n      <th>pixel782</th>\n      <th>pixel783</th>\n      <th>pixel784</th>\n    </tr>\n  </thead>\n  <tbody>\n    <tr>\n      <th>0</th>\n      <td>0.0</td>\n      <td>0.0</td>\n      <td>0.0</td>\n      <td>0.0</td>\n      <td>0.0</td>\n      <td>0.000000</td>\n      <td>0.0</td>\n      <td>0.0</td>\n      <td>0.000000</td>\n      <td>0.000000</td>\n      <td>...</td>\n      <td>0.000000</td>\n      <td>0.000000</td>\n      <td>0.000000</td>\n      <td>0.000000</td>\n      <td>0.0</td>\n      <td>0.0</td>\n      <td>0.0</td>\n      <td>0.0</td>\n      <td>0.0</td>\n      <td>0.0</td>\n    </tr>\n    <tr>\n      <th>1</th>\n      <td>0.0</td>\n      <td>0.0</td>\n      <td>0.0</td>\n      <td>0.0</td>\n      <td>0.0</td>\n      <td>0.003906</td>\n      <td>0.0</td>\n      <td>0.0</td>\n      <td>0.000000</td>\n      <td>0.000000</td>\n      <td>...</td>\n      <td>0.464844</td>\n      <td>0.445312</td>\n      <td>0.507812</td>\n      <td>0.296875</td>\n      <td>0.0</td>\n      <td>0.0</td>\n      <td>0.0</td>\n      <td>0.0</td>\n      <td>0.0</td>\n      <td>0.0</td>\n    </tr>\n    <tr>\n      <th>2</th>\n      <td>0.0</td>\n      <td>0.0</td>\n      <td>0.0</td>\n      <td>0.0</td>\n      <td>0.0</td>\n      <td>0.000000</td>\n      <td>0.0</td>\n      <td>0.0</td>\n      <td>0.000000</td>\n      <td>0.085938</td>\n      <td>...</td>\n      <td>0.000000</td>\n      <td>0.000000</td>\n      <td>0.003906</td>\n      <td>0.000000</td>\n      <td>0.0</td>\n      <td>0.0</td>\n      <td>0.0</td>\n      <td>0.0</td>\n      <td>0.0</td>\n      <td>0.0</td>\n    </tr>\n    <tr>\n      <th>3</th>\n      <td>0.0</td>\n      <td>0.0</td>\n      <td>0.0</td>\n      <td>0.0</td>\n      <td>0.0</td>\n      <td>0.000000</td>\n      <td>0.0</td>\n      <td>0.0</td>\n      <td>0.128906</td>\n      <td>0.375000</td>\n      <td>...</td>\n      <td>0.000000</td>\n      <td>0.000000</td>\n      <td>0.000000</td>\n      <td>0.000000</td>\n      <td>0.0</td>\n      <td>0.0</td>\n      <td>0.0</td>\n      <td>0.0</td>\n      <td>0.0</td>\n      <td>0.0</td>\n    </tr>\n    <tr>\n      <th>4</th>\n      <td>0.0</td>\n      <td>0.0</td>\n      <td>0.0</td>\n      <td>0.0</td>\n      <td>0.0</td>\n      <td>0.000000</td>\n      <td>0.0</td>\n      <td>0.0</td>\n      <td>0.000000</td>\n      <td>0.000000</td>\n      <td>...</td>\n      <td>0.000000</td>\n      <td>0.000000</td>\n      <td>0.000000</td>\n      <td>0.000000</td>\n      <td>0.0</td>\n      <td>0.0</td>\n      <td>0.0</td>\n      <td>0.0</td>\n      <td>0.0</td>\n      <td>0.0</td>\n    </tr>\n    <tr>\n      <th>...</th>\n      <td>...</td>\n      <td>...</td>\n      <td>...</td>\n      <td>...</td>\n      <td>...</td>\n      <td>...</td>\n      <td>...</td>\n      <td>...</td>\n      <td>...</td>\n      <td>...</td>\n      <td>...</td>\n      <td>...</td>\n      <td>...</td>\n      <td>...</td>\n      <td>...</td>\n      <td>...</td>\n      <td>...</td>\n      <td>...</td>\n      <td>...</td>\n      <td>...</td>\n      <td>...</td>\n    </tr>\n    <tr>\n      <th>69995</th>\n      <td>0.0</td>\n      <td>0.0</td>\n      <td>0.0</td>\n      <td>0.0</td>\n      <td>0.0</td>\n      <td>0.000000</td>\n      <td>0.0</td>\n      <td>0.0</td>\n      <td>0.000000</td>\n      <td>0.000000</td>\n      <td>...</td>\n      <td>0.000000</td>\n      <td>0.000000</td>\n      <td>0.000000</td>\n      <td>0.000000</td>\n      <td>0.0</td>\n      <td>0.0</td>\n      <td>0.0</td>\n      <td>0.0</td>\n      <td>0.0</td>\n      <td>0.0</td>\n    </tr>\n    <tr>\n      <th>69996</th>\n      <td>0.0</td>\n      <td>0.0</td>\n      <td>0.0</td>\n      <td>0.0</td>\n      <td>0.0</td>\n      <td>0.000000</td>\n      <td>0.0</td>\n      <td>0.0</td>\n      <td>0.000000</td>\n      <td>0.121094</td>\n      <td>...</td>\n      <td>0.000000</td>\n      <td>0.000000</td>\n      <td>0.000000</td>\n      <td>0.000000</td>\n      <td>0.0</td>\n      <td>0.0</td>\n      <td>0.0</td>\n      <td>0.0</td>\n      <td>0.0</td>\n      <td>0.0</td>\n    </tr>\n    <tr>\n      <th>69997</th>\n      <td>0.0</td>\n      <td>0.0</td>\n      <td>0.0</td>\n      <td>0.0</td>\n      <td>0.0</td>\n      <td>0.000000</td>\n      <td>0.0</td>\n      <td>0.0</td>\n      <td>0.000000</td>\n      <td>0.000000</td>\n      <td>...</td>\n      <td>0.105469</td>\n      <td>0.000000</td>\n      <td>0.000000</td>\n      <td>0.000000</td>\n      <td>0.0</td>\n      <td>0.0</td>\n      <td>0.0</td>\n      <td>0.0</td>\n      <td>0.0</td>\n      <td>0.0</td>\n    </tr>\n    <tr>\n      <th>69998</th>\n      <td>0.0</td>\n      <td>0.0</td>\n      <td>0.0</td>\n      <td>0.0</td>\n      <td>0.0</td>\n      <td>0.000000</td>\n      <td>0.0</td>\n      <td>0.0</td>\n      <td>0.000000</td>\n      <td>0.000000</td>\n      <td>...</td>\n      <td>0.000000</td>\n      <td>0.000000</td>\n      <td>0.000000</td>\n      <td>0.000000</td>\n      <td>0.0</td>\n      <td>0.0</td>\n      <td>0.0</td>\n      <td>0.0</td>\n      <td>0.0</td>\n      <td>0.0</td>\n    </tr>\n    <tr>\n      <th>69999</th>\n      <td>0.0</td>\n      <td>0.0</td>\n      <td>0.0</td>\n      <td>0.0</td>\n      <td>0.0</td>\n      <td>0.000000</td>\n      <td>0.0</td>\n      <td>0.0</td>\n      <td>0.000000</td>\n      <td>0.000000</td>\n      <td>...</td>\n      <td>0.000000</td>\n      <td>0.000000</td>\n      <td>0.000000</td>\n      <td>0.000000</td>\n      <td>0.0</td>\n      <td>0.0</td>\n      <td>0.0</td>\n      <td>0.0</td>\n      <td>0.0</td>\n      <td>0.0</td>\n    </tr>\n  </tbody>\n</table>\n<p>70000 rows × 784 columns</p>\n</div>"
     },
     "execution_count": 134,
     "metadata": {},
     "output_type": "execute_result"
    }
   ],
   "source": [
    "feature = feature/256\n",
    "feature"
   ],
   "metadata": {
    "collapsed": false,
    "ExecuteTime": {
     "end_time": "2024-03-15T11:07:28.256494Z",
     "start_time": "2024-03-15T11:07:28.164402Z"
    }
   },
   "id": "59406c9a19fb575",
   "execution_count": 134
  },
  {
   "cell_type": "code",
   "outputs": [],
   "source": [
    "# 사용자 정의 Dataset 클래스\n",
    "\n",
    "\n",
    "class DLDataset(Dataset):\n",
    "    def __init__(self, x_data, y_data):\n",
    "        super().__init__()\n",
    "        \n",
    "        # x,y 데이터 ==> ndarray\n",
    "        x_data = x_data.values if isinstance(x_data, pd.DataFrame) else x_data\n",
    "        y_data = y_data.values if isinstance(y_data, pd.DataFrame) else y_data\n",
    "\n",
    "        # ndarray ==> tensor        \n",
    "        self.feature = torch.FloatTensor(x_data)\n",
    "        self.target = torch.LongTensor(y_data)\n",
    "        \n",
    "    def __len__(self):\n",
    "        return self.target.shape[0]\n",
    "    \n",
    "    def __getitem__(self, index):\n",
    "        return self.feature[index], self.target[index]"
   ],
   "metadata": {
    "collapsed": false,
    "ExecuteTime": {
     "end_time": "2024-03-15T11:07:28.271985Z",
     "start_time": "2024-03-15T11:07:28.259076Z"
    }
   },
   "id": "2d50d244c9c65f6",
   "execution_count": 135
  },
  {
   "cell_type": "code",
   "outputs": [
    {
     "name": "stdout",
     "output_type": "stream",
     "text": [
      "Feature : (70000, 784), 2D\n",
      "Target : (70000,), 1D\n"
     ]
    }
   ],
   "source": [
    "print(f\"Feature : {feature.shape}, {feature.ndim}D\")\n",
    "print(f\"Target : {target.shape}, {target.ndim}D\")"
   ],
   "metadata": {
    "collapsed": false,
    "ExecuteTime": {
     "end_time": "2024-03-15T11:07:28.288015Z",
     "start_time": "2024-03-15T11:07:28.273553Z"
    }
   },
   "id": "cb72ca1a9e869b67",
   "execution_count": 136
  },
  {
   "cell_type": "code",
   "outputs": [
    {
     "data": {
      "text/plain": "array([9, 0, 3, 2, 7, 5, 1, 6, 4, 8])"
     },
     "execution_count": 137,
     "metadata": {},
     "output_type": "execute_result"
    }
   ],
   "source": [
    "# 전처리\n",
    "from sklearn.preprocessing import LabelEncoder\n",
    "le = LabelEncoder()\n",
    "le.fit(target)\n",
    "\n",
    "target = le.transform(target)\n",
    "target = pd.Series(target)\n",
    "target.unique()"
   ],
   "metadata": {
    "collapsed": false,
    "ExecuteTime": {
     "end_time": "2024-03-15T11:07:28.319334Z",
     "start_time": "2024-03-15T11:07:28.293392Z"
    }
   },
   "id": "262c34d3c5f8f68c",
   "execution_count": 137
  },
  {
   "cell_type": "code",
   "outputs": [],
   "source": [
    "# 데이터 셋 생성 \n",
    "my_dataset = DLDataset(feature, target)"
   ],
   "metadata": {
    "collapsed": false,
    "ExecuteTime": {
     "end_time": "2024-03-15T11:07:28.397589Z",
     "start_time": "2024-03-15T11:07:28.321381Z"
    }
   },
   "id": "242231b14bcca64c",
   "execution_count": 138
  },
  {
   "cell_type": "code",
   "outputs": [],
   "source": [
    "# 학습용, 검증용, 테스트용 Dataset 생성\n",
    "from torch.utils.data import random_split\n",
    "\n",
    "seed = torch.Generator().manual_seed(2)\n",
    "\n",
    "trainDS, validDS, testDS = random_split(my_dataset, [0.6, 0.25, 0.15], generator = seed)"
   ],
   "metadata": {
    "collapsed": false,
    "ExecuteTime": {
     "end_time": "2024-03-15T11:07:28.413522Z",
     "start_time": "2024-03-15T11:07:28.399812Z"
    }
   },
   "id": "f1dd7c056ebe043",
   "execution_count": 139
  },
  {
   "cell_type": "code",
   "outputs": [],
   "source": [
    "# 학습용, 검증용, 테스트용 DataLoader 생성\n",
    "\n",
    "batch = 100\n",
    "\n",
    "trainDL = DataLoader(trainDS, batch_size = batch)\n",
    "validDL = DataLoader(validDS, batch_size = batch)\n",
    "testDL = DataLoader(testDS, batch_size = batch)"
   ],
   "metadata": {
    "collapsed": false,
    "ExecuteTime": {
     "end_time": "2024-03-15T11:07:28.459973Z",
     "start_time": "2024-03-15T11:07:28.415720Z"
    }
   },
   "id": "265d2f10c570869a",
   "execution_count": 140
  },
  {
   "cell_type": "code",
   "outputs": [
    {
     "name": "stdout",
     "output_type": "stream",
     "text": [
      "batch_size : 100\n",
      "trainDS : 42000개, validDS : 17500개, testDS: 10500개\n",
      "trainDL : 420개, validDL : 175개, testDL: 105개\n"
     ]
    }
   ],
   "source": [
    "# Epoch당 반복 단위\n",
    "print(f\"batch_size : {batch}\")\n",
    "print(f\"trainDS : {len(trainDS)}개, validDS : {len(validDS)}개, testDS: {len(testDS)}개\")\n",
    "print(f\"trainDL : {len(trainDL)}개, validDL : {len(validDL)}개, testDL: {len(testDL)}개\")"
   ],
   "metadata": {
    "collapsed": false,
    "ExecuteTime": {
     "end_time": "2024-03-15T11:07:28.475331Z",
     "start_time": "2024-03-15T11:07:28.462017Z"
    }
   },
   "id": "cd96af137490e347",
   "execution_count": 141
  },
  {
   "cell_type": "markdown",
   "source": [
    "# 데이터셋과 데이터 로더는 뭐가 다르지? 임포트는 뭘 임포트 하고자 하는거지?"
   ],
   "metadata": {
    "collapsed": false
   },
   "id": "cf5e56d331e1451"
  },
  {
   "cell_type": "markdown",
   "source": [
    "# 4. Model 클래스 정의 : 입출력 피처수, 층수, 은닉층의 노드 수"
   ],
   "metadata": {
    "collapsed": false
   },
   "id": "643f2463a53214b2"
  },
  {
   "cell_type": "code",
   "outputs": [],
   "source": [
    "class CModel(nn.Module):\n",
    "    def __init__(self, in_, out_):\n",
    "        super().__init__()\n",
    "        self.input_layer = nn.Linear(in_, 500)\n",
    "        self.relu = nn.ReLU()\n",
    "        self.hidden_layer_01 = nn.Linear(500, 400)\n",
    "        self.hidden_layer_02 = nn.Linear(400, 300)\n",
    "        self.hidden_layer_03 = nn.Linear(300, 200)\n",
    "        self.hidden_layer_04 = nn.Linear(200, 100)\n",
    "        self.hidden_layer_05 = nn.Linear(100, 50)\n",
    "        self.output_layer = nn.Linear(50, out_)\n",
    "        \n",
    "    def forward(self, x):\n",
    "        x = self.input_layer(x)\n",
    "        x = self.relu(x)\n",
    "        x = self.hidden_layer_01(x)\n",
    "        x = self.relu(x)\n",
    "        x = self.hidden_layer_02(x)\n",
    "        x = self.relu(x)\n",
    "        x = self.hidden_layer_03(x)\n",
    "        x = self.relu(x)\n",
    "        x = self.hidden_layer_04(x)\n",
    "        x = self.relu(x)\n",
    "        x = self.hidden_layer_05(x)\n",
    "        x = self.relu(x)\n",
    "        x = self.output_layer(x)\n",
    "        \n",
    "        return x"
   ],
   "metadata": {
    "collapsed": false,
    "ExecuteTime": {
     "end_time": "2024-03-15T11:02:15.526739Z",
     "start_time": "2024-03-15T11:02:15.498044Z"
    }
   },
   "id": "8c3d10872b8fbe7b",
   "execution_count": 118
  },
  {
   "cell_type": "markdown",
   "source": [
    "# 5. 학습 준비"
   ],
   "metadata": {
    "collapsed": false
   },
   "id": "3daa5de3cec3a60f"
  },
  {
   "cell_type": "code",
   "outputs": [],
   "source": [
    "# 실행 디바이스 설정\n",
    "DEVICE = 'cuda' if torch.cuda.is_available() else 'cpu'\n",
    "\n",
    "# 학습횟수\n",
    "EPOCHS = 30"
   ],
   "metadata": {
    "collapsed": false,
    "ExecuteTime": {
     "end_time": "2024-03-15T11:02:15.542100Z",
     "start_time": "2024-03-15T11:02:15.528805Z"
    }
   },
   "id": "12d89a2ffeb6f5af",
   "execution_count": 119
  },
  {
   "cell_type": "code",
   "outputs": [
    {
     "name": "stdout",
     "output_type": "stream",
     "text": [
      "784 10\n"
     ]
    }
   ],
   "source": [
    "# 모델 인스턴스\n",
    "IN, OUT = my_dataset.feature.shape[1], 10\n",
    "print(IN, OUT)\n",
    "\n",
    "model = CModel(IN, OUT).to(DEVICE)"
   ],
   "metadata": {
    "collapsed": false,
    "ExecuteTime": {
     "end_time": "2024-03-15T11:02:15.573570Z",
     "start_time": "2024-03-15T11:02:15.544623Z"
    }
   },
   "id": "4232235df928d150",
   "execution_count": 120
  },
  {
   "cell_type": "markdown",
   "source": [
    "# 여기서 디바이스에 저장한다는 건 뭐지?"
   ],
   "metadata": {
    "collapsed": false
   },
   "id": "950b376043c7d48c"
  },
  {
   "cell_type": "code",
   "outputs": [],
   "source": [
    "# 손실함수\n",
    "loss_fx = nn.CrossEntropyLoss().to(DEVICE)"
   ],
   "metadata": {
    "collapsed": false,
    "ExecuteTime": {
     "end_time": "2024-03-15T11:02:15.589567Z",
     "start_time": "2024-03-15T11:02:15.577073Z"
    }
   },
   "id": "8e3356cf64b630fe",
   "execution_count": 121
  },
  {
   "cell_type": "code",
   "outputs": [],
   "source": [
    "# 최적화 인스턴스\n",
    "import torch.optim as optim\n",
    "OPTIMIZER = optim.Adam(model.parameters())"
   ],
   "metadata": {
    "collapsed": false,
    "ExecuteTime": {
     "end_time": "2024-03-15T11:02:15.605550Z",
     "start_time": "2024-03-15T11:02:15.593554Z"
    }
   },
   "id": "f847d90f5d544418",
   "execution_count": 122
  },
  {
   "cell_type": "markdown",
   "source": [
    "# 여기서 model.parameters()는 뭐지?"
   ],
   "metadata": {
    "collapsed": false
   },
   "id": "7def57fb97a2423"
  },
  {
   "cell_type": "code",
   "outputs": [],
   "source": [
    "import torchmetrics.functional as metrics\n",
    "\n",
    "# 학습 진행 함수\n",
    "# => 정규화, 경사하강법, 드랍아웃 등의 기능 활성화\n",
    "def training ():\n",
    "    model.train()              # =====================> 뭐지?????????????????\n",
    "    \n",
    "    train_loss = []\n",
    "    \n",
    "    for cnt, (feature, target) in enumerate(trainDL):\n",
    "        # 배치 크기만큼의 학습 데이터 준비\n",
    "        feature, target = feature.to(DEVICE), target.to(DEVICE)\n",
    "        \n",
    "        # 학습\n",
    "        predict_target = model(feature)\n",
    "        \n",
    "        # 손실\n",
    "        loss = loss_fx(predict_target, target)\n",
    "        train_loss.append(loss)\n",
    "        \n",
    "        # W, b 업데이트\n",
    "        OPTIMIZER.zero_grad()    # 0으로 만들기\n",
    "        loss.backward()          # 역방향 학습\n",
    "        OPTIMIZER.step()         # 업데이트\n",
    "        \n",
    "        # 정확도\n",
    "        acc = metrics.accuracy(predict_target, target, task = 'multiclass', num_classes = 10)\n",
    "        \n",
    "    # 에포크 단위 학습 진행 출력\n",
    "    # print(f\"[Train Loss] {loss}\")\n",
    "    \n",
    "    return train_loss"
   ],
   "metadata": {
    "collapsed": false,
    "ExecuteTime": {
     "end_time": "2024-03-15T11:02:15.622413Z",
     "start_time": "2024-03-15T11:02:15.608761Z"
    }
   },
   "id": "14fc6e7596fc64c1",
   "execution_count": 123
  },
  {
   "cell_type": "markdown",
   "source": [
    "# 학습 함수에서 모르는거 있씀"
   ],
   "metadata": {
    "collapsed": false
   },
   "id": "c68ceed99beb6e2f"
  },
  {
   "cell_type": "code",
   "outputs": [],
   "source": [
    "# 검증 및 평가 진행 함수\n",
    "# 매개변수 dataLoader : 검증 또는 테스트 데이터셋에 대한 Loader\n",
    "\n",
    "def testing(dataLoader):\n",
    "    model.eval()              # =====================> 뭐지?????????????????\n",
    "    \n",
    "    with torch.no_grad():      # =====================> 뭐지?????????????????\n",
    "        # 배치 크기 만큼 학습 진행 및 저장\n",
    "        val_loss = []\n",
    "        for cnt, (feature, target) in enumerate(dataLoader):\n",
    "            # 배치 크기 만큼의 학습 데이터 준비\n",
    "            feature, target = feature.to(DEVICE), target.to(DEVICE)\n",
    "            \n",
    "            # 학습\n",
    "            predict_target = model(feature)\n",
    "            \n",
    "            # 손실 계산\n",
    "            loss = loss_fx(predict_target, target)\n",
    "            val_loss.append(loss)\n",
    "            \n",
    "            \n",
    "        # 에포크 단위 진행 메시지 출력\n",
    "        # print(f\"[Valid Loss] {loss}\")\n",
    "        \n",
    "        return val_loss    "
   ],
   "metadata": {
    "collapsed": false,
    "ExecuteTime": {
     "end_time": "2024-03-15T11:02:15.638452Z",
     "start_time": "2024-03-15T11:02:15.625671Z"
    }
   },
   "id": "2d9a7c842c45b36b",
   "execution_count": 124
  },
  {
   "cell_type": "markdown",
   "source": [
    "# 평가 함수에서 모르는거 이씀"
   ],
   "metadata": {
    "collapsed": false
   },
   "id": "b334a41c3b95ae26"
  },
  {
   "cell_type": "code",
   "outputs": [],
   "source": [
    "# 예측 함수\n",
    "def predict():\n",
    "    pass"
   ],
   "metadata": {
    "collapsed": false,
    "ExecuteTime": {
     "end_time": "2024-03-15T11:02:15.653399Z",
     "start_time": "2024-03-15T11:02:15.641915Z"
    }
   },
   "id": "42fa3bb6c87066ef",
   "execution_count": 125
  },
  {
   "cell_type": "markdown",
   "source": [
    "# 예측 함수 함 만들어보자"
   ],
   "metadata": {
    "collapsed": false
   },
   "id": "a9b3d963a28c63f8"
  },
  {
   "cell_type": "markdown",
   "source": [
    "# 6. 학습 진행"
   ],
   "metadata": {
    "collapsed": false
   },
   "id": "676f398b37ad91ee"
  },
  {
   "cell_type": "code",
   "outputs": [
    {
     "name": "stderr",
     "output_type": "stream",
     "text": [
      "C:\\ProgramData\\anaconda3\\envs\\Torch_PY38\\lib\\site-packages\\torch\\optim\\lr_scheduler.py:28: UserWarning: The verbose parameter is deprecated. Please use get_last_lr() to access the learning rate.\n",
      "  warnings.warn(\"The verbose parameter is deprecated. Please use get_last_lr() \"\n"
     ]
    }
   ],
   "source": [
    "from torch.optim.lr_scheduler import ReduceLROnPlateau\n",
    "\n",
    "optimizer = torch.optim.SGD(model.parameters(), lr = 0.001, momentum = 0.9)\n",
    "scheduler = ReduceLROnPlateau(optimizer, mode='min', patience = 10, verbose = True)"
   ],
   "metadata": {
    "collapsed": false,
    "ExecuteTime": {
     "end_time": "2024-03-15T11:02:15.669211Z",
     "start_time": "2024-03-15T11:02:15.656253Z"
    }
   },
   "id": "56f4eb19f92827a",
   "execution_count": 126
  },
  {
   "cell_type": "markdown",
   "source": [
    "# 각 파라미터는 뭘 의미하는 거지?"
   ],
   "metadata": {
    "collapsed": false
   },
   "id": "2077764f077480e9"
  },
  {
   "cell_type": "code",
   "outputs": [
    {
     "name": "stdout",
     "output_type": "stream",
     "text": [
      "[0/30] \n",
      "TRAIN 307.5705261230469/175 \n",
      "VALID 0.5283448696136475\n",
      "\n",
      "[1/30] \n",
      "TRAIN 188.97361755371094/175 \n",
      "VALID 0.40116333961486816\n",
      "\n",
      "[2/30] \n",
      "TRAIN 164.08372497558594/175 \n",
      "VALID 0.39781898260116577\n",
      "\n",
      "[3/30] \n",
      "TRAIN 151.776611328125/175 \n",
      "VALID 0.3822077810764313\n",
      "\n",
      "[4/30] \n",
      "TRAIN 143.45399475097656/175 \n",
      "VALID 0.35464218258857727\n",
      "\n",
      "[5/30] \n",
      "TRAIN 135.76560974121094/175 \n",
      "VALID 0.33647847175598145\n",
      "\n",
      "[6/30] \n",
      "TRAIN 128.15318298339844/175 \n",
      "VALID 0.34436121582984924\n",
      "\n",
      "[7/30] \n",
      "TRAIN 123.51822662353516/175 \n",
      "VALID 0.3423166871070862\n",
      "\n",
      "[8/30] \n",
      "TRAIN 116.15044403076172/175 \n",
      "VALID 0.35077035427093506\n",
      "\n",
      "[9/30] \n",
      "TRAIN 114.29352569580078/175 \n",
      "VALID 0.33195945620536804\n",
      "\n",
      "[10/30] \n",
      "TRAIN 108.3534927368164/175 \n",
      "VALID 0.32803842425346375\n",
      "\n",
      "[11/30] \n",
      "TRAIN 104.0967025756836/175 \n",
      "VALID 0.31767934560775757\n",
      "\n",
      "[12/30] \n",
      "TRAIN 99.5213623046875/175 \n",
      "VALID 0.34363147616386414\n",
      "\n",
      "[13/30] \n",
      "TRAIN 98.22340393066406/175 \n",
      "VALID 0.3477935791015625\n",
      "\n",
      "[14/30] \n",
      "TRAIN 95.08396911621094/175 \n",
      "VALID 0.3652873933315277\n",
      "\n",
      "[15/30] \n",
      "TRAIN 89.86033630371094/175 \n",
      "VALID 0.3408433198928833\n",
      "\n",
      "[16/30] \n",
      "TRAIN 87.49446105957031/175 \n",
      "VALID 0.36303582787513733\n",
      "\n",
      "[17/30] \n",
      "TRAIN 83.6448974609375/175 \n",
      "VALID 0.3503197431564331\n",
      "\n",
      "[18/30] \n",
      "TRAIN 83.1190185546875/175 \n",
      "VALID 0.36371907591819763\n",
      "\n",
      "[19/30] \n",
      "TRAIN 79.95970916748047/175 \n",
      "VALID 0.35363543033599854\n",
      "\n",
      "[20/30] \n",
      "TRAIN 76.98773193359375/175 \n",
      "VALID 0.3745957612991333\n",
      "\n",
      "[21/30] \n",
      "TRAIN 77.0892105102539/175 \n",
      "VALID 0.35403722524642944\n",
      "\n",
      "[22/30] \n",
      "TRAIN 74.8017349243164/175 \n",
      "VALID 0.3698901832103729\n",
      "\n",
      "[23/30] \n",
      "TRAIN 70.40130615234375/175 \n",
      "VALID 0.41958221793174744\n",
      "\n",
      "[24/30] \n",
      "TRAIN 70.1880874633789/175 \n",
      "VALID 0.3735646605491638\n",
      "\n",
      "[25/30] \n",
      "TRAIN 65.15311431884766/175 \n",
      "VALID 0.42546024918556213\n",
      "\n",
      "[26/30] \n",
      "TRAIN 64.01410675048828/175 \n",
      "VALID 0.4233778119087219\n",
      "\n",
      "[27/30] \n",
      "TRAIN 62.02165985107422/175 \n",
      "VALID 0.43092960119247437\n",
      "\n",
      "[28/30] \n",
      "TRAIN 62.536136627197266/175 \n",
      "VALID 0.41350921988487244\n",
      "\n",
      "[29/30] \n",
      "TRAIN 58.32926559448242/175 \n",
      "VALID 0.5220564603805542\n",
      "\n"
     ]
    }
   ],
   "source": [
    "for eps in range(EPOCHS):\n",
    "    # 학습\n",
    "    train_loss = training()\n",
    "    \n",
    "    # 검증\n",
    "    valid_loss = testing(validDL)\n",
    "    \n",
    "    print(f\"[{eps}/{EPOCHS}] \\nTRAIN {sum(train_loss)}/{len(valid_loss)} \\nVALID {sum(valid_loss)/len(valid_loss)}\\n\")"
   ],
   "metadata": {
    "collapsed": false,
    "ExecuteTime": {
     "end_time": "2024-03-15T11:07:22.164044Z",
     "start_time": "2024-03-15T11:02:15.671426Z"
    }
   },
   "id": "a3e6ff5d5ecd158a",
   "execution_count": 127
  }
 ],
 "metadata": {
  "kernelspec": {
   "display_name": "Python 3",
   "language": "python",
   "name": "python3"
  },
  "language_info": {
   "codemirror_mode": {
    "name": "ipython",
    "version": 2
   },
   "file_extension": ".py",
   "mimetype": "text/x-python",
   "name": "python",
   "nbconvert_exporter": "python",
   "pygments_lexer": "ipython2",
   "version": "2.7.6"
  }
 },
 "nbformat": 4,
 "nbformat_minor": 5
}
