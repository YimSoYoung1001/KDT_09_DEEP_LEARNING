{
 "cells": [
  {
   "cell_type": "code",
   "execution_count": 15,
   "id": "initial_id",
   "metadata": {
    "collapsed": true,
    "ExecuteTime": {
     "end_time": "2024-03-19T02:33:54.732983Z",
     "start_time": "2024-03-19T02:33:54.719656Z"
    }
   },
   "outputs": [],
   "source": [
    "import torch\n",
    "import torch.nn as nn\n",
    "from torchinfo import summary"
   ]
  },
  {
   "cell_type": "code",
   "outputs": [],
   "source": [
    "class Net(nn.Module):\n",
    "    \n",
    "    # 모델 구성 요소 생성 및 구조 설정\n",
    "    def __init__(self):\n",
    "        super(Net, self).__init__()\n",
    "        self.fc1 = nn.Linear(8, 4)\n",
    "        self.fc2 = nn.Linear(4, 2)\n",
    "        self.drop = nn.Dropout(0.5)\n",
    "        self.fc3 = nn.Linear(2, 1)\n",
    "        \n",
    "    # 순방향 학습 진행 함수\n",
    "    def forward(self, x):\n",
    "        return self.fc3(self.fc2(self.fc1(x)))"
   ],
   "metadata": {
    "collapsed": false,
    "ExecuteTime": {
     "end_time": "2024-03-19T02:33:54.760566Z",
     "start_time": "2024-03-19T02:33:54.754206Z"
    }
   },
   "id": "fa13af308fedaa65",
   "execution_count": 16
  },
  {
   "cell_type": "code",
   "outputs": [
    {
     "name": "stdout",
     "output_type": "stream",
     "text": [
      "Net(\n",
      "  (fc1): Linear(in_features=8, out_features=4, bias=True)\n",
      "  (fc2): Linear(in_features=4, out_features=2, bias=True)\n",
      "  (fc3): Linear(in_features=2, out_features=1, bias=True)\n",
      ")\n"
     ]
    }
   ],
   "source": [
    "## 모델 인스턴스 생성\n",
    "model = Net()\n",
    "print(model)"
   ],
   "metadata": {
    "collapsed": false,
    "ExecuteTime": {
     "end_time": "2024-03-19T02:33:54.775950Z",
     "start_time": "2024-03-19T02:33:54.762621Z"
    }
   },
   "id": "2bc717451aedbef2",
   "execution_count": 17
  },
  {
   "cell_type": "code",
   "outputs": [
    {
     "data": {
      "text/plain": "=================================================================\nLayer (type:depth-idx)                   Param #\n=================================================================\nNet                                      --\n├─Linear: 1-1                            36\n├─Linear: 1-2                            10\n├─Linear: 1-3                            3\n=================================================================\nTotal params: 49\nTrainable params: 49\nNon-trainable params: 0\n================================================================="
     },
     "execution_count": 27,
     "metadata": {},
     "output_type": "execute_result"
    }
   ],
   "source": [
    "summary(model)"
   ],
   "metadata": {
    "collapsed": false,
    "ExecuteTime": {
     "end_time": "2024-03-19T02:34:23.573172Z",
     "start_time": "2024-03-19T02:34:23.550984Z"
    }
   },
   "id": "23a521c4604a7f52",
   "execution_count": 27
  },
  {
   "cell_type": "code",
   "outputs": [
    {
     "data": {
      "text/plain": "'\\n아래 return 값 설명\\n\\nw + b\\n8 + 1\\n8 + 1\\n8 + 1\\n8 + 1\\n===> total 36\\n\\n4 + 1\\n4 + 1\\n===> total 10\\n\\n2 + 1\\n===> total 3\\n'"
     },
     "execution_count": 29,
     "metadata": {},
     "output_type": "execute_result"
    }
   ],
   "source": [
    "'''\n",
    "위의 summary 했을때 return 값 설명\n",
    "\n",
    "w + b\n",
    "8 + 1\n",
    "8 + 1\n",
    "8 + 1\n",
    "8 + 1\n",
    "===> total 36\n",
    "\n",
    "4 + 1\n",
    "4 + 1\n",
    "===> total 10\n",
    "\n",
    "2 + 1\n",
    "===> total 3\n",
    "'''"
   ],
   "metadata": {
    "collapsed": false,
    "ExecuteTime": {
     "end_time": "2024-03-19T02:34:26.140099Z",
     "start_time": "2024-03-19T02:34:26.132864Z"
    }
   },
   "id": "4a3a3b4d6d1560e0",
   "execution_count": 29
  },
  {
   "cell_type": "code",
   "outputs": [
    {
     "data": {
      "text/plain": "Linear(in_features=8, out_features=4, bias=True)"
     },
     "execution_count": 19,
     "metadata": {},
     "output_type": "execute_result"
    }
   ],
   "source": [
    "# 모델 인스턴스 속성 확인\n",
    "model.fc1"
   ],
   "metadata": {
    "collapsed": false,
    "ExecuteTime": {
     "end_time": "2024-03-19T02:33:54.808265Z",
     "start_time": "2024-03-19T02:33:54.795878Z"
    }
   },
   "id": "20df12c7db79b3c",
   "execution_count": 19
  },
  {
   "cell_type": "code",
   "outputs": [
    {
     "data": {
      "text/plain": "(Parameter containing:\n tensor([[-0.1255,  0.1422,  0.2981,  0.1013,  0.2921, -0.2534,  0.2406, -0.1054],\n         [-0.0361,  0.2855, -0.1276, -0.2653,  0.1075, -0.2423, -0.1195, -0.3325],\n         [-0.2894, -0.0829,  0.1107, -0.2158, -0.1197,  0.2339,  0.2296,  0.1411],\n         [-0.3002,  0.2563, -0.0595,  0.0604, -0.0935,  0.1311, -0.0607,  0.2935]],\n        requires_grad=True),\n Parameter containing:\n tensor([0.2019, 0.1609, 0.3325, 0.1518], requires_grad=True))"
     },
     "execution_count": 20,
     "metadata": {},
     "output_type": "execute_result"
    }
   ],
   "source": [
    "# 모델의 특정 층 추출\n",
    "model.fc1.weight, model.fc1.bias"
   ],
   "metadata": {
    "collapsed": false,
    "ExecuteTime": {
     "end_time": "2024-03-19T02:33:54.823861Z",
     "start_time": "2024-03-19T02:33:54.810312Z"
    }
   },
   "id": "c14549b575dae05a",
   "execution_count": 20
  },
  {
   "cell_type": "code",
   "outputs": [
    {
     "name": "stdout",
     "output_type": "stream",
     "text": [
      "Parameter containing:\n",
      "tensor([[-0.1255,  0.1422,  0.2981,  0.1013,  0.2921, -0.2534,  0.2406, -0.1054],\n",
      "        [-0.0361,  0.2855, -0.1276, -0.2653,  0.1075, -0.2423, -0.1195, -0.3325],\n",
      "        [-0.2894, -0.0829,  0.1107, -0.2158, -0.1197,  0.2339,  0.2296,  0.1411],\n",
      "        [-0.3002,  0.2563, -0.0595,  0.0604, -0.0935,  0.1311, -0.0607,  0.2935]],\n",
      "       requires_grad=True)\n",
      "\n",
      "Parameter containing:\n",
      "tensor([0.2019, 0.1609, 0.3325, 0.1518], requires_grad=True)\n",
      "\n",
      "Parameter containing:\n",
      "tensor([[-0.2247,  0.4402,  0.0838, -0.4807],\n",
      "        [-0.0590, -0.0801, -0.1208, -0.3726]], requires_grad=True)\n",
      "\n",
      "Parameter containing:\n",
      "tensor([-0.4060, -0.3793], requires_grad=True)\n",
      "\n",
      "Parameter containing:\n",
      "tensor([[-0.0326,  0.0343]], requires_grad=True)\n",
      "\n",
      "Parameter containing:\n",
      "tensor([0.0494], requires_grad=True)\n"
     ]
    }
   ],
   "source": [
    "# 모델의 각 층별 w,b 텐서 정보 확인\n",
    "for param in model.parameters():    # 파라미터 값만 준다.\n",
    "    print(param, end = '\\n\\n')"
   ],
   "metadata": {
    "collapsed": false,
    "ExecuteTime": {
     "end_time": "2024-03-19T02:33:54.842747Z",
     "start_time": "2024-03-19T02:33:54.824866Z"
    }
   },
   "id": "f14fd17f791514ce",
   "execution_count": 21
  },
  {
   "cell_type": "code",
   "outputs": [
    {
     "name": "stdout",
     "output_type": "stream",
     "text": [
      "('fc1.weight', Parameter containing:\n",
      "tensor([[-0.1255,  0.1422,  0.2981,  0.1013,  0.2921, -0.2534,  0.2406, -0.1054],\n",
      "        [-0.0361,  0.2855, -0.1276, -0.2653,  0.1075, -0.2423, -0.1195, -0.3325],\n",
      "        [-0.2894, -0.0829,  0.1107, -0.2158, -0.1197,  0.2339,  0.2296,  0.1411],\n",
      "        [-0.3002,  0.2563, -0.0595,  0.0604, -0.0935,  0.1311, -0.0607,  0.2935]],\n",
      "       requires_grad=True))\n",
      "\n",
      "('fc1.bias', Parameter containing:\n",
      "tensor([0.2019, 0.1609, 0.3325, 0.1518], requires_grad=True))\n",
      "\n",
      "('fc2.weight', Parameter containing:\n",
      "tensor([[-0.2247,  0.4402,  0.0838, -0.4807],\n",
      "        [-0.0590, -0.0801, -0.1208, -0.3726]], requires_grad=True))\n",
      "\n",
      "('fc2.bias', Parameter containing:\n",
      "tensor([-0.4060, -0.3793], requires_grad=True))\n",
      "\n",
      "('fc3.weight', Parameter containing:\n",
      "tensor([[-0.0326,  0.0343]], requires_grad=True))\n",
      "\n",
      "('fc3.bias', Parameter containing:\n",
      "tensor([0.0494], requires_grad=True))\n"
     ]
    }
   ],
   "source": [
    "for param in model.named_parameters():   # 파라미터 값과 이름을 같이 준다.\n",
    "    print(param, end = '\\n\\n')"
   ],
   "metadata": {
    "collapsed": false,
    "ExecuteTime": {
     "end_time": "2024-03-19T02:33:54.858388Z",
     "start_time": "2024-03-19T02:33:54.844948Z"
    }
   },
   "id": "23dddf928c5a412f",
   "execution_count": 22
  },
  {
   "cell_type": "code",
   "outputs": [
    {
     "name": "stdout",
     "output_type": "stream",
     "text": [
      "Linear(in_features=8, out_features=4, bias=True)\n",
      "\n",
      "Linear(in_features=4, out_features=2, bias=True)\n",
      "\n",
      "Linear(in_features=2, out_features=1, bias=True)\n"
     ]
    }
   ],
   "source": [
    "# 모델 구성 모든 layer 가져오기\n",
    "for child in model.children():       # 층 정보만 가져옴\n",
    "    print(child, end = '\\n\\n')"
   ],
   "metadata": {
    "collapsed": false,
    "ExecuteTime": {
     "end_time": "2024-03-19T02:33:54.873876Z",
     "start_time": "2024-03-19T02:33:54.860430Z"
    }
   },
   "id": "7b7195fd19e67b04",
   "execution_count": 23
  },
  {
   "cell_type": "code",
   "outputs": [
    {
     "name": "stdout",
     "output_type": "stream",
     "text": [
      "('fc1', Linear(in_features=8, out_features=4, bias=True))\n",
      "\n",
      "('fc2', Linear(in_features=4, out_features=2, bias=True))\n",
      "\n",
      "('fc3', Linear(in_features=2, out_features=1, bias=True))\n"
     ]
    }
   ],
   "source": [
    "for child in model.named_children():   #이름과 함께 층 정보를 가져옴\n",
    "    print(child, end = '\\n\\n')"
   ],
   "metadata": {
    "collapsed": false,
    "ExecuteTime": {
     "end_time": "2024-03-19T02:33:54.889267Z",
     "start_time": "2024-03-19T02:33:54.874873Z"
    }
   },
   "id": "483335247b85f65",
   "execution_count": 24
  },
  {
   "cell_type": "markdown",
   "source": [
    "- Layer의 가중치 설정"
   ],
   "metadata": {
    "collapsed": false
   },
   "id": "ad5b205bc35346ed"
  },
  {
   "cell_type": "code",
   "outputs": [
    {
     "data": {
      "text/plain": "Parameter containing:\ntensor([[-0.6466,  0.2391, -0.2211,  0.5777,  0.7017,  0.2388, -0.3550,  0.4785],\n        [-0.4795, -0.0828,  0.6602,  0.5417, -0.0509, -0.6673, -0.2891, -0.1325],\n        [ 0.6378, -0.2741, -0.5575, -0.5780,  0.0655, -0.0257, -0.0338, -0.6246],\n        [ 0.2296, -0.1085,  0.2511,  0.5390,  0.6288, -0.6997, -0.6201,  0.1470]],\n       requires_grad=True)"
     },
     "execution_count": 25,
     "metadata": {},
     "output_type": "execute_result"
    }
   ],
   "source": [
    "# 세비어 알고리즘의 가중치 초기화\n",
    "nn.init.xavier_uniform_(model.fc1.weight)\n",
    "\n",
    "# 함수뒤에 언더바 붙은거는 inplace = True 이다. (원본에 적용)"
   ],
   "metadata": {
    "collapsed": false,
    "ExecuteTime": {
     "end_time": "2024-03-19T02:33:54.904720Z",
     "start_time": "2024-03-19T02:33:54.891374Z"
    }
   },
   "id": "32ee9365ed8abff6",
   "execution_count": 25
  },
  {
   "cell_type": "code",
   "outputs": [
    {
     "data": {
      "text/plain": "Parameter containing:\ntensor([[ 0.7932, -0.6411, -0.1664,  0.5296],\n        [-1.6455, -0.7969, -0.2835,  0.3261]], requires_grad=True)"
     },
     "execution_count": 26,
     "metadata": {},
     "output_type": "execute_result"
    }
   ],
   "source": [
    "# 헤 알고리즘의 가중치 초기화\n",
    "nn.init.kaiming_normal_(model.fc2.weight)"
   ],
   "metadata": {
    "collapsed": false,
    "ExecuteTime": {
     "end_time": "2024-03-19T02:33:54.920322Z",
     "start_time": "2024-03-19T02:33:54.906785Z"
    }
   },
   "id": "10e3ca3842bd540c",
   "execution_count": 26
  },
  {
   "cell_type": "markdown",
   "source": [
    "+) uniform_과 normal_의 차이         \n",
    ": uniform_은 균일 분포에서 랜덤하게 값을 뽑아내고, normal은 정규 분포에서 랜덤하게 값을 뽑아낸다."
   ],
   "metadata": {
    "collapsed": false
   },
   "id": "3c68eb4b80b19e9e"
  },
  {
   "cell_type": "code",
   "outputs": [],
   "source": [],
   "metadata": {
    "collapsed": false,
    "ExecuteTime": {
     "end_time": "2024-03-19T02:33:54.935864Z",
     "start_time": "2024-03-19T02:33:54.921330Z"
    }
   },
   "id": "ead32fa6eadf1557",
   "execution_count": 26
  }
 ],
 "metadata": {
  "kernelspec": {
   "display_name": "Python 3",
   "language": "python",
   "name": "python3"
  },
  "language_info": {
   "codemirror_mode": {
    "name": "ipython",
    "version": 2
   },
   "file_extension": ".py",
   "mimetype": "text/x-python",
   "name": "python",
   "nbconvert_exporter": "python",
   "pygments_lexer": "ipython2",
   "version": "2.7.6"
  }
 },
 "nbformat": 4,
 "nbformat_minor": 5
}
