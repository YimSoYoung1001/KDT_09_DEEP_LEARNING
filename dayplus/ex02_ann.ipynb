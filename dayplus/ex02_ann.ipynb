{
 "cells": [
  {
   "cell_type": "markdown",
   "source": [
    "### 인공신경망 (ANN) 모델 살펴보기\n",
    "- 구성 : 입력층 + 은닉층 + 출력층\n",
    "    * 입력층 : 입력값 <-- 입력 피처수, 출력값 <--- 층의 퍼셉트론 수 \n",
    "    * 출력층 : 입력값 <--- 이전층의 결과수, 출력값 <--- 입력 타겟 수 (이진분류 => 1개, 다중분류 => 클래스수, 회귀 => 1개)"
   ],
   "metadata": {
    "collapsed": false
   },
   "id": "770c824088719b66"
  },
  {
   "cell_type": "code",
   "outputs": [],
   "source": [
    "# 모듈 로딩\n",
    "import torch\n",
    "import torch.nn as nn\n",
    "import torch.nn.functional as F\n",
    "import torch.optim as optim"
   ],
   "metadata": {
    "collapsed": false,
    "ExecuteTime": {
     "end_time": "2024-03-23T08:48:16.437443Z",
     "start_time": "2024-03-23T08:48:16.419513Z"
    }
   },
   "id": "90c1b887adf361c4",
   "execution_count": 2106
  },
  {
   "cell_type": "code",
   "outputs": [
    {
     "data": {
      "text/plain": "<torch._C.Generator at 0x187bc87d510>"
     },
     "execution_count": 2107,
     "metadata": {},
     "output_type": "execute_result"
    }
   ],
   "source": [
    "torch.random.manual_seed(12)"
   ],
   "metadata": {
    "collapsed": false,
    "ExecuteTime": {
     "end_time": "2024-03-23T08:48:16.484535Z",
     "start_time": "2024-03-23T08:48:16.463535Z"
    }
   },
   "id": "5bd0c13cb032c7d6",
   "execution_count": 2107
  },
  {
   "cell_type": "code",
   "outputs": [
    {
     "name": "stdout",
     "output_type": "stream",
     "text": [
      "[featureTS] torch.Size([4, 2]), 2D\n",
      "[targetTS] torch.Size([4, 1]), 2D\n"
     ]
    }
   ],
   "source": [
    "# 데이터 생성\n",
    "# - 피처 : 점수, 공부시간\n",
    "# - 타겟 : 합격, 불합격   ===>  2진 분류\n",
    "featureTS = torch.FloatTensor([[40, 4], [60, 5], [80, 6], [100, 8]])\n",
    "targetTS = torch.FloatTensor([[0], [1], [1], [1]])\n",
    "\n",
    "print(f\"[featureTS] {featureTS.shape}, {featureTS.ndim}D\")\n",
    "print(f\"[targetTS] {targetTS.shape}, {targetTS.ndim}D\")"
   ],
   "metadata": {
    "collapsed": false,
    "ExecuteTime": {
     "end_time": "2024-03-23T08:48:16.499605Z",
     "start_time": "2024-03-23T08:48:16.486779Z"
    }
   },
   "id": "26e86735deb2648a",
   "execution_count": 2108
  },
  {
   "cell_type": "code",
   "outputs": [],
   "source": [
    "# ANN 모델\n",
    "class Net(nn.Module):\n",
    "    \n",
    "    # 모델 구조 설정\n",
    "    def __init__(self):\n",
    "        super().__init__()\n",
    "        self.layer1 = nn.Linear(2, 4)    # 입력층\n",
    "        self.sig1 = nn.Sigmoid()\n",
    "        \n",
    "        self.layer2 = nn.Linear(4, 4)    # 은닉층\n",
    "        self.sig2 = nn.Sigmoid()\n",
    "        \n",
    "        self.layer3 = nn.Linear(4, 1)    # 출력층\n",
    "        self.sig3 = nn.Sigmoid()\n",
    "        # sigmoid는 1개만 만들어도 됨! 먼가 강의를 위해 여러개 만드신둡\n",
    "        \n",
    "    # 순전파 함수\n",
    "    def forward(self, x):\n",
    "        y = self.layer1(x)\n",
    "        y = self.sig1(y)\n",
    "        \n",
    "        y = self.layer2(y)\n",
    "        y = self.sig2(y)\n",
    "        \n",
    "        y = self.layer3(y)\n",
    "        y_total = self.sig3(y)\n",
    "        \n",
    "        return y_total"
   ],
   "metadata": {
    "collapsed": false,
    "ExecuteTime": {
     "end_time": "2024-03-23T08:48:16.515298Z",
     "start_time": "2024-03-23T08:48:16.500604Z"
    }
   },
   "id": "687c43c39021faa4",
   "execution_count": 2109
  },
  {
   "cell_type": "code",
   "outputs": [
    {
     "data": {
      "text/plain": "Net(\n  (layer1): Linear(in_features=2, out_features=4, bias=True)\n  (sig1): Sigmoid()\n  (layer2): Linear(in_features=4, out_features=4, bias=True)\n  (sig2): Sigmoid()\n  (layer3): Linear(in_features=4, out_features=1, bias=True)\n  (sig3): Sigmoid()\n)"
     },
     "execution_count": 2110,
     "metadata": {},
     "output_type": "execute_result"
    }
   ],
   "source": [
    "# 모델 인스턴스 설정\n",
    "model1 = Net()\n",
    "model1"
   ],
   "metadata": {
    "collapsed": false,
    "ExecuteTime": {
     "end_time": "2024-03-23T08:48:16.530153Z",
     "start_time": "2024-03-23T08:48:16.516372Z"
    }
   },
   "id": "968af797826129b2",
   "execution_count": 2110
  },
  {
   "cell_type": "code",
   "outputs": [
    {
     "name": "stdout",
     "output_type": "stream",
     "text": [
      "('layer1.weight', Parameter containing:\n",
      "tensor([[-0.0485, -0.3779],\n",
      "        [-0.0669,  0.1232],\n",
      "        [-0.1292, -0.5273],\n",
      "        [ 0.1941, -0.3648]], requires_grad=True))\n",
      "============\n",
      "('layer1.bias', Parameter containing:\n",
      "tensor([ 0.3270,  0.3146, -0.4253,  0.2755], requires_grad=True))\n",
      "============\n",
      "('layer2.weight', Parameter containing:\n",
      "tensor([[ 0.0830,  0.1318,  0.0559, -0.3738],\n",
      "        [ 0.4790,  0.3443, -0.3744, -0.0544],\n",
      "        [ 0.1601, -0.4446, -0.3427,  0.3137],\n",
      "        [ 0.2216, -0.2283, -0.1997,  0.1099]], requires_grad=True))\n",
      "============\n",
      "('layer2.bias', Parameter containing:\n",
      "tensor([ 0.0784,  0.1083, -0.0661,  0.3813], requires_grad=True))\n",
      "============\n",
      "('layer3.weight', Parameter containing:\n",
      "tensor([[-0.1784, -0.2396, -0.2434, -0.3128]], requires_grad=True))\n",
      "============\n",
      "('layer3.bias', Parameter containing:\n",
      "tensor([0.1423], requires_grad=True))\n",
      "============\n"
     ]
    }
   ],
   "source": [
    "for param in model1.named_parameters():\n",
    "    print(param)\n",
    "    print('============')\n",
    "    \n",
    "# model1.named_parameters() ===> 이게 generator라서 for문 돌면서 1개씩 빼는 것이 가능하다.\n",
    "# 퍼셉트론 : 다수의 신호를 받아서 한개의 신호를 출력한다.\n",
    "# - 고로 1개의 퍼셉트론에 1세트의 W와 1개의 b가 나온다.\n",
    "#    (여기서 세트라 함은 피처의 수를 말한다. 여기서는 피처의 수가 2개이므로 1세트가 2개이다.)\n"
   ],
   "metadata": {
    "collapsed": false,
    "ExecuteTime": {
     "end_time": "2024-03-23T08:48:16.546083Z",
     "start_time": "2024-03-23T08:48:16.532330Z"
    }
   },
   "id": "1b66f81b40d25c8f",
   "execution_count": 2111
  },
  {
   "cell_type": "code",
   "outputs": [
    {
     "data": {
      "text/plain": "tensor([[0.4043],\n        [0.4043],\n        [0.4043],\n        [0.4043]], grad_fn=<SigmoidBackward0>)"
     },
     "execution_count": 2112,
     "metadata": {},
     "output_type": "execute_result"
    }
   ],
   "source": [
    "# 학습 진행\n",
    "# - 에포크 : 데이터 처음부터 끝까지 한번 학습\n",
    "# - 배치사이즈 : 데이터를 일정한 크기로 자른 것 (일반적으로 32개 많이 함)\n",
    "\n",
    "# 1 에포크를 들려보았다. (처음부터 끝까지 1번 학습 진행해본것!. 배치사이즈는 음슴)\n",
    "output = model1(featureTS)\n",
    "output"
   ],
   "metadata": {
    "collapsed": false,
    "ExecuteTime": {
     "end_time": "2024-03-23T08:48:16.561603Z",
     "start_time": "2024-03-23T08:48:16.547082Z"
    }
   },
   "id": "a0feeacb67d5c237",
   "execution_count": 2112
  },
  {
   "cell_type": "code",
   "outputs": [
    {
     "data": {
      "text/plain": "tensor([1])"
     },
     "execution_count": 2113,
     "metadata": {},
     "output_type": "execute_result"
    }
   ],
   "source": [
    "# 손실 계산 => 2진 분류 --> 0.5 기준으로 판별\n",
    "correct = sum((output > 0.5) == targetTS )           # 모델을 통해서 예측한 값에서 실제 타겟과 같은지 계산해보지 ==> 이것이 손실 계산\n",
    "correct"
   ],
   "metadata": {
    "collapsed": false,
    "ExecuteTime": {
     "end_time": "2024-03-23T08:48:16.577332Z",
     "start_time": "2024-03-23T08:48:16.562624Z"
    }
   },
   "id": "5751cff6740b8856",
   "execution_count": 2113
  },
  {
   "cell_type": "code",
   "outputs": [
    {
     "name": "stdout",
     "output_type": "stream",
     "text": [
      "Accuracy: 0.25\n"
     ]
    }
   ],
   "source": [
    "# 정확도 (Accuracy)\n",
    "accuracy = correct / targetTS.shape[0]\n",
    "\n",
    "print(f\"Accuracy: {accuracy.item()}\")\n",
    "\n",
    "# 4개중에 3개 맞췄으니까 0.75 나옴"
   ],
   "metadata": {
    "collapsed": false,
    "ExecuteTime": {
     "end_time": "2024-03-23T08:48:16.593072Z",
     "start_time": "2024-03-23T08:48:16.578330Z"
    }
   },
   "id": "42fc7cb360aca879",
   "execution_count": 2114
  },
  {
   "cell_type": "code",
   "outputs": [
    {
     "name": "stdout",
     "output_type": "stream",
     "text": [
      "정밀도 : 0.0\n"
     ]
    }
   ],
   "source": [
    "# 정밀도 (prcision)\n",
    "correct = sum(output>0.5)\n",
    "if not correct:\n",
    "    print(f\"정밀도 : 0.0\")"
   ],
   "metadata": {
    "collapsed": false,
    "ExecuteTime": {
     "end_time": "2024-03-23T08:48:16.608326Z",
     "start_time": "2024-03-23T08:48:16.594072Z"
    }
   },
   "id": "f4b7a70b21d1721f",
   "execution_count": 2115
  },
  {
   "cell_type": "code",
   "outputs": [
    {
     "data": {
      "text/plain": "tensor([1])"
     },
     "execution_count": 2116,
     "metadata": {},
     "output_type": "execute_result"
    }
   ],
   "source": [
    "# 재현율\n",
    "correct = sum((output>0.5) == targetTS)\n",
    "correct"
   ],
   "metadata": {
    "collapsed": false,
    "ExecuteTime": {
     "end_time": "2024-03-23T08:48:16.623934Z",
     "start_time": "2024-03-23T08:48:16.609401Z"
    }
   },
   "id": "bd302501eb927e1e",
   "execution_count": 2116
  },
  {
   "cell_type": "markdown",
   "source": [
    "### 손실함수 즉, 정답과 예측값 사이의 오차\n",
    "- 회귀 : MSE, MAE, RMSE, ...\n",
    "- 분류 : binary_cross_entropy, cross_entropy"
   ],
   "metadata": {
    "collapsed": false
   },
   "id": "a0938d9502924eda"
  },
  {
   "cell_type": "code",
   "outputs": [
    {
     "name": "stdout",
     "output_type": "stream",
     "text": [
      "targetTS \n",
      " tensor([[0.],\n",
      "        [1.],\n",
      "        [1.],\n",
      "        [1.]])\n",
      "output \n",
      " tensor([[0.4043],\n",
      "        [0.4043],\n",
      "        [0.4043],\n",
      "        [0.4043]], grad_fn=<SigmoidBackward0>)\n"
     ]
    }
   ],
   "source": [
    "print(f\"targetTS \\n {targetTS}\")\n",
    "print(f\"output \\n {output}\")"
   ],
   "metadata": {
    "collapsed": false,
    "ExecuteTime": {
     "end_time": "2024-03-23T08:48:16.639541Z",
     "start_time": "2024-03-23T08:48:16.625010Z"
    }
   },
   "id": "959e2ca8e6675ae4",
   "execution_count": 2117
  },
  {
   "cell_type": "code",
   "outputs": [
    {
     "data": {
      "text/plain": "tensor(0.8086, grad_fn=<BinaryCrossEntropyBackward0>)"
     },
     "execution_count": 2118,
     "metadata": {},
     "output_type": "execute_result"
    }
   ],
   "source": [
    "F.binary_cross_entropy(output, targetTS)\n",
    "\n",
    "# binary는 활성함수 거친 것을 넣어주어야함"
   ],
   "metadata": {
    "collapsed": false,
    "ExecuteTime": {
     "end_time": "2024-03-23T08:48:16.655179Z",
     "start_time": "2024-03-23T08:48:16.640595Z"
    }
   },
   "id": "ad8b2581cbbbadc0",
   "execution_count": 2118
  },
  {
   "cell_type": "code",
   "outputs": [],
   "source": [
    "# F.cross_entropy()\n",
    "# cross는 활성함수 거치지 않은 것을 넣어주어야 함. (애는 logit 타입을 원함)"
   ],
   "metadata": {
    "collapsed": false,
    "ExecuteTime": {
     "end_time": "2024-03-23T08:48:16.670940Z",
     "start_time": "2024-03-23T08:48:16.656254Z"
    }
   },
   "id": "d9654dbdcca30220",
   "execution_count": 2119
  },
  {
   "cell_type": "markdown",
   "source": [
    "### 학습 진행 <hr>\n",
    "- (1) 모델로 학습 진행  ==> 학습 횟수 지정\n",
    "- (2) 학습 결과와 정답 비교 손실 계산  ==> 손실 함수가 해줌 \n",
    "- (3) W, b 업데이트 ==> 옵티마이저가 해줌 "
   ],
   "metadata": {
    "collapsed": false
   },
   "id": "ca0e1e7b3fed22df"
  },
  {
   "cell_type": "code",
   "outputs": [],
   "source": [
    "### ===> 학습에 필요한 준비\n",
    "model2 = Net()\n",
    "loss_fn = nn.BCELoss()\n",
    "optimizer = optim.Adam(model2.parameters())\n",
    "EPOCHS = 10"
   ],
   "metadata": {
    "collapsed": false,
    "ExecuteTime": {
     "end_time": "2024-03-23T08:48:16.686609Z",
     "start_time": "2024-03-23T08:48:16.674016Z"
    }
   },
   "id": "18f5fca12368a5fa",
   "execution_count": 2120
  },
  {
   "cell_type": "code",
   "outputs": [
    {
     "name": "stdout",
     "output_type": "stream",
     "text": [
      "ep => 0    loss => 0.8989731073379517\n",
      "ep => 1    loss => 0.897470235824585\n",
      "ep => 2    loss => 0.8959712982177734\n",
      "ep => 3    loss => 0.8944765329360962\n",
      "ep => 4    loss => 0.8929858207702637\n",
      "ep => 5    loss => 0.8914993405342102\n",
      "ep => 6    loss => 0.8900171518325806\n",
      "ep => 7    loss => 0.88853919506073\n",
      "ep => 8    loss => 0.8870657682418823\n",
      "ep => 9    loss => 0.8855966925621033\n"
     ]
    }
   ],
   "source": [
    "### ===> 학습 진행\n",
    "# 학습 모드로 모델 설정\n",
    "model2.train()         # 배치 정규화, Dropout, 가중치 초기화 등의 작업을 할 수 있는 환경/메모리 만들어줌 (준비 상태 만들어줌)\n",
    "\n",
    "for ep in range(EPOCHS):\n",
    "\n",
    "    # 학습\n",
    "    output = model2(featureTS)\n",
    "    \n",
    "    # 손실 계산\n",
    "    loss = loss_fn(output, targetTS)\n",
    "    \n",
    "    # 업데이트    \n",
    "    optimizer.zero_grad()    # 텐서의 grad 속성에 값을 초기화 \n",
    "                             #  (그 전 epoch 값에서 계산된 grad 값이 초기화 된다는 거긔)\n",
    "    loss.backward()          # 러닝레이트와 손실값으로 새로운 W, b 계산 진행\n",
    "    optimizer.step()         # 모델로부터 전달받은 W, b 텐서의 주소로 새로운 W, b로 업데이트 \n",
    "    \n",
    "    # 결과물 확인해보자\n",
    "    print(f\"ep => {ep}    loss => {loss.item()}\")"
   ],
   "metadata": {
    "collapsed": false,
    "ExecuteTime": {
     "end_time": "2024-03-23T08:48:16.717843Z",
     "start_time": "2024-03-23T08:48:16.687669Z"
    }
   },
   "id": "4a7976a11a274428",
   "execution_count": 2121
  },
  {
   "cell_type": "code",
   "outputs": [],
   "source": [
    "### ===> 테스트 : 모델의 성능 평가 / 업데이트 발생하면 안됨 !\n",
    "### ===> 모델 동작 모드 설정, autograd 기능 정지, requires_grad 텐서 정지 \n",
    "\n",
    "# 테스트 모드로 모델 설정\n",
    "model2.eval()            # train에서 갖추어진 환경이 필요없으니까 그 모드를 끈거임!\n",
    "\n",
    "with torch.no_grad():     # 미연의 방지를 위함 ^^ ㅎㅎ\n",
    "    # 학습\n",
    "    output = model2(featureTS)\n",
    "\n",
    "    # 손실 계산 : 테스트 데이터에 정답 (타겟) 존재하는 경우 진행\n",
    "    loss = loss_fn(output, targetTS)\n",
    "\n",
    "    # 결과물 확인해보자\n",
    "    print(f\"[TEST] loss => {loss.item()}\")\n",
    "\n",
    "# loss => 0.8841320276260376"
   ],
   "metadata": {
    "collapsed": false,
    "ExecuteTime": {
     "end_time": "2024-03-23T08:48:16.732505Z",
     "start_time": "2024-03-23T08:48:16.718841Z"
    }
   },
   "id": "7566b400b7c7f843",
   "execution_count": 2122
  },
  {
   "cell_type": "code",
   "outputs": [
    {
     "name": "stdout",
     "output_type": "stream",
     "text": [
      "[TEST] loss => 0.8841320276260376\n"
     ]
    }
   ],
   "source": [
    "# 테스트 모드로 모델 설정\n",
    "model2.eval()\n",
    "\n",
    "# 학습\n",
    "output = model2(featureTS)\n",
    "\n",
    "# 손실 계산 : 테스트 데이터에 정답 (타겟) 존재하는 경우 진행\n",
    "loss = loss_fn(output, targetTS)\n",
    "\n",
    "# 결과물 확인해보자\n",
    "print(f\"[TEST] loss => {loss.item()}\")"
   ],
   "metadata": {
    "collapsed": false,
    "ExecuteTime": {
     "end_time": "2024-03-23T08:48:16.748361Z",
     "start_time": "2024-03-23T08:48:16.733586Z"
    }
   },
   "id": "deb00afdaf3ed3f",
   "execution_count": 2123
  },
  {
   "cell_type": "code",
   "outputs": [],
   "source": [],
   "metadata": {
    "collapsed": false,
    "ExecuteTime": {
     "end_time": "2024-03-23T08:48:16.763958Z",
     "start_time": "2024-03-23T08:48:16.749434Z"
    }
   },
   "id": "9e7ab0123dc7125d",
   "execution_count": 2123
  }
 ],
 "metadata": {
  "kernelspec": {
   "display_name": "Python 3",
   "language": "python",
   "name": "python3"
  },
  "language_info": {
   "codemirror_mode": {
    "name": "ipython",
    "version": 2
   },
   "file_extension": ".py",
   "mimetype": "text/x-python",
   "name": "python",
   "nbconvert_exporter": "python",
   "pygments_lexer": "ipython2",
   "version": "2.7.6"
  }
 },
 "nbformat": 4,
 "nbformat_minor": 5
}
