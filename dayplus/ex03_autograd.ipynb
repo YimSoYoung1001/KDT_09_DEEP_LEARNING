{
 "cells": [
  {
   "cell_type": "code",
   "execution_count": 31,
   "id": "initial_id",
   "metadata": {
    "collapsed": true,
    "ExecuteTime": {
     "end_time": "2024-03-23T07:16:55.382388Z",
     "start_time": "2024-03-23T07:16:55.371839Z"
    }
   },
   "outputs": [],
   "source": [
    "import torch\n",
    "import torch.nn.functional as F\n",
    "import torch.optim as optim"
   ]
  },
  {
   "cell_type": "code",
   "outputs": [],
   "source": [
    "a = torch.IntTensor(10)\n",
    "b = torch.tensor(2., requires_grad=True)"
   ],
   "metadata": {
    "collapsed": false,
    "ExecuteTime": {
     "end_time": "2024-03-23T07:16:55.398469Z",
     "start_time": "2024-03-23T07:16:55.384500Z"
    }
   },
   "id": "7729fda8ec77df12",
   "execution_count": 32
  },
  {
   "cell_type": "code",
   "outputs": [
    {
     "name": "stdout",
     "output_type": "stream",
     "text": [
      "a tensor\n",
      "1 torch.Size([10]) False None True None\n"
     ]
    }
   ],
   "source": [
    "print('a tensor')\n",
    "print(a.ndim, a.shape, a.requires_grad, a.grad, a.is_leaf, a.grad_fn)"
   ],
   "metadata": {
    "collapsed": false,
    "ExecuteTime": {
     "end_time": "2024-03-23T07:16:55.414208Z",
     "start_time": "2024-03-23T07:16:55.399564Z"
    }
   },
   "id": "24d1519d8663167",
   "execution_count": 33
  },
  {
   "cell_type": "code",
   "outputs": [
    {
     "name": "stdout",
     "output_type": "stream",
     "text": [
      "b tensor\n",
      "0 torch.Size([]) True None True None\n"
     ]
    }
   ],
   "source": [
    "print('b tensor')\n",
    "print(b.ndim, b.shape, b.requires_grad, b.grad, b.is_leaf, b.grad_fn)"
   ],
   "metadata": {
    "collapsed": false,
    "ExecuteTime": {
     "end_time": "2024-03-23T07:16:55.430035Z",
     "start_time": "2024-03-23T07:16:55.416409Z"
    }
   },
   "id": "277bf59a8b40184b",
   "execution_count": 34
  },
  {
   "cell_type": "code",
   "outputs": [],
   "source": [
    "c = a.mul(b)"
   ],
   "metadata": {
    "collapsed": false,
    "ExecuteTime": {
     "end_time": "2024-03-23T07:16:55.444931Z",
     "start_time": "2024-03-23T07:16:55.431033Z"
    }
   },
   "id": "9e1d14fa14cfc72f",
   "execution_count": 35
  },
  {
   "cell_type": "code",
   "outputs": [
    {
     "name": "stdout",
     "output_type": "stream",
     "text": [
      "c tensor\n",
      "1 torch.Size([10]) True None False <MulBackward0 object at 0x000001C5FF744700>\n"
     ]
    },
    {
     "name": "stderr",
     "output_type": "stream",
     "text": [
      "C:\\Users\\kdp\\AppData\\Local\\Temp\\ipykernel_8588\\2044598097.py:2: UserWarning: The .grad attribute of a Tensor that is not a leaf Tensor is being accessed. Its .grad attribute won't be populated during autograd.backward(). If you indeed want the .grad field to be populated for a non-leaf Tensor, use .retain_grad() on the non-leaf Tensor. If you access the non-leaf Tensor by mistake, make sure you access the leaf Tensor instead. See github.com/pytorch/pytorch/pull/30531 for more informations. (Triggered internally at C:\\b\\abs_6fueooay2f\\croot\\pytorch-select_1707342446212\\work\\build\\aten\\src\\ATen/core/TensorBody.h:494.)\n",
      "  print(c.ndim, c.shape, c.requires_grad, c.grad, c.is_leaf, c.grad_fn)\n"
     ]
    }
   ],
   "source": [
    "print('c tensor')\n",
    "print(c.ndim, c.shape, c.requires_grad, c.grad, c.is_leaf, c.grad_fn)"
   ],
   "metadata": {
    "collapsed": false,
    "ExecuteTime": {
     "end_time": "2024-03-23T07:16:55.460504Z",
     "start_time": "2024-03-23T07:16:55.445928Z"
    }
   },
   "id": "fb470c08ab8b120e",
   "execution_count": 36
  },
  {
   "cell_type": "markdown",
   "source": [
    "- backward 전후로 어떻게 변화했는지 살펴보자능"
   ],
   "metadata": {
    "collapsed": false
   },
   "id": "45f2f806785fe399"
  },
  {
   "cell_type": "code",
   "outputs": [],
   "source": [
    "x = torch.ones(5) # input tensor\n",
    "y = torch.zeros(3) #expected output\n",
    "w = torch.randn(5,3, requires_grad=True)\n",
    "b = torch.randn(3, requires_grad=True)\n",
    "z = torch.matmul(x, w) + b\n",
    "#loss = torch.nn.functional.binary_cross_entropy_with_logits(z, y)\n",
    "\n",
    "y2 = torch.zeros(1)\n",
    "w2 = torch.randn(3, requires_grad=True)\n",
    "b2 = torch.randn(1, requires_grad=True)\n",
    "z2 = torch.matmul(z,w2)+b2\n",
    "#x2 = torch.tensor((5, 5), z) # input tensor\n",
    "\n",
    "#print(z, z.shape, w.shape)\n",
    "\n",
    "loss = torch.nn.functional.binary_cross_entropy_with_logits(z2, y2)"
   ],
   "metadata": {
    "collapsed": false,
    "ExecuteTime": {
     "end_time": "2024-03-23T07:45:09.775812Z",
     "start_time": "2024-03-23T07:45:09.755441Z"
    }
   },
   "id": "985cb5fdcbad31a8",
   "execution_count": 42
  },
  {
   "cell_type": "code",
   "outputs": [
    {
     "name": "stdout",
     "output_type": "stream",
     "text": [
      "x tensor torch.Size([5]), 1, False, None, True, None\n",
      "y tensor torch.Size([3]), 1, False, None, True, None\n",
      "w tensor torch.Size([5, 3]), 2, True, None, True, None\n",
      "b tensor torch.Size([3]), 1, True, None, True, None\n",
      "z tensor torch.Size([3]), 1, True, None, False, <AddBackward0 object at 0x000001C5FF77D160>\n",
      "\n",
      "y2 tensor torch.Size([1]), 1, False, None, True, None\n",
      "w2 tensor torch.Size([3]), 1, True, None, True, None\n",
      "b2 tensor torch.Size([1]), 1, True, None, True, None\n",
      "z2 tensor torch.Size([1]), 1, True, None, False, <AddBackward0 object at 0x000001C5FF77D0A0>\n",
      "loss True, None, False, <BinaryCrossEntropyWithLogitsBackward0 object at 0x000001C5FF77D2B0>\n"
     ]
    },
    {
     "name": "stderr",
     "output_type": "stream",
     "text": [
      "C:\\Users\\kdp\\AppData\\Local\\Temp\\ipykernel_8588\\1569453660.py:5: UserWarning: The .grad attribute of a Tensor that is not a leaf Tensor is being accessed. Its .grad attribute won't be populated during autograd.backward(). If you indeed want the .grad field to be populated for a non-leaf Tensor, use .retain_grad() on the non-leaf Tensor. If you access the non-leaf Tensor by mistake, make sure you access the leaf Tensor instead. See github.com/pytorch/pytorch/pull/30531 for more informations. (Triggered internally at C:\\b\\abs_6fueooay2f\\croot\\pytorch-select_1707342446212\\work\\build\\aten\\src\\ATen/core/TensorBody.h:494.)\n",
      "  print('z tensor', f'{z.shape}, {z.ndim}, {z.requires_grad}, {z.grad}, {z.is_leaf}, {z.grad_fn}')\n",
      "C:\\Users\\kdp\\AppData\\Local\\Temp\\ipykernel_8588\\1569453660.py:11: UserWarning: The .grad attribute of a Tensor that is not a leaf Tensor is being accessed. Its .grad attribute won't be populated during autograd.backward(). If you indeed want the .grad field to be populated for a non-leaf Tensor, use .retain_grad() on the non-leaf Tensor. If you access the non-leaf Tensor by mistake, make sure you access the leaf Tensor instead. See github.com/pytorch/pytorch/pull/30531 for more informations. (Triggered internally at C:\\b\\abs_6fueooay2f\\croot\\pytorch-select_1707342446212\\work\\build\\aten\\src\\ATen/core/TensorBody.h:494.)\n",
      "  print('z2 tensor', f'{z2.shape}, {z2.ndim}, {z2.requires_grad}, {z2.grad}, {z2.is_leaf}, {z2.grad_fn}')\n",
      "C:\\Users\\kdp\\AppData\\Local\\Temp\\ipykernel_8588\\1569453660.py:12: UserWarning: The .grad attribute of a Tensor that is not a leaf Tensor is being accessed. Its .grad attribute won't be populated during autograd.backward(). If you indeed want the .grad field to be populated for a non-leaf Tensor, use .retain_grad() on the non-leaf Tensor. If you access the non-leaf Tensor by mistake, make sure you access the leaf Tensor instead. See github.com/pytorch/pytorch/pull/30531 for more informations. (Triggered internally at C:\\b\\abs_6fueooay2f\\croot\\pytorch-select_1707342446212\\work\\build\\aten\\src\\ATen/core/TensorBody.h:494.)\n",
      "  print('loss', f'{loss.requires_grad}, {loss.grad}, {loss.is_leaf}, {loss.grad_fn}')\n"
     ]
    }
   ],
   "source": [
    "print('x tensor', f'{x.shape}, {x.ndim}, {x.requires_grad}, {x.grad}, {x.is_leaf}, {x.grad_fn}')\n",
    "print('y tensor', f'{y.shape}, {y.ndim}, {y.requires_grad}, {y.grad}, {y.is_leaf}, {y.grad_fn}')\n",
    "print('w tensor', f'{w.shape}, {w.ndim}, {w.requires_grad}, {w.grad}, {w.is_leaf}, {w.grad_fn}')\n",
    "print('b tensor', f'{b.shape}, {b.ndim}, {b.requires_grad}, {b.grad}, {b.is_leaf}, {b.grad_fn}')\n",
    "print('z tensor', f'{z.shape}, {z.ndim}, {z.requires_grad}, {z.grad}, {z.is_leaf}, {z.grad_fn}')\n",
    "print()\n",
    "#print('x2 tensor', f'{x.shape}, {x.ndim}, {x.requires_grad}, {x.grad}, {x.is_leaf}, {x.grad_fn}')\n",
    "print('y2 tensor', f'{y2.shape}, {y2.ndim}, {y2.requires_grad}, {y2.grad}, {y2.is_leaf}, {y2.grad_fn}')\n",
    "print('w2 tensor', f'{w2.shape}, {w2.ndim}, {w2.requires_grad}, {w2.grad}, {w2.is_leaf}, {w2.grad_fn}')\n",
    "print('b2 tensor', f'{b2.shape}, {b2.ndim}, {b2.requires_grad}, {b2.grad}, {b2.is_leaf}, {b2.grad_fn}')\n",
    "print('z2 tensor', f'{z2.shape}, {z2.ndim}, {z2.requires_grad}, {z2.grad}, {z2.is_leaf}, {z2.grad_fn}')\n",
    "print('loss', f'{loss.requires_grad}, {loss.grad}, {loss.is_leaf}, {loss.grad_fn}')"
   ],
   "metadata": {
    "collapsed": false,
    "ExecuteTime": {
     "end_time": "2024-03-23T07:45:10.155774Z",
     "start_time": "2024-03-23T07:45:10.139264Z"
    }
   },
   "id": "fd16731270c1cc20",
   "execution_count": 43
  },
  {
   "cell_type": "code",
   "outputs": [
    {
     "name": "stdout",
     "output_type": "stream",
     "text": [
      "tensor([-1.1450, -1.7923,  1.5257], requires_grad=True) None\n",
      "tensor([-1.2552], requires_grad=True) None\n",
      "tensor([[-0.0450,  0.0256, -1.5867],\n",
      "        [ 0.0158,  0.1182,  1.4821],\n",
      "        [-0.9300,  0.2469,  1.8194],\n",
      "        [-0.9203, -0.1984, -0.3153],\n",
      "        [-0.9907, -1.6816, -1.6044]], requires_grad=True) None\n",
      "tensor([-0.3004,  1.3383, -2.1216], requires_grad=True) None\n"
     ]
    }
   ],
   "source": [
    "print(w2, w2.grad)\n",
    "print(b2, b2.grad)\n",
    "print(w, w.grad)\n",
    "print(b, b.grad)"
   ],
   "metadata": {
    "collapsed": false,
    "ExecuteTime": {
     "end_time": "2024-03-23T07:45:10.493870Z",
     "start_time": "2024-03-23T07:45:10.475299Z"
    }
   },
   "id": "34b9f73ae7709594",
   "execution_count": 44
  },
  {
   "cell_type": "code",
   "outputs": [],
   "source": [
    "loss.backward()"
   ],
   "metadata": {
    "collapsed": false,
    "ExecuteTime": {
     "end_time": "2024-03-23T07:45:10.974744Z",
     "start_time": "2024-03-23T07:45:10.957301Z"
    }
   },
   "id": "b3da443ea5941aa1",
   "execution_count": 45
  },
  {
   "cell_type": "code",
   "outputs": [
    {
     "name": "stdout",
     "output_type": "stream",
     "text": [
      "tensor([-1.1450, -1.7923,  1.5257], requires_grad=True) tensor([-0.9141, -0.0435, -0.6707])\n",
      "tensor([-1.2552], requires_grad=True) tensor([0.2883])\n",
      "tensor([[-0.0450,  0.0256, -1.5867],\n",
      "        [ 0.0158,  0.1182,  1.4821],\n",
      "        [-0.9300,  0.2469,  1.8194],\n",
      "        [-0.9203, -0.1984, -0.3153],\n",
      "        [-0.9907, -1.6816, -1.6044]], requires_grad=True) tensor([[-0.3301, -0.5167,  0.4399],\n",
      "        [-0.3301, -0.5167,  0.4399],\n",
      "        [-0.3301, -0.5167,  0.4399],\n",
      "        [-0.3301, -0.5167,  0.4399],\n",
      "        [-0.3301, -0.5167,  0.4399]])\n",
      "tensor([-0.3004,  1.3383, -2.1216], requires_grad=True) tensor([-0.3301, -0.5167,  0.4399])\n"
     ]
    }
   ],
   "source": [
    "print(w2, w2.grad)\n",
    "print(b2, b2.grad)\n",
    "print(w, w.grad)\n",
    "print(b, b.grad)"
   ],
   "metadata": {
    "collapsed": false,
    "ExecuteTime": {
     "end_time": "2024-03-23T07:45:11.412716Z",
     "start_time": "2024-03-23T07:45:11.400025Z"
    }
   },
   "id": "b95fe8c2cb66f52e",
   "execution_count": 46
  },
  {
   "cell_type": "code",
   "outputs": [],
   "source": [],
   "metadata": {
    "collapsed": false
   },
   "id": "49d7a3094c900d32"
  }
 ],
 "metadata": {
  "kernelspec": {
   "display_name": "Python 3",
   "language": "python",
   "name": "python3"
  },
  "language_info": {
   "codemirror_mode": {
    "name": "ipython",
    "version": 2
   },
   "file_extension": ".py",
   "mimetype": "text/x-python",
   "name": "python",
   "nbconvert_exporter": "python",
   "pygments_lexer": "ipython2",
   "version": "2.7.6"
  }
 },
 "nbformat": 4,
 "nbformat_minor": 5
}
