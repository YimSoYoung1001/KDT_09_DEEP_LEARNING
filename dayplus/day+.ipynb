{
 "cells": [
  {
   "cell_type": "markdown",
   "source": [
    "인터넷 ==> 데이터 기하급수적 ==> 빅데이터\n",
    "- 기존 알고리즘으로는 처리할 수 없어짐.\n",
    "- 인터넷과 빅데이터의 발달로 인공신경망 ANN 성능이 향상됨.\n",
    "- 깊게 은닉층이 들어 간 것 ==> 딥 러닝.\n",
    "\n",
    "기계 학습\n",
    "- KNN\n",
    "- Linear : 선형으로 이루어진 데이터 --> 공식 선형식 위에 최대한 많은 데이터를 올리기\n",
    "- SVM : 선으로 나누는 ---> 선을 기준으로 잘 나누기.\n",
    "- Decision Tree : 질문을 통해서 데이터 분류/ 회귀 (스무고개 방식)\n",
    "- Decision + .. + DT 100 앙상블\n",
    "\n",
    "딥러닝 -- 비정형 데이터\n",
    "- 퍼셉트론 ===> 인공 신경망 ANN ==> DNN ----\n",
    "- -> 개발자 마음대로 / 데이터가 많아야 함.\n",
    "- -> 정해진 퍼셉트론이나 공식, Layer가 없다.\n",
    "- 퍼셉트론보다 layer늘리는 게 효과적\n",
    "- 퍼셉트론 10개 ---> 분류기 10개..\n",
    "- 입력층의 출력이 은닉층의 입력으로 들어가고 은닉층의 출력이 출력층의 입력이 된다.\n",
    "- 출력값 ---> 분류되는 수 n-1 (예 - 이진분류 => 1개, 다중분류 => 클래스 수)\n"
   ],
   "metadata": {
    "collapsed": false
   },
   "id": "c4106a7b0550f195"
  },
  {
   "cell_type": "code",
   "outputs": [],
   "source": [],
   "metadata": {
    "collapsed": false
   },
   "id": "adb629aae6b62120"
  }
 ],
 "metadata": {
  "kernelspec": {
   "display_name": "Python 3",
   "language": "python",
   "name": "python3"
  },
  "language_info": {
   "codemirror_mode": {
    "name": "ipython",
    "version": 2
   },
   "file_extension": ".py",
   "mimetype": "text/x-python",
   "name": "python",
   "nbconvert_exporter": "python",
   "pygments_lexer": "ipython2",
   "version": "2.7.6"
  }
 },
 "nbformat": 4,
 "nbformat_minor": 5
}
