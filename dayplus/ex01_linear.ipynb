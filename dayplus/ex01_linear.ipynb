{
 "cells": [
  {
   "cell_type": "markdown",
   "metadata": {},
   "source": [
    "### 선형 모델 동작 살펴보기\n",
    "- nn.Linear 클래스\n",
    "- y= wx+b 공식으로 동작하는 선형회귀모델"
   ]
  },
  {
   "cell_type": "code",
   "execution_count": 499,
   "metadata": {
    "ExecuteTime": {
     "end_time": "2024-03-23T05:11:05.456295Z",
     "start_time": "2024-03-23T05:11:05.445863Z"
    }
   },
   "outputs": [],
   "source": [
    "# 모듈 로딩\n",
    "import torch                        # 텐서, 기본 함수들\n",
    "import torch.nn as nn               # 인공신경망 관련\n",
    "import torch.nn.functional as F        # 함수들"
   ]
  },
  {
   "cell_type": "code",
   "execution_count": 500,
   "metadata": {
    "ExecuteTime": {
     "end_time": "2024-03-23T05:11:05.471816Z",
     "start_time": "2024-03-23T05:11:05.458377Z"
    }
   },
   "outputs": [
    {
     "data": {
      "text/plain": "(torch.Size([3, 2]), torch.Size([3, 1]))"
     },
     "execution_count": 500,
     "metadata": {},
     "output_type": "execute_result"
    }
   ],
   "source": [
    "# 테스트용 임의의 데이터\n",
    "data = torch.FloatTensor([[8,9], \n",
    "                          [6,6],\n",
    "                          [3,4]])\n",
    "target = torch.LongTensor([[17], [12], [7]])\n",
    "\n",
    "data.shape, target.shape"
   ]
  },
  {
   "cell_type": "code",
   "execution_count": 501,
   "metadata": {
    "ExecuteTime": {
     "end_time": "2024-03-23T05:11:05.487358Z",
     "start_time": "2024-03-23T05:11:05.472815Z"
    }
   },
   "outputs": [],
   "source": [
    "# 선형모델 인스턴스 생성. => 각 입력 데이터의 피처 개수, 각 출력 데이터의 피처 개수\n",
    "linear = nn.Linear(2,1) # 지금 하는 건 층이 없는 거 "
   ]
  },
  {
   "cell_type": "code",
   "execution_count": 502,
   "metadata": {
    "ExecuteTime": {
     "end_time": "2024-03-23T05:11:05.503079Z",
     "start_time": "2024-03-23T05:11:05.488477Z"
    }
   },
   "outputs": [
    {
     "name": "stdout",
     "output_type": "stream",
     "text": [
      "[학습결과]\n",
      "torch.Size([3, 1])\n",
      "tensor([[-2.7827],\n",
      "        [-1.9259],\n",
      "        [-1.0362]], grad_fn=<AddmmBackward0>)\n"
     ]
    }
   ],
   "source": [
    "# 학습 \n",
    "output = linear(data)\n",
    "\n",
    "print(f'[학습결과]\\n{output.shape}\\n{output}')"
   ]
  },
  {
   "cell_type": "code",
   "execution_count": 503,
   "metadata": {
    "ExecuteTime": {
     "end_time": "2024-03-23T05:11:05.518743Z",
     "start_time": "2024-03-23T05:11:05.505172Z"
    }
   },
   "outputs": [
    {
     "data": {
      "text/plain": "Parameter containing:\ntensor([[-0.1912, -0.1581]], requires_grad=True)"
     },
     "execution_count": 503,
     "metadata": {},
     "output_type": "execute_result"
    }
   ],
   "source": [
    "## 모델 파라미터\n",
    "linear.weight"
   ]
  },
  {
   "cell_type": "code",
   "outputs": [
    {
     "name": "stdout",
     "output_type": "stream",
     "text": [
      "tensor([-0.1912, -0.1581], grad_fn=<SelectBackward0>)\n",
      "\n",
      "tensor(-0.1912, grad_fn=<SelectBackward0>)\n",
      "\n",
      "-0.19116824865341187\n"
     ]
    }
   ],
   "source": [
    "# 위의 모델 파라미터에서 단계적으로 값만 뽑아보자\n",
    "print(linear.weight[0], linear.weight[0][0], linear.weight[0][0].item(), sep = '\\n\\n')"
   ],
   "metadata": {
    "collapsed": false,
    "ExecuteTime": {
     "end_time": "2024-03-23T05:11:05.534176Z",
     "start_time": "2024-03-23T05:11:05.520713Z"
    }
   },
   "execution_count": 504
  },
  {
   "cell_type": "code",
   "execution_count": 505,
   "metadata": {
    "ExecuteTime": {
     "end_time": "2024-03-23T05:11:05.549503Z",
     "start_time": "2024-03-23T05:11:05.535243Z"
    }
   },
   "outputs": [
    {
     "data": {
      "text/plain": "Parameter containing:\ntensor([0.1699], requires_grad=True)"
     },
     "execution_count": 505,
     "metadata": {},
     "output_type": "execute_result"
    }
   ],
   "source": [
    "linear.bias"
   ]
  },
  {
   "cell_type": "code",
   "execution_count": 506,
   "metadata": {
    "ExecuteTime": {
     "end_time": "2024-03-23T05:11:05.565258Z",
     "start_time": "2024-03-23T05:11:05.550603Z"
    }
   },
   "outputs": [
    {
     "name": "stdout",
     "output_type": "stream",
     "text": [
      "[0] tensor([[-2.7827],\n",
      "        [-1.9259],\n",
      "        [-1.0362]])\n",
      "[1] tensor([[-2.7827],\n",
      "        [-1.9259],\n",
      "        [-1.0362]])\n",
      "[2] tensor([[-2.7827],\n",
      "        [-1.9259],\n",
      "        [-1.0362]])\n"
     ]
    }
   ],
   "source": [
    "for i, value in enumerate(output.data) :\n",
    "    print(f'[{i}] {output.data}')"
   ]
  },
  {
   "cell_type": "code",
   "outputs": [
    {
     "name": "stdout",
     "output_type": "stream",
     "text": [
      "[0] -2.782702684402466\n",
      "[1] -1.9259448051452637\n",
      "[2] -1.0361590385437012\n"
     ]
    }
   ],
   "source": [
    "for i, value in enumerate(output.data) :\n",
    "    print(f'[{i}] {output.data[i].item()}')"
   ],
   "metadata": {
    "collapsed": false,
    "ExecuteTime": {
     "end_time": "2024-03-23T05:11:05.580980Z",
     "start_time": "2024-03-23T05:11:05.566322Z"
    }
   },
   "execution_count": 507
  },
  {
   "cell_type": "code",
   "outputs": [
    {
     "data": {
      "text/plain": "-2.7827027440071106"
     },
     "execution_count": 508,
     "metadata": {},
     "output_type": "execute_result"
    }
   ],
   "source": [
    "# 선형식   (data에서 1행의 값을 선형식에 적용시켜보자)\n",
    "y = linear.weight[0][0].item()*8. + linear.weight[0][1].item()*9 + linear.bias[0].item()\n",
    "y"
   ],
   "metadata": {
    "collapsed": false,
    "ExecuteTime": {
     "end_time": "2024-03-23T05:11:05.596684Z",
     "start_time": "2024-03-23T05:11:05.581979Z"
    }
   },
   "execution_count": 508
  },
  {
   "cell_type": "code",
   "outputs": [
    {
     "data": {
      "text/plain": "-2.518480598926544"
     },
     "execution_count": 509,
     "metadata": {},
     "output_type": "execute_result"
    }
   ],
   "source": [
    "# 위에 처럼 담을 수도 있지만 이렇게 변수 지정해서는 가능하다\n",
    "w1 = linear.weight[0][0].item()\n",
    "w2 = linear.weight[0][1].item()\n",
    "b = linear.bias[0].item()\n",
    "\n",
    "y = w2 * 8. + w2 * 9. + b\n",
    "y"
   ],
   "metadata": {
    "collapsed": false,
    "ExecuteTime": {
     "end_time": "2024-03-23T05:11:05.612365Z",
     "start_time": "2024-03-23T05:11:05.598760Z"
    }
   },
   "execution_count": 509
  },
  {
   "cell_type": "markdown",
   "source": [
    "#### linear 결과와 활성화 함수\n",
    "- 인공신경망에서 전결합층에 해당하는 Linear 모델에 AF 함수 적용"
   ],
   "metadata": {
    "collapsed": false
   }
  },
  {
   "cell_type": "code",
   "outputs": [
    {
     "name": "stdout",
     "output_type": "stream",
     "text": [
      "tensor([[0.0583],\n",
      "        [0.1272],\n",
      "        [0.2619]], grad_fn=<SigmoidBackward0>)\n"
     ]
    }
   ],
   "source": [
    "# 활성화 함수 (AF) 적용 - sigmoid\n",
    "# sigmoid 함수 => 0.0 ~ 1.0 범위의 값으로 변환\n",
    "af = F.sigmoid(output)\n",
    "print(af)\n",
    "\n",
    "# sigmoid를 거치면 0.0 ~ 1.0 사이의 값이 나온다.\n",
    "# 그 결과에 대해서 0.5가 넘으면 0.5보다 크면 1, 0.5보다 작으면 0으로 결정해주는 거는 직접 해주어야한다."
   ],
   "metadata": {
    "collapsed": false,
    "ExecuteTime": {
     "end_time": "2024-03-23T05:11:05.628049Z",
     "start_time": "2024-03-23T05:11:05.614485Z"
    }
   },
   "execution_count": 510
  },
  {
   "cell_type": "code",
   "outputs": [
    {
     "name": "stdout",
     "output_type": "stream",
     "text": [
      "tensor([[0.],\n",
      "        [0.],\n",
      "        [0.]], grad_fn=<ReluBackward0>)\n"
     ]
    }
   ],
   "source": [
    "# 활성화 함수 (AF) 적용 - relu\n",
    "# relu 함수 => 값 > 0 : 그대로,   값 <= 0 : 0\n",
    "af = F.relu(output)\n",
    "print(af)"
   ],
   "metadata": {
    "collapsed": false,
    "ExecuteTime": {
     "end_time": "2024-03-23T05:11:05.643623Z",
     "start_time": "2024-03-23T05:11:05.629048Z"
    }
   },
   "execution_count": 511
  },
  {
   "cell_type": "code",
   "outputs": [],
   "source": [],
   "metadata": {
    "collapsed": false,
    "ExecuteTime": {
     "end_time": "2024-03-23T05:11:05.659385Z",
     "start_time": "2024-03-23T05:11:05.644686Z"
    }
   },
   "execution_count": 511
  }
 ],
 "metadata": {
  "kernelspec": {
   "display_name": "Torch_py38",
   "language": "python",
   "name": "python3"
  },
  "language_info": {
   "codemirror_mode": {
    "name": "ipython",
    "version": 3
   },
   "file_extension": ".py",
   "mimetype": "text/x-python",
   "name": "python",
   "nbconvert_exporter": "python",
   "pygments_lexer": "ipython3",
   "version": "3.8.12"
  }
 },
 "nbformat": 4,
 "nbformat_minor": 2
}
