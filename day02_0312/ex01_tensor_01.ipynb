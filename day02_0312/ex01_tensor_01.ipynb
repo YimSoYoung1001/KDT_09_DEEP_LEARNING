{
 "cells": [
  {
   "cell_type": "markdown",
   "source": [
    "### 텐서(Tensor) 살펴보기\n",
    "- Pytorch에서 데이터 저장 자료형\n",
    "- 모델 입력 (input), 출력(output) 데이터 형태\n",
    "- 얘는 쓸때 텐서로 하나하나씩 다 바꿔주고 사용해야함"
   ],
   "metadata": {
    "collapsed": false
   },
   "id": "a78efdb477f19076"
  },
  {
   "cell_type": "markdown",
   "source": [
    "- 모듈 로딩"
   ],
   "metadata": {
    "collapsed": false
   },
   "id": "8e6659bbeb0a437e"
  },
  {
   "cell_type": "code",
   "outputs": [],
   "source": [
    "import torch"
   ],
   "metadata": {
    "collapsed": false,
    "ExecuteTime": {
     "end_time": "2024-03-12T10:13:30.436717Z",
     "start_time": "2024-03-12T10:13:30.419207Z"
    }
   },
   "id": "ffaa91fecec0843a",
   "execution_count": 205
  },
  {
   "cell_type": "markdown",
   "source": [
    "- Tensor 속성 관련 함수"
   ],
   "metadata": {
    "collapsed": false
   },
   "id": "b375f805c940390b"
  },
  {
   "cell_type": "code",
   "outputs": [],
   "source": [
    "# 매개변수 : 텐서 인스턴스, 텐서 변수명\n",
    "def print_attribute(tensor, name):\n",
    "    print(f\"[Tensor {name}\\'s Attribute]\")\n",
    "    print(f\" - tensor.shape : {tensor.shape}\")\n",
    "    print(f\" - tensor.ndim : {tensor.ndim}D\")\n",
    "    print(f\" - tensor.dtype : {tensor.dtype}\")\n",
    "    print(f\" - tensor.device : {tensor.device}\")\n",
    "    print(f\" - tensor.requires_grad : {tensor.requires_grad}\")\n",
    "    print(f\" - tensor.data : \\n   {tensor.data}\")"
   ],
   "metadata": {
    "collapsed": false,
    "ExecuteTime": {
     "end_time": "2024-03-12T10:13:30.529403Z",
     "start_time": "2024-03-12T10:13:30.512336Z"
    }
   },
   "id": "a0187dea03856dfa",
   "execution_count": 206
  },
  {
   "cell_type": "markdown",
   "source": [
    "- Tensor 생성 (1) 특정 데이터 타입의 텐서 생성\n",
    "    * 타입별 텐서 클래스 생성자 활용\n",
    "    * 예) IntTensor(), FloatTensor(), BoolTensor()"
   ],
   "metadata": {
    "collapsed": false
   },
   "id": "f7274d624afafad"
  },
  {
   "cell_type": "code",
   "outputs": [
    {
     "name": "stdout",
     "output_type": "stream",
     "text": [
      "[Tensor t1's Attribute]\n",
      " - tensor.shape : torch.Size([10])\n",
      " - tensor.ndim : 1D\n",
      " - tensor.dtype : torch.int32\n",
      " - tensor.device : cpu\n",
      " - tensor.requires_grad : False\n",
      " - tensor.data : \n",
      "   tensor([ 1073741824,  1070751501,           0,  1067792890,           0,\n",
      "         1067931250,           0,  1069432977, -2147483648,  1071840281],\n",
      "       dtype=torch.int32)\n"
     ]
    }
   ],
   "source": [
    "# 정수 타입 텐서 생성\n",
    "t1 = torch.IntTensor(10)\n",
    "print_attribute(t1, 't1')"
   ],
   "metadata": {
    "collapsed": false,
    "ExecuteTime": {
     "end_time": "2024-03-12T10:13:30.544528Z",
     "start_time": "2024-03-12T10:13:30.531447Z"
    }
   },
   "id": "4a3331e0914ffdbb",
   "execution_count": 207
  },
  {
   "cell_type": "code",
   "outputs": [
    {
     "name": "stdout",
     "output_type": "stream",
     "text": [
      "[Tensor t2's Attribute]\n",
      " - tensor.shape : torch.Size([2])\n",
      " - tensor.ndim : 1D\n",
      " - tensor.dtype : torch.int32\n",
      " - tensor.device : cpu\n",
      " - tensor.requires_grad : False\n",
      " - tensor.data : \n",
      "   tensor([10, 20], dtype=torch.int32)\n"
     ]
    },
    {
     "name": "stderr",
     "output_type": "stream",
     "text": [
      "C:\\Users\\kdp\\AppData\\Local\\Temp\\ipykernel_3448\\3487941296.py:2: DeprecationWarning: an integer is required (got type float).  Implicit conversion to integers using __int__ is deprecated, and may be removed in a future version of Python.\n",
      "  t2 = torch.IntTensor([10., 20.])\n"
     ]
    }
   ],
   "source": [
    "# 정수 타입 텐서 생성\n",
    "t2 = torch.IntTensor([10., 20.])\n",
    "print_attribute(t2, 't2')\n",
    "# float으로 들어갔지만 int Tensor를 만들었기 때문에 결국 int가 된다.\n",
    "# warning : 만약 소수점 이하에서 숫자들이 있었다면 처리 과정에서 데이터 손실이 있으니 쓰지말라고 경고하는,,~"
   ],
   "metadata": {
    "collapsed": false,
    "ExecuteTime": {
     "end_time": "2024-03-12T10:13:30.560319Z",
     "start_time": "2024-03-12T10:13:30.546854Z"
    }
   },
   "id": "d8db2f45803d40da",
   "execution_count": 208
  },
  {
   "cell_type": "code",
   "outputs": [
    {
     "name": "stdout",
     "output_type": "stream",
     "text": [
      "[Tensor t3's Attribute]\n",
      " - tensor.shape : torch.Size([4])\n",
      " - tensor.ndim : 1D\n",
      " - tensor.dtype : torch.bool\n",
      " - tensor.device : cpu\n",
      " - tensor.requires_grad : False\n",
      " - tensor.data : \n",
      "   tensor([ True,  True, False,  True])\n"
     ]
    }
   ],
   "source": [
    "# 불 타입 텐서 생성\n",
    "t3 = torch.BoolTensor([1, 1, 0, -1])\n",
    "print_attribute(t3, 't3')"
   ],
   "metadata": {
    "collapsed": false,
    "ExecuteTime": {
     "end_time": "2024-03-12T10:13:30.576085Z",
     "start_time": "2024-03-12T10:13:30.562382Z"
    }
   },
   "id": "d24371e00b659c3a",
   "execution_count": 209
  },
  {
   "cell_type": "code",
   "outputs": [
    {
     "name": "stdout",
     "output_type": "stream",
     "text": [
      "[Tensor t4's Attribute]\n",
      " - tensor.shape : torch.Size([2])\n",
      " - tensor.ndim : 1D\n",
      " - tensor.dtype : torch.float32\n",
      " - tensor.device : cpu\n",
      " - tensor.requires_grad : False\n",
      " - tensor.data : \n",
      "   tensor([10., 20.])\n"
     ]
    }
   ],
   "source": [
    "# 실수 타입 텐서 생성\n",
    "t4 = torch.FloatTensor([10, 20])\n",
    "print_attribute(t4, 't4')"
   ],
   "metadata": {
    "collapsed": false,
    "ExecuteTime": {
     "end_time": "2024-03-12T10:13:30.591504Z",
     "start_time": "2024-03-12T10:13:30.577206Z"
    }
   },
   "id": "42269f0a1ceb4dc0",
   "execution_count": 210
  },
  {
   "cell_type": "markdown",
   "source": [
    "- Tensor 생성 (2) 원하는 값으로 텐서 생성 => torch.tensor()"
   ],
   "metadata": {
    "collapsed": false
   },
   "id": "cd24f68ed03e1483"
  },
  {
   "cell_type": "code",
   "outputs": [
    {
     "name": "stdout",
     "output_type": "stream",
     "text": [
      "[Tensor t1's Attribute]\n",
      " - tensor.shape : torch.Size([])\n",
      " - tensor.ndim : 0D\n",
      " - tensor.dtype : torch.int64\n",
      " - tensor.device : cpu\n",
      " - tensor.requires_grad : False\n",
      " - tensor.data : \n",
      "   10\n"
     ]
    }
   ],
   "source": [
    "t1 = torch.tensor(10)   # scalar 데이터, int64\n",
    "print_attribute(t1, 't1')"
   ],
   "metadata": {
    "collapsed": false,
    "ExecuteTime": {
     "end_time": "2024-03-12T10:13:30.607460Z",
     "start_time": "2024-03-12T10:13:30.592503Z"
    }
   },
   "id": "84f41d2780f91619",
   "execution_count": 211
  },
  {
   "cell_type": "code",
   "outputs": [
    {
     "data": {
      "text/plain": "tensor(10)"
     },
     "execution_count": 212,
     "metadata": {},
     "output_type": "execute_result"
    }
   ],
   "source": [
    "t1 #scalar라는 거이고 대괄호 없이 넣어서 아예 차원이 없다. 차원이라는 것은 축이 생겨야 한다. 1D면 축이 1개, 2D면 축이 2개, 3D면 축이 3개 ... 근데 이거는 축이 없다는거!"
   ],
   "metadata": {
    "collapsed": false,
    "ExecuteTime": {
     "end_time": "2024-03-12T10:13:30.622904Z",
     "start_time": "2024-03-12T10:13:30.609507Z"
    }
   },
   "id": "403f82dbbeafefe8",
   "execution_count": 212
  },
  {
   "cell_type": "code",
   "outputs": [
    {
     "name": "stdout",
     "output_type": "stream",
     "text": [
      "[Tensor t2's Attribute]\n",
      " - tensor.shape : torch.Size([])\n",
      " - tensor.ndim : 0D\n",
      " - tensor.dtype : torch.float32\n",
      " - tensor.device : cpu\n",
      " - tensor.requires_grad : False\n",
      " - tensor.data : \n",
      "   10.0\n"
     ]
    }
   ],
   "source": [
    "t2 = torch.tensor(10.0)   # scalar 데이터, float32\n",
    "print_attribute(t2, 't2')"
   ],
   "metadata": {
    "collapsed": false,
    "ExecuteTime": {
     "end_time": "2024-03-12T10:13:30.638074Z",
     "start_time": "2024-03-12T10:13:30.626012Z"
    }
   },
   "id": "926ef55b93399e44",
   "execution_count": 213
  },
  {
   "cell_type": "code",
   "outputs": [
    {
     "name": "stdout",
     "output_type": "stream",
     "text": [
      "[Tensor t3's Attribute]\n",
      " - tensor.shape : torch.Size([])\n",
      " - tensor.ndim : 0D\n",
      " - tensor.dtype : torch.int32\n",
      " - tensor.device : cpu\n",
      " - tensor.requires_grad : False\n",
      " - tensor.data : \n",
      "   10\n"
     ]
    },
    {
     "name": "stderr",
     "output_type": "stream",
     "text": [
      "C:\\Users\\kdp\\AppData\\Local\\Temp\\ipykernel_3448\\387580399.py:1: DeprecationWarning: an integer is required (got type float).  Implicit conversion to integers using __int__ is deprecated, and may be removed in a future version of Python.\n",
      "  t3 = torch.tensor(10., dtype = torch.int32)   # scalar 데이터, int32\n"
     ]
    }
   ],
   "source": [
    "t3 = torch.tensor(10., dtype = torch.int32)   # scalar 데이터, int32\n",
    "print_attribute(t3, 't3')"
   ],
   "metadata": {
    "collapsed": false,
    "ExecuteTime": {
     "end_time": "2024-03-12T10:13:30.653964Z",
     "start_time": "2024-03-12T10:13:30.639680Z"
    }
   },
   "id": "577dc4547a21320f",
   "execution_count": 214
  },
  {
   "cell_type": "code",
   "outputs": [
    {
     "name": "stdout",
     "output_type": "stream",
     "text": [
      "[Tensor t4's Attribute]\n",
      " - tensor.shape : torch.Size([])\n",
      " - tensor.ndim : 0D\n",
      " - tensor.dtype : torch.bool\n",
      " - tensor.device : cpu\n",
      " - tensor.requires_grad : False\n",
      " - tensor.data : \n",
      "   True\n"
     ]
    }
   ],
   "source": [
    "# dtype 매개변수 : 원하는 데이터 타입 지정 가능\n",
    "t4 = torch.tensor(10., dtype = torch.bool)   # scalar 데이터, bool\n",
    "print_attribute(t4, 't4')"
   ],
   "metadata": {
    "collapsed": false,
    "ExecuteTime": {
     "end_time": "2024-03-12T10:13:30.669493Z",
     "start_time": "2024-03-12T10:13:30.656061Z"
    }
   },
   "id": "2359a16c4eff5b8c",
   "execution_count": 215
  },
  {
   "cell_type": "code",
   "outputs": [
    {
     "name": "stdout",
     "output_type": "stream",
     "text": [
      "[Tensor t5's Attribute]\n",
      " - tensor.shape : torch.Size([3])\n",
      " - tensor.ndim : 1D\n",
      " - tensor.dtype : torch.int8\n",
      " - tensor.device : cpu\n",
      " - tensor.requires_grad : False\n",
      " - tensor.data : \n",
      "   tensor([1, 2, 3], dtype=torch.int8)\n"
     ]
    }
   ],
   "source": [
    "t5 = torch.tensor([1,2,3], dtype = torch.int8)   # 1D 데이터\n",
    "print_attribute(t5, 't5')"
   ],
   "metadata": {
    "collapsed": false,
    "ExecuteTime": {
     "end_time": "2024-03-12T10:13:30.701451Z",
     "start_time": "2024-03-12T10:13:30.685306Z"
    }
   },
   "id": "675aa6cab39fb432",
   "execution_count": 216
  },
  {
   "cell_type": "code",
   "outputs": [
    {
     "name": "stdout",
     "output_type": "stream",
     "text": [
      "[Tensor t6's Attribute]\n",
      " - tensor.shape : torch.Size([1, 3])\n",
      " - tensor.ndim : 2D\n",
      " - tensor.dtype : torch.int8\n",
      " - tensor.device : cpu\n",
      " - tensor.requires_grad : False\n",
      " - tensor.data : \n",
      "   tensor([[1, 2, 3]], dtype=torch.int8)\n"
     ]
    }
   ],
   "source": [
    "t6 = torch.tensor([[1,2,3]], dtype = torch.int8)   # 2D 데이터\n",
    "print_attribute(t6, 't6')"
   ],
   "metadata": {
    "collapsed": false,
    "ExecuteTime": {
     "end_time": "2024-03-12T10:13:30.732626Z",
     "start_time": "2024-03-12T10:13:30.720898Z"
    }
   },
   "id": "6f201534ba56f095",
   "execution_count": 217
  },
  {
   "cell_type": "markdown",
   "source": [
    "- 특정 값으로 생성 (3) 특정 값으로 채운 텐서 => 0, 1 등의 값"
   ],
   "metadata": {
    "collapsed": false
   },
   "id": "340dd7159add873a"
  },
  {
   "cell_type": "code",
   "outputs": [
    {
     "name": "stdout",
     "output_type": "stream",
     "text": [
      "[Tensor t1's Attribute]\n",
      " - tensor.shape : torch.Size([5])\n",
      " - tensor.ndim : 1D\n",
      " - tensor.dtype : torch.float32\n",
      " - tensor.device : cpu\n",
      " - tensor.requires_grad : False\n",
      " - tensor.data : \n",
      "   tensor([0., 0., 0., 0., 0.])\n"
     ]
    }
   ],
   "source": [
    "# 0으로 채운 텐서\n",
    "t1 = torch.zeros(5)\n",
    "print_attribute(t1, 't1')    # 5개가 채워진 것을 알 수 있다."
   ],
   "metadata": {
    "collapsed": false,
    "ExecuteTime": {
     "end_time": "2024-03-12T10:13:30.795070Z",
     "start_time": "2024-03-12T10:13:30.781464Z"
    }
   },
   "id": "f2a49e2fa1a8916d",
   "execution_count": 218
  },
  {
   "cell_type": "code",
   "outputs": [
    {
     "name": "stdout",
     "output_type": "stream",
     "text": [
      "[Tensor t1's Attribute]\n",
      " - tensor.shape : torch.Size([5, 5])\n",
      " - tensor.ndim : 2D\n",
      " - tensor.dtype : torch.float32\n",
      " - tensor.device : cpu\n",
      " - tensor.requires_grad : False\n",
      " - tensor.data : \n",
      "   tensor([[0., 0., 0., 0., 0.],\n",
      "        [0., 0., 0., 0., 0.],\n",
      "        [0., 0., 0., 0., 0.],\n",
      "        [0., 0., 0., 0., 0.],\n",
      "        [0., 0., 0., 0., 0.]])\n"
     ]
    }
   ],
   "source": [
    "# 0으로 채운 텐서\n",
    "t1 = torch.zeros((5,5))\n",
    "print_attribute(t1, 't1') "
   ],
   "metadata": {
    "collapsed": false,
    "ExecuteTime": {
     "end_time": "2024-03-12T10:13:30.825903Z",
     "start_time": "2024-03-12T10:13:30.806283Z"
    }
   },
   "id": "e4492808be54e29c",
   "execution_count": 219
  },
  {
   "cell_type": "code",
   "outputs": [
    {
     "name": "stdout",
     "output_type": "stream",
     "text": [
      "[Tensor t1's Attribute]\n",
      " - tensor.shape : torch.Size([2, 4])\n",
      " - tensor.ndim : 2D\n",
      " - tensor.dtype : torch.int8\n",
      " - tensor.device : cpu\n",
      " - tensor.requires_grad : False\n",
      " - tensor.data : \n",
      "   tensor([[1, 1, 1, 1],\n",
      "        [1, 1, 1, 1]], dtype=torch.int8)\n"
     ]
    }
   ],
   "source": [
    "# 1으로 채운 텐서\n",
    "t1 = torch.ones((2,4), dtype = torch.int8)\n",
    "print_attribute(t1, 't1')"
   ],
   "metadata": {
    "collapsed": false,
    "ExecuteTime": {
     "end_time": "2024-03-12T10:13:30.872863Z",
     "start_time": "2024-03-12T10:13:30.856027Z"
    }
   },
   "id": "fbb5a7580e098aa9",
   "execution_count": 220
  },
  {
   "cell_type": "code",
   "outputs": [
    {
     "name": "stdout",
     "output_type": "stream",
     "text": [
      "torch.Size([2, 6])\n"
     ]
    }
   ],
   "source": [
    "# 이미 존재하는 텐서와 동일한 shape으로 잡고 값 채우기 => zeros_like(), ones_like()\n",
    "img = torch.tensor([[2,3,4,5,6,7], [2,3,4,5,6,7]])\n",
    "print(img.shape)"
   ],
   "metadata": {
    "collapsed": false,
    "ExecuteTime": {
     "end_time": "2024-03-12T10:13:30.903718Z",
     "start_time": "2024-03-12T10:13:30.887974Z"
    }
   },
   "id": "6b74f0cdc884ac0b",
   "execution_count": 221
  },
  {
   "cell_type": "code",
   "outputs": [
    {
     "name": "stdout",
     "output_type": "stream",
     "text": [
      "tensor([[0, 0, 0, 0, 0, 0],\n",
      "        [0, 0, 0, 0, 0, 0]])\n"
     ]
    }
   ],
   "source": [
    "zero_img = torch.zeros_like(img)\n",
    "print(zero_img)                      # 똑같은 shape 인데 0으로 채웠다."
   ],
   "metadata": {
    "collapsed": false,
    "ExecuteTime": {
     "end_time": "2024-03-12T10:13:30.937007Z",
     "start_time": "2024-03-12T10:13:30.919709Z"
    }
   },
   "id": "ba8e73b3155a7c51",
   "execution_count": 222
  },
  {
   "cell_type": "code",
   "outputs": [
    {
     "name": "stdout",
     "output_type": "stream",
     "text": [
      "tensor([[1, 1, 1, 1, 1, 1],\n",
      "        [1, 1, 1, 1, 1, 1]])\n"
     ]
    }
   ],
   "source": [
    "one_img = torch.ones_like(img)\n",
    "print(one_img)                       # 똑같은 shape 인데 1으로 채웠다."
   ],
   "metadata": {
    "collapsed": false,
    "ExecuteTime": {
     "end_time": "2024-03-12T10:13:30.952320Z",
     "start_time": "2024-03-12T10:13:30.939636Z"
    }
   },
   "id": "b1ebabcca0087575",
   "execution_count": 223
  },
  {
   "cell_type": "code",
   "outputs": [
    {
     "name": "stdout",
     "output_type": "stream",
     "text": [
      "tensor([[7, 7, 7, 7, 7, 7],\n",
      "        [7, 7, 7, 7, 7, 7]])\n"
     ]
    }
   ],
   "source": [
    "full_img = torch.full_like(img,7)\n",
    "print(full_img)                       # 똑같은 shape 인데 7으로 채웠다."
   ],
   "metadata": {
    "collapsed": false,
    "ExecuteTime": {
     "end_time": "2024-03-12T10:13:30.967977Z",
     "start_time": "2024-03-12T10:13:30.954950Z"
    }
   },
   "id": "45a46bb9d258c21f",
   "execution_count": 224
  },
  {
   "cell_type": "code",
   "outputs": [
    {
     "name": "stdout",
     "output_type": "stream",
     "text": [
      "tensor([[1., 0., 0., 0., 0.],\n",
      "        [0., 1., 0., 0., 0.],\n",
      "        [0., 0., 1., 0., 0.],\n",
      "        [0., 0., 0., 1., 0.],\n",
      "        [0., 0., 0., 0., 1.]])\n"
     ]
    }
   ],
   "source": [
    "# 대각선 방향으로 1 채우기 => eye()\n",
    "t1 = torch.eye(5)\n",
    "print(t1)"
   ],
   "metadata": {
    "collapsed": false,
    "ExecuteTime": {
     "end_time": "2024-03-12T10:13:30.999313Z",
     "start_time": "2024-03-12T10:13:30.984866Z"
    }
   },
   "id": "27183818ebd452ec",
   "execution_count": 225
  },
  {
   "cell_type": "markdown",
   "source": [
    "- Tensor 생성 방법 (4) : 임의의 값으로 Tensor 생성 => torch.rand(), torch.randn(), torch.randint()"
   ],
   "metadata": {
    "collapsed": false
   },
   "id": "99010af981caa776"
  },
  {
   "cell_type": "code",
   "outputs": [
    {
     "name": "stdout",
     "output_type": "stream",
     "text": [
      "tensor([[0.4657, 0.2328, 0.4527],\n",
      "        [0.5871, 0.4086, 0.1272]])\n",
      "tensor([[ 1.5869,  1.1268, -1.2274],\n",
      "        [-0.8216, -1.7861,  0.6167]])\n",
      "tensor([[8, 4, 6],\n",
      "        [2, 2, 2]])\n"
     ]
    }
   ],
   "source": [
    "torch.manual_seed(12)   # 랟덤 초기값 설정\n",
    "t1 = torch.rand(2,3)    # [0,1) 분포 안에서 랜덤 생성\n",
    "print(t1)\n",
    "t2 = torch.randn(2,3)   # standard normal 분포안에서 랜덤 생성\n",
    "print(t2)\n",
    "t3 = torch.randint(low=1, high=10, size = (2,3))    # low <= 값 < high\n",
    "print(t3)"
   ],
   "metadata": {
    "collapsed": false,
    "ExecuteTime": {
     "end_time": "2024-03-12T10:13:31.014879Z",
     "start_time": "2024-03-12T10:13:31.003901Z"
    }
   },
   "id": "b3bd8c831414016a",
   "execution_count": 226
  },
  {
   "cell_type": "markdown",
   "source": [
    "- Tensor 생성 방법 (5) : Ndarray 객체 활용 => torch.from_numpy(), torch.as_tensor(), tensor()"
   ],
   "metadata": {
    "collapsed": false
   },
   "id": "403c7293272d18b4"
  },
  {
   "cell_type": "code",
   "outputs": [
    {
     "name": "stdout",
     "output_type": "stream",
     "text": [
      "[11 22 33] <class 'numpy.ndarray'>\n"
     ]
    }
   ],
   "source": [
    "# 데이터 생성\n",
    "import numpy as np\n",
    "\n",
    "data = np.array([11, 22, 33])\n",
    "print(data, type(data))"
   ],
   "metadata": {
    "collapsed": false,
    "ExecuteTime": {
     "end_time": "2024-03-12T10:13:31.030437Z",
     "start_time": "2024-03-12T10:13:31.021258Z"
    }
   },
   "id": "a2bb8817a75aa669",
   "execution_count": 227
  },
  {
   "cell_type": "code",
   "outputs": [
    {
     "name": "stdout",
     "output_type": "stream",
     "text": [
      "tensor([11, 22, 33], dtype=torch.int32)\n"
     ]
    }
   ],
   "source": [
    "t1 = torch.from_numpy(data)\n",
    "print(t1)"
   ],
   "metadata": {
    "collapsed": false,
    "ExecuteTime": {
     "end_time": "2024-03-12T10:13:31.061771Z",
     "start_time": "2024-03-12T10:13:31.056041Z"
    }
   },
   "id": "ec67842099bdc324",
   "execution_count": 228
  },
  {
   "cell_type": "code",
   "outputs": [
    {
     "name": "stdout",
     "output_type": "stream",
     "text": [
      "tensor([11, 22, 33], dtype=torch.int32)\n"
     ]
    }
   ],
   "source": [
    "t2 = torch.as_tensor(data)\n",
    "print(t2)"
   ],
   "metadata": {
    "collapsed": false,
    "ExecuteTime": {
     "end_time": "2024-03-12T10:13:31.093288Z",
     "start_time": "2024-03-12T10:13:31.076179Z"
    }
   },
   "id": "a4a7120cec53e85f",
   "execution_count": 229
  },
  {
   "cell_type": "code",
   "outputs": [
    {
     "name": "stdout",
     "output_type": "stream",
     "text": [
      "tensor([11, 22, 33], dtype=torch.int32)\n"
     ]
    }
   ],
   "source": [
    "t3 = torch.tensor(data)\n",
    "print(t3)"
   ],
   "metadata": {
    "collapsed": false,
    "ExecuteTime": {
     "end_time": "2024-03-12T10:13:31.155663Z",
     "start_time": "2024-03-12T10:13:31.135024Z"
    }
   },
   "id": "6965989da4bb1332",
   "execution_count": 230
  },
  {
   "cell_type": "code",
   "outputs": [],
   "source": [
    "# ndarray 원소 변경\n",
    "data[0] = 100"
   ],
   "metadata": {
    "collapsed": false,
    "ExecuteTime": {
     "end_time": "2024-03-12T10:13:31.170603Z",
     "start_time": "2024-03-12T10:13:31.157998Z"
    }
   },
   "id": "94f5e382d6aee7ac",
   "execution_count": 231
  },
  {
   "cell_type": "code",
   "outputs": [
    {
     "name": "stdout",
     "output_type": "stream",
     "text": [
      "[100  22  33]\n",
      "tensor([100,  22,  33], dtype=torch.int32)\n",
      "tensor([100,  22,  33], dtype=torch.int32)\n",
      "tensor([11, 22, 33], dtype=torch.int32)\n"
     ]
    }
   ],
   "source": [
    "# from_numpy(), as_tensor() ==> 데이터 공유\n",
    "# tensor()    ==> 복사본 생성\n",
    "print(data, t1, t2, t3, sep = '\\n')"
   ],
   "metadata": {
    "collapsed": false,
    "ExecuteTime": {
     "end_time": "2024-03-12T10:13:31.185883Z",
     "start_time": "2024-03-12T10:13:31.173621Z"
    }
   },
   "id": "980081ba21338f9",
   "execution_count": 232
  },
  {
   "cell_type": "code",
   "outputs": [],
   "source": [],
   "metadata": {
    "collapsed": false,
    "ExecuteTime": {
     "end_time": "2024-03-12T10:13:31.201623Z",
     "start_time": "2024-03-12T10:13:31.192358Z"
    }
   },
   "id": "58ff8dce8685fdf5",
   "execution_count": 232
  }
 ],
 "metadata": {
  "kernelspec": {
   "display_name": "Python 3",
   "language": "python",
   "name": "python3"
  },
  "language_info": {
   "codemirror_mode": {
    "name": "ipython",
    "version": 2
   },
   "file_extension": ".py",
   "mimetype": "text/x-python",
   "name": "python",
   "nbconvert_exporter": "python",
   "pygments_lexer": "ipython2",
   "version": "2.7.6"
  }
 },
 "nbformat": 4,
 "nbformat_minor": 5
}
