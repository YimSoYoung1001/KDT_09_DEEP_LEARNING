{
 "cells": [
  {
   "cell_type": "markdown",
   "source": [
    "## 행렬 곱셈\n",
    "- 피처와 가중치 연산에 활용\n",
    "- tensor.matmul()"
   ],
   "metadata": {
    "collapsed": false
   },
   "id": "be528bc39d7fb798"
  },
  {
   "cell_type": "code",
   "outputs": [],
   "source": [
    "# 모듈 로딩\n",
    "import torch"
   ],
   "metadata": {
    "collapsed": false,
    "ExecuteTime": {
     "end_time": "2024-03-12T12:41:19.638100Z",
     "start_time": "2024-03-12T12:41:19.618865Z"
    }
   },
   "id": "e447595f06af397e",
   "execution_count": 17
  },
  {
   "cell_type": "code",
   "outputs": [],
   "source": [
    "data = torch.tensor([[1, 2],\n",
    "                     [3, 4]])\n",
    "w = torch.tensor([7])"
   ],
   "metadata": {
    "collapsed": false,
    "ExecuteTime": {
     "end_time": "2024-03-12T12:41:19.654047Z",
     "start_time": "2024-03-12T12:41:19.642941Z"
    }
   },
   "id": "193e31f67b368ecb",
   "execution_count": 18
  },
  {
   "cell_type": "code",
   "outputs": [
    {
     "name": "stdout",
     "output_type": "stream",
     "text": [
      "data.shape => torch.Size([2, 2])\n",
      "w.shape => torch.Size([1])\n"
     ]
    }
   ],
   "source": [
    "print(f\"data.shape => {data.shape}\")\n",
    "print(f\"w.shape => {w.shape}\")"
   ],
   "metadata": {
    "collapsed": false,
    "ExecuteTime": {
     "end_time": "2024-03-12T12:41:19.669332Z",
     "start_time": "2024-03-12T12:41:19.656178Z"
    }
   },
   "id": "f68ae08cf96747db",
   "execution_count": 19
  },
  {
   "cell_type": "code",
   "outputs": [
    {
     "name": "stdout",
     "output_type": "stream",
     "text": [
      " tensor([[ 7, 14],\n",
      "        [21, 28]])\n"
     ]
    }
   ],
   "source": [
    "# 원소 단위 곱셈 => 인덱스에 1:1 대응하도록 브로드 캐스팅\n",
    "print(f\" {data.mul(w)}\")"
   ],
   "metadata": {
    "collapsed": false,
    "ExecuteTime": {
     "end_time": "2024-03-12T12:41:19.684882Z",
     "start_time": "2024-03-12T12:41:19.671478Z"
    }
   },
   "id": "13e755155545cca2",
   "execution_count": 20
  },
  {
   "cell_type": "code",
   "outputs": [
    {
     "name": "stdout",
     "output_type": "stream",
     "text": [
      "torch.Size([2, 2]) torch.Size([2])\n",
      "1\n",
      "data.matmul(w) : tensor([23, 53])\n",
      "tensor([[ 7, 16],\n",
      "        [21, 32]])\n"
     ]
    }
   ],
   "source": [
    "# 행열단위 곱셈 => 행 X 열 : (행, 열) X (원소수)\n",
    "w = torch.tensor([7, 8])\n",
    "print(data.shape, w.shape)\n",
    "print(w.ndim)\n",
    "print(f\"data.matmul(w) : {data.matmul(w)}\")\n",
    "print(data.mul(w))"
   ],
   "metadata": {
    "collapsed": false,
    "ExecuteTime": {
     "end_time": "2024-03-12T12:43:42.396587Z",
     "start_time": "2024-03-12T12:43:42.378070Z"
    }
   },
   "id": "d6209a7486ad24a",
   "execution_count": 24
  },
  {
   "cell_type": "code",
   "outputs": [
    {
     "name": "stdout",
     "output_type": "stream",
     "text": [
      "torch.Size([2, 2]) torch.Size([2, 1])\n",
      "2\n",
      "data.matmul(w2) \n",
      " tensor([[23],\n",
      "        [53]])\n"
     ]
    }
   ],
   "source": [
    "# 행열단위 곱셈 => 행 X 열 : (행, 열) X (행, 열)\n",
    "w2 = torch.tensor([[7], [8]])\n",
    "print(data.shape, w2.shape)\n",
    "print(w2.ndim)\n",
    "print(f\"data.matmul(w2) \\n {data.matmul(w2)}\")"
   ],
   "metadata": {
    "collapsed": false,
    "ExecuteTime": {
     "end_time": "2024-03-12T12:48:25.149816Z",
     "start_time": "2024-03-12T12:48:25.129494Z"
    }
   },
   "id": "508c9c0fbe4d5369",
   "execution_count": 25
  },
  {
   "cell_type": "code",
   "outputs": [
    {
     "name": "stdout",
     "output_type": "stream",
     "text": [
      "tensor([[11, 22],\n",
      "        [33, 44]])\n",
      "torch.Size([2, 2])\n",
      "tensor([[ 77, 110],\n",
      "        [165, 242]])\n"
     ]
    }
   ],
   "source": [
    "w3 = torch.tensor([[11, 22], [33, 44]])\n",
    "print(w3)\n",
    "print(w3.shape)\n",
    "print(data.matmul(w3))"
   ],
   "metadata": {
    "collapsed": false,
    "ExecuteTime": {
     "end_time": "2024-03-12T12:51:05.835875Z",
     "start_time": "2024-03-12T12:51:05.823687Z"
    }
   },
   "id": "f0f490abb2bdfc5b",
   "execution_count": 27
  },
  {
   "cell_type": "code",
   "outputs": [],
   "source": [],
   "metadata": {
    "collapsed": false
   },
   "id": "cd0640bc870cfab3"
  }
 ],
 "metadata": {
  "kernelspec": {
   "display_name": "Python 3",
   "language": "python",
   "name": "python3"
  },
  "language_info": {
   "codemirror_mode": {
    "name": "ipython",
    "version": 2
   },
   "file_extension": ".py",
   "mimetype": "text/x-python",
   "name": "python",
   "nbconvert_exporter": "python",
   "pygments_lexer": "ipython2",
   "version": "2.7.6"
  }
 },
 "nbformat": 4,
 "nbformat_minor": 5
}
