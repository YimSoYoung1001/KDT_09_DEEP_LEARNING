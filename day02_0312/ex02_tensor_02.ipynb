{
 "cells": [
  {
   "cell_type": "markdown",
   "source": [
    "### Tensor 원소/요소 접근\n",
    "- 인덱싱과 슬라이싱"
   ],
   "metadata": {
    "collapsed": false
   },
   "id": "4501a5d42f6f35da"
  },
  {
   "cell_type": "code",
   "outputs": [],
   "source": [
    "# 모듈 로딩\n",
    "import torch"
   ],
   "metadata": {
    "collapsed": false,
    "ExecuteTime": {
     "end_time": "2024-03-12T02:28:35.709484Z",
     "start_time": "2024-03-12T02:28:35.702495Z"
    }
   },
   "id": "e0cebd3de37ee7d6",
   "execution_count": 43
  },
  {
   "cell_type": "code",
   "outputs": [
    {
     "name": "stdout",
     "output_type": "stream",
     "text": [
      "tensor([[4, 2],\n",
      "        [5, 3],\n",
      "        [6, 4]], dtype=torch.int16)\n"
     ]
    },
    {
     "name": "stderr",
     "output_type": "stream",
     "text": [
      "C:\\Users\\kdp\\AppData\\Local\\Temp\\ipykernel_13440\\1574475049.py:2: DeprecationWarning: an integer is required (got type float).  Implicit conversion to integers using __int__ is deprecated, and may be removed in a future version of Python.\n",
      "  points = torch.tensor([[4., 2.], [5., 3.], [6., 4.]], dtype = torch.int16)\n"
     ]
    }
   ],
   "source": [
    "# 텐서 생성\n",
    "points = torch.tensor([[4., 2.], [5., 3.], [6., 4.]], dtype = torch.int16)\n",
    "print(points)"
   ],
   "metadata": {
    "collapsed": false,
    "ExecuteTime": {
     "end_time": "2024-03-12T11:08:27.314668Z",
     "start_time": "2024-03-12T11:08:27.295821Z"
    }
   },
   "id": "eafc8213a7316889",
   "execution_count": 54
  },
  {
   "cell_type": "code",
   "outputs": [
    {
     "name": "stdout",
     "output_type": "stream",
     "text": [
      "tensor(3, dtype=torch.int16)\n",
      "tensor(4, dtype=torch.int16) tensor(4, dtype=torch.int16)\n"
     ]
    }
   ],
   "source": [
    "# 텐서의 원소 1개 접근\n",
    "# 데이터 3 추출\n",
    "print(points[1,1])\n",
    "\n",
    "# 마지막 데이터 4 추출\n",
    "print(points[2,1], points[-1,1])"
   ],
   "metadata": {
    "collapsed": false,
    "ExecuteTime": {
     "end_time": "2024-03-12T02:28:35.756495Z",
     "start_time": "2024-03-12T02:28:35.742461Z"
    }
   },
   "id": "2d3eee31d1124265",
   "execution_count": 45
  },
  {
   "cell_type": "code",
   "outputs": [
    {
     "name": "stdout",
     "output_type": "stream",
     "text": [
      "tensor([[5, 3],\n",
      "        [6, 4]], dtype=torch.int16)\n"
     ]
    }
   ],
   "source": [
    "# 1번 행부터 나머지 모든 행 추출\n",
    "print(points[1:])"
   ],
   "metadata": {
    "collapsed": false,
    "ExecuteTime": {
     "end_time": "2024-03-12T02:28:35.771631Z",
     "start_time": "2024-03-12T02:28:35.758487Z"
    }
   },
   "id": "b33edb54cd59f68",
   "execution_count": 46
  },
  {
   "cell_type": "code",
   "outputs": [
    {
     "data": {
      "text/plain": "tensor([[[0.0873],\n         [0.2638],\n         [0.4621]],\n\n        [[0.5733],\n         [0.2127],\n         [0.7367]]])"
     },
     "execution_count": 47,
     "metadata": {},
     "output_type": "execute_result"
    }
   ],
   "source": [
    "t1 = torch.rand(2, 3, 1)    # 3D\n",
    "t1"
   ],
   "metadata": {
    "collapsed": false,
    "ExecuteTime": {
     "end_time": "2024-03-12T02:28:35.787650Z",
     "start_time": "2024-03-12T02:28:35.772618Z"
    }
   },
   "id": "e9a09490b2fbc8a0",
   "execution_count": 47
  },
  {
   "cell_type": "code",
   "outputs": [
    {
     "data": {
      "text/plain": "tensor([[[[0.9125, 0.2087, 0.6867],\n          [0.8117, 0.1469, 0.6113]],\n\n         [[0.5073, 0.0258, 0.1775],\n          [0.6494, 0.9284, 0.7112]],\n\n         [[0.8201, 0.2100, 0.5035],\n          [0.5501, 0.7126, 0.7348]]],\n\n\n        [[[0.9924, 0.6147, 0.7691],\n          [0.7750, 0.3406, 0.6642]],\n\n         [[0.5622, 0.7608, 0.6566],\n          [0.1940, 0.3289, 0.2283]],\n\n         [[0.2207, 0.2693, 0.1146],\n          [0.1957, 0.8430, 0.6205]]]])"
     },
     "execution_count": 48,
     "metadata": {},
     "output_type": "execute_result"
    }
   ],
   "source": [
    "t1 = torch.rand(2,3,2,3)    # 4D\n",
    "t1"
   ],
   "metadata": {
    "collapsed": false,
    "ExecuteTime": {
     "end_time": "2024-03-12T02:28:35.803586Z",
     "start_time": "2024-03-12T02:28:35.788637Z"
    }
   },
   "id": "2588bab4ef0c71fd",
   "execution_count": 48
  },
  {
   "cell_type": "markdown",
   "source": [
    "- 브로드캐스팅 연산"
   ],
   "metadata": {
    "collapsed": false
   },
   "id": "377b1b9e0ac58be"
  },
  {
   "cell_type": "code",
   "outputs": [
    {
     "name": "stdout",
     "output_type": "stream",
     "text": [
      "m1.shape => torch.Size([1, 2])   m2.shape => torch.Size([1])\n",
      "\n",
      "tensor([[4., 5.]]) \n",
      "m3.shape :torch.Size([1, 2])\n"
     ]
    }
   ],
   "source": [
    "m1 = torch.FloatTensor([[1,2]])    # shape => (1,2)\n",
    "m2 = torch.FloatTensor([3])        # shape => (1,1)\n",
    "print(f\"m1.shape => {m1.shape}   m2.shape => {m2.shape}\\n\")\n",
    "m3 = m1 + m2\n",
    "print(f\"{m3} \\nm3.shape :{m3.shape}\")"
   ],
   "metadata": {
    "collapsed": false,
    "ExecuteTime": {
     "end_time": "2024-03-12T02:28:35.818536Z",
     "start_time": "2024-03-12T02:28:35.805580Z"
    }
   },
   "id": "ed97a2a62f941516",
   "execution_count": 49
  },
  {
   "cell_type": "code",
   "outputs": [
    {
     "name": "stdout",
     "output_type": "stream",
     "text": [
      "m1.shape => torch.Size([1, 2])   m2.shape => torch.Size([2, 1])\n",
      "\n",
      "tensor([[4., 5.],\n",
      "        [5., 6.]]) \n",
      "m3.shape :torch.Size([2, 2])\n"
     ]
    }
   ],
   "source": [
    "m1 = torch.FloatTensor([[1,2]])    # shape => (1,2)\n",
    "m2 = torch.FloatTensor([[3],[4]])  # shape => (2,1)\n",
    "print(f\"m1.shape => {m1.shape}   m2.shape => {m2.shape}\\n\")\n",
    "m3 = m1 + m2\n",
    "print(f\"{m3} \\nm3.shape :{m3.shape}\")"
   ],
   "metadata": {
    "collapsed": false,
    "ExecuteTime": {
     "end_time": "2024-03-12T02:28:35.834483Z",
     "start_time": "2024-03-12T02:28:35.819533Z"
    }
   },
   "id": "92b62b22e121b653",
   "execution_count": 50
  },
  {
   "cell_type": "code",
   "outputs": [
    {
     "name": "stdout",
     "output_type": "stream",
     "text": [
      "m1.shape => torch.Size([1, 2]) \n",
      "m2.shape => torch.Size([2, 1])\n",
      "\n",
      "tensor([[3., 6.],\n",
      "        [4., 8.]]) \n",
      "m3.shape :torch.Size([2, 2])\n"
     ]
    }
   ],
   "source": [
    "m1 = torch.FloatTensor([[1,2]])    # shape => (1,2)\n",
    "m2 = torch.FloatTensor([[3],[4]])  # shape => (2,1)\n",
    "print(f\"m1.shape => {m1.shape} \\nm2.shape => {m2.shape}\\n\")\n",
    "m3 = m1 * m2\n",
    "print(f\"{m3} \\nm3.shape :{m3.shape}\")"
   ],
   "metadata": {
    "collapsed": false,
    "ExecuteTime": {
     "end_time": "2024-03-12T02:28:35.849613Z",
     "start_time": "2024-03-12T02:28:35.835480Z"
    }
   },
   "id": "8f7c419c4955c975",
   "execution_count": 51
  },
  {
   "cell_type": "code",
   "outputs": [
    {
     "name": "stdout",
     "output_type": "stream",
     "text": [
      "tensor([[3., 6.],\n",
      "        [4., 8.]]) \n",
      "m3.shape :torch.Size([2, 2])\n",
      "\n",
      "tensor([[3., 6.],\n",
      "        [4., 8.]]) \n",
      "m3.shape :torch.Size([2, 2])\n",
      "\n",
      "tensor([[3., 6.],\n",
      "        [4., 8.]]) \n",
      "m3.shape :torch.Size([2, 2])\n",
      "\n",
      "tensor([[3., 6.],\n",
      "        [4., 8.]]) \n",
      "m3.shape :torch.Size([2, 2])\n"
     ]
    }
   ],
   "source": [
    "# 원소 단위 연산 수행 메서드\n",
    "m4 = m1.add(m2)\n",
    "print(f\"{m3} \\nm3.shape :{m3.shape}\\n\")\n",
    "m4 = m1.sub(m2)\n",
    "print(f\"{m3} \\nm3.shape :{m3.shape}\\n\")\n",
    "m4 = m1.mul(m2)\n",
    "print(f\"{m3} \\nm3.shape :{m3.shape}\\n\")\n",
    "m4 = m1.div(m2)\n",
    "print(f\"{m3} \\nm3.shape :{m3.shape}\\n\")\n",
    "\n",
    "# 직접 연산하지 않고 메서드를 사용했다."
   ],
   "metadata": {
    "collapsed": false,
    "ExecuteTime": {
     "end_time": "2024-03-12T02:29:04.518797Z",
     "start_time": "2024-03-12T02:29:04.510733Z"
    }
   },
   "id": "f156f246e3b366fb",
   "execution_count": 53
  },
  {
   "cell_type": "code",
   "outputs": [],
   "source": [],
   "metadata": {
    "collapsed": false,
    "ExecuteTime": {
     "end_time": "2024-03-12T02:28:35.880699Z",
     "start_time": "2024-03-12T02:28:35.866689Z"
    }
   },
   "id": "27d5d3f0421b39e7",
   "execution_count": 52
  }
 ],
 "metadata": {
  "kernelspec": {
   "display_name": "Python 3",
   "language": "python",
   "name": "python3"
  },
  "language_info": {
   "codemirror_mode": {
    "name": "ipython",
    "version": 2
   },
   "file_extension": ".py",
   "mimetype": "text/x-python",
   "name": "python",
   "nbconvert_exporter": "python",
   "pygments_lexer": "ipython2",
   "version": "2.7.6"
  }
 },
 "nbformat": 4,
 "nbformat_minor": 5
}
