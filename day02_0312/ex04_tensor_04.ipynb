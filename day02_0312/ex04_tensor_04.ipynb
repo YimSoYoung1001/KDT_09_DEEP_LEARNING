{
 "cells": [
  {
   "cell_type": "markdown",
   "source": [
    "### Tensor shape 변경\n",
    "- reshape(), view() : 원소 갯수가 유지됨!, 기존 텐서 공유함"
   ],
   "metadata": {
    "collapsed": false
   },
   "id": "90fdef0b5bf7bc09"
  },
  {
   "cell_type": "code",
   "outputs": [],
   "source": [
    "# 모듈 로딩\n",
    "import torch"
   ],
   "metadata": {
    "collapsed": false,
    "ExecuteTime": {
     "end_time": "2024-03-12T06:43:38.530488Z",
     "start_time": "2024-03-12T06:43:38.515826Z"
    }
   },
   "id": "38bcbfdb946e3946",
   "execution_count": 129
  },
  {
   "cell_type": "code",
   "outputs": [
    {
     "name": "stdout",
     "output_type": "stream",
     "text": [
      "torch.Size([2, 3]) 2\n",
      "tensor([[1, 2, 3],\n",
      "        [4, 5, 6]])\n"
     ]
    }
   ],
   "source": [
    "# 텐서 데이터 생성\n",
    "t1 = torch.tensor([[1,2,3], [4,5,6]])      # 원소개수는 6개임\n",
    "print(t1.shape, t1.ndim)\n",
    "print(t1)"
   ],
   "metadata": {
    "collapsed": false,
    "ExecuteTime": {
     "end_time": "2024-03-12T06:43:38.577616Z",
     "start_time": "2024-03-12T06:43:38.570273Z"
    }
   },
   "id": "cdfea65317efd1a8",
   "execution_count": 130
  },
  {
   "cell_type": "code",
   "outputs": [
    {
     "data": {
      "text/plain": "tensor([[1, 2],\n        [3, 4],\n        [5, 6]])"
     },
     "execution_count": 131,
     "metadata": {},
     "output_type": "execute_result"
    }
   ],
   "source": [
    "# [2, 3] ====> [3, 2] 형태 변경 : 원소 동일 6개\n",
    "t1.view(3,2)"
   ],
   "metadata": {
    "collapsed": false,
    "ExecuteTime": {
     "end_time": "2024-03-12T06:43:38.593209Z",
     "start_time": "2024-03-12T06:43:38.584881Z"
    }
   },
   "id": "8c93f47df61ae016",
   "execution_count": 131
  },
  {
   "cell_type": "code",
   "outputs": [
    {
     "data": {
      "text/plain": "tensor([[1],\n        [2],\n        [3],\n        [4],\n        [5],\n        [6]])"
     },
     "execution_count": 132,
     "metadata": {},
     "output_type": "execute_result"
    }
   ],
   "source": [
    "# [2, 3] ====> [6, 1] 형태 변경 : 원소 동일 6개\n",
    "t1.view(6, 1)"
   ],
   "metadata": {
    "collapsed": false,
    "ExecuteTime": {
     "end_time": "2024-03-12T06:43:38.608755Z",
     "start_time": "2024-03-12T06:43:38.594219Z"
    }
   },
   "id": "2f4d3167287ab653",
   "execution_count": 132
  },
  {
   "cell_type": "code",
   "outputs": [
    {
     "data": {
      "text/plain": "tensor([[1],\n        [2],\n        [3],\n        [4],\n        [5],\n        [6]])"
     },
     "execution_count": 133,
     "metadata": {},
     "output_type": "execute_result"
    }
   ],
   "source": [
    "# [2, 3] ====> [6, 1] 형태 변경 : 원소 동일 6개\n",
    "# -1 : 원소 수를 알아서 할당\n",
    "t1.view(-1,1)     # 여기서 -1은 인덱스 번호가 아니고 난 몰겟슴! 니가 알아서 하고 열만 1개로 해놓으셈 ! 이거임"
   ],
   "metadata": {
    "collapsed": false,
    "ExecuteTime": {
     "end_time": "2024-03-12T06:43:38.624619Z",
     "start_time": "2024-03-12T06:43:38.609754Z"
    }
   },
   "id": "96c31a5ae83e40c5",
   "execution_count": 133
  },
  {
   "cell_type": "code",
   "outputs": [
    {
     "data": {
      "text/plain": "tensor([[1, 2, 3, 4, 5, 6]])"
     },
     "execution_count": 134,
     "metadata": {},
     "output_type": "execute_result"
    }
   ],
   "source": [
    "t1.view(1, -1)  # 여기서 -1은 인덱스 번호가 아니고 난 몰겟슴! 니가 알아서 하고 행만 1개로 해놓으셈 ! 이거임"
   ],
   "metadata": {
    "collapsed": false,
    "ExecuteTime": {
     "end_time": "2024-03-12T06:43:38.639855Z",
     "start_time": "2024-03-12T06:43:38.625647Z"
    }
   },
   "id": "8ff469897e68400c",
   "execution_count": 134
  },
  {
   "cell_type": "code",
   "outputs": [
    {
     "data": {
      "text/plain": "tensor([[1],\n        [2],\n        [3],\n        [4],\n        [5],\n        [6]])"
     },
     "execution_count": 135,
     "metadata": {},
     "output_type": "execute_result"
    }
   ],
   "source": [
    "# tensor.reshape()\n",
    "t1.reshape(6, 1)"
   ],
   "metadata": {
    "collapsed": false,
    "ExecuteTime": {
     "end_time": "2024-03-12T06:43:38.655423Z",
     "start_time": "2024-03-12T06:43:38.641913Z"
    }
   },
   "id": "3963a5b4229ef25d",
   "execution_count": 135
  },
  {
   "cell_type": "code",
   "outputs": [
    {
     "data": {
      "text/plain": "tensor([[1, 2, 3],\n        [4, 5, 6]])"
     },
     "execution_count": 136,
     "metadata": {},
     "output_type": "execute_result"
    }
   ],
   "source": [
    "t1.reshape(-1, 3)"
   ],
   "metadata": {
    "collapsed": false,
    "ExecuteTime": {
     "end_time": "2024-03-12T06:43:38.671105Z",
     "start_time": "2024-03-12T06:43:38.656483Z"
    }
   },
   "id": "63faacb1596ed64a",
   "execution_count": 136
  },
  {
   "cell_type": "code",
   "outputs": [],
   "source": [
    "# 원소 수 유지되어야 함!\n",
    "# RuntimeError: shape '[-1, 7]' is invalid for input of size 6\n",
    "# t1.reshape(-1, 7)\n",
    "\n",
    "# 에러 발생! 원소는 6개 뿐이라,,"
   ],
   "metadata": {
    "collapsed": false,
    "ExecuteTime": {
     "end_time": "2024-03-12T06:43:38.686693Z",
     "start_time": "2024-03-12T06:43:38.678296Z"
    }
   },
   "id": "d6d693a26e1338a3",
   "execution_count": 137
  },
  {
   "cell_type": "markdown",
   "source": [
    "- 전치 : 열 <-> 행 변경"
   ],
   "metadata": {
    "collapsed": false
   },
   "id": "9324efbe6c92d9b4"
  },
  {
   "cell_type": "code",
   "outputs": [
    {
     "name": "stdout",
     "output_type": "stream",
     "text": [
      "torch.Size([2, 3])\n",
      "torch.Size([3, 2]) False\n"
     ]
    }
   ],
   "source": [
    "print(t1.shape)\n",
    "\n",
    "t2 = t1.T\n",
    "print(t2.shape, t2.is_contiguous())"
   ],
   "metadata": {
    "collapsed": false,
    "ExecuteTime": {
     "end_time": "2024-03-12T06:43:38.702033Z",
     "start_time": "2024-03-12T06:43:38.694357Z"
    }
   },
   "id": "434e4a0af419110e",
   "execution_count": 138
  },
  {
   "cell_type": "code",
   "outputs": [],
   "source": [
    "# ERROR : RuntimeError: view size is not compatible with input tensor's size and stride \n",
    "# t2.view(-1, 6)"
   ],
   "metadata": {
    "collapsed": false,
    "ExecuteTime": {
     "end_time": "2024-03-12T06:43:38.732969Z",
     "start_time": "2024-03-12T06:43:38.714276Z"
    }
   },
   "id": "ef6f57b23b5dfa58",
   "execution_count": 139
  },
  {
   "cell_type": "code",
   "outputs": [
    {
     "name": "stdout",
     "output_type": "stream",
     "text": [
      "tensor([[1, 4, 2, 5, 3, 6]])\n",
      "True\n"
     ]
    }
   ],
   "source": [
    "t3 = t2.reshape(-1, 6)\n",
    "print(t3)\n",
    "print(t3.is_contiguous())"
   ],
   "metadata": {
    "collapsed": false,
    "ExecuteTime": {
     "end_time": "2024-03-12T06:43:38.764478Z",
     "start_time": "2024-03-12T06:43:38.752989Z"
    }
   },
   "id": "bac5608136e8436d",
   "execution_count": 140
  },
  {
   "cell_type": "markdown",
   "source": [
    "### 텐서 데이터의 메모리 저장 정보 즉 메타데이터\n",
    "- 현재 저장 형태, 검색 방향 정보, 시작 정보"
   ],
   "metadata": {
    "collapsed": false
   },
   "id": "67908d4364c496f9"
  },
  {
   "cell_type": "code",
   "outputs": [
    {
     "name": "stdout",
     "output_type": "stream",
     "text": [
      "torch.Size([2, 3]) 2\n",
      "storage => \n",
      " 1\n",
      " 2\n",
      " 3\n",
      " 4\n",
      " 5\n",
      " 6\n",
      "[torch.storage.TypedStorage(dtype=torch.int64, device=cpu) of size 6]\n",
      "storage_offset = > 0\n",
      "stride => (3, 1)\n",
      "is_contiguous => True\n"
     ]
    }
   ],
   "source": [
    "t1 = torch.tensor([[1,2,3], [4,5,6]])\n",
    "print(t1.shape, t1.ndim)\n",
    "print(f\"storage => \\n{t1.storage()}\")\n",
    "print(f\"storage_offset = > {t1.storage_offset()}\")\n",
    "print(f\"stride => {t1.stride()}\")                    # 다음 줄에 가려면 몇칸 가야하냐? 3칸이올시다!\n",
    "print(f\"is_contiguous => {t1.is_contiguous()}\")      # 연속적이냐?"
   ],
   "metadata": {
    "collapsed": false,
    "ExecuteTime": {
     "end_time": "2024-03-12T06:43:38.780326Z",
     "start_time": "2024-03-12T06:43:38.770836Z"
    }
   },
   "id": "6487ff95e31e3632",
   "execution_count": 141
  },
  {
   "cell_type": "code",
   "outputs": [
    {
     "name": "stdout",
     "output_type": "stream",
     "text": [
      "torch.Size([3, 2]) 2\n",
      "storage => \n",
      " 1\n",
      " 2\n",
      " 3\n",
      " 4\n",
      " 5\n",
      " 6\n",
      "[torch.storage.TypedStorage(dtype=torch.int64, device=cpu) of size 6]\n",
      "storage_offset = > 0\n",
      "stride => (2, 1)\n",
      "is_contiguous => True\n"
     ]
    }
   ],
   "source": [
    "t2 = t1.reshape(-1, 2)\n",
    "print(t2.shape, t2.ndim)\n",
    "print(f\"storage => \\n{t2.storage()}\")\n",
    "print(f\"storage_offset = > {t2.storage_offset()}\")\n",
    "print(f\"stride => {t2.stride()}\")                    # 다음 줄에 가려면 몇칸 가야하냐?\n",
    "print(f\"is_contiguous => {t2.is_contiguous()}\")      # 연속적이냐?"
   ],
   "metadata": {
    "collapsed": false,
    "ExecuteTime": {
     "end_time": "2024-03-12T06:43:38.795921Z",
     "start_time": "2024-03-12T06:43:38.781338Z"
    }
   },
   "id": "e7037c3889dcbb2b",
   "execution_count": 142
  },
  {
   "cell_type": "code",
   "outputs": [
    {
     "name": "stdout",
     "output_type": "stream",
     "text": [
      "torch.Size([3, 2]) 2\n",
      "storage => \n",
      " 1\n",
      " 2\n",
      " 3\n",
      " 4\n",
      " 5\n",
      " 6\n",
      "[torch.storage.TypedStorage(dtype=torch.int64, device=cpu) of size 6]\n",
      "storage_offset = > 0\n",
      "stride => (2, 1)\n",
      "is_contiguous => True\n"
     ]
    }
   ],
   "source": [
    "t2 = t1.view(-1, 2)\n",
    "print(t2.shape, t2.ndim)\n",
    "print(f\"storage => \\n{t2.storage()}\")\n",
    "print(f\"storage_offset = > {t2.storage_offset()}\")\n",
    "print(f\"stride => {t2.stride()}\")                    # 다음 줄에 가려면 몇칸 가야하냐?\n",
    "print(f\"is_contiguous => {t2.is_contiguous()}\")      # 연속적이냐?"
   ],
   "metadata": {
    "collapsed": false,
    "ExecuteTime": {
     "end_time": "2024-03-12T06:43:38.811367Z",
     "start_time": "2024-03-12T06:43:38.797969Z"
    }
   },
   "id": "848211a7ece4333d",
   "execution_count": 143
  },
  {
   "cell_type": "code",
   "outputs": [
    {
     "name": "stdout",
     "output_type": "stream",
     "text": [
      "tensor([[1, 4],\n",
      "        [2, 5],\n",
      "        [3, 6]])\n",
      "torch.Size([3, 2]) 2\n",
      "storage => \n",
      " 1\n",
      " 2\n",
      " 3\n",
      " 4\n",
      " 5\n",
      " 6\n",
      "[torch.storage.TypedStorage(dtype=torch.int64, device=cpu) of size 6]\n",
      "storage_offset = > 0\n",
      "stride => (1, 3)\n",
      "is_contiguous => False\n",
      "is_contiguous => True\n"
     ]
    }
   ],
   "source": [
    "t2 = t1.T.view(-1, 2)\n",
    "print(t2)\n",
    "print(t2.shape, t2.ndim)\n",
    "print(f\"storage => \\n{t2.storage()}\")\n",
    "print(f\"storage_offset = > {t2.storage_offset()}\")   # 시작 위치는 어디냐?\n",
    "print(f\"stride => {t2.stride()}\")                    # 같은 행에 다음 열로 가려면 몇칸? 다음 행에 가려면 몇칸? 가야하냐?\n",
    "print(f\"is_contiguous => {t2.is_contiguous()}\")      # 연속적이냐?  (여기서는 transpose 이기 때문에 불연속으로 됨)\n",
    "t2 = t2.contiguous()\n",
    "print(f\"is_contiguous => {t2.is_contiguous()}\")      # 연속적이냐?"
   ],
   "metadata": {
    "collapsed": false,
    "ExecuteTime": {
     "end_time": "2024-03-12T06:43:38.843039Z",
     "start_time": "2024-03-12T06:43:38.822860Z"
    }
   },
   "id": "ce87760d084b12cb",
   "execution_count": 144
  },
  {
   "cell_type": "code",
   "outputs": [
    {
     "name": "stdout",
     "output_type": "stream",
     "text": [
      "tensor([[1, 4],\n",
      "        [2, 5],\n",
      "        [3, 6]])\n",
      "torch.Size([3, 2]) 2\n",
      "storage => \n",
      " 1\n",
      " 2\n",
      " 3\n",
      " 4\n",
      " 5\n",
      " 6\n",
      "[torch.storage.TypedStorage(dtype=torch.int64, device=cpu) of size 6]\n",
      "storage_offset = > 0\n",
      "stride => (1, 3)\n",
      "is_contiguous => False\n",
      "is_contiguous => True\n"
     ]
    }
   ],
   "source": [
    "t2 = t1.T.reshape(-1, 2)\n",
    "print(t2)\n",
    "print(t2.shape, t2.ndim)\n",
    "print(f\"storage => \\n{t2.storage()}\")\n",
    "print(f\"storage_offset = > {t2.storage_offset()}\")   # 시작 위치는 어디냐?\n",
    "print(f\"stride => {t2.stride()}\")                    # 같은 행에 다음 열로 가려면 몇칸? 다음 행에 가려면 몇칸? 가야하냐?\n",
    "print(f\"is_contiguous => {t2.is_contiguous()}\")      # 연속적이냐?  (여기서는 transpose 이기 때문에 불연속으로 됨)\n",
    "t2 = t2.contiguous()\n",
    "print(f\"is_contiguous => {t2.is_contiguous()}\")      # 연속적이냐?"
   ],
   "metadata": {
    "collapsed": false,
    "ExecuteTime": {
     "end_time": "2024-03-12T06:43:38.858254Z",
     "start_time": "2024-03-12T06:43:38.844132Z"
    }
   },
   "id": "4ad0bc5bf38092c3",
   "execution_count": 145
  },
  {
   "cell_type": "markdown",
   "source": [
    "### 차원 제거/추가\n",
    "- tensor.squeeze() : 텐서에서 차원이 1인 것 제거\n",
    "- tensor.unsqueeze(dim) : 텐서에 차원이 1인것 추가"
   ],
   "metadata": {
    "collapsed": false
   },
   "id": "c0a9a417eb47ff66"
  },
  {
   "cell_type": "code",
   "outputs": [],
   "source": [
    "# 데이터 생성\n",
    "t1 = torch.tensor([[1, 2], [3, 4]])\n",
    "t2 = torch.tensor([[1,2,3,4]])\n",
    "t3 = torch.tensor([[[1,2,3,4]]])"
   ],
   "metadata": {
    "collapsed": false,
    "ExecuteTime": {
     "end_time": "2024-03-12T06:43:38.904136Z",
     "start_time": "2024-03-12T06:43:38.889588Z"
    }
   },
   "id": "5f05df43c972717f",
   "execution_count": 146
  },
  {
   "cell_type": "code",
   "outputs": [
    {
     "name": "stdout",
     "output_type": "stream",
     "text": [
      "t1 => torch.Size([2, 2]), 2D, 4938541368768\n",
      "t2 => torch.Size([1, 4]), 2D, 4938541368832\n",
      "t3 => torch.Size([1, 1, 4]), 3D, 4938541368960\n"
     ]
    }
   ],
   "source": [
    "print(f\"t1 => {t1.shape}, {t1.ndim}D, {t1.data_ptr()}\")\n",
    "print(f\"t2 => {t2.shape}, {t2.ndim}D, {t2.data_ptr()}\")\n",
    "print(f\"t3 => {t3.shape}, {t3.ndim}D, {t3.data_ptr()}\")"
   ],
   "metadata": {
    "collapsed": false,
    "ExecuteTime": {
     "end_time": "2024-03-12T06:43:38.919815Z",
     "start_time": "2024-03-12T06:43:38.905134Z"
    }
   },
   "id": "1f1adef4061830bc",
   "execution_count": 147
  },
  {
   "cell_type": "code",
   "outputs": [
    {
     "name": "stdout",
     "output_type": "stream",
     "text": [
      "t1 차원 축소 => torch.Size([2, 2]), 2D, 4938541368768\n",
      "t2 차원 축소 => torch.Size([4]), 1D, 4938541368832\n",
      "t3 차원 축소 => torch.Size([4]), 1D, 4938541368960\n",
      "t3 차원 축소 (지정) => torch.Size([1, 1, 4]), 3D, 4938541368960\n",
      "t3 차원 축소 (지정) => torch.Size([4]), 1D, 4938541368960\n"
     ]
    }
   ],
   "source": [
    "t11 = t1.squeeze()\n",
    "t22 = t2.squeeze()\n",
    "t33 = t3.squeeze()\n",
    "t44 = t3.squeeze(dim = 2)     #여기서 dim이란 차원을 말한다. 여기서는 세번쨰 차원이 된다.\n",
    "\n",
    "print(f\"t1 차원 축소 => {t11.shape}, {t11.ndim}D, {t11.data_ptr()}\")\n",
    "print(f\"t2 차원 축소 => {t22.shape}, {t22.ndim}D, {t22.data_ptr()}\")\n",
    "print(f\"t3 차원 축소 => {t33.shape}, {t33.ndim}D, {t33.data_ptr()}\")\n",
    "print(f\"t3 차원 축소 (지정) => {t44.shape}, {t44.ndim}D, {t44.data_ptr()}\")\n",
    "# 무조건 줄이는게 아니가 shape을 쳤을때 1인 애를 줄인다. (즉 1차원인 넘을 없애겠다.) => 그래서 차원을 줄인다. 3차원에서 2차원으로, 4차원에서 3차원으로 ...\n",
    "\n",
    "t44 = t3.squeeze(dim = [0,1])     #여기서 dim이란 차원을 말한다. 여기서는 1차원+2차원을 말한다.\n",
    "print(f\"t3 차원 축소 (지정) => {t44.shape}, {t44.ndim}D, {t44.data_ptr()}\")"
   ],
   "metadata": {
    "collapsed": false,
    "ExecuteTime": {
     "end_time": "2024-03-12T06:43:38.935605Z",
     "start_time": "2024-03-12T06:43:38.920842Z"
    }
   },
   "id": "f0efc610db0bbaa0",
   "execution_count": 148
  },
  {
   "cell_type": "markdown",
   "source": [
    "1차원 : [데이터수]\n",
    "2차원 : [데이터수, 피처]\n",
    "3차원 : [데이터수, 채널수, 높이, 너비]"
   ],
   "metadata": {
    "collapsed": false
   },
   "id": "990507bc1e79f64d"
  },
  {
   "cell_type": "code",
   "outputs": [
    {
     "name": "stdout",
     "output_type": "stream",
     "text": [
      "t => torch.Size([1, 1, 1, 1, 1, 1, 1, 4]), 8D\n",
      "torch.Size([4]), 1D\n"
     ]
    }
   ],
   "source": [
    "t = torch.tensor([[[[[[[[1,2,3,4]]]]]]]])\n",
    "print(f\"t => {t.shape}, {t.ndim}D\")\n",
    "tt = t.squeeze()\n",
    "print(f\"{tt.shape}, {tt.ndim}D\")"
   ],
   "metadata": {
    "collapsed": false,
    "ExecuteTime": {
     "end_time": "2024-03-12T06:43:38.951180Z",
     "start_time": "2024-03-12T06:43:38.936602Z"
    }
   },
   "id": "2b16f5ec9515e10e",
   "execution_count": 149
  },
  {
   "cell_type": "code",
   "outputs": [
    {
     "name": "stdout",
     "output_type": "stream",
     "text": [
      "t1 정보 => torch.Size([2, 2]), 2D, 4938541368768, (2, 1)\n"
     ]
    }
   ],
   "source": [
    "## 원소/요소 수 변경없이 1차원 증가 시키기 => torch.unsqueeze(dim)\n",
    "print(f\"t1 정보 => {t1.shape}, {t1.ndim}D, {t1.data_ptr()}, {t1.stride()}\")"
   ],
   "metadata": {
    "collapsed": false,
    "ExecuteTime": {
     "end_time": "2024-03-12T06:43:38.967006Z",
     "start_time": "2024-03-12T06:43:38.953306Z"
    }
   },
   "id": "ee461db374567442",
   "execution_count": 150
  },
  {
   "cell_type": "code",
   "outputs": [
    {
     "name": "stdout",
     "output_type": "stream",
     "text": [
      "t1 차원 추가 => torch.Size([1, 2, 2]), 3D, 4938541368768, (4, 2, 1)\n",
      "t2 차원 추가 => torch.Size([2, 2, 1]), 3D, 4938541368768, (2, 1, 1)\n"
     ]
    }
   ],
   "source": [
    "t11 = t1.unsqueeze(dim = 0)\n",
    "t22 = t1.unsqueeze(dim = -1)\n",
    "\n",
    "print(f\"t1 차원 추가 => {t11.shape}, {t11.ndim}D, {t11.data_ptr()}, {t11.stride()}\")\n",
    "print(f\"t2 차원 추가 => {t22.shape}, {t22.ndim}D, {t22.data_ptr()}, {t22.stride()}\")"
   ],
   "metadata": {
    "collapsed": false,
    "ExecuteTime": {
     "end_time": "2024-03-12T06:43:38.982615Z",
     "start_time": "2024-03-12T06:43:38.968003Z"
    }
   },
   "id": "4cce212416fdaa61",
   "execution_count": 151
  },
  {
   "cell_type": "markdown",
   "source": [
    "# Tensor 차원/형태 변경"
   ],
   "metadata": {
    "collapsed": false
   },
   "id": "bab2a8607661eb3c"
  },
  {
   "cell_type": "code",
   "outputs": [
    {
     "name": "stdout",
     "output_type": "stream",
     "text": [
      "t1  => torch.Size([1, 3, 2]), 3D\n"
     ]
    }
   ],
   "source": [
    "t1 = torch.tensor([[[1,2], [11,22], [44,55]]])\n",
    "\n",
    "print(f\"t1  => {t1.shape}, {t1.ndim}D\")"
   ],
   "metadata": {
    "collapsed": false,
    "ExecuteTime": {
     "end_time": "2024-03-12T06:43:38.998143Z",
     "start_time": "2024-03-12T06:43:38.984665Z"
    }
   },
   "id": "d97f4cc3fc87dbb3",
   "execution_count": 152
  },
  {
   "cell_type": "markdown",
   "source": [
    "ㅇㅇ            \n",
    "ㅇㅇ                  \n",
    "ㅇㅇ           "
   ],
   "metadata": {
    "collapsed": false
   },
   "id": "63c55473d819c656"
  },
  {
   "cell_type": "code",
   "outputs": [
    {
     "name": "stdout",
     "output_type": "stream",
     "text": [
      "t11  => torch.Size([2, 3, 1]), 3D\n"
     ]
    }
   ],
   "source": [
    "# 2개의 차원을 변경하는 메서드\n",
    "t11 = t1.transpose(0, 2)\n",
    "\n",
    "print(f\"t11  => {t11.shape}, {t11.ndim}D\")      # 1차원과 3차원이 바뀌었다."
   ],
   "metadata": {
    "collapsed": false,
    "ExecuteTime": {
     "end_time": "2024-03-12T06:43:39.030114Z",
     "start_time": "2024-03-12T06:43:39.015033Z"
    }
   },
   "id": "500dc85d961c2381",
   "execution_count": 153
  },
  {
   "cell_type": "markdown",
   "source": [
    "ㅇ            \n",
    "ㅇ                \n",
    "ㅇ                 \n",
    "=> 이렇게 생긴거 2장"
   ],
   "metadata": {
    "collapsed": false
   },
   "id": "b88e6602e6335c91"
  },
  {
   "cell_type": "code",
   "outputs": [
    {
     "name": "stdout",
     "output_type": "stream",
     "text": [
      "t22 => torch.Size([3, 2, 1]), 3D\n"
     ]
    }
   ],
   "source": [
    "# 모든 차원을 변경하는 메서드\n",
    "t22 = t1.permute(1,2,0)\n",
    "print(f\"t22 => {t22.shape}, {t22.ndim}D\")          # 싹~~~~~~~다 바꾸었다."
   ],
   "metadata": {
    "collapsed": false,
    "ExecuteTime": {
     "end_time": "2024-03-12T06:43:39.044738Z",
     "start_time": "2024-03-12T06:43:39.032219Z"
    }
   },
   "id": "8e74e1302782abb2",
   "execution_count": 154
  },
  {
   "cell_type": "code",
   "outputs": [
    {
     "name": "stdout",
     "output_type": "stream",
     "text": [
      "4938541307200 4938541307200 4938541307200\n"
     ]
    }
   ],
   "source": [
    "print(t1.data_ptr(), t11.data_ptr(), t22.data_ptr() ) # 주소가 바뀌지 않고 그대로 유지 됨을 알수있다! 즉, 메타데이터가 바뀌었다는 것이당"
   ],
   "metadata": {
    "collapsed": false,
    "ExecuteTime": {
     "end_time": "2024-03-12T06:43:39.060452Z",
     "start_time": "2024-03-12T06:43:39.045777Z"
    }
   },
   "id": "c6524da6dba49ef1",
   "execution_count": 155
  },
  {
   "cell_type": "code",
   "outputs": [],
   "source": [],
   "metadata": {
    "collapsed": false,
    "ExecuteTime": {
     "end_time": "2024-03-12T06:43:39.076092Z",
     "start_time": "2024-03-12T06:43:39.061483Z"
    }
   },
   "id": "985960fcf3cb8599",
   "execution_count": 155
  }
 ],
 "metadata": {
  "kernelspec": {
   "display_name": "Python 3",
   "language": "python",
   "name": "python3"
  },
  "language_info": {
   "codemirror_mode": {
    "name": "ipython",
    "version": 2
   },
   "file_extension": ".py",
   "mimetype": "text/x-python",
   "name": "python",
   "nbconvert_exporter": "python",
   "pygments_lexer": "ipython2",
   "version": "2.7.6"
  }
 },
 "nbformat": 4,
 "nbformat_minor": 5
}
