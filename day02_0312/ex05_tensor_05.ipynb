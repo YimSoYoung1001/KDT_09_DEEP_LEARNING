{
 "cells": [
  {
   "cell_type": "markdown",
   "source": [
    "# 텐서 연결 & 결합"
   ],
   "metadata": {
    "collapsed": false
   },
   "id": "75a35c40b8f7b6a4"
  },
  {
   "cell_type": "code",
   "outputs": [],
   "source": [
    "# 모듈 로딩\n",
    "import torch"
   ],
   "metadata": {
    "collapsed": false,
    "ExecuteTime": {
     "end_time": "2024-03-12T06:26:42.307593Z",
     "start_time": "2024-03-12T06:26:42.293557Z"
    }
   },
   "id": "46299f19e1bb36d4",
   "execution_count": 43
  },
  {
   "cell_type": "code",
   "outputs": [],
   "source": [
    "# 텐서 데이터 생성\n",
    "torch.manual_seed(12)\n",
    "\n",
    "# 임의의 0. ~ 1 사이의 실수\n",
    "X = torch.rand(2, 10)\n",
    "# 임의의 정수 : low <= ~ < high\n",
    "y = torch.randint(0, 2, (10,))\n",
    "y2 = torch.randint(0, 2, (2,10))"
   ],
   "metadata": {
    "collapsed": false,
    "ExecuteTime": {
     "end_time": "2024-03-12T06:26:42.322704Z",
     "start_time": "2024-03-12T06:26:42.309649Z"
    }
   },
   "id": "2b73ebda6b86f368",
   "execution_count": 44
  },
  {
   "cell_type": "code",
   "outputs": [
    {
     "name": "stdout",
     "output_type": "stream",
     "text": [
      "X => torch.Size([2, 10]) 2D\n",
      "y => torch.Size([10]) 1D\n",
      "y2 => torch.Size([2, 10]) 2D\n"
     ]
    }
   ],
   "source": [
    "print(f\"X => {X.shape} {X.ndim}D\")\n",
    "print(f\"y => {y.shape} {y.ndim}D\")\n",
    "print(f\"y2 => {y2.shape} {y2.ndim}D\")"
   ],
   "metadata": {
    "collapsed": false,
    "ExecuteTime": {
     "end_time": "2024-03-12T06:26:42.338194Z",
     "start_time": "2024-03-12T06:26:42.323729Z"
    }
   },
   "id": "ad0e8c07dc62c3cf",
   "execution_count": 45
  },
  {
   "cell_type": "code",
   "outputs": [],
   "source": [
    "# tensor 연결  :  cat([텐서1, 텐서2, ...])\n",
    "# torch.cat((X,y), dim = 1)\n",
    "\n",
    "# ERROR : Tensors must have same number of dimensions: got 2 and 1"
   ],
   "metadata": {
    "collapsed": false,
    "ExecuteTime": {
     "end_time": "2024-03-12T06:27:49.442459Z",
     "start_time": "2024-03-12T06:27:49.433677Z"
    }
   },
   "id": "92eb8a58cb2af2b5",
   "execution_count": 48
  },
  {
   "cell_type": "code",
   "outputs": [
    {
     "name": "stdout",
     "output_type": "stream",
     "text": [
      "xy1 => torch.Size([2, 20]) 2D\n"
     ]
    }
   ],
   "source": [
    "xy1 = torch.cat((X,y2), dim = 1)\n",
    "print(f\"xy1 => {xy1.shape} {xy1.ndim}D\")"
   ],
   "metadata": {
    "collapsed": false,
    "ExecuteTime": {
     "end_time": "2024-03-12T06:27:49.645279Z",
     "start_time": "2024-03-12T06:27:49.634957Z"
    }
   },
   "id": "94a1683e8de7bcfa",
   "execution_count": 49
  },
  {
   "cell_type": "code",
   "outputs": [
    {
     "name": "stdout",
     "output_type": "stream",
     "text": [
      "xy1 => torch.Size([4, 10]) 2D\n"
     ]
    }
   ],
   "source": [
    "xy1 = torch.cat((X,y2), dim = 0)\n",
    "print(f\"xy1 => {xy1.shape} {xy1.ndim}D\")"
   ],
   "metadata": {
    "collapsed": false,
    "ExecuteTime": {
     "end_time": "2024-03-12T06:27:49.831486Z",
     "start_time": "2024-03-12T06:27:49.821451Z"
    }
   },
   "id": "38a6e98390efe7de",
   "execution_count": 50
  },
  {
   "cell_type": "code",
   "outputs": [
    {
     "data": {
      "text/plain": "tensor([[0.4657, 0.2328, 0.4527, 0.5871, 0.4086, 0.1272, 0.6373, 0.2421, 0.7312,\n         0.7224],\n        [0.1992, 0.6948, 0.5830, 0.6318, 0.5559, 0.1262, 0.9790, 0.8443, 0.1256,\n         0.4456],\n        [1.0000, 1.0000, 0.0000, 1.0000, 1.0000, 0.0000, 0.0000, 0.0000, 0.0000,\n         0.0000],\n        [0.0000, 0.0000, 1.0000, 1.0000, 1.0000, 1.0000, 0.0000, 0.0000, 0.0000,\n         0.0000]])"
     },
     "execution_count": 51,
     "metadata": {},
     "output_type": "execute_result"
    }
   ],
   "source": [
    "xy1"
   ],
   "metadata": {
    "collapsed": false,
    "ExecuteTime": {
     "end_time": "2024-03-12T06:27:50.078724Z",
     "start_time": "2024-03-12T06:27:50.065060Z"
    }
   },
   "id": "d0e334ef84d04a44",
   "execution_count": 51
  },
  {
   "cell_type": "code",
   "outputs": [
    {
     "data": {
      "text/plain": "torch.return_types.max(\nvalues=tensor([1.0000, 1.0000, 1.0000, 1.0000, 1.0000, 1.0000, 0.9790, 0.8443, 0.7312,\n        0.7224]),\nindices=tensor([2, 2, 3, 2, 2, 3, 1, 1, 0, 0]))"
     },
     "execution_count": 52,
     "metadata": {},
     "output_type": "execute_result"
    }
   ],
   "source": [
    "xy1.max(dim = 0)"
   ],
   "metadata": {
    "collapsed": false,
    "ExecuteTime": {
     "end_time": "2024-03-12T06:27:50.295791Z",
     "start_time": "2024-03-12T06:27:50.275469Z"
    }
   },
   "id": "655821e03d9b81fa",
   "execution_count": 52
  },
  {
   "cell_type": "code",
   "outputs": [
    {
     "data": {
      "text/plain": "torch.return_types.max(\nvalues=tensor([0.7312, 0.9790, 1.0000, 1.0000]),\nindices=tensor([8, 6, 0, 2]))"
     },
     "execution_count": 53,
     "metadata": {},
     "output_type": "execute_result"
    }
   ],
   "source": [
    "xy1.max(dim = 1)"
   ],
   "metadata": {
    "collapsed": false,
    "ExecuteTime": {
     "end_time": "2024-03-12T06:27:50.534339Z",
     "start_time": "2024-03-12T06:27:50.521887Z"
    }
   },
   "id": "8f2827e60fccbd0b",
   "execution_count": 53
  },
  {
   "cell_type": "code",
   "outputs": [
    {
     "data": {
      "text/plain": "tensor([0.7312, 0.9790, 1.0000, 1.0000])"
     },
     "execution_count": 54,
     "metadata": {},
     "output_type": "execute_result"
    }
   ],
   "source": [
    "max_value = xy1.max(dim=1)[0]\n",
    "max_value"
   ],
   "metadata": {
    "collapsed": false,
    "ExecuteTime": {
     "end_time": "2024-03-12T06:27:50.753117Z",
     "start_time": "2024-03-12T06:27:50.740504Z"
    }
   },
   "id": "e843dd19f555b419",
   "execution_count": 54
  },
  {
   "cell_type": "code",
   "outputs": [
    {
     "data": {
      "text/plain": "(tensor([1.0000, 1.0000, 1.0000, 1.0000, 1.0000, 1.0000, 0.9790, 0.8443, 0.7312,\n         0.7224]),\n tensor([2, 2, 3, 2, 2, 3, 1, 1, 0, 0]))"
     },
     "execution_count": 55,
     "metadata": {},
     "output_type": "execute_result"
    }
   ],
   "source": [
    "# 열 단위로 최대값 및 최대값의 인덱스\n",
    "max_value = xy1.max(dim=0)[0]\n",
    "max_index = xy1.max(dim=0)[1]\n",
    "max_value, max_index"
   ],
   "metadata": {
    "collapsed": false,
    "ExecuteTime": {
     "end_time": "2024-03-12T06:27:50.967840Z",
     "start_time": "2024-03-12T06:27:50.948179Z"
    }
   },
   "id": "48c4ade4cf38d3a0",
   "execution_count": 55
  },
  {
   "cell_type": "code",
   "outputs": [
    {
     "data": {
      "text/plain": "(tensor([0.7312, 0.9790, 1.0000, 1.0000]), tensor([8, 6, 0, 2]))"
     },
     "execution_count": 56,
     "metadata": {},
     "output_type": "execute_result"
    }
   ],
   "source": [
    "# 행 단위로 최대값 및 최대값의 인덱스\n",
    "max_value = xy1.max(dim=1)[0]\n",
    "max_index = xy1.max(dim=1)[1]\n",
    "max_value, max_index"
   ],
   "metadata": {
    "collapsed": false,
    "ExecuteTime": {
     "end_time": "2024-03-12T06:27:51.185120Z",
     "start_time": "2024-03-12T06:27:51.176812Z"
    }
   },
   "id": "d0913c9fa534793a",
   "execution_count": 56
  },
  {
   "cell_type": "code",
   "outputs": [
    {
     "data": {
      "text/plain": "tensor([[1., 4.],\n        [2., 5.],\n        [3., 6.]])"
     },
     "execution_count": 57,
     "metadata": {},
     "output_type": "execute_result"
    }
   ],
   "source": [
    "x = torch.FloatTensor([1, 4])\n",
    "y = torch.FloatTensor([2, 5])\n",
    "z = torch.FloatTensor([3, 6])\n",
    "\n",
    "torch.stack([x,y,z])\n",
    "\n",
    "# stack은 행기준으로 쌓이는거다 그래서 아래 코드를 한것과 같은 결과를 나타낸다\n",
    "# torch.cat([x.unsqueeze(0), y.unsqueeze(0), z.unsqueeze(0)])"
   ],
   "metadata": {
    "collapsed": false,
    "ExecuteTime": {
     "end_time": "2024-03-12T06:27:51.418776Z",
     "start_time": "2024-03-12T06:27:51.408390Z"
    }
   },
   "id": "1b4ef521a3702f0c",
   "execution_count": 57
  },
  {
   "cell_type": "code",
   "outputs": [],
   "source": [],
   "metadata": {
    "collapsed": false,
    "ExecuteTime": {
     "end_time": "2024-03-12T06:27:51.637211Z",
     "start_time": "2024-03-12T06:27:51.625723Z"
    }
   },
   "id": "7b459e21109bb9",
   "execution_count": 57
  },
  {
   "cell_type": "code",
   "outputs": [],
   "source": [],
   "metadata": {
    "collapsed": false
   },
   "id": "6179079e6324732c"
  }
 ],
 "metadata": {
  "kernelspec": {
   "display_name": "Python 3",
   "language": "python",
   "name": "python3"
  },
  "language_info": {
   "codemirror_mode": {
    "name": "ipython",
    "version": 2
   },
   "file_extension": ".py",
   "mimetype": "text/x-python",
   "name": "python",
   "nbconvert_exporter": "python",
   "pygments_lexer": "ipython2",
   "version": "2.7.6"
  }
 },
 "nbformat": 4,
 "nbformat_minor": 5
}
