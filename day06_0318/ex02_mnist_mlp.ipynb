{
 "cells": [
  {
   "cell_type": "markdown",
   "metadata": {},
   "source": [
    "### 다중 분류 <hr>\n",
    "- 데이터셋 : scikit-learn Fashion MNIST\n",
    "- 데이터수 : 학습용 60000, 테스틍용 10000\n",
    "- 피쳐갯수 : 28 X 28 흑백 이미지로 784\n",
    "- 타겟갯수 : 티셔츠/상의, 바지, 풀오버, 드레스, 코트, 샌들, 셔츠, 운동화, 가방, 발목 부츠 등 10가지"
   ]
  },
  {
   "cell_type": "markdown",
   "metadata": {},
   "source": [
    "[1] 모듈 로딩 및 데이터 준비 <hr>"
   ]
  },
  {
   "cell_type": "code",
   "execution_count": 120,
   "metadata": {
    "ExecuteTime": {
     "end_time": "2024-03-18T06:47:41.982356Z",
     "start_time": "2024-03-18T06:47:41.965111Z"
    }
   },
   "outputs": [],
   "source": [
    "### ===> 모듈 로딩\n",
    "from sklearn.datasets import fetch_openml \n",
    "from sklearn.preprocessing import LabelEncoder, OneHotEncoder\n",
    "import torch\n",
    "import torch.nn.functional as F \n",
    "import torch.nn as nn \n",
    "from torch.utils.data import Dataset, DataLoader, random_split\n",
    "import torch.optim as optim \n",
    "import torchmetrics.functional as metrics\n",
    "import numpy as np"
   ]
  },
  {
   "cell_type": "code",
   "execution_count": 121,
   "metadata": {
    "ExecuteTime": {
     "end_time": "2024-03-18T06:47:46.417369Z",
     "start_time": "2024-03-18T06:47:42.075571Z"
    }
   },
   "outputs": [],
   "source": [
    "### ===> 데이터 로딩 \n",
    "db_name = 'Fashion-MNIST'\n",
    "\n",
    "# as_frame=False : ndarray 형식으로 반환\n",
    "fashion_data = fetch_openml(name=db_name, parser='auto', as_frame=False)"
   ]
  },
  {
   "cell_type": "code",
   "execution_count": 122,
   "metadata": {
    "ExecuteTime": {
     "end_time": "2024-03-18T06:47:46.432862Z",
     "start_time": "2024-03-18T06:47:46.419492Z"
    }
   },
   "outputs": [
    {
     "name": "stdout",
     "output_type": "stream",
     "text": [
      "data   => int64, (70000, 784)\n",
      "target => object, (70000,)\n",
      "feature_names => ['pixel1', 'pixel2', 'pixel3', 'pixel4', 'pixel5', 'pixel6', 'pixel7', 'pixel8', 'pixel9', 'pixel10', 'pixel11', 'pixel12', 'pixel13', 'pixel14', 'pixel15', 'pixel16', 'pixel17', 'pixel18', 'pixel19', 'pixel20', 'pixel21', 'pixel22', 'pixel23', 'pixel24', 'pixel25', 'pixel26', 'pixel27', 'pixel28', 'pixel29', 'pixel30', 'pixel31', 'pixel32', 'pixel33', 'pixel34', 'pixel35', 'pixel36', 'pixel37', 'pixel38', 'pixel39', 'pixel40', 'pixel41', 'pixel42', 'pixel43', 'pixel44', 'pixel45', 'pixel46', 'pixel47', 'pixel48', 'pixel49', 'pixel50', 'pixel51', 'pixel52', 'pixel53', 'pixel54', 'pixel55', 'pixel56', 'pixel57', 'pixel58', 'pixel59', 'pixel60', 'pixel61', 'pixel62', 'pixel63', 'pixel64', 'pixel65', 'pixel66', 'pixel67', 'pixel68', 'pixel69', 'pixel70', 'pixel71', 'pixel72', 'pixel73', 'pixel74', 'pixel75', 'pixel76', 'pixel77', 'pixel78', 'pixel79', 'pixel80', 'pixel81', 'pixel82', 'pixel83', 'pixel84', 'pixel85', 'pixel86', 'pixel87', 'pixel88', 'pixel89', 'pixel90', 'pixel91', 'pixel92', 'pixel93', 'pixel94', 'pixel95', 'pixel96', 'pixel97', 'pixel98', 'pixel99', 'pixel100', 'pixel101', 'pixel102', 'pixel103', 'pixel104', 'pixel105', 'pixel106', 'pixel107', 'pixel108', 'pixel109', 'pixel110', 'pixel111', 'pixel112', 'pixel113', 'pixel114', 'pixel115', 'pixel116', 'pixel117', 'pixel118', 'pixel119', 'pixel120', 'pixel121', 'pixel122', 'pixel123', 'pixel124', 'pixel125', 'pixel126', 'pixel127', 'pixel128', 'pixel129', 'pixel130', 'pixel131', 'pixel132', 'pixel133', 'pixel134', 'pixel135', 'pixel136', 'pixel137', 'pixel138', 'pixel139', 'pixel140', 'pixel141', 'pixel142', 'pixel143', 'pixel144', 'pixel145', 'pixel146', 'pixel147', 'pixel148', 'pixel149', 'pixel150', 'pixel151', 'pixel152', 'pixel153', 'pixel154', 'pixel155', 'pixel156', 'pixel157', 'pixel158', 'pixel159', 'pixel160', 'pixel161', 'pixel162', 'pixel163', 'pixel164', 'pixel165', 'pixel166', 'pixel167', 'pixel168', 'pixel169', 'pixel170', 'pixel171', 'pixel172', 'pixel173', 'pixel174', 'pixel175', 'pixel176', 'pixel177', 'pixel178', 'pixel179', 'pixel180', 'pixel181', 'pixel182', 'pixel183', 'pixel184', 'pixel185', 'pixel186', 'pixel187', 'pixel188', 'pixel189', 'pixel190', 'pixel191', 'pixel192', 'pixel193', 'pixel194', 'pixel195', 'pixel196', 'pixel197', 'pixel198', 'pixel199', 'pixel200', 'pixel201', 'pixel202', 'pixel203', 'pixel204', 'pixel205', 'pixel206', 'pixel207', 'pixel208', 'pixel209', 'pixel210', 'pixel211', 'pixel212', 'pixel213', 'pixel214', 'pixel215', 'pixel216', 'pixel217', 'pixel218', 'pixel219', 'pixel220', 'pixel221', 'pixel222', 'pixel223', 'pixel224', 'pixel225', 'pixel226', 'pixel227', 'pixel228', 'pixel229', 'pixel230', 'pixel231', 'pixel232', 'pixel233', 'pixel234', 'pixel235', 'pixel236', 'pixel237', 'pixel238', 'pixel239', 'pixel240', 'pixel241', 'pixel242', 'pixel243', 'pixel244', 'pixel245', 'pixel246', 'pixel247', 'pixel248', 'pixel249', 'pixel250', 'pixel251', 'pixel252', 'pixel253', 'pixel254', 'pixel255', 'pixel256', 'pixel257', 'pixel258', 'pixel259', 'pixel260', 'pixel261', 'pixel262', 'pixel263', 'pixel264', 'pixel265', 'pixel266', 'pixel267', 'pixel268', 'pixel269', 'pixel270', 'pixel271', 'pixel272', 'pixel273', 'pixel274', 'pixel275', 'pixel276', 'pixel277', 'pixel278', 'pixel279', 'pixel280', 'pixel281', 'pixel282', 'pixel283', 'pixel284', 'pixel285', 'pixel286', 'pixel287', 'pixel288', 'pixel289', 'pixel290', 'pixel291', 'pixel292', 'pixel293', 'pixel294', 'pixel295', 'pixel296', 'pixel297', 'pixel298', 'pixel299', 'pixel300', 'pixel301', 'pixel302', 'pixel303', 'pixel304', 'pixel305', 'pixel306', 'pixel307', 'pixel308', 'pixel309', 'pixel310', 'pixel311', 'pixel312', 'pixel313', 'pixel314', 'pixel315', 'pixel316', 'pixel317', 'pixel318', 'pixel319', 'pixel320', 'pixel321', 'pixel322', 'pixel323', 'pixel324', 'pixel325', 'pixel326', 'pixel327', 'pixel328', 'pixel329', 'pixel330', 'pixel331', 'pixel332', 'pixel333', 'pixel334', 'pixel335', 'pixel336', 'pixel337', 'pixel338', 'pixel339', 'pixel340', 'pixel341', 'pixel342', 'pixel343', 'pixel344', 'pixel345', 'pixel346', 'pixel347', 'pixel348', 'pixel349', 'pixel350', 'pixel351', 'pixel352', 'pixel353', 'pixel354', 'pixel355', 'pixel356', 'pixel357', 'pixel358', 'pixel359', 'pixel360', 'pixel361', 'pixel362', 'pixel363', 'pixel364', 'pixel365', 'pixel366', 'pixel367', 'pixel368', 'pixel369', 'pixel370', 'pixel371', 'pixel372', 'pixel373', 'pixel374', 'pixel375', 'pixel376', 'pixel377', 'pixel378', 'pixel379', 'pixel380', 'pixel381', 'pixel382', 'pixel383', 'pixel384', 'pixel385', 'pixel386', 'pixel387', 'pixel388', 'pixel389', 'pixel390', 'pixel391', 'pixel392', 'pixel393', 'pixel394', 'pixel395', 'pixel396', 'pixel397', 'pixel398', 'pixel399', 'pixel400', 'pixel401', 'pixel402', 'pixel403', 'pixel404', 'pixel405', 'pixel406', 'pixel407', 'pixel408', 'pixel409', 'pixel410', 'pixel411', 'pixel412', 'pixel413', 'pixel414', 'pixel415', 'pixel416', 'pixel417', 'pixel418', 'pixel419', 'pixel420', 'pixel421', 'pixel422', 'pixel423', 'pixel424', 'pixel425', 'pixel426', 'pixel427', 'pixel428', 'pixel429', 'pixel430', 'pixel431', 'pixel432', 'pixel433', 'pixel434', 'pixel435', 'pixel436', 'pixel437', 'pixel438', 'pixel439', 'pixel440', 'pixel441', 'pixel442', 'pixel443', 'pixel444', 'pixel445', 'pixel446', 'pixel447', 'pixel448', 'pixel449', 'pixel450', 'pixel451', 'pixel452', 'pixel453', 'pixel454', 'pixel455', 'pixel456', 'pixel457', 'pixel458', 'pixel459', 'pixel460', 'pixel461', 'pixel462', 'pixel463', 'pixel464', 'pixel465', 'pixel466', 'pixel467', 'pixel468', 'pixel469', 'pixel470', 'pixel471', 'pixel472', 'pixel473', 'pixel474', 'pixel475', 'pixel476', 'pixel477', 'pixel478', 'pixel479', 'pixel480', 'pixel481', 'pixel482', 'pixel483', 'pixel484', 'pixel485', 'pixel486', 'pixel487', 'pixel488', 'pixel489', 'pixel490', 'pixel491', 'pixel492', 'pixel493', 'pixel494', 'pixel495', 'pixel496', 'pixel497', 'pixel498', 'pixel499', 'pixel500', 'pixel501', 'pixel502', 'pixel503', 'pixel504', 'pixel505', 'pixel506', 'pixel507', 'pixel508', 'pixel509', 'pixel510', 'pixel511', 'pixel512', 'pixel513', 'pixel514', 'pixel515', 'pixel516', 'pixel517', 'pixel518', 'pixel519', 'pixel520', 'pixel521', 'pixel522', 'pixel523', 'pixel524', 'pixel525', 'pixel526', 'pixel527', 'pixel528', 'pixel529', 'pixel530', 'pixel531', 'pixel532', 'pixel533', 'pixel534', 'pixel535', 'pixel536', 'pixel537', 'pixel538', 'pixel539', 'pixel540', 'pixel541', 'pixel542', 'pixel543', 'pixel544', 'pixel545', 'pixel546', 'pixel547', 'pixel548', 'pixel549', 'pixel550', 'pixel551', 'pixel552', 'pixel553', 'pixel554', 'pixel555', 'pixel556', 'pixel557', 'pixel558', 'pixel559', 'pixel560', 'pixel561', 'pixel562', 'pixel563', 'pixel564', 'pixel565', 'pixel566', 'pixel567', 'pixel568', 'pixel569', 'pixel570', 'pixel571', 'pixel572', 'pixel573', 'pixel574', 'pixel575', 'pixel576', 'pixel577', 'pixel578', 'pixel579', 'pixel580', 'pixel581', 'pixel582', 'pixel583', 'pixel584', 'pixel585', 'pixel586', 'pixel587', 'pixel588', 'pixel589', 'pixel590', 'pixel591', 'pixel592', 'pixel593', 'pixel594', 'pixel595', 'pixel596', 'pixel597', 'pixel598', 'pixel599', 'pixel600', 'pixel601', 'pixel602', 'pixel603', 'pixel604', 'pixel605', 'pixel606', 'pixel607', 'pixel608', 'pixel609', 'pixel610', 'pixel611', 'pixel612', 'pixel613', 'pixel614', 'pixel615', 'pixel616', 'pixel617', 'pixel618', 'pixel619', 'pixel620', 'pixel621', 'pixel622', 'pixel623', 'pixel624', 'pixel625', 'pixel626', 'pixel627', 'pixel628', 'pixel629', 'pixel630', 'pixel631', 'pixel632', 'pixel633', 'pixel634', 'pixel635', 'pixel636', 'pixel637', 'pixel638', 'pixel639', 'pixel640', 'pixel641', 'pixel642', 'pixel643', 'pixel644', 'pixel645', 'pixel646', 'pixel647', 'pixel648', 'pixel649', 'pixel650', 'pixel651', 'pixel652', 'pixel653', 'pixel654', 'pixel655', 'pixel656', 'pixel657', 'pixel658', 'pixel659', 'pixel660', 'pixel661', 'pixel662', 'pixel663', 'pixel664', 'pixel665', 'pixel666', 'pixel667', 'pixel668', 'pixel669', 'pixel670', 'pixel671', 'pixel672', 'pixel673', 'pixel674', 'pixel675', 'pixel676', 'pixel677', 'pixel678', 'pixel679', 'pixel680', 'pixel681', 'pixel682', 'pixel683', 'pixel684', 'pixel685', 'pixel686', 'pixel687', 'pixel688', 'pixel689', 'pixel690', 'pixel691', 'pixel692', 'pixel693', 'pixel694', 'pixel695', 'pixel696', 'pixel697', 'pixel698', 'pixel699', 'pixel700', 'pixel701', 'pixel702', 'pixel703', 'pixel704', 'pixel705', 'pixel706', 'pixel707', 'pixel708', 'pixel709', 'pixel710', 'pixel711', 'pixel712', 'pixel713', 'pixel714', 'pixel715', 'pixel716', 'pixel717', 'pixel718', 'pixel719', 'pixel720', 'pixel721', 'pixel722', 'pixel723', 'pixel724', 'pixel725', 'pixel726', 'pixel727', 'pixel728', 'pixel729', 'pixel730', 'pixel731', 'pixel732', 'pixel733', 'pixel734', 'pixel735', 'pixel736', 'pixel737', 'pixel738', 'pixel739', 'pixel740', 'pixel741', 'pixel742', 'pixel743', 'pixel744', 'pixel745', 'pixel746', 'pixel747', 'pixel748', 'pixel749', 'pixel750', 'pixel751', 'pixel752', 'pixel753', 'pixel754', 'pixel755', 'pixel756', 'pixel757', 'pixel758', 'pixel759', 'pixel760', 'pixel761', 'pixel762', 'pixel763', 'pixel764', 'pixel765', 'pixel766', 'pixel767', 'pixel768', 'pixel769', 'pixel770', 'pixel771', 'pixel772', 'pixel773', 'pixel774', 'pixel775', 'pixel776', 'pixel777', 'pixel778', 'pixel779', 'pixel780', 'pixel781', 'pixel782', 'pixel783', 'pixel784']\n",
      "target_names => ['class']\n",
      "categories => {'class': ['0', '1', '2', '3', '4', '5', '6', '7', '8', '9']}\n"
     ]
    }
   ],
   "source": [
    "### ===> 데이터 확인\n",
    "print(f'data   => {fashion_data[\"data\"].dtype}, {fashion_data[\"data\"].shape}')\n",
    "print(f'target => {fashion_data[\"target\"].dtype}, {fashion_data[\"target\"].shape}')\n",
    "print(f'feature_names => {fashion_data[\"feature_names\"]}\\ntarget_names => {fashion_data[\"target_names\"]}')\n",
    "print(f'categories => {fashion_data[\"categories\"]}')"
   ]
  },
  {
   "cell_type": "markdown",
   "metadata": {},
   "source": [
    "[2] 데이터 전처리 - 피쳐와 타겟 분리, 정규화 <hr>"
   ]
  },
  {
   "cell_type": "code",
   "execution_count": 123,
   "metadata": {
    "ExecuteTime": {
     "end_time": "2024-03-18T06:47:46.464151Z",
     "start_time": "2024-03-18T06:47:46.435332Z"
    }
   },
   "outputs": [
    {
     "name": "stdout",
     "output_type": "stream",
     "text": [
      "feature => <class 'numpy.ndarray'>, (70000, 784)\n",
      "feature raw data =>\n",
      "[[  0   0   0   0   0   0   0   0   0   0   0   0   0   0   0   0   0   0\n",
      "    0   0   0   0   0   0   0   0   0   0   0   0   0   0   0   0   0   0\n",
      "    0   0   0   0   0   0   0   0   0   0   0   0   0   0   0   0   0   0\n",
      "    0   0   0   0   0   0   0   0   0   0   0   0   0   0   0   0   0   0\n",
      "    0   0   0   0   0   0   0   0   0   0   0   0   0   0   0   0   0   0\n",
      "    0   0   0   0   0   0   1   0   0  13  73   0   0   1   4   0   0   0\n",
      "    0   1   1   0   0   0   0   0   0   0   0   0   0   0   0   0   3   0\n",
      "   36 136 127  62  54   0   0   0   1   3   4   0   0   3   0   0   0   0\n",
      "    0   0   0   0   0   0   0   0   6   0 102 204 176 134 144 123  23   0\n",
      "    0   0   0  12  10   0   0   0   0   0   0   0   0   0   0   0   0   0\n",
      "    0   0 155 236 207 178 107 156 161 109  64  23  77 130  72  15   0   0\n",
      "    0   0   0   0   0   0   0   0   0   1   0  69 207 223 218 216 216 163\n",
      "  127 121 122 146 141  88 172  66   0   0   0   0   0   0   0   0   0   1\n",
      "    1   1   0 200 232 232 233 229 223 223 215 213 164 127 123 196 229   0\n",
      "    0   0   0   0   0   0   0   0   0   0   0   0   0 183 225 216 223 228\n",
      "  235 227 224 222 224 221 223 245 173   0   0   0   0   0   0   0   0   0\n",
      "    0   0   0   0   0 193 228 218 213 198 180 212 210 211 213 223 220 243\n",
      "  202   0   0   0   0   0   0   0   0   0   0   1   3   0  12 219 220 212\n",
      "  218 192 169 227 208 218 224 212 226 197 209  52   0   0   0   0   0   0\n",
      "    0   0   0   0   6   0  99 244 222 220 218 203 198 221 215 213 222 220\n",
      "  245 119 167  56   0   0   0   0   0   0   0   0   0   4   0   0  55 236\n",
      "  228 230 228 240 232 213 218 223 234 217 217 209  92   0   0   0   1   4\n",
      "    6   7   2   0   0   0   0   0 237 226 217 223 222 219 222 221 216 223\n",
      "  229 215 218 255  77   0   0   3   0   0   0   0   0   0   0  62 145 204\n",
      "  228 207 213 221 218 208 211 218 224 223 219 215 224 244 159   0   0   0\n",
      "    0   0  18  44  82 107 189 228 220 222 217 226 200 205 211 230 224 234\n",
      "  176 188 250 248 233 238 215   0   0  57 187 208 224 221 224 208 204 214\n",
      "  208 209 200 159 245 193 206 223 255 255 221 234 221 211 220 232 246   0\n",
      "    3 202 228 224 221 211 211 214 205 205 205 220 240  80 150 255 229 221\n",
      "  188 154 191 210 204 209 222 228 225   0  98 233 198 210 222 229 229 234\n",
      "  249 220 194 215 217 241  65  73 106 117 168 219 221 215 217 223 223 224\n",
      "  229  29  75 204 212 204 193 205 211 225 216 185 197 206 198 213 240 195\n",
      "  227 245 239 223 218 212 209 222 220 221 230  67  48 203 183 194 213 197\n",
      "  185 190 194 192 202 214 219 221 220 236 225 216 199 206 186 181 177 172\n",
      "  181 205 206 115   0 122 219 193 179 171 183 196 204 210 213 207 211 210\n",
      "  200 196 194 191 195 191 198 192 176 156 167 177 210  92   0   0  74 189\n",
      "  212 191 175 172 175 181 185 188 189 188 193 198 204 209 210 210 211 188\n",
      "  188 194 192 216 170   0   2   0   0   0  66 200 222 237 239 242 246 243\n",
      "  244 221 220 193 191 179 182 182 181 176 166 168  99  58   0   0   0   0\n",
      "    0   0   0   0   0  40  61  44  72  41  35   0   0   0   0   0   0   0\n",
      "    0   0   0   0   0   0   0   0   0   0   0   0   0   0   0   0   0   0\n",
      "    0   0   0   0   0   0   0   0   0   0   0   0   0   0   0   0   0   0\n",
      "    0   0   0   0   0   0   0   0   0   0   0   0   0   0   0   0   0   0\n",
      "    0   0   0   0   0   0   0   0   0   0]]\n",
      "\n",
      "target  => <class 'numpy.ndarray'>,(70000,)\n",
      "target raw data  => ['9']\n"
     ]
    }
   ],
   "source": [
    "### ===> 피쳐와 타겟 분리\n",
    "# sklearn dataset 에서 이미 처리 해둠\n",
    "feature=fashion_data['data']\n",
    "target=fashion_data['target']\n",
    "\n",
    "print(f'feature => {type(feature)}, {feature.shape}')\n",
    "print(f'feature raw data =>\\n{feature[:1]}\\n')\n",
    "\n",
    "print(f'target  => {type(target)},{target.shape}')\n",
    "print(f'target raw data  => {target[:1]}')"
   ]
  },
  {
   "cell_type": "code",
   "execution_count": 124,
   "metadata": {
    "ExecuteTime": {
     "end_time": "2024-03-18T06:47:46.682832Z",
     "start_time": "2024-03-18T06:47:46.467379Z"
    }
   },
   "outputs": [
    {
     "name": "stdout",
     "output_type": "stream",
     "text": [
      "norm_feature =>\n",
      "[[0. 0. 0. ... 0. 0. 0.]\n",
      " [0. 0. 0. ... 0. 0. 0.]]\n",
      "norm_feature min => 0.0   max => 1.0\n"
     ]
    }
   ],
   "source": [
    "### ===> 정규화 : 피쳐\n",
    "# 이미지 데이터 값 0 ~ 255b\n",
    "norm_feature =feature/255.\n",
    "\n",
    "print(f'norm_feature =>\\n{norm_feature[:2]}')\n",
    "print(f'norm_feature min => {norm_feature.min()}   max => { norm_feature.max()}')"
   ]
  },
  {
   "cell_type": "code",
   "execution_count": 125,
   "metadata": {
    "ExecuteTime": {
     "end_time": "2024-03-18T06:47:46.698771Z",
     "start_time": "2024-03-18T06:47:46.684896Z"
    }
   },
   "outputs": [
    {
     "name": "stdout",
     "output_type": "stream",
     "text": [
      "norm_target : int32 10개\n"
     ]
    }
   ],
   "source": [
    "### ===> 정규화 : 타겟\n",
    "# # 타겟 분류 클래스 : '0' ~ '9'  ==> 0 ~ 9 정수 변환\n",
    "norm_target=target.astype(int)\n",
    "print(f'norm_target : {norm_target.dtype} {np.unique(norm_target).size}개')\n"
   ]
  },
  {
   "cell_type": "code",
   "execution_count": 126,
   "metadata": {
    "ExecuteTime": {
     "end_time": "2024-03-18T06:47:46.714520Z",
     "start_time": "2024-03-18T06:47:46.699814Z"
    }
   },
   "outputs": [
    {
     "name": "stdout",
     "output_type": "stream",
     "text": [
      "norm_target => (70000,), 1D\n",
      "[9 0 0 3 0]\n"
     ]
    }
   ],
   "source": [
    "print(f'norm_target => {norm_target.shape}, {norm_target.ndim}D\\n{norm_target[:5]}')"
   ]
  },
  {
   "cell_type": "markdown",
   "metadata": {},
   "source": [
    "[3] 학습 데이터 셋 준비 - 훈련용, 검증용, 테스트용 데이터 셋 <hr>"
   ]
  },
  {
   "cell_type": "markdown",
   "metadata": {},
   "source": [
    "- [3-1] 사용자 정의 데이터 셋 및 전체 데이터셋 준비"
   ]
  },
  {
   "cell_type": "code",
   "execution_count": 127,
   "metadata": {
    "ExecuteTime": {
     "end_time": "2024-03-18T06:47:46.730129Z",
     "start_time": "2024-03-18T06:47:46.715517Z"
    }
   },
   "outputs": [],
   "source": [
    "### 사용자정의 DataSet 클래스 \n",
    "# - 데이터의 Tensor 변환 \n",
    "class DLDataset(Dataset):\n",
    "    \n",
    "    # 초기화 함수 콜백함수(callback funcaion)\n",
    "    def __init__(self, x_data, y_data):\n",
    "        super().__init__()\n",
    "        # ndarray ==> tensor\n",
    "        self.feature=torch.FloatTensor(x_data)\n",
    "        self.target=torch.LongTensor(y_data)\n",
    "        \n",
    "        \n",
    "    # 데이터셋의 갯수 체크 함수 콜백함수(callback funcaion)\n",
    "    def __len__(self):\n",
    "        return self.target.shape[0]\n",
    "    \n",
    "    \n",
    "    # 특정 인덱스 데이터+라벨 반환 콜백함수(callback funcaion)\n",
    "    def __getitem__(self, index):\n",
    "        return self.feature[index], self.target[index]"
   ]
  },
  {
   "cell_type": "code",
   "execution_count": 128,
   "metadata": {
    "ExecuteTime": {
     "end_time": "2024-03-18T06:47:46.761541Z",
     "start_time": "2024-03-18T06:47:46.731193Z"
    }
   },
   "outputs": [
    {
     "name": "stdout",
     "output_type": "stream",
     "text": [
      "[all dataset] feature : torch.Size([70000, 784]),   target : torch.Size([70000])\n"
     ]
    }
   ],
   "source": [
    "### 전체 데이터셋 생성\n",
    "##  DataSet 생성\n",
    "all_dataset = DLDataset(norm_feature, norm_target)\n",
    "\n",
    "print(f'[all dataset] feature : {all_dataset.feature.shape},   target : {all_dataset.target.shape}')"
   ]
  },
  {
   "cell_type": "markdown",
   "metadata": {},
   "source": [
    "- [3-2] 학습용, 검증용, 테스트용 데이터셋 분리 "
   ]
  },
  {
   "cell_type": "code",
   "execution_count": 129,
   "metadata": {
    "ExecuteTime": {
     "end_time": "2024-03-18T06:47:46.777405Z",
     "start_time": "2024-03-18T06:47:46.763535Z"
    }
   },
   "outputs": [
    {
     "name": "stdout",
     "output_type": "stream",
     "text": [
      "Train dataset length    : 49000개\n",
      "Validation dataset      : 7000개\n",
      "Test dataset            : 14000개\n"
     ]
    }
   ],
   "source": [
    "# 랜덤 고정 설정\n",
    "seed_gen=torch.Generator().manual_seed(42)\n",
    "\n",
    "TR_SIZE, VA_SIZE, TE_SIZE = 0.7, 0.1, 0.2\n",
    "\n",
    "trainDS, validDS, testDS = random_split(all_dataset, \n",
    "                                  [TR_SIZE, VA_SIZE, TE_SIZE], \n",
    "                                  generator=seed_gen)\n",
    "\n",
    "print(f\"Train dataset length    : {len(trainDS)}개\")\n",
    "print(f\"Validation dataset      : {len(validDS)}개\")\n",
    "print(f\"Test dataset            : {len(testDS)}개\")"
   ]
  },
  {
   "cell_type": "markdown",
   "metadata": {},
   "source": [
    "[4] 데이터 로더 생성 <hr>"
   ]
  },
  {
   "cell_type": "code",
   "execution_count": 130,
   "metadata": {
    "ExecuteTime": {
     "end_time": "2024-03-18T06:47:46.808360Z",
     "start_time": "2024-03-18T06:47:46.778402Z"
    }
   },
   "outputs": [],
   "source": [
    "BATCH_SIZE = 50\n",
    "\n",
    "TRAIN_DL = DataLoader(trainDS, batch_size=BATCH_SIZE)\n",
    "VALID_DL = DataLoader(validDS, batch_size=BATCH_SIZE)\n",
    "TEST_DL = DataLoader(testDS,   batch_size=BATCH_SIZE)"
   ]
  },
  {
   "cell_type": "markdown",
   "metadata": {},
   "source": [
    "[5] 모델 준비 : 입력층 입력 수, 출력층 출력 수 <hr>"
   ]
  },
  {
   "cell_type": "code",
   "execution_count": 131,
   "metadata": {
    "ExecuteTime": {
     "end_time": "2024-03-18T06:47:46.823697Z",
     "start_time": "2024-03-18T06:47:46.810439Z"
    }
   },
   "outputs": [],
   "source": [
    "### ===> 다중 분류 모델\n",
    "### ===> 입력층 피쳐 수  : 28 * 28\n",
    "### ===> 출력층 피쳐 수  : 10 (0 ~ 9)\n",
    "class MNISTModel(nn.Module):\n",
    "    \n",
    "    # 모델 구성 요소 초기화 \n",
    "    def __init__(self, in_dim, out_dim):\n",
    "        super().__init__()\n",
    "        self.layer1=nn.Linear(in_dim, 200)\n",
    "        self.layer2=nn.Linear(200, 100)\n",
    "        self.layer3=nn.Linear(100, 50)\n",
    "        self.layer4=nn.Linear(50, out_dim)\n",
    "        self.relu=nn.ReLU()\n",
    "        \n",
    "    def forward(self, x):\n",
    "        y=self.layer1(x)\n",
    "        y=self.relu(y)\n",
    "        y=self.layer2(y)\n",
    "        y=self.relu(y)\n",
    "        y=self.layer3(y)\n",
    "        y=self.relu(y)\n",
    "        y=self.layer4(y)\n",
    "        return y"
   ]
  },
  {
   "cell_type": "markdown",
   "metadata": {},
   "source": [
    "[6] 학습 관련 함수 정의 <hr>"
   ]
  },
  {
   "cell_type": "code",
   "outputs": [],
   "source": [
    "## 학습 중 모델 저장 관련 변수\n",
    "dir = '../data/model/'\n",
    "filename = dir + \"best_model.pth\"\n",
    "\n",
    "import os\n",
    "if not os.path.exists(dir) :\n",
    "    os.mkdir(dir)       # 하위 폴더만 생성 증, data 폴더는 이미 존재해야 함\n",
    "    # os.makedirs(dir)    # 존재하지 않는 상위 폴더부터 생성"
   ],
   "metadata": {
    "collapsed": false,
    "ExecuteTime": {
     "end_time": "2024-03-18T07:16:22.555840Z",
     "start_time": "2024-03-18T07:16:22.547027Z"
    }
   },
   "execution_count": 157
  },
  {
   "cell_type": "code",
   "outputs": [
    {
     "ename": "AttributeError",
     "evalue": "'MNISTModel2' object has no attribute 'layer'",
     "output_type": "error",
     "traceback": [
      "\u001B[1;31m---------------------------------------------------------------------------\u001B[0m",
      "\u001B[1;31mAttributeError\u001B[0m                            Traceback (most recent call last)",
      "Cell \u001B[1;32mIn[158], line 11\u001B[0m\n\u001B[0;32m      8\u001B[0m MODEL \u001B[38;5;241m=\u001B[39m MNISTModel(IN_DIM, OUT_DIM)\u001B[38;5;241m.\u001B[39mto(DEVICE)\n\u001B[0;32m     10\u001B[0m input_list \u001B[38;5;241m=\u001B[39m \u001B[38;5;124m\"\u001B[39m\u001B[38;5;124m3, 5, 6, 7, 8, 9, 10\u001B[39m\u001B[38;5;124m\"\u001B[39m\n\u001B[1;32m---> 11\u001B[0m MODEL \u001B[38;5;241m=\u001B[39m \u001B[43mMNISTModel2\u001B[49m\u001B[43m(\u001B[49m\u001B[43mIN_DIM\u001B[49m\u001B[43m,\u001B[49m\u001B[43m \u001B[49m\u001B[43mOUT_DIM\u001B[49m\u001B[43m,\u001B[49m\u001B[43m \u001B[49m\u001B[43minput_list\u001B[49m\u001B[43m)\u001B[49m\n\u001B[0;32m     14\u001B[0m \u001B[38;5;66;03m# 최적화 인스턴스 생성\u001B[39;00m\n\u001B[0;32m     15\u001B[0m OPTIMIZER \u001B[38;5;241m=\u001B[39m optim\u001B[38;5;241m.\u001B[39mSGD(MODEL\u001B[38;5;241m.\u001B[39mparameters())\n",
      "Cell \u001B[1;32mIn[156], line 17\u001B[0m, in \u001B[0;36mMNISTModel2.__init__\u001B[1;34m(self, in_dim, out_dim, list)\u001B[0m\n\u001B[0;32m     14\u001B[0m \u001B[38;5;28mself\u001B[39m\u001B[38;5;241m.\u001B[39mlayer1 \u001B[38;5;241m=\u001B[39m nn\u001B[38;5;241m.\u001B[39mLinear(in_dim, \u001B[38;5;28mself\u001B[39m\u001B[38;5;241m.\u001B[39mlayer_list[\u001B[38;5;241m0\u001B[39m])\n\u001B[0;32m     16\u001B[0m \u001B[38;5;28;01mfor\u001B[39;00m i \u001B[38;5;129;01min\u001B[39;00m \u001B[38;5;28mrange\u001B[39m(\u001B[38;5;241m1\u001B[39m, \u001B[38;5;28mlen\u001B[39m(\u001B[38;5;28mself\u001B[39m\u001B[38;5;241m.\u001B[39mlayer_list), \u001B[38;5;241m2\u001B[39m):\n\u001B[1;32m---> 17\u001B[0m     \u001B[38;5;28;43mself\u001B[39;49m\u001B[38;5;241;43m.\u001B[39;49m\u001B[43mlayer\u001B[49m[i\u001B[38;5;241m+\u001B[39m\u001B[38;5;241m1\u001B[39m] \u001B[38;5;241m=\u001B[39m nn\u001B[38;5;241m.\u001B[39mLinear(\u001B[38;5;28mself\u001B[39m\u001B[38;5;241m.\u001B[39mlayer_list[i], \u001B[38;5;28mself\u001B[39m\u001B[38;5;241m.\u001B[39mlayer_list[i\u001B[38;5;241m+\u001B[39m\u001B[38;5;241m1\u001B[39m])\n\u001B[0;32m     19\u001B[0m \u001B[38;5;28mself\u001B[39m\u001B[38;5;241m.\u001B[39mlayer_last \u001B[38;5;241m=\u001B[39m nn\u001B[38;5;241m.\u001B[39mLinear(\u001B[38;5;28mself\u001B[39m\u001B[38;5;241m.\u001B[39mlayer_list[\u001B[38;5;241m-\u001B[39m\u001B[38;5;241m1\u001B[39m], out_dim)\n\u001B[0;32m     20\u001B[0m \u001B[38;5;28mself\u001B[39m\u001B[38;5;241m.\u001B[39mrelu \u001B[38;5;241m=\u001B[39m nn\u001B[38;5;241m.\u001B[39mReLU()\n",
      "File \u001B[1;32mC:\\ProgramData\\anaconda3\\envs\\Torch_PY38\\lib\\site-packages\\torch\\nn\\modules\\module.py:1688\u001B[0m, in \u001B[0;36mModule.__getattr__\u001B[1;34m(self, name)\u001B[0m\n\u001B[0;32m   1686\u001B[0m     \u001B[38;5;28;01mif\u001B[39;00m name \u001B[38;5;129;01min\u001B[39;00m modules:\n\u001B[0;32m   1687\u001B[0m         \u001B[38;5;28;01mreturn\u001B[39;00m modules[name]\n\u001B[1;32m-> 1688\u001B[0m \u001B[38;5;28;01mraise\u001B[39;00m \u001B[38;5;167;01mAttributeError\u001B[39;00m(\u001B[38;5;124mf\u001B[39m\u001B[38;5;124m\"\u001B[39m\u001B[38;5;124m'\u001B[39m\u001B[38;5;132;01m{\u001B[39;00m\u001B[38;5;28mtype\u001B[39m(\u001B[38;5;28mself\u001B[39m)\u001B[38;5;241m.\u001B[39m\u001B[38;5;18m__name__\u001B[39m\u001B[38;5;132;01m}\u001B[39;00m\u001B[38;5;124m'\u001B[39m\u001B[38;5;124m object has no attribute \u001B[39m\u001B[38;5;124m'\u001B[39m\u001B[38;5;132;01m{\u001B[39;00mname\u001B[38;5;132;01m}\u001B[39;00m\u001B[38;5;124m'\u001B[39m\u001B[38;5;124m\"\u001B[39m)\n",
      "\u001B[1;31mAttributeError\u001B[0m: 'MNISTModel2' object has no attribute 'layer'"
     ]
    }
   ],
   "source": [
    "# 실행 디바이스 \n",
    "DEVICE = 'cuda' if torch.cuda.is_available() else 'cpu'\n",
    "\n",
    "# 입출력 피쳐\n",
    "IN_DIM , OUT_DIM = norm_feature.shape[1], np.unique(norm_target).size\n",
    "\n",
    "# 모델 인스턴스 \n",
    "MODEL = MNISTModel(IN_DIM, OUT_DIM).to(DEVICE)\n",
    "\n",
    "\n",
    "# 최적화 인스턴스 생성\n",
    "OPTIMIZER = optim.SGD(MODEL.parameters())\n",
    "\n",
    "#  손실 함수\n",
    "LOSS_FN = nn.CrossEntropyLoss().to(DEVICE)\n",
    "\n",
    "# 학습 횟수 설정\n",
    "EPOCHS=50\n",
    "\n",
    "# 분류 갯수\n",
    "CLASSES = 10"
   ],
   "metadata": {
    "collapsed": false,
    "ExecuteTime": {
     "end_time": "2024-03-18T07:16:25.084332Z",
     "start_time": "2024-03-18T07:16:24.805354Z"
    }
   },
   "execution_count": 158
  },
  {
   "cell_type": "code",
   "execution_count": 134,
   "metadata": {
    "ExecuteTime": {
     "end_time": "2024-03-18T06:47:46.871046Z",
     "start_time": "2024-03-18T06:47:46.859626Z"
    }
   },
   "outputs": [],
   "source": [
    "### ===> 학습 진행함수 \n",
    "def training(epoch):\n",
    "    # 학습모드 => 정규화, 경사하강법, 드랍아웃 등의 기능 활성화 \n",
    "    MODEL.train()\n",
    "    \n",
    "    # 배치크기 만큼 학습 진행 및 저장\n",
    "    train_report=[[], [], []]\n",
    "    for idx, (feature, target)  in enumerate(TRAIN_DL):\n",
    "        # 배치크기만큼의 학습 데이터 준비\n",
    "        feature, target = feature.to(DEVICE), target.to(DEVICE)\n",
    "        \n",
    "        # 학습\n",
    "        pre_traget = MODEL(feature)\n",
    "        \n",
    "        # 손실계산\n",
    "        loss = LOSS_FN(pre_traget, target)\n",
    "        train_report[0].append(loss)\n",
    "        \n",
    "        # 성능 평가\n",
    "        acc = metrics.accuracy(pre_traget, target, task='multiclass', num_classes=CLASSES)\n",
    "        train_report[1].append(acc)\n",
    "        \n",
    "        f1 = metrics.f1_score(pre_traget, target, task='multiclass', num_classes=CLASSES)\n",
    "        train_report[2].append(f1)\n",
    "        \n",
    "        # W,b업데이트\n",
    "        OPTIMIZER.zero_grad()\n",
    "        loss.backward()\n",
    "        OPTIMIZER.step()\n",
    "        \n",
    "        if not idx%50: print('.', end='')       # 학습 중이면 마침표 50개가 찍히도록 함\n",
    "    \n",
    "    # 에포크 단위로 학습 모델 저장\n",
    "\n",
    "    \n",
    "    # 에포크 단위 학습 진행 메시지 출력\n",
    "    loss_score = (sum(train_report[0])/BATCH_SIZE).item()\n",
    "    acc_score = (sum(train_report[1])/BATCH_SIZE).item()\n",
    "    f1_score = (sum(train_report[2])/BATCH_SIZE).item() \n",
    "    print(f'\\n[{epoch} Train ] Loss ==> {loss_score:.3f} Acc ==> {acc_score:.3f} F1 ==> {f1_score:.3f}')\n",
    "    \n",
    "    return loss_score, acc_score, f1_score"
   ]
  },
  {
   "cell_type": "code",
   "execution_count": 135,
   "metadata": {
    "ExecuteTime": {
     "end_time": "2024-03-18T06:47:46.886658Z",
     "start_time": "2024-03-18T06:47:46.873097Z"
    }
   },
   "outputs": [],
   "source": [
    "### ===> 검증 및 테스트 진행함수 \n",
    "def testing(epoch, kind='valid'):\n",
    "    # 학습모드 => 정규화, 경사하강법, 드랍아웃 등의 기능 활성화 \n",
    "    MODEL.eval()\n",
    "        \n",
    "    with torch.no_grad():\n",
    "        # 배치크기 만큼 학습 진행 및 저장\n",
    "        test_report=[[], [], []]\n",
    "        for idx, (feature, target)  in enumerate(VALID_DL):\n",
    "            # 배치크기만큼의 학습 데이터 준비\n",
    "            feature, target = feature.to(DEVICE), target.to(DEVICE)\n",
    "\n",
    "            # 학습\n",
    "            pre_traget = MODEL(feature)\n",
    "\n",
    "            # 손실계산\n",
    "            loss = LOSS_FN(pre_traget, target)\n",
    "            test_report[0].append(loss)\n",
    "            \n",
    "            # 성능 평가 \n",
    "            acc = metrics.accuracy(pre_traget, target, task='multiclass', num_classes=CLASSES)\n",
    "            test_report[1].append(acc)\n",
    "            \n",
    "            f1 = metrics.f1_score(pre_traget, target, task='multiclass', num_classes=CLASSES)\n",
    "            test_report[2].append(f1)\n",
    "            \n",
    "            #if not idx%50: print('.', end='')\n",
    "\n",
    "    testing_type = 'Valid' if kind == 'valid' else 'Test'\n",
    "        \n",
    "    # 에포크 단위 학습 진행 메시지 출력\n",
    "    loss_score = (sum(test_report[0])/BATCH_SIZE).item()\n",
    "    acc_score = (sum(test_report[1])/BATCH_SIZE).item()\n",
    "    f1_score = (sum(test_report[2])/BATCH_SIZE).item() \n",
    "    print(f'[{epoch} {testing_type} ] Loss ==> {loss_score:.3f} Acc ==> {acc_score:.3f} F1 ==> {f1_score:.3f}\\n')\n",
    "    \n",
    "    return loss_score, acc_score, f1_score"
   ]
  },
  {
   "cell_type": "markdown",
   "metadata": {},
   "source": [
    "[7] 학습 : 학습 진행 준비, 학습 진행 <hr>"
   ]
  },
  {
   "cell_type": "markdown",
   "metadata": {},
   "source": [
    "- [7-1] 학습 진행 준비 :  모델, 최적화, 학습횟수 "
   ]
  },
  {
   "cell_type": "code",
   "execution_count": 136,
   "metadata": {
    "ExecuteTime": {
     "end_time": "2024-03-18T06:47:46.902381Z",
     "start_time": "2024-03-18T06:47:46.888739Z"
    }
   },
   "outputs": [],
   "source": [
    "# # 실행 디바이스 \n",
    "# DEVICE = 'cuda' if torch.cuda.is_available() else 'cpu'\n",
    "# \n",
    "# # 입출력 피쳐\n",
    "# IN_DIM , OUT_DIM = norm_feature.shape[1], np.unique(norm_target).size\n",
    "# \n",
    "# # 모델 인스턴스 \n",
    "# MODEL = MNISTModel(IN_DIM, OUT_DIM).to(DEVICE)\n",
    "# \n",
    "# # 최적화 인스턴스 생성\n",
    "# OPTIMIZER = optim.SGD(MODEL.parameters())\n",
    "# \n",
    "# #  손실 함수\n",
    "# LOSS_FN = nn.CrossEntropyLoss().to(DEVICE)\n",
    "# \n",
    "# # 학습 횟수 설정\n",
    "# EPOCHS=100\n",
    "# \n",
    "# # 분류 갯수\n",
    "# CLASSES = 10\n"
   ]
  },
  {
   "cell_type": "markdown",
   "metadata": {},
   "source": [
    "- [7-2] 학습 진행"
   ]
  },
  {
   "cell_type": "code",
   "execution_count": 137,
   "metadata": {
    "ExecuteTime": {
     "end_time": "2024-03-18T06:50:38.344726Z",
     "start_time": "2024-03-18T06:47:46.904452Z"
    }
   },
   "outputs": [
    {
     "name": "stdout",
     "output_type": "stream",
     "text": [
      "[Epoch 1/50] ....................\n",
      "[0 Train ] Loss ==> 45.043 Acc ==> 1.975 F1 ==> 1.975\n",
      "[0 Valid ] Loss ==> 6.412 Acc ==> 0.286 F1 ==> 0.286\n",
      "\n",
      "  모 델 저 장 완 료  \n",
      "[Epoch 2/50] ....................\n",
      "[1 Train ] Loss ==> 44.714 Acc ==> 2.224 F1 ==> 2.224\n",
      "[1 Valid ] Loss ==> 6.361 Acc ==> 0.392 F1 ==> 0.392\n",
      "\n",
      "  모 델 저 장 완 료  \n",
      "[Epoch 3/50] ....................\n",
      "[2 Train ] Loss ==> 44.261 Acc ==> 3.004 F1 ==> 3.004\n",
      "[2 Valid ] Loss ==> 6.278 Acc ==> 0.507 F1 ==> 0.507\n",
      "\n",
      "  모 델 저 장 완 료  \n",
      "[Epoch 4/50] ....................\n",
      "[3 Train ] Loss ==> 43.414 Acc ==> 5.087 F1 ==> 5.087\n",
      "[3 Valid ] Loss ==> 6.107 Acc ==> 0.904 F1 ==> 0.904\n",
      "\n",
      "  모 델 저 장 완 료  \n",
      "[Epoch 5/50] ....................\n",
      "[4 Train ] Loss ==> 41.554 Acc ==> 6.845 F1 ==> 6.845\n",
      "[4 Valid ] Loss ==> 5.710 Acc ==> 1.055 F1 ==> 1.055\n",
      "\n",
      "  모 델 저 장 완 료  \n",
      "[Epoch 6/50] ....................\n",
      "[5 Train ] Loss ==> 37.209 Acc ==> 8.207 F1 ==> 8.207\n",
      "[5 Valid ] Loss ==> 4.847 Acc ==> 1.236 F1 ==> 1.236\n",
      "\n",
      "  모 델 저 장 완 료  \n",
      "[Epoch 7/50] ....................\n",
      "[6 Train ] Loss ==> 30.515 Acc ==> 9.583 F1 ==> 9.583\n",
      "[6 Valid ] Loss ==> 3.938 Acc ==> 1.514 F1 ==> 1.514\n",
      "\n",
      "  모 델 저 장 완 료  \n",
      "[Epoch 8/50] ....................\n",
      "[7 Train ] Loss ==> 25.442 Acc ==> 10.874 F1 ==> 10.874\n",
      "[7 Valid ] Loss ==> 3.397 Acc ==> 1.615 F1 ==> 1.615\n",
      "\n",
      "  모 델 저 장 완 료  \n",
      "[Epoch 9/50] ....................\n",
      "[8 Train ] Loss ==> 22.449 Acc ==> 11.345 F1 ==> 11.345\n",
      "[8 Valid ] Loss ==> 3.069 Acc ==> 1.658 F1 ==> 1.658\n",
      "\n",
      "  모 델 저 장 완 료  \n",
      "[Epoch 10/50] ....................\n",
      "[9 Train ] Loss ==> 20.549 Acc ==> 11.710 F1 ==> 11.710\n",
      "[9 Valid ] Loss ==> 2.851 Acc ==> 1.714 F1 ==> 1.714\n",
      "\n",
      "  모 델 저 장 완 료  \n",
      "[Epoch 11/50] ....................\n",
      "[10 Train ] Loss ==> 19.230 Acc ==> 12.185 F1 ==> 12.185\n",
      "[10 Valid ] Loss ==> 2.692 Acc ==> 1.792 F1 ==> 1.792\n",
      "\n",
      "  모 델 저 장 완 료  \n",
      "[Epoch 12/50] ....................\n",
      "[11 Train ] Loss ==> 18.229 Acc ==> 12.683 F1 ==> 12.683\n",
      "[11 Valid ] Loss ==> 2.567 Acc ==> 1.866 F1 ==> 1.866\n",
      "\n",
      "  모 델 저 장 완 료  \n",
      "[Epoch 13/50] ....................\n",
      "[12 Train ] Loss ==> 17.434 Acc ==> 13.029 F1 ==> 13.029\n",
      "[12 Valid ] Loss ==> 2.465 Acc ==> 1.902 F1 ==> 1.902\n",
      "\n",
      "  모 델 저 장 완 료  \n",
      "[Epoch 14/50] ....................\n",
      "[13 Train ] Loss ==> 16.784 Acc ==> 13.279 F1 ==> 13.279\n",
      "[13 Valid ] Loss ==> 2.380 Acc ==> 1.924 F1 ==> 1.924\n",
      "\n",
      "  모 델 저 장 완 료  \n",
      "[Epoch 15/50] ....................\n",
      "[14 Train ] Loss ==> 16.243 Acc ==> 13.488 F1 ==> 13.488\n",
      "[14 Valid ] Loss ==> 2.308 Acc ==> 1.952 F1 ==> 1.952\n",
      "\n",
      "  모 델 저 장 완 료  \n",
      "[Epoch 16/50] ....................\n",
      "[15 Train ] Loss ==> 15.782 Acc ==> 13.674 F1 ==> 13.674\n",
      "[15 Valid ] Loss ==> 2.245 Acc ==> 1.980 F1 ==> 1.980\n",
      "\n",
      "  모 델 저 장 완 료  \n",
      "[Epoch 17/50] ....................\n",
      "[16 Train ] Loss ==> 15.377 Acc ==> 13.837 F1 ==> 13.837\n",
      "[16 Valid ] Loss ==> 2.188 Acc ==> 2.002 F1 ==> 2.002\n",
      "\n",
      "  모 델 저 장 완 료  \n",
      "[Epoch 18/50] ....................\n",
      "[17 Train ] Loss ==> 15.008 Acc ==> 14.017 F1 ==> 14.017\n",
      "[17 Valid ] Loss ==> 2.135 Acc ==> 2.018 F1 ==> 2.018\n",
      "\n",
      "  모 델 저 장 완 료  \n",
      "[Epoch 19/50] ....................\n",
      "[18 Train ] Loss ==> 14.667 Acc ==> 14.195 F1 ==> 14.195\n",
      "[18 Valid ] Loss ==> 2.086 Acc ==> 2.045 F1 ==> 2.045\n",
      "\n",
      "  모 델 저 장 완 료  \n",
      "[Epoch 20/50] ....................\n",
      "[19 Train ] Loss ==> 14.347 Acc ==> 14.371 F1 ==> 14.371\n",
      "[19 Valid ] Loss ==> 2.040 Acc ==> 2.067 F1 ==> 2.067\n",
      "\n",
      "  모 델 저 장 완 료  \n",
      "[Epoch 21/50] ....................\n",
      "[20 Train ] Loss ==> 14.045 Acc ==> 14.528 F1 ==> 14.528\n",
      "[20 Valid ] Loss ==> 1.996 Acc ==> 2.087 F1 ==> 2.087\n",
      "\n",
      "  모 델 저 장 완 료  \n",
      "[Epoch 22/50] ....................\n",
      "[21 Train ] Loss ==> 13.761 Acc ==> 14.668 F1 ==> 14.668\n",
      "[21 Valid ] Loss ==> 1.955 Acc ==> 2.108 F1 ==> 2.108\n",
      "\n",
      "  모 델 저 장 완 료  \n",
      "[Epoch 23/50] ....................\n",
      "[22 Train ] Loss ==> 13.493 Acc ==> 14.804 F1 ==> 14.804\n",
      "[22 Valid ] Loss ==> 1.917 Acc ==> 2.126 F1 ==> 2.126\n",
      "\n",
      "  모 델 저 장 완 료  \n",
      "[Epoch 24/50] ....................\n",
      "[23 Train ] Loss ==> 13.240 Acc ==> 14.917 F1 ==> 14.917\n",
      "[23 Valid ] Loss ==> 1.880 Acc ==> 2.145 F1 ==> 2.145\n",
      "\n",
      "  모 델 저 장 완 료  \n",
      "[Epoch 25/50] ....................\n",
      "[24 Train ] Loss ==> 13.002 Acc ==> 15.009 F1 ==> 15.009\n",
      "[24 Valid ] Loss ==> 1.846 Acc ==> 2.160 F1 ==> 2.160\n",
      "\n",
      "  모 델 저 장 완 료  \n",
      "[Epoch 26/50] ....................\n",
      "[25 Train ] Loss ==> 12.778 Acc ==> 15.108 F1 ==> 15.108\n",
      "[25 Valid ] Loss ==> 1.814 Acc ==> 2.173 F1 ==> 2.173\n",
      "\n",
      "  모 델 저 장 완 료  \n",
      "[Epoch 27/50] ....................\n",
      "[26 Train ] Loss ==> 12.569 Acc ==> 15.193 F1 ==> 15.193\n",
      "[26 Valid ] Loss ==> 1.784 Acc ==> 2.187 F1 ==> 2.187\n",
      "\n",
      "  모 델 저 장 완 료  \n",
      "[Epoch 28/50] ....................\n",
      "[27 Train ] Loss ==> 12.373 Acc ==> 15.268 F1 ==> 15.268\n",
      "[27 Valid ] Loss ==> 1.756 Acc ==> 2.197 F1 ==> 2.197\n",
      "\n",
      "  모 델 저 장 완 료  \n",
      "[Epoch 29/50] ....................\n",
      "[28 Train ] Loss ==> 12.189 Acc ==> 15.336 F1 ==> 15.336\n",
      "[28 Valid ] Loss ==> 1.730 Acc ==> 2.205 F1 ==> 2.205\n",
      "\n",
      "  모 델 저 장 완 료  \n",
      "[Epoch 30/50] ....................\n",
      "[29 Train ] Loss ==> 12.017 Acc ==> 15.408 F1 ==> 15.408\n",
      "[29 Valid ] Loss ==> 1.705 Acc ==> 2.213 F1 ==> 2.213\n",
      "\n",
      "  모 델 저 장 완 료  \n",
      "[Epoch 31/50] ....................\n",
      "[30 Train ] Loss ==> 11.855 Acc ==> 15.478 F1 ==> 15.478\n",
      "[30 Valid ] Loss ==> 1.682 Acc ==> 2.220 F1 ==> 2.220\n",
      "\n",
      "  모 델 저 장 완 료  \n",
      "[Epoch 32/50] ....................\n",
      "[31 Train ] Loss ==> 11.702 Acc ==> 15.540 F1 ==> 15.540\n",
      "[31 Valid ] Loss ==> 1.660 Acc ==> 2.233 F1 ==> 2.233\n",
      "\n",
      "  모 델 저 장 완 료  \n",
      "[Epoch 33/50] ....................\n",
      "[32 Train ] Loss ==> 11.557 Acc ==> 15.593 F1 ==> 15.593\n",
      "[32 Valid ] Loss ==> 1.639 Acc ==> 2.241 F1 ==> 2.241\n",
      "\n",
      "  모 델 저 장 완 료  \n",
      "[Epoch 34/50] ....................\n",
      "[33 Train ] Loss ==> 11.420 Acc ==> 15.642 F1 ==> 15.642\n",
      "[33 Valid ] Loss ==> 1.619 Acc ==> 2.246 F1 ==> 2.246\n",
      "\n",
      "  모 델 저 장 완 료  \n",
      "[Epoch 35/50] ....................\n",
      "[34 Train ] Loss ==> 11.290 Acc ==> 15.698 F1 ==> 15.698\n",
      "[34 Valid ] Loss ==> 1.601 Acc ==> 2.250 F1 ==> 2.250\n",
      "\n",
      "  모 델 저 장 완 료  \n",
      "[Epoch 36/50] ....................\n",
      "[35 Train ] Loss ==> 11.167 Acc ==> 15.760 F1 ==> 15.760\n",
      "[35 Valid ] Loss ==> 1.583 Acc ==> 2.260 F1 ==> 2.260\n",
      "\n",
      "  모 델 저 장 완 료  \n",
      "[Epoch 37/50] ....................\n",
      "[36 Train ] Loss ==> 11.050 Acc ==> 15.804 F1 ==> 15.804\n",
      "[36 Valid ] Loss ==> 1.566 Acc ==> 2.267 F1 ==> 2.267\n",
      "\n",
      "  모 델 저 장 완 료  \n",
      "[Epoch 38/50] ....................\n",
      "[37 Train ] Loss ==> 10.938 Acc ==> 15.844 F1 ==> 15.844\n",
      "[37 Valid ] Loss ==> 1.551 Acc ==> 2.275 F1 ==> 2.275\n",
      "\n",
      "  모 델 저 장 완 료  \n",
      "[Epoch 39/50] ....................\n",
      "[38 Train ] Loss ==> 10.832 Acc ==> 15.872 F1 ==> 15.872\n",
      "[38 Valid ] Loss ==> 1.535 Acc ==> 2.281 F1 ==> 2.281\n",
      "\n",
      "  모 델 저 장 완 료  \n",
      "[Epoch 40/50] ....................\n",
      "[39 Train ] Loss ==> 10.731 Acc ==> 15.898 F1 ==> 15.898\n",
      "[39 Valid ] Loss ==> 1.521 Acc ==> 2.282 F1 ==> 2.282\n",
      "\n",
      "  모 델 저 장 완 료  \n",
      "[Epoch 41/50] ....................\n",
      "[40 Train ] Loss ==> 10.635 Acc ==> 15.932 F1 ==> 15.932\n",
      "[40 Valid ] Loss ==> 1.507 Acc ==> 2.287 F1 ==> 2.287\n",
      "\n",
      "  모 델 저 장 완 료  \n",
      "[Epoch 42/50] ....................\n",
      "[41 Train ] Loss ==> 10.542 Acc ==> 15.957 F1 ==> 15.957\n",
      "[41 Valid ] Loss ==> 1.494 Acc ==> 2.291 F1 ==> 2.291\n",
      "\n",
      "  모 델 저 장 완 료  \n",
      "[Epoch 43/50] ....................\n",
      "[42 Train ] Loss ==> 10.454 Acc ==> 15.976 F1 ==> 15.976\n",
      "[42 Valid ] Loss ==> 1.481 Acc ==> 2.294 F1 ==> 2.294\n",
      "\n",
      "  모 델 저 장 완 료  \n",
      "[Epoch 44/50] ....................\n",
      "[43 Train ] Loss ==> 10.369 Acc ==> 16.004 F1 ==> 16.004\n",
      "[43 Valid ] Loss ==> 1.469 Acc ==> 2.299 F1 ==> 2.299\n",
      "\n",
      "  모 델 저 장 완 료  \n",
      "[Epoch 45/50] ....................\n",
      "[44 Train ] Loss ==> 10.288 Acc ==> 16.024 F1 ==> 16.024\n",
      "[44 Valid ] Loss ==> 1.458 Acc ==> 2.305 F1 ==> 2.305\n",
      "\n",
      "  모 델 저 장 완 료  \n",
      "[Epoch 46/50] ....................\n",
      "[45 Train ] Loss ==> 10.210 Acc ==> 16.046 F1 ==> 16.046\n",
      "[45 Valid ] Loss ==> 1.447 Acc ==> 2.309 F1 ==> 2.309\n",
      "\n",
      "  모 델 저 장 완 료  \n",
      "[Epoch 47/50] ....................\n",
      "[46 Train ] Loss ==> 10.135 Acc ==> 16.074 F1 ==> 16.074\n",
      "[46 Valid ] Loss ==> 1.436 Acc ==> 2.314 F1 ==> 2.314\n",
      "\n",
      "  모 델 저 장 완 료  \n",
      "[Epoch 48/50] ....................\n",
      "[47 Train ] Loss ==> 10.063 Acc ==> 16.085 F1 ==> 16.085\n",
      "[47 Valid ] Loss ==> 1.426 Acc ==> 2.318 F1 ==> 2.318\n",
      "\n",
      "  모 델 저 장 완 료  \n",
      "[Epoch 49/50] ....................\n",
      "[48 Train ] Loss ==> 9.992 Acc ==> 16.113 F1 ==> 16.113\n",
      "[48 Valid ] Loss ==> 1.417 Acc ==> 2.323 F1 ==> 2.323\n",
      "\n",
      "  모 델 저 장 완 료  \n",
      "[Epoch 50/50] ....................\n",
      "[49 Train ] Loss ==> 9.923 Acc ==> 16.131 F1 ==> 16.131\n",
      "[49 Valid ] Loss ==> 1.407 Acc ==> 2.324 F1 ==> 2.324\n",
      "\n",
      "  모 델 저 장 완 료  \n",
      "Done!\n"
     ]
    }
   ],
   "source": [
    "# 학습 및 검증 데이터별 성능지표 값\n",
    "train_ = {'loss':[], 'acc':[], 'f1':[]}\n",
    "val_ = {'loss':[], 'acc':[], 'f1':[]}\n",
    "\n",
    "# 모델 저장 관련 변수\n",
    "pre_va_score = 100\n",
    "\n",
    "# 학습 진행\n",
    "for epo in range(EPOCHS):\n",
    "    print(f\"[Epoch {epo+1}/{EPOCHS}] \", end='')\n",
    "    \n",
    "    tr_score=training(epo)\n",
    "    va_score=testing(epo)\n",
    "    \n",
    "    # 검증 데이터 기준 학습된 모델 저장 => Loss가 이전보다 작아진 경우에 저장 / Acc 또는 F1이면 이전보다 큰 경우에 저장\n",
    "    if pre_va_score > va_score[0] : \n",
    "        torch.save(MODEL, filename)  \n",
    "        print('  모 델 저 장 완 료  ')\n",
    "            \n",
    "    for idx, key in enumerate(train_):\n",
    "        train_[key].append(tr_score[idx])\n",
    "        val_[key].append(va_score[idx])\n",
    "        \n",
    "print(\"Done!\")"
   ]
  },
  {
   "cell_type": "markdown",
   "metadata": {},
   "source": [
    "- [7-3] 학습 후 평가 : Loss, Acc, F1 <hr>"
   ]
  },
  {
   "cell_type": "code",
   "execution_count": 138,
   "metadata": {
    "ExecuteTime": {
     "end_time": "2024-03-18T06:50:38.360573Z",
     "start_time": "2024-03-18T06:50:38.346791Z"
    }
   },
   "outputs": [
    {
     "name": "stdout",
     "output_type": "stream",
     "text": [
      "loss  [45.042972564697266, 44.7138557434082, 44.26129913330078, 43.41383361816406, 41.55412673950195, 37.209495544433594, 30.514692306518555, 25.441614151000977, 22.449138641357422, 20.549230575561523, 19.229698181152344, 18.229360580444336, 17.433855056762695, 16.783679962158203, 16.242961883544922, 15.782232284545898, 15.376740455627441, 15.008328437805176, 14.66695785522461, 14.347131729125977, 14.04549789428711, 13.761030197143555, 13.492827415466309, 13.23999309539795, 13.00185775756836, 12.778402328491211, 12.569141387939453, 12.373154640197754, 12.189380645751953, 12.017004013061523, 11.854822158813477, 11.701708793640137, 11.556889533996582, 11.419886589050293, 11.290196418762207, 11.166891098022461, 11.049786567687988, 10.938411712646484, 10.8323335647583, 10.731292724609375, 10.634783744812012, 10.54246711730957, 10.454151153564453, 10.369453430175781, 10.288239479064941, 10.210214614868164, 10.135156631469727, 10.062640190124512, 9.991945266723633, 9.92331314086914]\n",
      "acc  [1.9748038053512573, 2.224405288696289, 3.0044007301330566, 5.08720588684082, 6.844797134399414, 8.207202911376953, 9.583195686340332, 10.87399673461914, 11.345183372497559, 11.709988594055176, 12.185194969177246, 12.683189392089844, 13.02878189086914, 13.278789520263672, 13.488393783569336, 13.673587799072266, 13.837188720703125, 14.017197608947754, 14.194796562194824, 14.370800971984863, 14.528411865234375, 14.668004989624023, 14.803605079650879, 14.917206764221191, 15.008810997009277, 15.107621192932129, 15.192813873291016, 15.268022537231445, 15.336019515991211, 15.408426284790039, 15.47802448272705, 15.540017127990723, 15.59282112121582, 15.642420768737793, 15.697619438171387, 15.760419845581055, 15.8040189743042, 15.8444185256958, 15.872417449951172, 15.898018836975098, 15.931614875793457, 15.957218170166016, 15.976421356201172, 16.004419326782227, 16.02361488342285, 16.046415328979492, 16.073627471923828, 16.085227966308594, 16.112829208374023, 16.13083267211914]\n",
      "f1  [1.9748038053512573, 2.224405288696289, 3.0044007301330566, 5.08720588684082, 6.844797134399414, 8.207202911376953, 9.583195686340332, 10.87399673461914, 11.345183372497559, 11.709988594055176, 12.185194969177246, 12.683189392089844, 13.02878189086914, 13.278789520263672, 13.488393783569336, 13.673587799072266, 13.837188720703125, 14.017197608947754, 14.194796562194824, 14.370800971984863, 14.528411865234375, 14.668004989624023, 14.803605079650879, 14.917206764221191, 15.008810997009277, 15.107621192932129, 15.192813873291016, 15.268022537231445, 15.336019515991211, 15.408426284790039, 15.47802448272705, 15.540017127990723, 15.59282112121582, 15.642420768737793, 15.697619438171387, 15.760419845581055, 15.8040189743042, 15.8444185256958, 15.872417449951172, 15.898018836975098, 15.931614875793457, 15.957218170166016, 15.976421356201172, 16.004419326782227, 16.02361488342285, 16.046415328979492, 16.073627471923828, 16.085227966308594, 16.112829208374023, 16.13083267211914]\n"
     ]
    }
   ],
   "source": [
    "for idx, key in enumerate(train_):\n",
    "    print(f'{key} ', train_[key])"
   ]
  },
  {
   "cell_type": "code",
   "outputs": [
    {
     "data": {
      "text/plain": "<Figure size 1200x600 with 2 Axes>",
      "image/png": "[encoded data removed]"
     },
     "metadata": {},
     "output_type": "display_data"
    }
   ],
   "source": [
    "# Loss와 Acc와 F1 시각화\n",
    "\n",
    "import matplotlib.pyplot as plt\n",
    "\n",
    "plt.figure(figsize = (12,6))\n",
    "plt.plot(train_['loss'], label='train_loss', color = 'black')\n",
    "plt.plot(val_['loss'], label='val_loss', color = 'red')\n",
    "plt.legend(loc = 'best')\n",
    "plt.twinx()\n",
    "plt.plot(train_['acc'], label='train_acc', color = 'green')\n",
    "plt.plot(val_['acc'], label='val_acc')\n",
    "plt.legend()\n",
    "plt.title('[ train_loss & train_acc & val_loss & val_acc ]')\n",
    "\n",
    "plt.show()"
   ],
   "metadata": {
    "collapsed": false,
    "ExecuteTime": {
     "end_time": "2024-03-18T06:50:38.968292Z",
     "start_time": "2024-03-18T06:50:38.688715Z"
    }
   },
   "execution_count": 142
  },
  {
   "cell_type": "code",
   "outputs": [],
   "source": [],
   "metadata": {
    "collapsed": false,
    "ExecuteTime": {
     "end_time": "2024-03-18T06:50:38.983587Z",
     "start_time": "2024-03-18T06:50:38.970340Z"
    }
   },
   "execution_count": 142
  },
  {
   "cell_type": "markdown",
   "metadata": {},
   "source": [
    "[6] 테스트 <hr>"
   ]
  },
  {
   "cell_type": "code",
   "execution_count": 142,
   "metadata": {
    "ExecuteTime": {
     "end_time": "2024-03-18T06:50:39.004433Z",
     "start_time": "2024-03-18T06:50:38.989252Z"
    }
   },
   "outputs": [],
   "source": []
  }
 ],
 "metadata": {
  "kernelspec": {
   "display_name": "TORCH_PY38",
   "language": "python",
   "name": "python3"
  },
  "language_info": {
   "codemirror_mode": {
    "name": "ipython",
    "version": 3
   },
   "file_extension": ".py",
   "mimetype": "text/x-python",
   "name": "python",
   "nbconvert_exporter": "python",
   "pygments_lexer": "ipython3",
   "version": "3.8.18"
  }
 },
 "nbformat": 4,
 "nbformat_minor": 2
}
