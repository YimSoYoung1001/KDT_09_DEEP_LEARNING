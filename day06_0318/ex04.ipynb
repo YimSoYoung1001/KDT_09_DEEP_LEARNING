{
 "cells": [
  {
   "cell_type": "code",
   "outputs": [],
   "source": [
    "from sklearn.datasets import fetch_openml \n",
    "from sklearn.preprocessing import LabelEncoder, OneHotEncoder\n",
    "import torch\n",
    "import torch.nn.functional as F \n",
    "import torch.nn as nn \n",
    "from torch.utils.data import Dataset, DataLoader, random_split\n",
    "import torch.optim as optim \n",
    "import torchmetrics.functional as metrics\n",
    "import numpy as np"
   ],
   "metadata": {
    "collapsed": false,
    "ExecuteTime": {
     "end_time": "2024-03-18T12:05:36.482632Z",
     "start_time": "2024-03-18T12:05:36.463590Z"
    }
   },
   "id": "a29c9d75df65b82f",
   "execution_count": 8
  },
  {
   "cell_type": "code",
   "outputs": [],
   "source": [
    "class M(nn.Module):\n",
    "    def __init__(self, in_dim, out_dim, layers, nodes) :\n",
    "        super().__init__()\n",
    "        # self.layer1=nn.Linear(in_dim, n)\n",
    "        # self.layer2=nn.Linear(in)\n",
    "        self.layers=[]\n",
    "        \n",
    "        for i in range(layers-1) :\n",
    "            self.layers.append(nn.Linear(nodes[i], nodes[i]))\n",
    "        self.relu = nn.ReLU\n",
    "    def forward(self, x) :\n",
    "        x=self.layer1(x)\n",
    "        x=self.relu(x)"
   ],
   "metadata": {
    "collapsed": false,
    "ExecuteTime": {
     "end_time": "2024-03-18T12:07:37.015042Z",
     "start_time": "2024-03-18T12:07:36.997457Z"
    }
   },
   "id": "4b252f0ce14c9dab",
   "execution_count": 11
  },
  {
   "cell_type": "code",
   "outputs": [],
   "source": [
    "class MyModule(nn.Module):\n",
    "    def __init__(self, in_dim, out_dim, out_node, n_hidden = 0, n_nodes=[] ): # [784, 300, 400, 500, 10]\n",
    "        super().init__()\n",
    "        self.inLayer = nn.Linear(in_dim, n_nodes[0])\n",
    "        if n_hidden > 0:\n",
    "            self.linears = nn.ModuleList([nn.Linear(10, 10) for i in range(n_hidden)])\n",
    "                            # 한겹 쌓여있기 때문에 이렇게 가줘야 파라미터 접근이 가능하다\n",
    "                            # 아니면 첫층과 끝층만 접근 가능함\n",
    "                            # 이 때, 각 레이어는 10개의 입력과 10개의 출력을 갖는다 (직사각형 형태)\n",
    "        self.outLayer = nn.Linear(out_node, out_dim)\n",
    "        \n",
    "    def forward(self, x):\n",
    "        for i, l in enumerate(self.linears):\n",
    "            x = self.linears[i//2](x) +l(x)\n",
    "        return x"
   ],
   "metadata": {
    "collapsed": false,
    "ExecuteTime": {
     "end_time": "2024-03-18T12:09:08.039415Z",
     "start_time": "2024-03-18T12:09:08.018098Z"
    }
   },
   "id": "c1c2a13432453e96",
   "execution_count": 13
  }
 ],
 "metadata": {
  "kernelspec": {
   "display_name": "Python 3",
   "language": "python",
   "name": "python3"
  },
  "language_info": {
   "codemirror_mode": {
    "name": "ipython",
    "version": 2
   },
   "file_extension": ".py",
   "mimetype": "text/x-python",
   "name": "python",
   "nbconvert_exporter": "python",
   "pygments_lexer": "ipython2",
   "version": "2.7.6"
  }
 },
 "nbformat": 4,
 "nbformat_minor": 5
}
